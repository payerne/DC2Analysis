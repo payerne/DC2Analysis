{
 "cells": [
  {
   "cell_type": "code",
   "execution_count": 52,
   "id": "ad2adf51-59d8-4976-905d-f59e702b3ec4",
   "metadata": {},
   "outputs": [
    {
     "name": "stdout",
     "output_type": "stream",
     "text": [
      "The autoreload extension is already loaded. To reload it, use:\n",
      "  %reload_ext autoreload\n"
     ]
    }
   ],
   "source": [
    "%load_ext autoreload\n",
    "%autoreload 2\n",
    "import lensing\n",
    "from astropy.io import fits as fits\n",
    "import numpy as np\n",
    "from astropy.table import Table\n",
    "import clmm, sys\n",
    "import matplotlib.pyplot as plt\n",
    "from clmm import Cosmology\n",
    "import clmm.dataops as da\n",
    "from clmm.support import mock_data as mock\n",
    "import clmm.galaxycluster as gc\n",
    "from clmm.gcdata import GCData\n",
    "from clmm.dataops import _compute_lensing_angles_flatsky\n",
    "cosmo = Cosmology(H0 = 70.0, Omega_dm0 = 0.27 - 0.045, Omega_b0 = 0.045, Omega_k0 = 0.0)\n",
    "def binning(corner): return [[corner[i],corner[i+1]] for i in range(len(corner)-1)]"
   ]
  },
  {
   "cell_type": "markdown",
   "id": "3010dbee-e800-4089-8121-9e3f399eac5e",
   "metadata": {},
   "source": [
    "# 300 data"
   ]
  },
  {
   "cell_type": "code",
   "execution_count": 53,
   "id": "4bcc0d57-0cbb-4fd8-b080-f8b432a6f197",
   "metadata": {},
   "outputs": [],
   "source": [
    "ff_0 = '/sps/lsst/users/ccombet/TheThreeHundred/maps/lensing/Max/snap_115/maps_0019_115_0.fits'\n",
    "dat = fits.open(ff_0)\n",
    "kappa = dat[0].data\n",
    "shear1 = dat[1].data\n",
    "shear2 = dat[2].data\n",
    "z_cl = dat[0].header['ZL']\n",
    "z_gal_0 = dat[0].header['ZS']\n",
    "ra = np.arange(-1024,1024)*dat[0].header['CD1_1']\n",
    "dec = np.arange(-1024,1024)*dat[0].header['CD2_2']\n",
    "l_ra_deg = max(ra)-min(ra)\n",
    "l_ra_rad = l_ra_deg * np.pi/180\n",
    "field_size = l_ra_rad * cosmo.eval_da_z1z2(0, z_cl)"
   ]
  },
  {
   "cell_type": "markdown",
   "id": "4aa9ebc5-3694-42b3-bdc6-b7a3998c3f57",
   "metadata": {},
   "source": [
    "## Interpolation of shear1, shear2, kappa maps"
   ]
  },
  {
   "cell_type": "code",
   "execution_count": 54,
   "id": "613cb46d-fc57-4ed3-885c-fc1a99f221ee",
   "metadata": {},
   "outputs": [],
   "source": [
    "shear1_map, shear2_map, kappa_map  = lensing.interp_shear_kappa_map(shear1, shear2, kappa, ra, dec)"
   ]
  },
  {
   "cell_type": "markdown",
   "id": "4eb008ac-9668-42b7-a062-1e2e5048d1d8",
   "metadata": {},
   "source": [
    "# Catalog of background galaxies\n",
    "## ra, dec, z from mock_CLMM"
   ]
  },
  {
   "cell_type": "code",
   "execution_count": 55,
   "id": "9619a1cf-222b-4669-a77a-e745f7c86158",
   "metadata": {},
   "outputs": [],
   "source": [
    "n_gal = 5000\n",
    "cluster_m = 1e14\n",
    "concentration = 4\n",
    "mocks = mock.generate_galaxy_catalog(cluster_m, z_cl, concentration, cosmo,'chang13',cluster_ra=0., cluster_dec=0, \n",
    "                                             zsrc_max=2.5,field_size=field_size,\n",
    "                                            ngals=n_gal)\n",
    "zs = mocks['ztrue']\n",
    "ras = np.random.random(n_gal)*(max(ra)-min(ra)) + min(ra)\n",
    "decs = np.random.random(n_gal)*(max(dec)-min(dec)) + min(dec)"
   ]
  },
  {
   "cell_type": "markdown",
   "id": "9cf08fc6-88d2-4b56-b7c8-ab13b35dfd43",
   "metadata": {},
   "source": [
    "## shapes from 300 maps"
   ]
  },
  {
   "cell_type": "code",
   "execution_count": 70,
   "id": "26508247-b73b-4048-8cf9-f6a9aaea0345",
   "metadata": {},
   "outputs": [],
   "source": [
    "e1, e2 = lensing.compute_ellipticity_from_lensing_map(z_cl, z_gal_0, ras, decs, zs, \n",
    "                                                      shear1_map, shear2_map, kappa_map, \n",
    "                                                      shapenoise = .2, cosmo = cosmo)"
   ]
  },
  {
   "cell_type": "code",
   "execution_count": 71,
   "id": "35661858-d5f3-40b4-8f59-6470a045aa29",
   "metadata": {},
   "outputs": [],
   "source": [
    "data_wl = Table()\n",
    "data_wl['ra'], data_wl['dec'], data_wl['e1'], data_wl['e2'], data_wl['z'] = ras, decs, -e1, -e2, zs\n",
    "data_wl = GCData(data_wl)\n",
    "angsep, phi = _compute_lensing_angles_flatsky(0, 0, ras, decs)\n",
    "data_wl['phi'] = phi\n",
    "cluster_id = \"CL_noisy_z\"\n",
    "cl = gc.GalaxyCluster(cluster_id, 0, 0,\n",
    "                               z_cl, data_wl)"
   ]
  },
  {
   "cell_type": "markdown",
   "id": "f3e52cdf-6518-4464-82be-8ace61c6833b",
   "metadata": {},
   "source": [
    "# Fit cluster mass from shear profile\n",
    "## Estimation of excess surface density"
   ]
  },
  {
   "cell_type": "code",
   "execution_count": 72,
   "id": "5d0a2cec-0115-4266-b8f0-01569203f873",
   "metadata": {},
   "outputs": [],
   "source": [
    "cl.compute_tangential_and_cross_components(geometry=\"flat\", is_deltasigma = True, cosmo = cosmo)\n",
    "bin_edges = da.make_bins(0.1, field_size, 10, method='evenlog10width')\n",
    "profile = cl.make_radial_profile(\"Mpc\", bins=bin_edges,cosmo=cosmo)"
   ]
  },
  {
   "cell_type": "code",
   "execution_count": 73,
   "id": "086e0f21-4b0a-4bec-b0f9-95637210c5d0",
   "metadata": {},
   "outputs": [
    {
     "data": {
      "text/plain": [
       "[<matplotlib.lines.Line2D at 0x7f7fb5f02450>]"
      ]
     },
     "execution_count": 73,
     "metadata": {},
     "output_type": "execute_result"
    },
    {
     "data": {
      "image/png": "[encoded data removed]",
      "text/plain": [
       "<Figure size 432x288 with 1 Axes>"
      ]
     },
     "metadata": {
      "needs_background": "light"
     },
     "output_type": "display_data"
    }
   ],
   "source": [
    "plt.loglog(profile['radius'], profile['gt'])"
   ]
  },
  {
   "cell_type": "markdown",
   "id": "ce86b244-ab7f-4347-88f7-86cdc99d6c78",
   "metadata": {},
   "source": [
    "## Covariance matrix"
   ]
  },
  {
   "cell_type": "code",
   "execution_count": 74,
   "id": "e270f520-fd9b-44f5-8f3b-ba3ee7f548d8",
   "metadata": {},
   "outputs": [],
   "source": [
    "def jackknife(catalog = 1, n_jk = 1):\n",
    "    phi = np.linspace(-np.pi, np.pi, n_jk + 1)\n",
    "    phi_bin = binning(phi)\n",
    "    gt = []\n",
    "    for phi_ in phi_bin:\n",
    "        mask = (phi_[0]<cl.galcat['phi'])*(phi_[1]>cl.galcat['phi'])\n",
    "        data_cut = clmm.GCData(cl.galcat[np.invert(mask)])\n",
    "        cl_cut = clmm.GalaxyCluster('Stack', cl.ra, cl.dec, cl.z, data_cut)\n",
    "        profile = cl_cut.make_radial_profile(\"Mpc\", bins=bin_edges,cosmo=cosmo)\n",
    "        gt.append(profile['gt'])\n",
    "    gt = np.array(gt)\n",
    "    Xt = np.stack((gt.astype(float)), axis = 1)\n",
    "    cov_t = ((n_jk-1)**2/n_jk)*np.cov(Xt, bias = False)\n",
    "    return Xt, cov_t"
   ]
  },
  {
   "cell_type": "code",
   "execution_count": 75,
   "id": "cbbb7c7e-9b8c-466e-adb0-b901713286cd",
   "metadata": {},
   "outputs": [],
   "source": [
    "X, cov = jackknife(catalog = cl, n_jk = 1000)"
   ]
  },
  {
   "cell_type": "code",
   "execution_count": 76,
   "id": "03ff5580-d03e-4d58-986f-9c5e87571624",
   "metadata": {},
   "outputs": [
    {
     "data": {
      "text/plain": [
       "<matplotlib.image.AxesImage at 0x7f7fb5d30d90>"
      ]
     },
     "execution_count": 76,
     "metadata": {},
     "output_type": "execute_result"
    },
    {
     "data": {
      "image/png": "[encoded data removed]",
      "text/plain": [
       "<Figure size 432x288 with 1 Axes>"
      ]
     },
     "metadata": {
      "needs_background": "light"
     },
     "output_type": "display_data"
    }
   ],
   "source": [
    "plt.imshow(np.corrcoef(cov))"
   ]
  },
  {
   "cell_type": "markdown",
   "id": "cc4fe6cb-1a0b-4d88-9b79-91430bd22c5a",
   "metadata": {},
   "source": [
    "## Modelling"
   ]
  },
  {
   "cell_type": "code",
   "execution_count": 77,
   "id": "0bcc0a9a-8301-4c0e-94b1-a959d84141e1",
   "metadata": {},
   "outputs": [],
   "source": [
    "moo = clmm.Modeling (massdef = 'mean', delta_mdef = 200, halo_profile_model = 'nfw')\n",
    "moo.set_cosmo(cosmo)\n",
    "moo.set_concentration (4)"
   ]
  },
  {
   "cell_type": "code",
   "execution_count": 78,
   "id": "93b7aa96-ffb0-4e00-b4e9-2a75a82e464c",
   "metadata": {},
   "outputs": [],
   "source": [
    "def ds_profile_model(r, logm, c):\n",
    "    moo.set_mass (10.**logm)\n",
    "    moo.set_concentration(c)\n",
    "    gt_model = moo.eval_excess_surface_density (r, z_cl)\n",
    "    return gt_model"
   ]
  },
  {
   "cell_type": "markdown",
   "id": "54394939-b2db-4804-9741-4e69aa9c9a53",
   "metadata": {},
   "source": [
    "## MCMC: fit of mass and concentration"
   ]
  },
  {
   "cell_type": "code",
   "execution_count": 79,
   "id": "85bcdbcd-61fe-412c-910b-95615c1d922d",
   "metadata": {},
   "outputs": [],
   "source": [
    "def log_probability(theta, r, y, cov):\n",
    "    logm, c = theta\n",
    "    if c < 0.: return np.inf\n",
    "    if 10**logm < 11: return np.inf\n",
    "    model = ds_profile_model(r, logm, c)\n",
    "    return -.5*np.sum((model-y)*np.linalg.inv(cov).dot(model-y))"
   ]
  },
  {
   "cell_type": "code",
   "execution_count": 80,
   "id": "6c90f1e7-fbdc-4260-8918-9c08fb2a91db",
   "metadata": {},
   "outputs": [],
   "source": [
    "import emcee\n",
    "import corner\n",
    "pos = [15, 4] + 1e-1 * np.random.randn(100, 2)\n",
    "nwalkers, ndim = pos.shape"
   ]
  },
  {
   "cell_type": "code",
   "execution_count": 81,
   "id": "1e88277b-63e6-4c08-be73-bc7f355b193b",
   "metadata": {},
   "outputs": [
    {
     "name": "stderr",
     "output_type": "stream",
     "text": [
      " 12%|█▏        | 23/200 [00:05<00:39,  4.48it/s]/pbs/home/c/cpayerne/.conda/envs/mydesc/lib/python3.7/site-packages/emcee/moves/red_blue.py:99: RuntimeWarning: invalid value encountered in double_scalars\n",
      "  lnpdiff = f + nlp - state.log_prob[j]\n",
      "100%|██████████| 200/200 [00:43<00:00,  4.58it/s]\n"
     ]
    }
   ],
   "source": [
    "sampler = emcee.EnsembleSampler(nwalkers, ndim, log_probability, args = (profile['radius'], profile['gt'], cov))\n",
    "sampler.run_mcmc(pos, 200, progress=True);\n",
    "flat_samples1 = sampler.get_chain(discard=100, thin=1, flat=True)"
   ]
  },
  {
   "cell_type": "code",
   "execution_count": 84,
   "id": "dfcea7f2-d482-4d00-a128-79e43846be65",
   "metadata": {},
   "outputs": [
    {
     "data": {
      "text/plain": [
       "Text(0, 0.5, '$c_{\\\\rm 200c}$')"
      ]
     },
     "execution_count": 84,
     "metadata": {},
     "output_type": "execute_result"
    },
    {
     "data": {
      "image/png": "[encoded data removed]",
      "text/plain": [
       "<Figure size 720x720 with 1 Axes>"
      ]
     },
     "metadata": {
      "needs_background": "light"
     },
     "output_type": "display_data"
    }
   ],
   "source": [
    "import corner\n",
    "sigma1 = 1. - np.exp(-(1./1.)**2/2.)\n",
    "sigma2 = 1. - np.exp(-(2./1.)**2/2.)\n",
    "fig, ax = plt.subplots(2,2, figsize = (10,10))\n",
    "mask = flat_samples1[:,1] > 0\n",
    "fig = corner.corner(\n",
    "    flat_samples1[flat_samples1[:,1] > 0], fig = fig, bins = 30, \n",
    "    plot_density = False, plot_datapoints = False,\n",
    "    levels = [sigma1, sigma2], color = 'm');\n",
    "fig.delaxes(ax[0,0])\n",
    "fig.delaxes(ax[0,1])\n",
    "fig.delaxes(ax[1,1])\n",
    "ax[1,0].tick_params(axis='both', which = 'major', labelsize= 20)\n",
    "ax[1,0].set_xlabel(r'$\\log_{10}M_{\\rm 200c}$', fontsize = 20)\n",
    "ax[1,0].set_ylabel(r'$c_{\\rm 200c}$', fontsize = 20)"
   ]
  },
  {
   "cell_type": "code",
   "execution_count": 85,
   "id": "f3e84c01-73b3-41fa-8fe6-5f0fb7253d09",
   "metadata": {},
   "outputs": [
    {
     "data": {
      "text/plain": [
       "[]"
      ]
     },
     "execution_count": 85,
     "metadata": {},
     "output_type": "execute_result"
    },
    {
     "data": {
      "image/png": "[encoded data removed]",
      "text/plain": [
       "<Figure size 432x288 with 1 Axes>"
      ]
     },
     "metadata": {
      "needs_background": "light"
     },
     "output_type": "display_data"
    }
   ],
   "source": [
    "plt.errorbar(profile['radius'], profile['gt'], cov.diagonal()**.5, fmt = ' ')\n",
    "plt.plot(profile['radius'], ds_profile_model(profile['radius'], *np.mean(flat_samples1, axis = 0)))\n",
    "plt.loglog()"
   ]
  },
  {
   "cell_type": "code",
   "execution_count": null,
   "id": "f9b168a5-e471-4533-b1cd-31adde18764b",
   "metadata": {},
   "outputs": [],
   "source": []
  },
  {
   "cell_type": "code",
   "execution_count": null,
   "id": "f4c63031-df7a-4033-b375-1a5832274fcf",
   "metadata": {},
   "outputs": [],
   "source": []
  }
 ],
 "metadata": {
  "kernelspec": {
   "display_name": "mydesc",
   "language": "python",
   "name": "mydesc"
  },
  "language_info": {
   "codemirror_mode": {
    "name": "ipython",
    "version": 3
   },
   "file_extension": ".py",
   "mimetype": "text/x-python",
   "name": "python",
   "nbconvert_exporter": "python",
   "pygments_lexer": "ipython3",
   "version": "3.7.6"
  }
 },
 "nbformat": 4,
 "nbformat_minor": 5
}
