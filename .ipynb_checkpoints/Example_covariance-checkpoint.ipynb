{
 "cells": [
  {
   "cell_type": "markdown",
   "metadata": {},
   "source": [
    "# Example - Estimate Excess Surface Density with stacking strategy"
   ]
  },
  {
   "cell_type": "markdown",
   "metadata": {},
   "source": [
    "we import some clmm modules"
   ]
  },
  {
   "cell_type": "code",
   "execution_count": 1,
   "metadata": {},
   "outputs": [
    {
     "data": {
      "text/plain": [
       "'0.3.0'"
      ]
     },
     "execution_count": 1,
     "metadata": {},
     "output_type": "execute_result"
    }
   ],
   "source": [
    "import sys\n",
    "import os\n",
    "import fnmatch\n",
    "import pickle\n",
    "os.environ['CLMM_MODELING_BACKEND'] = 'nc' # here you may choose ccl or nc (NumCosmo)\n",
    "sys.path.append('/pbs/throng/lsst/users/cpayerne/CLMM/examples/support')\n",
    "try: import clmm\n",
    "except:\n",
    "    import notebook_install\n",
    "    notebook_install.install_clmm_pipeline(upgrade=False)\n",
    "    import clmm\n",
    "import matplotlib.pyplot as plt\n",
    "import numpy as np\n",
    "from numpy import random\n",
    "\n",
    "\n",
    "clmm.__version__"
   ]
  },
  {
   "cell_type": "markdown",
   "metadata": {},
   "source": [
    "we import `clmm` module's core."
   ]
  },
  {
   "cell_type": "code",
   "execution_count": 2,
   "metadata": {},
   "outputs": [],
   "source": [
    "import clmm.polaraveraging as pa\n",
    "import clmm.galaxycluster as gc\n",
    "import clmm.modeling as modeling\n",
    "from clmm import Cosmology "
   ]
  },
  {
   "cell_type": "markdown",
   "metadata": {},
   "source": [
    "we import module for mock data"
   ]
  },
  {
   "cell_type": "code",
   "execution_count": 3,
   "metadata": {},
   "outputs": [],
   "source": [
    "import mock_data as mock"
   ]
  },
  {
   "cell_type": "markdown",
   "metadata": {},
   "source": [
    "basic modules"
   ]
  },
  {
   "cell_type": "code",
   "execution_count": 4,
   "metadata": {},
   "outputs": [],
   "source": [
    "import matplotlib.pyplot as plt\n",
    "import astropy.units as u\n",
    "import numpy as np\n",
    "from scipy.optimize import curve_fit"
   ]
  },
  {
   "cell_type": "markdown",
   "metadata": {},
   "source": [
    "we import `DC2Analysis` modules"
   ]
  },
  {
   "cell_type": "code",
   "execution_count": 5,
   "metadata": {},
   "outputs": [],
   "source": [
    "import sys\n",
    "sys.path.append('/pbs/throng/lsst/users/cpayerne/GitForThesis/DC2Analysis')\n",
    "import stacking as st\n",
    "import modeling as model\n",
    "import statistics as sta\n",
    "import resampling as rspl\n",
    "import utils as ut"
   ]
  },
  {
   "cell_type": "code",
   "execution_count": 6,
   "metadata": {},
   "outputs": [],
   "source": [
    "def load(filename, **kwargs):\n",
    "    \n",
    "    \"\"\"Loads GalaxyCluster object to filename using Pickle\"\"\"\n",
    "    \n",
    "    with open(filename, 'rb') as fin:\n",
    "        \n",
    "        return pickle.load(fin, **kwargs)"
   ]
  },
  {
   "cell_type": "markdown",
   "metadata": {},
   "source": [
    "for reproductibility :"
   ]
  },
  {
   "cell_type": "code",
   "execution_count": 7,
   "metadata": {},
   "outputs": [],
   "source": [
    "np.random.seed(11)"
   ]
  },
  {
   "cell_type": "markdown",
   "metadata": {},
   "source": [
    "we define cosmology into `Cosmology` object"
   ]
  },
  {
   "cell_type": "code",
   "execution_count": 8,
   "metadata": {},
   "outputs": [],
   "source": [
    "mock_cosmo = Cosmology(H0 = 71.0, Omega_dm0 = 0.27 - 0.045, Omega_b0 = 0.045, Omega_k0 = 0.0)"
   ]
  },
  {
   "cell_type": "markdown",
   "metadata": {},
   "source": [
    "we define the `Modeling` object `moo` to for the galaxy cluster."
   ]
  },
  {
   "cell_type": "code",
   "execution_count": 9,
   "metadata": {},
   "outputs": [],
   "source": [
    "moo = clmm.Modeling(massdef = 'mean', delta_mdef = 200, halo_profile_model = 'nfw')\n",
    "moo.set_cosmo(mock_cosmo)"
   ]
  },
  {
   "cell_type": "markdown",
   "metadata": {},
   "source": [
    "we define the `Stacking` object `stack` by definning a given range of radial axis, the number of bins for the binned stacked shear profile."
   ]
  },
  {
   "cell_type": "code",
   "execution_count": 10,
   "metadata": {},
   "outputs": [],
   "source": [
    "stack = st.Stacking(r_low = 0.5,  r_up = 6, n_bins = 10, cosmo = mock_cosmo)"
   ]
  },
  {
   "cell_type": "markdown",
   "metadata": {},
   "source": [
    "we now define the type of desired profile : tangential reduced shear of Excess surface density for the stacking procedure by modifying the atribute. We use the method `Type` from the class to select DeltaSigma of reduced tangential shear."
   ]
  },
  {
   "cell_type": "code",
   "execution_count": 11,
   "metadata": {},
   "outputs": [],
   "source": [
    "deltasigma = True"
   ]
  },
  {
   "cell_type": "code",
   "execution_count": 12,
   "metadata": {},
   "outputs": [],
   "source": [
    "stack._select_type(is_deltasigma = deltasigma)"
   ]
  },
  {
   "cell_type": "code",
   "execution_count": 13,
   "metadata": {},
   "outputs": [],
   "source": [
    "nmax = 10"
   ]
  },
  {
   "cell_type": "markdown",
   "metadata": {},
   "source": [
    "We now define some redshift interval and input mass interval to select GalaxyCluster object in preselected galaxy catalogs from `cosmoDC2`"
   ]
  },
  {
   "cell_type": "markdown",
   "metadata": {},
   "source": [
    "We add each galaxy catalogs that correponds to binning to the `stack` object"
   ]
  },
  {
   "cell_type": "code",
   "execution_count": 14,
   "metadata": {},
   "outputs": [
    {
     "name": "stderr",
     "output_type": "stream",
     "text": [
      "/pbs/home/c/cpayerne/.conda/envs/mydesc/lib/python3.7/site-packages/numpy/ma/core.py:2832: VisibleDeprecationWarning: Creating an ndarray from ragged nested sequences (which is a list-or-tuple of lists-or-tuples-or ndarrays with different lengths or shapes) is deprecated. If you meant to do this, you must specify 'dtype=object' when creating the ndarray\n",
      "  order=order, subok=True, ndmin=ndmin)\n"
     ]
    }
   ],
   "source": [
    "where_mock = '/pbs/throng/lsst/users/cpayerne/ThesisAtCCin2p3/GalaxyClusterCatalogs/mock_CLMM'\n",
    "\n",
    "x_list = []\n",
    "\n",
    "for file in os.listdir(where_mock): \n",
    "            \n",
    "    if (fnmatch.fnmatch(file, 'cluster*') and stack.n_stacked_cluster < nmax):\n",
    "    \n",
    "        os.chdir(where_mock)\n",
    "        \n",
    "        cl = load(file)\n",
    "\n",
    "        \"\"\"Add tangential and cross components\"\"\"\n",
    "\n",
    "        # the critical surface density is recquired then set is_deltasigma = True whatever you estimate reduced shear or deltasigma\n",
    "\n",
    "        cl.compute_tangential_and_cross_components(geometry=\"flat\", is_deltasigma = True, cosmo = stack.cosmo)\n",
    "\n",
    "        \"\"\"Create profile\"\"\"\n",
    "\n",
    "        bin_edges = pa.make_bins( stack.r_low , stack.r_up , stack.n_bins , method='evenlog10width')\n",
    "\n",
    "        profile = cl.make_binned_profile(\"radians\", \"Mpc\", bins=bin_edges,cosmo=stack.cosmo,include_empty_bins= True,gal_ids_in_bins=True)\n",
    "\n",
    "        \"\"\"Estimate individual shear profile\"\"\"\n",
    "\n",
    "        stack._estimate_individual_lensing_signal(cl, profile)\n",
    "\n",
    "        x_list.append(profile['radius'])\n",
    "\n",
    "        \"\"\"Add catalog of background galaxies to stack\"\"\"\n",
    "\n",
    "        stack._add_cluster_redshift(cl)\n",
    "\n",
    "        stack._add_background_galaxies(cl, profile)\n",
    "        \n",
    "        "
   ]
  },
  {
   "cell_type": "code",
   "execution_count": 15,
   "metadata": {},
   "outputs": [],
   "source": [
    "stack.MakeStackedProfile() "
   ]
  },
  {
   "cell_type": "code",
   "execution_count": 17,
   "metadata": {},
   "outputs": [],
   "source": [
    "stack_data = stack"
   ]
  },
  {
   "cell_type": "markdown",
   "metadata": {},
   "source": [
    "covariance matrix"
   ]
  },
  {
   "cell_type": "code",
   "execution_count": 18,
   "metadata": {},
   "outputs": [],
   "source": [
    "n_repetitions = 20"
   ]
  },
  {
   "cell_type": "code",
   "execution_count": 19,
   "metadata": {},
   "outputs": [],
   "source": [
    "Stat = sta.Statistics(nmax)"
   ]
  },
  {
   "cell_type": "code",
   "execution_count": 20,
   "metadata": {},
   "outputs": [
    {
     "name": "stdout",
     "output_type": "stream",
     "text": [
      "         gt        \n",
      "-------------------\n",
      " 1869999254788.4338\n",
      "   5286214523613.09\n",
      " -879360497749.7985\n",
      "-1094706795206.8866\n",
      " 1079964112019.3641\n",
      "-529271645824.48035\n",
      " -794213189890.2402\n",
      "  749156414706.8538\n",
      " -233261791161.1668\n",
      "-1427207400481.1135\n",
      "         gt        \n",
      "-------------------\n",
      "  739536844929.4302\n",
      "-1072994595985.8502\n",
      " 1808928202947.3052\n",
      " 2166059162149.4092\n",
      "-2056488879664.2969\n",
      " -686061393744.1786\n",
      "  1883343723664.228\n",
      "-114421285640.39478\n",
      "  -263302784935.225\n",
      "-1100799436670.4834\n",
      "         gt        \n",
      "-------------------\n",
      " 10415955174649.006\n",
      "  934976872473.8358\n",
      "-1986828147895.6694\n",
      "-2445325617842.2095\n",
      " -889363931820.4402\n",
      " 24337589211.069923\n",
      "  584899451192.4968\n",
      " -609738738384.2025\n",
      "-1438152156020.7153\n",
      "  651830895215.6271\n",
      "         gt        \n",
      "-------------------\n",
      " -5856362587400.245\n",
      "-1812892005134.5837\n",
      "  1350742253509.649\n",
      "-1505296592135.9727\n",
      "-472724940479.39075\n",
      " 1936608930085.8098\n",
      "-1313662165327.7034\n",
      "-1206825821312.2158\n",
      "  71026823172.78416\n",
      "-34092057966.444653\n",
      "         gt        \n",
      "-------------------\n",
      "   5263796092568.41\n",
      "  684566587349.1476\n",
      "-1590432112111.9453\n",
      "  16761108986.74296\n",
      "  618798062056.1351\n",
      "  3690006873.630023\n",
      "  576203820067.6516\n",
      "  180066777010.0421\n",
      "-275991888976.32404\n",
      "-204469165482.56546\n",
      "         gt        \n",
      "-------------------\n",
      " 1795919935334.5037\n",
      " -492060580753.3826\n",
      " 1347918353083.0479\n",
      "-2794938060491.5225\n",
      " 190837165938.19202\n",
      "-2390522322429.6216\n",
      "-178507533738.87802\n",
      " 32684779462.505154\n",
      "  573390062997.3706\n",
      " 183025173667.17862\n",
      "         gt        \n",
      "-------------------\n",
      " -3414921764407.336\n",
      "  5149401372333.982\n",
      " 193031090883.36316\n",
      "-2155753836881.8677\n",
      "  1899479260332.059\n",
      "-443723542423.10144\n",
      "  501111758611.0015\n",
      "-475605536181.45374\n",
      "-119950635685.52016\n",
      "-506385554859.91595\n",
      "         gt        \n",
      "-------------------\n",
      " -545792340371.7431\n",
      " 2051074916385.3955\n",
      "-1988636565853.9824\n",
      "  566605212530.6923\n",
      "  -948525021368.129\n",
      "-1632473942675.0432\n",
      "-1257550274903.2556\n",
      "  1621106401086.109\n",
      "-406056231522.41595\n",
      " -859243515844.5126\n",
      "         gt        \n",
      "-------------------\n",
      "  2547949815296.284\n",
      "  692705855457.3682\n",
      "  886516587136.0079\n",
      "-1181258492011.8323\n",
      "-2584333733987.3174\n",
      "-1010115546499.5774\n",
      " -671310995038.7781\n",
      "  -46003418300.4302\n",
      "  213204383877.1148\n",
      "-1512446875444.2793\n",
      "         gt        \n",
      "-------------------\n",
      "  5620271772373.012\n",
      "-1964613479086.3452\n",
      " -567488855029.7692\n",
      "-1618002953212.3682\n",
      "  761735055878.9172\n",
      "  2667969481907.605\n",
      "-176284402719.64575\n",
      "  729040683002.9344\n",
      "  390065786294.9304\n",
      "  955733880752.7462\n",
      "         gt        \n",
      "-------------------\n",
      " 2192372894355.3328\n",
      "   744036730109.303\n",
      "-1230539469732.4695\n",
      " 1233419133648.1628\n",
      "-33827497770.435844\n",
      " 1109356720656.7834\n",
      " 1259244485266.0737\n",
      " 168611189326.70813\n",
      "  53033845278.55023\n",
      "-102582903321.29706\n",
      "         gt        \n",
      "-------------------\n",
      " -3149949134607.169\n",
      "-237274192900.81842\n",
      "  689896872889.5667\n",
      "  -477706820015.845\n",
      " 3399120852450.8115\n",
      "  76010380268.40106\n",
      "-1521679856622.8948\n",
      "-64619102931.465866\n",
      " -618366706598.0408\n",
      " 455595856159.05237\n",
      "         gt        \n",
      "-------------------\n",
      " -7046219871724.523\n",
      "  1238334186122.863\n",
      "  2575079782670.593\n",
      " 1065972295984.7839\n",
      "  807813138674.3885\n",
      "  95224154737.70943\n",
      "-121428683326.53354\n",
      "-487143578018.68036\n",
      "  -610137018576.649\n",
      "-470181093574.88544\n",
      "         gt        \n",
      "-------------------\n",
      "-3012685832327.4897\n",
      "  492817040347.2378\n",
      "-1436575323847.0266\n",
      "-1309246314332.7656\n",
      "-535473910935.80316\n",
      "  415480124225.1943\n",
      " 1282374049831.3052\n",
      " -868363083484.7415\n",
      " 120772101219.11244\n",
      " -509546353553.1658\n",
      "         gt        \n",
      "-------------------\n",
      "-2184399134368.8333\n",
      "-3949859162151.4844\n",
      "  -816308245286.365\n",
      " 1136989016012.4407\n",
      " -812245368311.5576\n",
      "-265194338823.60965\n",
      "-2417117061008.4126\n",
      "-414808732284.75244\n",
      " -614118607743.5042\n",
      "  823880973338.3658\n",
      "         gt        \n",
      "-------------------\n",
      " -4548038533429.852\n",
      " 44675888414.562965\n",
      "-4343701191648.3594\n",
      "-1639636838446.2747\n",
      "  824902644410.8705\n",
      "  483838905024.4675\n",
      "  356626858251.9964\n",
      " 25193802481.191498\n",
      " 524857867843.48535\n",
      "-1285879699410.2217\n",
      "         gt        \n",
      "-------------------\n",
      "  303740797525.6803\n",
      " -4086808840369.663\n",
      "-2169375760113.1445\n",
      " -535331606350.3124\n",
      "-2017232564511.0093\n",
      "-1346530979069.0964\n",
      "-120816085704.72891\n",
      "  645283005604.9382\n",
      " -98137453371.69606\n",
      " 1082542669100.2351\n",
      "         gt        \n",
      "-------------------\n",
      "-2374179103864.0273\n",
      "  2647612077447.629\n",
      " 2274315719681.6943\n",
      "  7402409614.730332\n",
      "  885328603855.0143\n",
      "-345977163993.08704\n",
      "  1122147574613.665\n",
      "   597650019798.867\n",
      " -617981760972.9178\n",
      "  1206189449623.929\n",
      "         gt        \n",
      "-------------------\n",
      "  73885977968.43752\n",
      "-1298498035314.6648\n",
      " 3032213709581.9424\n",
      "  810762840177.0977\n",
      " -59292613006.55271\n",
      " -808336944709.7648\n",
      "-1389611268493.8003\n",
      " 151188352274.34064\n",
      "-211646749375.06265\n",
      " 1654073446994.1384\n",
      "        gt        \n",
      "------------------\n",
      "196569354692.34134\n",
      "-1234303265956.114\n",
      "3392073631220.9746\n",
      "-2376155373145.373\n",
      "-842487069599.3367\n",
      "349263160598.61304\n",
      "-306038537344.2968\n",
      " 677615706424.9858\n",
      " 1288238294659.453\n",
      " 670339196241.5587\n"
     ]
    }
   ],
   "source": [
    "where_mock = '/pbs/throng/lsst/users/cpayerne/ThesisAtCCin2p3/GalaxyClusterCatalogs/mock_CLMM'\n",
    "\n",
    "for repetition in range(n_repetitions):\n",
    "    \n",
    "    stack = st.Stacking(r_low = 0.5,  r_up = 6, n_bins = 10, cosmo = mock_cosmo)\n",
    "    \n",
    "    stack._select_type(is_deltasigma = deltasigma)\n",
    "    \n",
    "    for file in os.listdir(where_mock): \n",
    "\n",
    "        if (fnmatch.fnmatch(file, 'cluster*') and stack.n_stacked_cluster < nmax):\n",
    "\n",
    "            os.chdir(where_mock)\n",
    "\n",
    "            cl = load(file)\n",
    "\n",
    "            \"\"\"Add tangential and cross components\"\"\"\n",
    "            \n",
    "            cl = rspl.random_rotate_ellipticity(cl)\n",
    "            \n",
    "            cl = rspl.randomize_redshift(cl)\n",
    "\n",
    "            # the critical surface density is recquired then set is_deltasigma = True whatever you estimate reduced shear or deltasigma\n",
    "\n",
    "            cl.compute_tangential_and_cross_components(geometry=\"flat\", is_deltasigma = True, cosmo = stack.cosmo)\n",
    "            \n",
    "\n",
    "            \"\"\"Create profile\"\"\"\n",
    "\n",
    "            bin_edges = pa.make_bins( stack.r_low , stack.r_up , stack.n_bins , method='evenlog10width')\n",
    "\n",
    "            profile = cl.make_binned_profile(\"radians\", \"Mpc\", bins=bin_edges,cosmo=stack.cosmo,include_empty_bins= True,gal_ids_in_bins=True)\n",
    "\n",
    "            \"\"\"Estimate individual shear profile\"\"\"\n",
    "\n",
    "            stack._estimate_individual_lensing_signal(cl, profile)\n",
    "\n",
    "            x_list.append(profile['radius'])\n",
    "\n",
    "            \"\"\"Add catalog of background galaxies to stack\"\"\"\n",
    "\n",
    "            stack._add_cluster_redshift(cl)\n",
    "\n",
    "            stack._add_background_galaxies(cl, profile)\n",
    "            \n",
    "            \n",
    "    stack.MakeStackedProfile() \n",
    "    \n",
    "    Stat._add_realization(stack.profile['gt'])"
   ]
  },
  {
   "cell_type": "code",
   "execution_count": 21,
   "metadata": {},
   "outputs": [],
   "source": [
    "Stat.covariance()"
   ]
  },
  {
   "cell_type": "code",
   "execution_count": 22,
   "metadata": {},
   "outputs": [
    {
     "data": {
      "image/png": "[encoded data removed]",
      "text/plain": [
       "<Figure size 432x288 with 2 Axes>"
      ]
     },
     "metadata": {
      "needs_background": "light"
     },
     "output_type": "display_data"
    }
   ],
   "source": [
    "import numpy as np\n",
    "import matplotlib.pyplot as plt\n",
    "\n",
    "plt.imshow(Stat.covariance)\n",
    "plt.colorbar()\n",
    "plt.show()"
   ]
  },
  {
   "cell_type": "code",
   "execution_count": 26,
   "metadata": {},
   "outputs": [],
   "source": [
    "stack_data.profile['gt_err'] = np.sqrt(Stat.covariance.diagonal())\n",
    "\n",
    "profile = stack_data.profile\n",
    "\n",
    "r, gt, gt_err = profile['radius'], profile['gt'], profile['gt_err']"
   ]
  },
  {
   "cell_type": "code",
   "execution_count": 29,
   "metadata": {},
   "outputs": [
    {
     "data": {
      "image/png": "[encoded data removed]",
      "text/plain": [
       "<Figure size 1280x480 with 2 Axes>"
      ]
     },
     "metadata": {},
     "output_type": "display_data"
    }
   ],
   "source": [
    "fig, axes = plt.subplots(nrows=1, ncols=2, figsize=(16, 6))\n",
    "plt.style.use('classic')\n",
    "axes[0].tick_params(axis='both', which='major', labelsize=16)\n",
    "axes[1].tick_params(axis='both', which='major', labelsize=16)\n",
    "\n",
    "for i in range(stack_data.n_stacked_cluster):\n",
    "    \n",
    "    axes[0].plot(x_list[i],stack_data.LS_list[i],c='grey',alpha=0.1)\n",
    "    \n",
    "axes[0].plot([],[],c='grey', label='individual profile')    \n",
    "axes[0].errorbar(profile['radius'], profile['gt'], profile['gt_err'], c = 'r', fmt = 's', ms = 4, label='stacked profile')\n",
    "axes[0].set_xlabel(r'$R [Mpc]$', fontsize=16)\n",
    "axes[0].set_ylabel('profile', fontsize=16)\n",
    "axes[0].legend(fontsize=20, frameon=False, loc = 'best', numpoints = 1)\n",
    "axes[0].semilogx()\n",
    "axes[0].semilogy()\n",
    "#axes[0].set_ylim(10**12,10**14)\n",
    "axes[0].set_xlim(stack.r_low, stack.r_up)\n",
    "axes[1].plot(profile['radius'], (profile['gt_err']), '--s')\n",
    "axes[1].set_xlabel(r'$R [Mpc]$', fontsize=16)\n",
    "axes[1].set_ylabel(r'$(S/N)^{2}$', fontsize=16)\n",
    "plt.show()"
   ]
  },
  {
   "cell_type": "code",
   "execution_count": null,
   "metadata": {},
   "outputs": [],
   "source": []
  }
 ],
 "metadata": {
  "kernelspec": {
   "display_name": "mydesc",
   "language": "python",
   "name": "mydesc"
  },
  "language_info": {
   "codemirror_mode": {
    "name": "ipython",
    "version": 3
   },
   "file_extension": ".py",
   "mimetype": "text/x-python",
   "name": "python",
   "nbconvert_exporter": "python",
   "pygments_lexer": "ipython3",
   "version": "3.7.6"
  }
 },
 "nbformat": 4,
 "nbformat_minor": 4
}
