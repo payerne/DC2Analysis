{
 "cells": [
  {
   "cell_type": "markdown",
   "metadata": {},
   "source": [
    "we import some clmm modules"
   ]
  },
  {
   "cell_type": "code",
   "execution_count": 1,
   "metadata": {},
   "outputs": [
    {
     "data": {
      "text/plain": [
       "'0.3.0'"
      ]
     },
     "execution_count": 1,
     "metadata": {},
     "output_type": "execute_result"
    }
   ],
   "source": [
    "import sys\n",
    "import os\n",
    "os.environ['CLMM_MODELING_BACKEND'] = 'ccl' # here you may choose ccl or nc (NumCosmo)\n",
    "sys.path.append('/pbs/throng/lsst/users/cpayerne/CLMM/examples/support')\n",
    "try: import clmm\n",
    "except:\n",
    "    import notebook_install\n",
    "    notebook_install.install_clmm_pipeline(upgrade=False)\n",
    "    import clmm\n",
    "from astropy.cosmology import FlatLambdaCDM\n",
    "import matplotlib.pyplot as plt\n",
    "# %matplotlib inline\n",
    "import numpy as np\n",
    "from numpy import random\n",
    "\n",
    "clmm.__version__"
   ]
  },
  {
   "cell_type": "markdown",
   "metadata": {},
   "source": [
    "we import `clmm` module's core."
   ]
  },
  {
   "cell_type": "code",
   "execution_count": 2,
   "metadata": {},
   "outputs": [],
   "source": [
    "import clmm.polaraveraging as pa\n",
    "import clmm.galaxycluster as gc\n",
    "import clmm.modeling as modeling"
   ]
  },
  {
   "cell_type": "markdown",
   "metadata": {},
   "source": [
    "we import module for mock data"
   ]
  },
  {
   "cell_type": "code",
   "execution_count": 3,
   "metadata": {},
   "outputs": [],
   "source": [
    "import mock_data as mock"
   ]
  },
  {
   "cell_type": "markdown",
   "metadata": {},
   "source": [
    "modules"
   ]
  },
  {
   "cell_type": "code",
   "execution_count": 4,
   "metadata": {},
   "outputs": [],
   "source": [
    "import matplotlib.pyplot as plt\n",
    "import astropy.units as u\n",
    "import numpy as np\n",
    "from scipy.optimize import curve_fit"
   ]
  },
  {
   "cell_type": "markdown",
   "metadata": {},
   "source": [
    "we import `DC2Analysis` modules"
   ]
  },
  {
   "cell_type": "code",
   "execution_count": 5,
   "metadata": {},
   "outputs": [],
   "source": [
    "import sys\n",
    "sys.path.append('/pbs/throng/lsst/users/cpayerne/GitForThesis/DC2Analysis')\n",
    "import stacking as st\n",
    "import modelling as model"
   ]
  },
  {
   "cell_type": "markdown",
   "metadata": {},
   "source": [
    "for reproductibility"
   ]
  },
  {
   "cell_type": "code",
   "execution_count": 6,
   "metadata": {},
   "outputs": [],
   "source": [
    "np.random.seed(11)"
   ]
  },
  {
   "cell_type": "markdown",
   "metadata": {},
   "source": [
    "we define `astropy` and `ccl` cosmology object"
   ]
  },
  {
   "cell_type": "code",
   "execution_count": 7,
   "metadata": {},
   "outputs": [],
   "source": [
    "mock_cosmo = FlatLambdaCDM(H0=70, Om0=0.27, Ob0=0.045)\n",
    "mock_cosmo_ccl = modeling.cclify_astropy_cosmo(mock_cosmo)"
   ]
  },
  {
   "cell_type": "markdown",
   "metadata": {},
   "source": [
    "we define the `Modeling` object `moo` to model the galaxy cluster."
   ]
  },
  {
   "cell_type": "code",
   "execution_count": 8,
   "metadata": {},
   "outputs": [],
   "source": [
    "moo = clmm.Modeling(massdef = 'mean', delta_mdef = 200, halo_profile_model = 'nfw')\n",
    "moo.set_cosmo_params_dict(mock_cosmo_ccl)"
   ]
  },
  {
   "cell_type": "code",
   "execution_count": 27,
   "metadata": {},
   "outputs": [
    {
     "data": {
      "text/plain": [
       "float"
      ]
     },
     "execution_count": 27,
     "metadata": {},
     "output_type": "execute_result"
    }
   ],
   "source": [
    "type(moo.cosmo['h'])"
   ]
  },
  {
   "cell_type": "markdown",
   "metadata": {},
   "source": [
    "we define the `Stacking` object `shear` by definning a background cosmology, a given range of radial axis and the number of bins for the binned stacked shear profile."
   ]
  },
  {
   "cell_type": "code",
   "execution_count": 10,
   "metadata": {},
   "outputs": [],
   "source": [
    "stack = st.Stacking( r_low = 1,  r_up = 5, n_bins = 12, cosmo = mock_cosmo)"
   ]
  },
  {
   "cell_type": "markdown",
   "metadata": {},
   "source": [
    "we now define the type of desired profile : tangential reduced shear of Excess surface density for the stacking procedure by modifying the atribute. We use the method `Type` from the class to select DeltaSigma of reduced tangential shear."
   ]
  },
  {
   "cell_type": "code",
   "execution_count": 11,
   "metadata": {},
   "outputs": [],
   "source": [
    "deltasigma = True"
   ]
  },
  {
   "cell_type": "code",
   "execution_count": 12,
   "metadata": {},
   "outputs": [],
   "source": [
    "stack.SelectType(is_deltasigma = deltasigma)"
   ]
  },
  {
   "cell_type": "markdown",
   "metadata": {},
   "source": [
    "We now define some redshift interval and input mass interval to select GalaxyCluster object in preselected galaxy catalogs from `cosmoDC2`"
   ]
  },
  {
   "cell_type": "code",
   "execution_count": 13,
   "metadata": {},
   "outputs": [],
   "source": [
    "z_bin = [0.4,0.41]\n",
    "m_bin = [10*10**14, 11*10**14] #Solar Mass\n",
    "m_bin = np.array(m_bin)\n",
    "n_catalogs = 10\n",
    "ngals = 20000"
   ]
  },
  {
   "cell_type": "markdown",
   "metadata": {},
   "source": [
    "we define a set of selected cluster with given true masses ans true redshifts"
   ]
  },
  {
   "cell_type": "code",
   "execution_count": 14,
   "metadata": {},
   "outputs": [],
   "source": [
    "cluster_m = (m_bin[1] - m_bin[0])*np.random.random(n_catalogs) + m_bin[0] #in M_sun\n",
    "cluster_z = (z_bin[1] - z_bin[0])*np.random.random(n_catalogs) + z_bin[0]"
   ]
  },
  {
   "cell_type": "markdown",
   "metadata": {},
   "source": [
    "We add each galaxy catalogs that correponds to binning criteria to the `shear` object through the `Add(self,'file_name')` method."
   ]
  },
  {
   "cell_type": "code",
   "execution_count": 15,
   "metadata": {},
   "outputs": [
    {
     "name": "stderr",
     "output_type": "stream",
     "text": [
      "/pbs/throng/lsst/users/cpayerne/CLMM/examples/support/mock_data.py:315: RuntimeWarning: divide by zero encountered in true_divide\n",
      "  pzpdf_grid.append(np.exp(-0.5*((zbins - row['z'])/row['pzsigma'])**2)/np.sqrt(2*np.pi*row['pzsigma']**2))\n",
      "/pbs/throng/lsst/users/cpayerne/CLMM/examples/support/mock_data.py:315: RuntimeWarning: invalid value encountered in true_divide\n",
      "  pzpdf_grid.append(np.exp(-0.5*((zbins - row['z'])/row['pzsigma'])**2)/np.sqrt(2*np.pi*row['pzsigma']**2))\n",
      "/pbs/home/c/cpayerne/.conda/envs/mydesc/lib/python3.7/site-packages/numpy/ma/core.py:2832: VisibleDeprecationWarning: Creating an ndarray from ragged nested sequences (which is a list-or-tuple of lists-or-tuples-or ndarrays with different lengths or shapes) is deprecated. If you meant to do this, you must specify 'dtype=object' when creating the ndarray\n",
      "  order=order, subok=True, ndmin=ndmin)\n"
     ]
    }
   ],
   "source": [
    "for i in range(n_catalogs):\n",
    "    \n",
    "    c = model.Duffy_concentration(cluster_m[i], cluster_z[i], moo)\n",
    "    \n",
    "    data = mock.generate_galaxy_catalog(cluster_m[i]*mock_cosmo.h, cluster_z[i], c, mock_cosmo,  200,'chang13', zsrc_min = cluster_z[i] + 0.1 ,shapenoise = 0.0,ngals=ngals)\n",
    "\n",
    "    mock._compute_photoz_pdfs(data, 0.0)\n",
    "    \n",
    "    cl = clmm.GalaxyCluster('cluster', 0, 0, cluster_z[i], data)\n",
    "    \n",
    "    stack._add_cluster_z(cl)\n",
    "    \n",
    "    stack._add_background_galaxy_z(cl)\n",
    "    \n",
    "    profile = st.make_gt_profile(cl, stack.r_low, stack.r_up, stack.n_bins, stack.is_deltasigma, stack.cosmo)\n",
    "\n",
    "    stack.AddProfile(profile)"
   ]
  },
  {
   "cell_type": "markdown",
   "metadata": {},
   "source": [
    "we can see how much catalogs have been selected"
   ]
  },
  {
   "cell_type": "code",
   "execution_count": 16,
   "metadata": {},
   "outputs": [
    {
     "name": "stdout",
     "output_type": "stream",
     "text": [
      "we selected 10 clusters\n"
     ]
    }
   ],
   "source": [
    "print(f'we selected {stack.n_stacked_gt} clusters')"
   ]
  },
  {
   "cell_type": "markdown",
   "metadata": {},
   "source": [
    "The attribute `profile` of `shear` object is filled using the method `MakeShearProfile`, where the stacking method can be choosen as `'classical'` or weighted `'error weighted'`. The number of selected galaxy catalogs is visible with `n_stacked_gt` attribute"
   ]
  },
  {
   "cell_type": "code",
   "execution_count": 17,
   "metadata": {},
   "outputs": [],
   "source": [
    "stack.MakeStackedProfile(method ='error weighted')"
   ]
  },
  {
   "cell_type": "markdown",
   "metadata": {},
   "source": [
    "The `profile` attribute is an astropy table containing the binned profile `gt` the error `gt_err` along the radial axis `radius`"
   ]
  },
  {
   "cell_type": "markdown",
   "metadata": {},
   "source": [
    "### Visualization of the results"
   ]
  },
  {
   "cell_type": "markdown",
   "metadata": {},
   "source": [
    "we visualize the reduced tangential stacked shear and we calculate the predicted reduced shear when using the average innput mass of selected clusters. We also visualize individual shear profiles."
   ]
  },
  {
   "cell_type": "code",
   "execution_count": 18,
   "metadata": {},
   "outputs": [],
   "source": [
    "profile = stack.profile"
   ]
  },
  {
   "cell_type": "code",
   "execution_count": 19,
   "metadata": {},
   "outputs": [
    {
     "data": {
      "image/png": "[encoded data removed]",
      "text/plain": [
       "<Figure size 1152x432 with 2 Axes>"
      ]
     },
     "metadata": {
      "needs_background": "light"
     },
     "output_type": "display_data"
    }
   ],
   "source": [
    "#plt.errorbar(profile_classical['radius'], profile_classical['gt'], profile_classical['gt_err'])\n",
    "fig, axes = plt.subplots(nrows=1, ncols=2, figsize=(16, 6))\n",
    "\n",
    "for i in range(stack.n_stacked_gt):\n",
    "    \n",
    "    axes[0].plot(stack.radial_axis_list[i],stack.gt_list[i],c='grey',alpha=0.1)\n",
    "    \n",
    "\n",
    "axes[0].plot([],[],c='grey', label='individual profile')    \n",
    "axes[0].errorbar(profile['radius'], profile['gt'],profile['gt_err'], color='red', label='stacked profile', fmt='.')\n",
    "axes[0].set_xlabel('R [Mpc]', fontsize=16)\n",
    "axes[0].set_ylabel('profile', fontsize=16)\n",
    "axes[0].legend(fontsize=20, frameon=False)\n",
    "axes[0].semilogx()\n",
    "axes[0].semilogy()\n",
    "axes[1].hist(stack.z_galaxy_list, bins = 50,label='histogram', density = True)\n",
    "axes[1].set_xlabel('redshift', fontsize=16)\n",
    "axes[1].set_ylabel('galaxy redshift distribution', fontsize=16)\n",
    "axes[1].legend(fontsize=20, frameon=False)\n",
    "plt.show()"
   ]
  },
  {
   "cell_type": "markdown",
   "metadata": {},
   "source": [
    "### Defining a model and a fitting procedure"
   ]
  },
  {
   "cell_type": "markdown",
   "metadata": {},
   "source": [
    "we select the model to fit following the type of profile."
   ]
  },
  {
   "cell_type": "code",
   "execution_count": 20,
   "metadata": {},
   "outputs": [],
   "source": [
    "def model_data(r,logm):\n",
    "    if stack.is_deltasigma == False:\n",
    "        return model.predict_reduced_tangential_shear_z_distrib(r, logm, stack.average_z, stack.z_galaxy_list, moo)\n",
    "\n",
    "    else:\n",
    "        return model.predict_excess_surface_density(r, logm, stack.average_z, stack.z_galaxy_list,  0,  moo)"
   ]
  },
  {
   "cell_type": "markdown",
   "metadata": {},
   "source": [
    "### Fitting a halo mass"
   ]
  },
  {
   "cell_type": "markdown",
   "metadata": {},
   "source": [
    "we fit the Halo mass using `scipy` module."
   ]
  },
  {
   "cell_type": "code",
   "execution_count": 21,
   "metadata": {},
   "outputs": [],
   "source": [
    "param_p0 = [14.]\n",
    "param_bounds = ([13. ], [16.])\n",
    "logm_fit, cov_logm_fit = curve_fit(model_data, profile['radius'], profile['gt'], sigma = profile['gt_err'], bounds = param_bounds, p0 = param_p0)"
   ]
  },
  {
   "cell_type": "code",
   "execution_count": 22,
   "metadata": {},
   "outputs": [],
   "source": [
    "m_fit = float(10**logm_fit)\n",
    "err_m_fit = float(m_fit * np.sqrt(cov_logm_fit[0][0]) * np.log(10))"
   ]
  },
  {
   "cell_type": "code",
   "execution_count": 23,
   "metadata": {},
   "outputs": [
    {
     "name": "stdout",
     "output_type": "stream",
     "text": [
      "Best fit mass for cluster 1 = 1.07e+15 +/- 5.10e+12 Msun\n",
      "Average mass = 1.05e+15 Msun\n"
     ]
    }
   ],
   "source": [
    "print(f'Best fit mass for cluster 1 = {m_fit:.2e} +/- {err_m_fit:.2e} Msun')\n",
    "print(f'Average mass = {np.mean(cluster_m):.2e} Msun')"
   ]
  },
  {
   "cell_type": "code",
   "execution_count": 24,
   "metadata": {},
   "outputs": [],
   "source": [
    "r = np.linspace(0.5,5,1000)\n",
    "if deltasigma == False:\n",
    "    y_fit = model.predict_reduced_tangential_shear_z_distrib(r, logm_fit, stack.average_z, stack.z_galaxy_list, moo)\n",
    "    \n",
    "else:\n",
    "    y_fit = model.predict_excess_surface_density(r, logm_fit, stack.average_z, stack.z_galaxy_list, 0, moo)"
   ]
  },
  {
   "cell_type": "code",
   "execution_count": 25,
   "metadata": {},
   "outputs": [
    {
     "data": {
      "image/png": "[encoded data removed]",
      "text/plain": [
       "<Figure size 576x432 with 1 Axes>"
      ]
     },
     "metadata": {
      "needs_background": "light"
     },
     "output_type": "display_data"
    }
   ],
   "source": [
    "plt.figure(figsize=(8,6))\n",
    "plt.tick_params(axis='both', which='major', labelsize=14)\n",
    "plt.style.use('classic')\n",
    "\n",
    "for i in range(stack.n_stacked_gt):\n",
    "    \n",
    "    plt.plot(stack.radial_axis_list[i],stack.gt_list[i],c='grey',alpha=0.1)\n",
    "    \n",
    "plt.plot([],[],c='grey', label='individual profile')\n",
    "plt.errorbar(profile['radius'], profile['gt'],profile['gt_err'], color='red', label='stacked profile', fmt='.')\n",
    "plt.plot(r,y_fit, label=r'$\\rm{model\\ with}\\ M^{fit}_{200m} = %.2e M_\\odot$'%(m_fit))\n",
    "plt.xlabel('R [Mpc]', fontsize=16)\n",
    "plt.ylabel('profile', fontsize=16)\n",
    "\n",
    "plt.legend(fontsize=15, frameon=False, loc='best')\n",
    "plt.semilogx()\n",
    "plt.semilogy()\n",
    "#plt.xlim(0.2,5)\n",
    "plt.show()"
   ]
  },
  {
   "cell_type": "code",
   "execution_count": null,
   "metadata": {},
   "outputs": [],
   "source": []
  }
 ],
 "metadata": {
  "kernelspec": {
   "display_name": "mydesc",
   "language": "python",
   "name": "mydesc"
  },
  "language_info": {
   "codemirror_mode": {
    "name": "ipython",
    "version": 3
   },
   "file_extension": ".py",
   "mimetype": "text/x-python",
   "name": "python",
   "nbconvert_exporter": "python",
   "pygments_lexer": "ipython3",
   "version": "3.7.6"
  }
 },
 "nbformat": 4,
 "nbformat_minor": 4
}
