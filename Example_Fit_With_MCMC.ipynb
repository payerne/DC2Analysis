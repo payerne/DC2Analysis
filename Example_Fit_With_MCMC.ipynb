{
 "cells": [
  {
   "cell_type": "code",
   "execution_count": 1,
   "metadata": {},
   "outputs": [],
   "source": [
    "import numpy as np\n",
    "import sys\n",
    "import matplotlib.pyplot as plt\n",
    "from astropy.table import Table\n",
    "import corner"
   ]
  },
  {
   "cell_type": "code",
   "execution_count": 2,
   "metadata": {},
   "outputs": [],
   "source": [
    "sys.path.append('/pbs/throng/lsst/users/cpayerne/GitForThesis/DC2Analysis')\n",
    "import statistics_ as sta\n",
    "import mcmc as mcmc_"
   ]
  },
  {
   "cell_type": "markdown",
   "metadata": {},
   "source": [
    "# Creating fake data assuming a model"
   ]
  },
  {
   "cell_type": "markdown",
   "metadata": {},
   "source": [
    "We set the true parameters"
   ]
  },
  {
   "cell_type": "code",
   "execution_count": 3,
   "metadata": {},
   "outputs": [],
   "source": [
    "ptrue = [1,1]"
   ]
  },
  {
   "cell_type": "markdown",
   "metadata": {},
   "source": [
    "We define the model"
   ]
  },
  {
   "cell_type": "code",
   "execution_count": 4,
   "metadata": {},
   "outputs": [],
   "source": [
    "def model_MCMC(X,p):\n",
    "    \n",
    "    x, y = X[0], X[1]\n",
    "    \n",
    "    return p[0]*x + p[1]*y"
   ]
  },
  {
   "cell_type": "markdown",
   "metadata": {},
   "source": [
    "We create fake data described by the above model introducing fake noise"
   ]
  },
  {
   "cell_type": "code",
   "execution_count": 5,
   "metadata": {},
   "outputs": [],
   "source": [
    "N = 5\n",
    "noise = 10\n",
    "xdimension = 2\n",
    "x = np.linspace(-10,10,N)\n",
    "y = np.linspace(-10,10,N)\n",
    "Xdata = [x, y]\n",
    "X = mcmc_.combinatory(Xdata)\n",
    "y_exp = model_MCMC(X,ptrue) + np.random.randn(N**xdimension)*noise"
   ]
  },
  {
   "cell_type": "markdown",
   "metadata": {},
   "source": [
    "We store the `x` data and `y` measured data in an `astropy` table"
   ]
  },
  {
   "cell_type": "code",
   "execution_count": 6,
   "metadata": {},
   "outputs": [],
   "source": [
    "t = Table()\n",
    "t['x0'] = X[0]\n",
    "t['x1'] = X[1]\n",
    "t['y'] = y_exp"
   ]
  },
  {
   "cell_type": "markdown",
   "metadata": {},
   "source": [
    "# Covariance Matrix"
   ]
  },
  {
   "cell_type": "markdown",
   "metadata": {},
   "source": [
    "We create arbitrary covariance matrix"
   ]
  },
  {
   "cell_type": "code",
   "execution_count": 7,
   "metadata": {},
   "outputs": [],
   "source": [
    "Stat = sta.Statistics(N*N)"
   ]
  },
  {
   "cell_type": "code",
   "execution_count": 8,
   "metadata": {},
   "outputs": [],
   "source": [
    "for i in range(100):\n",
    "    \n",
    "    y_real = model_MCMC([t['x0'],t['x1']],ptrue) + np.random.randn(N**xdimension)*noise\n",
    "    \n",
    "    Stat._add_realization(y_real)"
   ]
  },
  {
   "cell_type": "code",
   "execution_count": 9,
   "metadata": {},
   "outputs": [],
   "source": [
    "Stat.covariance()\n",
    "cov = Stat.covariance"
   ]
  },
  {
   "cell_type": "code",
   "execution_count": 10,
   "metadata": {},
   "outputs": [
    {
     "data": {
      "image/png": "[encoded data removed]",
      "text/plain": [
       "<Figure size 576x576 with 2 Axes>"
      ]
     },
     "metadata": {
      "needs_background": "light"
     },
     "output_type": "display_data"
    }
   ],
   "source": [
    "fig = plt.figure(figsize = (8,8))\n",
    "plt.imshow(cov)\n",
    "plt.title('Covariance Matrix')\n",
    "plt.colorbar()\n",
    "plt.show()"
   ]
  },
  {
   "cell_type": "markdown",
   "metadata": {},
   "source": [
    "# Fit parameters using MCMC"
   ]
  },
  {
   "cell_type": "code",
   "execution_count": 11,
   "metadata": {},
   "outputs": [],
   "source": [
    "MCMC = mcmc_.MCMC(n_parameters = 2)"
   ]
  },
  {
   "cell_type": "markdown",
   "metadata": {},
   "source": [
    "We add data information to the `MCMC` object"
   ]
  },
  {
   "cell_type": "code",
   "execution_count": 12,
   "metadata": {},
   "outputs": [],
   "source": [
    "MCMC._set_data(t)\n",
    "MCMC._set_covariance_matrix(cov)\n",
    "MCMC._set_model(model_MCMC)"
   ]
  },
  {
   "cell_type": "markdown",
   "metadata": {},
   "source": [
    "We set bounds for parameter space"
   ]
  },
  {
   "cell_type": "code",
   "execution_count": 13,
   "metadata": {},
   "outputs": [],
   "source": [
    "MCMC._set_lnprior_bounds(bounds = [[-0,2],[-0,2]])"
   ]
  },
  {
   "cell_type": "markdown",
   "metadata": {},
   "source": [
    "We intitialize the random walks and find out the stating point of the official random walks by running first short MCMC"
   ]
  },
  {
   "cell_type": "code",
   "execution_count": 14,
   "metadata": {},
   "outputs": [
    {
     "name": "stderr",
     "output_type": "stream",
     "text": [
      "100%|██████████| 200/200 [00:07<00:00, 26.92it/s]\n"
     ]
    }
   ],
   "source": [
    "MCMC._set_walkers(n_walkers = 100, n_step = 200)\n",
    "MCMC._set_initial_condition(np.array([1,1]), np.array([0.001,0.001]))\n",
    "MCMC.run_MCMC()\n",
    "MCMC._discard(tau = 50)\n",
    "MCMC.fit_symmetric()"
   ]
  },
  {
   "cell_type": "markdown",
   "metadata": {},
   "source": [
    "Second, we run last MCMC with intitial position estimated above"
   ]
  },
  {
   "cell_type": "code",
   "execution_count": 15,
   "metadata": {},
   "outputs": [
    {
     "name": "stderr",
     "output_type": "stream",
     "text": [
      "  0%|          | 0/500 [00:00<?, ?it/s]/pbs/home/c/cpayerne/.conda/envs/mydesc/lib/python3.7/site-packages/emcee/moves/red_blue.py:99: RuntimeWarning: invalid value encountered in double_scalars\n",
      "  lnpdiff = f + nlp - state.log_prob[j]\n",
      "100%|██████████| 500/500 [00:22<00:00, 21.93it/s]\n"
     ]
    }
   ],
   "source": [
    "MCMC._set_walkers(n_walkers = 100, n_step = 500)\n",
    "MCMC._set_initial_condition(MCMC.mean_symmetric, MCMC.error_symmetric)\n",
    "MCMC.run_MCMC()"
   ]
  },
  {
   "cell_type": "code",
   "execution_count": 16,
   "metadata": {},
   "outputs": [],
   "source": [
    "MCMC._discard(tau = 30)"
   ]
  },
  {
   "cell_type": "markdown",
   "metadata": {},
   "source": [
    "We plot the corner plot to display the last sample"
   ]
  },
  {
   "cell_type": "code",
   "execution_count": 17,
   "metadata": {},
   "outputs": [
    {
     "data": {
      "text/plain": [
       "<Figure size 432x288 with 0 Axes>"
      ]
     },
     "metadata": {},
     "output_type": "display_data"
    },
    {
     "data": {
      "image/png": "[encoded data removed]",
      "text/plain": [
       "<Figure size 396x396 with 4 Axes>"
      ]
     },
     "metadata": {
      "needs_background": "light"
     },
     "output_type": "display_data"
    }
   ],
   "source": [
    "from corner import corner\n",
    "fig = plt.figure()\n",
    "sigma1 = 1. - np.exp(-(1./1.)**2/2.)\n",
    "sigma2 = 1. - np.exp(-(2./1.)**2/2.)\n",
    "fig = corner(MCMC.samples\\\n",
    "             ,reverse = False,\\\n",
    "            bins = 30,\\\n",
    "             smooth = True,\\\n",
    "             plot_datapoints=False,levels=(sigma1, sigma2), \\\n",
    "             #labels =use_params,\\\n",
    "             quantiles=[0.16, 0.5, 0.84], \\\n",
    "             color='k',\\\n",
    "             #range = use_ranges,\\\n",
    "         show_titles = True, \\\n",
    "        truths =np.array(ptrue),\\\n",
    "         truth_color='r', smooth1d = 1, top_ticks = True)"
   ]
  },
  {
   "cell_type": "markdown",
   "metadata": {},
   "source": [
    "## There is two ways to estimate parameters:"
   ]
  },
  {
   "cell_type": "markdown",
   "metadata": {},
   "source": [
    "Using MCMC assymmetry due to true PDF of parameters:"
   ]
  },
  {
   "cell_type": "code",
   "execution_count": 18,
   "metadata": {},
   "outputs": [
    {
     "name": "stdout",
     "output_type": "stream",
     "text": [
      "x = [1.28508276 0.43599935] +/- [[0.27063702 0.26234381]\n",
      " [0.2319272  0.22771111]]\n"
     ]
    }
   ],
   "source": [
    "MCMC.fit_MCMC()\n",
    "popt, cov = MCMC.mean_MCMC, MCMC.error_MCMC\n",
    "print('x = ' + str(popt) + ' +/- ' + str(cov))"
   ]
  },
  {
   "cell_type": "markdown",
   "metadata": {},
   "source": [
    "Using mean and covariance matrix:"
   ]
  },
  {
   "cell_type": "code",
   "execution_count": 19,
   "metadata": {},
   "outputs": [
    {
     "name": "stdout",
     "output_type": "stream",
     "text": [
      "x = [1.2834005  0.42229354] +/- [0.27247712 0.2871378 ]\n"
     ]
    }
   ],
   "source": [
    "MCMC.fit_symmetric()\n",
    "popt, cov = MCMC.mean_symmetric, MCMC.error_symmetric\n",
    "print('x = ' + str(popt) + ' +/- ' + str(cov))"
   ]
  },
  {
   "cell_type": "code",
   "execution_count": null,
   "metadata": {},
   "outputs": [],
   "source": []
  },
  {
   "cell_type": "code",
   "execution_count": null,
   "metadata": {},
   "outputs": [],
   "source": []
  }
 ],
 "metadata": {
  "kernelspec": {
   "display_name": "mydesc",
   "language": "python",
   "name": "mydesc"
  },
  "language_info": {
   "codemirror_mode": {
    "name": "ipython",
    "version": 3
   },
   "file_extension": ".py",
   "mimetype": "text/x-python",
   "name": "python",
   "nbconvert_exporter": "python",
   "pygments_lexer": "ipython3",
   "version": "3.7.6"
  }
 },
 "nbformat": 4,
 "nbformat_minor": 4
}
