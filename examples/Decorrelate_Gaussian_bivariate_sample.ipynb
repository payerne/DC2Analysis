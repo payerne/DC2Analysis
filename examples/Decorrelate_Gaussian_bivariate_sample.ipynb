{
 "cells": [
  {
   "cell_type": "code",
   "execution_count": 389,
   "id": "dbf09028-2d12-4a25-9665-5070cec2ab2c",
   "metadata": {},
   "outputs": [],
   "source": [
    "import numpy as np\n",
    "from scipy.optimize import fsolve\n",
    "from scipy.linalg import eigh"
   ]
  },
  {
   "cell_type": "code",
   "execution_count": 390,
   "id": "7f90d33a-4ccb-4647-889b-068c7e2d6c0a",
   "metadata": {},
   "outputs": [],
   "source": [
    "cov = np.array([[3,3],[3,5]])\n",
    "cov_inv = np.linalg.inv(cov)\n",
    "diag = np.diag(1/eigh(cov)[0]**2)"
   ]
  },
  {
   "cell_type": "code",
   "execution_count": 391,
   "id": "e5d0435f-cac9-4e2c-bc33-b979595719cd",
   "metadata": {},
   "outputs": [],
   "source": [
    "def f_optimize(p):\n",
    "    a,b = p\n",
    "    R = np.array([[a,-b],[b,a]])\n",
    "    detR = np.linalg.det(R)\n",
    "    #det(R) = 1\n",
    "    R_inv = np.linalg.inv(R)\n",
    "    Lambda = np.dot(R_inv, np.dot(cov_inv, R))\n",
    "    #R^TC^(-1)R = 1\n",
    "    res = Lambda - diag\n",
    "    #res = detR - np.linalg.det(R_inv)\n",
    "    return res[1,0], detR - 1."
   ]
  },
  {
   "cell_type": "code",
   "execution_count": 392,
   "id": "86d3a291-96bd-4b27-b138-4d389fcefa14",
   "metadata": {},
   "outputs": [],
   "source": [
    "res = fsolve(f_optimize, np.random.randn(2))"
   ]
  },
  {
   "cell_type": "code",
   "execution_count": 393,
   "id": "1f4178ed-fbcf-468e-82c9-679d4cad8d58",
   "metadata": {},
   "outputs": [
    {
     "data": {
      "text/plain": [
       "(1.1865526087629773e-13, -1.1934897514720433e-13)"
      ]
     },
     "execution_count": 393,
     "metadata": {},
     "output_type": "execute_result"
    }
   ],
   "source": [
    "#test\n",
    "f_optimize(res)"
   ]
  },
  {
   "cell_type": "code",
   "execution_count": 394,
   "id": "2d950e25-634c-4e74-b757-6de38b0b2d29",
   "metadata": {},
   "outputs": [
    {
     "data": {
      "text/plain": [
       "array([ True,  True])"
      ]
     },
     "execution_count": 394,
     "metadata": {},
     "output_type": "execute_result"
    }
   ],
   "source": [
    "np.isclose(f_optimize(res), [0.0, 0.0])"
   ]
  },
  {
   "cell_type": "code",
   "execution_count": 395,
   "id": "f9cbcfc5-c4d8-47e1-8ff0-ab69915d7433",
   "metadata": {},
   "outputs": [],
   "source": [
    "Rotation_matrix = np.array([[res[0], res[1]],[-res[1], res[0]]])"
   ]
  },
  {
   "cell_type": "code",
   "execution_count": 396,
   "id": "fdc68e7c-b947-4c4c-8fb1-8b8769de6f3e",
   "metadata": {},
   "outputs": [
    {
     "data": {
      "text/plain": [
       "array([[ 0.81124219, -0.58471028],\n",
       "       [ 0.58471028,  0.81124219]])"
      ]
     },
     "execution_count": 396,
     "metadata": {},
     "output_type": "execute_result"
    }
   ],
   "source": [
    "Rotation_matrix"
   ]
  },
  {
   "cell_type": "code",
   "execution_count": 397,
   "id": "26aed73d-36c1-41d1-89cf-63e596244324",
   "metadata": {},
   "outputs": [],
   "source": [
    "import matplotlib.pyplot as plt\n",
    "x, y = np.random.multivariate_normal([0,0], cov, 50000).T\n",
    "x_rot, y_rot = [], []\n",
    "for i, x_ in enumerate(x):\n",
    "    x_rot_i, y_rot_i = Rotation_matrix.dot(np.array([x[i], y[i]]))\n",
    "    x_rot.append(x_rot_i), y_rot.append(y_rot_i)"
   ]
  },
  {
   "cell_type": "code",
   "execution_count": 398,
   "id": "9e136055-c66a-4df2-bd9f-ae5404fa420f",
   "metadata": {},
   "outputs": [
    {
     "name": "stdout",
     "output_type": "stream",
     "text": [
      "[[1.         0.77345905]\n",
      " [0.77345905 1.        ]]\n",
      "[[ 1.        -0.0047948]\n",
      " [-0.0047948  1.       ]]\n"
     ]
    },
    {
     "data": {
      "image/png": "[encoded data removed]",
      "text/plain": [
       "<Figure size 432x288 with 1 Axes>"
      ]
     },
     "metadata": {
      "needs_background": "light"
     },
     "output_type": "display_data"
    }
   ],
   "source": [
    "plt.scatter(x,y ,label = 'correlated dataset')\n",
    "print(np.corrcoef(x,y))\n",
    "plt.scatter(x_rot,y_rot, label = 'de-correlated dataset')\n",
    "plt.legend()\n",
    "plt.xlabel('x')\n",
    "plt.ylabel('y')\n",
    "plt.axis('equal')\n",
    "print(np.corrcoef(x_rot,y_rot))"
   ]
  },
  {
   "cell_type": "code",
   "execution_count": 399,
   "id": "2bc5e110-1efd-473b-9ea9-5db876c6b64d",
   "metadata": {},
   "outputs": [],
   "source": [
    "def symmetrize(a):\n",
    "    return a + a.T - np.diag(a.diagonal())"
   ]
  },
  {
   "cell_type": "code",
   "execution_count": 400,
   "id": "3d309909-a18d-426c-a361-4a1eaf9e0964",
   "metadata": {},
   "outputs": [],
   "source": [
    "cov_new = np.random.randn(9,9)\n",
    "cov_new = symmetrize(cov_new)\n",
    "n = len(cov_new.diagonal())\n",
    "for i in range(n):\n",
    "    cov_new[i,i] = abs(cov_new[i,i])\n",
    "cov_inv_new = np.linalg.inv(cov_new)"
   ]
  },
  {
   "cell_type": "code",
   "execution_count": 456,
   "id": "fa50cacf-06e1-419a-bac3-4b82bec1b06f",
   "metadata": {},
   "outputs": [],
   "source": [
    "diag = np.diag(1/eigh(cov_new)[0]**2)\n",
    "eye = np.diag(np.zeros(n)+1)\n",
    "n = len(cov_new.diagonal())\n",
    "def f_optimize(p):\n",
    "    R = p.reshape([n,n])\n",
    "    detR = np.linalg.det(R)\n",
    "    R_inv = np.linalg.inv(R)\n",
    "    Lambda_T = np.dot(R.T, np.dot(cov_inv_new, R))\n",
    "    Lambda_inv = np.dot(R_inv, np.dot(cov_inv_new, R))\n",
    "    res_lambda_T = Lambda_T - diag\n",
    "    res_lambda_inv = Lambda_inv - diag\n",
    "    res_inv = R_inv - R.T\n",
    "    res_eye = np.dot(R_inv, R) - eye\n",
    "    equation = []\n",
    "    for i in range(n):\n",
    "        for j in range(n):\n",
    "                if i >= j:\n",
    "                    equation.append(res_lambda_T[i,j])\n",
    "                if i < j:\n",
    "                    equation.append(res_inv[i,j])\n",
    "    equation[3] = detR-1\n",
    "    return equation"
   ]
  },
  {
   "cell_type": "code",
   "execution_count": 457,
   "id": "6ac95263-b1f8-4f6d-b46b-1e3ce0787fef",
   "metadata": {},
   "outputs": [
    {
     "data": {
      "text/plain": [
       "array([ 0.55208552, -1.18146587, -2.87681931,  0.69055065, -1.64778051,\n",
       "        1.41390673, -8.99559799, -4.36177573,  4.89291529])"
      ]
     },
     "execution_count": 457,
     "metadata": {},
     "output_type": "execute_result"
    }
   ],
   "source": [
    "res = fsolve(f_optimize, np.random.randn(n*n))\n",
    "np.diag(np.array(f_optimize(res)).reshape(n,n))"
   ]
  },
  {
   "cell_type": "code",
   "execution_count": 458,
   "id": "35bd2df7-7765-426f-92d1-bd9445e7d8bf",
   "metadata": {},
   "outputs": [],
   "source": [
    "R = res.reshape(n,n)"
   ]
  },
  {
   "cell_type": "code",
   "execution_count": 459,
   "id": "46e39f5d-7fb6-4ea5-b088-3c56101a9242",
   "metadata": {},
   "outputs": [
    {
     "name": "stdout",
     "output_type": "stream",
     "text": [
      "[[-9.68944215e-01 -3.41721532e+00  1.47094170e+00 -1.19297774e+00\n",
      "  -2.09495688e+00  2.50534107e+00 -3.70822458e+00 -2.88927100e+00\n",
      "  -9.13799905e-01]\n",
      " [ 3.80928689e-01 -2.36482324e+00  1.60182191e+00  3.80820132e-01\n",
      "  -1.79115624e+00  1.18541347e+00 -1.08031416e+00 -3.20763312e+00\n",
      "   3.88283120e+00]\n",
      " [ 1.13314273e+00  5.69373556e-01  1.82580882e-02  2.66508297e+00\n",
      "   2.58801361e-02 -4.20915090e+00 -2.96729262e+00  1.29710780e+00\n",
      "  -7.52653567e+00]\n",
      " [ 6.54054387e-01  2.10566170e+00 -8.54538950e-01  7.32721403e-03\n",
      "   1.12654874e+00 -1.05801142e-01  4.44881310e+00  8.04691689e-01\n",
      "   5.19081227e+00]\n",
      " [ 1.00698052e-01 -2.14774684e+00  5.76419260e-01 -2.62149957e-01\n",
      "  -8.28525921e-01  9.60210154e-01 -2.20512072e+00 -1.47965883e+00\n",
      "  -1.01155474e+00]\n",
      " [-1.07888863e-01 -8.71225920e-01 -6.57226263e-01  8.06158252e-01\n",
      "  -8.74652147e-01 -8.14952328e-02  1.76212796e-01  4.85422283e-01\n",
      "   1.04178227e-01]\n",
      " [ 6.87433011e-02 -2.05686280e-01 -3.69566591e-01 -1.03478519e+00\n",
      "   8.00798543e-02 -8.21377279e-01 -1.43445042e+00 -6.31583083e-01\n",
      "  -1.33536715e+00]\n",
      " [-2.82774870e-01  1.15749105e-01 -8.55623548e-01 -2.19233605e-01\n",
      "   2.59107336e-02  3.29695480e-01  6.19867594e-01  6.84778875e-01\n",
      "  -6.60667113e-01]\n",
      " [-7.62025335e-01  2.95968905e-01  6.76781318e-01 -5.46687420e-01\n",
      "  -8.95037174e-01  2.34401629e-01  5.46619042e-01 -9.79968449e-01\n",
      "   1.69378240e+00]]\n",
      "4.788416329754108\n"
     ]
    }
   ],
   "source": [
    "print(R)\n",
    "print(np.linalg.det(R))"
   ]
  },
  {
   "cell_type": "code",
   "execution_count": null,
   "id": "42962836-dbdf-4dd5-82c6-e4ec15ad8c30",
   "metadata": {},
   "outputs": [],
   "source": []
  },
  {
   "cell_type": "code",
   "execution_count": null,
   "id": "4d927605-1cf8-47b9-b711-de683d3a1ffd",
   "metadata": {},
   "outputs": [],
   "source": []
  }
 ],
 "metadata": {
  "kernelspec": {
   "display_name": "mydesc",
   "language": "python",
   "name": "mydesc"
  },
  "language_info": {
   "codemirror_mode": {
    "name": "ipython",
    "version": 3
   },
   "file_extension": ".py",
   "mimetype": "text/x-python",
   "name": "python",
   "nbconvert_exporter": "python",
   "pygments_lexer": "ipython3",
   "version": "3.7.6"
  }
 },
 "nbformat": 4,
 "nbformat_minor": 5
}
