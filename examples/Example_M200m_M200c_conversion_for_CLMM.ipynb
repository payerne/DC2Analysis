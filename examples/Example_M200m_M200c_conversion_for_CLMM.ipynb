{
 "cells": [
  {
   "cell_type": "code",
   "execution_count": 1,
   "metadata": {},
   "outputs": [],
   "source": [
    "import numpy as np\n",
    "import sys\n",
    "import matplotlib.pyplot as plt\n",
    "from astropy.cosmology import FlatLambdaCDM\n",
    "import numpy as np\n",
    "from scipy.special import gamma, gammainc\n",
    "from astropy import units as u\n",
    "from astropy import constants as const\n",
    "from scipy.optimize import fsolve"
   ]
  },
  {
   "cell_type": "markdown",
   "metadata": {},
   "source": [
    "# Conversion from $200m$ to $500c$ overdensity definition"
   ]
  },
  {
   "cell_type": "markdown",
   "metadata": {},
   "source": [
    "we define a background `astropy` cosmology :"
   ]
  },
  {
   "cell_type": "code",
   "execution_count": 2,
   "metadata": {},
   "outputs": [],
   "source": [
    "cosmo_astropy = FlatLambdaCDM(H0=71.0, Om0=0.265, Ob0 = 0.0448)"
   ]
  },
  {
   "cell_type": "markdown",
   "metadata": {},
   "source": [
    "## NFW mass profile"
   ]
  },
  {
   "cell_type": "code",
   "execution_count": 3,
   "metadata": {},
   "outputs": [],
   "source": [
    "class NFW_profile():\n",
    "    def __init__(self, M, concentration, z, rho_bgd, delta, cosmo):\n",
    "        self.slope_parameter = 2\n",
    "        self.concentration = concentration\n",
    "        self.M = M\n",
    "        if rho_bgd == 'mean': alpha = cosmo.Om(z)\n",
    "        else : alpha = 1.\n",
    "        rho_critical = cosmo.critical_density(z).to(u.Msun / u.Mpc**3).value\n",
    "        self.rdelta = ((M * 3) / (alpha * 4 * np.pi * delta * rho_critical)) ** (1./3.)\n",
    "        self.rs = self.rdelta / self.concentration\n",
    "        self.rho_s = (delta/3.)*(self.concentration**3/self.delta_c(self.concentration)) * alpha * rho_critical\n",
    "    def delta_c(self, c):\n",
    "        return np.log(1 + c) - c/(1 + c)\n",
    "    def M_to_r(self,r3d):\n",
    "        r\"\"\"\n",
    "        Attributes:\n",
    "        -----------\n",
    "        r : array\n",
    "            3d radius from the cluster center\n",
    "        Returns:\n",
    "        --------\n",
    "        M_in_r : array\n",
    "            Mass enclosed in a sphere of radius r\n",
    "        \"\"\"\n",
    "        x = r3d/self.rs\n",
    "        M_in_r = self.M * self.delta_c(x) / self.delta_c(self.concentration)\n",
    "        return M_in_r"
   ]
  },
  {
   "cell_type": "markdown",
   "metadata": {},
   "source": [
    "We define halo parameters following the $200m$ overdensity definition:\n",
    "1. the mass $M_{200m}$ \n",
    "2. the concentration $c_{200m}$"
   ]
  },
  {
   "cell_type": "code",
   "execution_count": 4,
   "metadata": {},
   "outputs": [],
   "source": [
    "z = 0.4\n",
    "#first mass definitions\n",
    "M1 = 1e14\n",
    "c1 = 4\n",
    "delta1 = 200\n",
    "background_density1 = 'mean'"
   ]
  },
  {
   "cell_type": "code",
   "execution_count": 5,
   "metadata": {},
   "outputs": [
    {
     "data": {
      "image/png": "[encoded data removed]",
      "text/plain": [
       "<Figure size 432x288 with 1 Axes>"
      ]
     },
     "metadata": {
      "needs_background": "light"
     },
     "output_type": "display_data"
    }
   ],
   "source": [
    "cl1 = NFW_profile(M1, c1, z, background_density1, delta1, cosmo_astropy)\n",
    "r = np.logspace(-2, 0.4, 100)\n",
    "plt.loglog(r, cl1.M_to_r(r))\n",
    "plt.xlabel(r'$r$', fontsize = 20)\n",
    "plt.ylabel(r'$M_{NFW}(r)$', fontsize = 20)\n",
    "plt.show()"
   ]
  },
  {
   "cell_type": "markdown",
   "metadata": {},
   "source": [
    "we choose the second definition (here 500c)"
   ]
  },
  {
   "cell_type": "code",
   "execution_count": 6,
   "metadata": {},
   "outputs": [],
   "source": [
    "#2nd mass definition\n",
    "delta2 = 500\n",
    "background_density2 = 'critical'"
   ]
  },
  {
   "cell_type": "markdown",
   "metadata": {},
   "source": [
    "To find $M_2$ and $c_2$ following the second definition, we solve the system\n",
    "- $M_{M_1, c_1}(r_1) = M_{M_2, c_2}(r_1)$\n",
    "- $M_{M_1, c_1}(r_2) = M_{M_2, c_2}(r_2)$\n",
    "\n",
    "where $M_{M_i, c_i}(r)$ is the mass enclosed within a sphere or radius $r$, following a parametrization with overdensity mass $M_i$ and concentration $c_i$. Here, $r_i$ is the overdensity radius following the overdensity definition $i$."
   ]
  },
  {
   "cell_type": "code",
   "execution_count": 7,
   "metadata": {},
   "outputs": [],
   "source": [
    "def M_to_M(M1, c1, delta1, z, rho_bg1, delta2, rho_bg2, cosmo_astropy):\n",
    "    cl1 = NFW_profile(M1, c1, z, rho_bg1, delta1, cosmo_astropy)\n",
    "    r1 = cl1.rdelta\n",
    "    def f_to_invert(param):\n",
    "        M2, c2 = param[0], param[1]        \n",
    "        cl2 = NFW_profile(M2, c2, z, rho_bg2, delta2, cosmo_astropy)\n",
    "        r2 = cl2.rdelta  \n",
    "        first_term = M1 - cl2.M_to_r(r1)\n",
    "        second_term = M2 - cl1.M_to_r(r2)  \n",
    "        return first_term, second_term\n",
    "    x0 = [M1, c1]\n",
    "    M2fit, c2fit = fsolve(func = f_to_invert, x0 = x0, maxfev = 1000)\n",
    "    M2fit, c2fit = fsolve(func = f_to_invert, x0 = [M2fit, c2fit], maxfev = 100)\n",
    "    return M2fit, c2fit"
   ]
  },
  {
   "cell_type": "code",
   "execution_count": 8,
   "metadata": {},
   "outputs": [],
   "source": [
    "M2, c2 = M_to_M(M1, c1, delta1, z, background_density1, delta2, background_density2, cosmo_astropy)"
   ]
  },
  {
   "cell_type": "markdown",
   "metadata": {},
   "source": [
    "# Test bias"
   ]
  },
  {
   "cell_type": "markdown",
   "metadata": {},
   "source": [
    "plot the biais:\n",
    "    $$\n",
    "    \\frac{M_{M_2, c_2}(<r) - M_{M_1, c_1}(<r)}{M_{M_1, c_1}(<r)}\n",
    "    $$"
   ]
  },
  {
   "cell_type": "code",
   "execution_count": 9,
   "metadata": {},
   "outputs": [],
   "source": [
    "input_cl = NFW_profile(M1, c1, z, background_density1, delta1, cosmo_astropy)\n",
    "output_cl = NFW_profile(M2, c2, z, background_density2, delta2, cosmo_astropy)"
   ]
  },
  {
   "cell_type": "code",
   "execution_count": 10,
   "metadata": {},
   "outputs": [
    {
     "data": {
      "text/plain": [
       "Text(0, 0.5, '|bias| ($\\\\%$)')"
      ]
     },
     "execution_count": 10,
     "metadata": {},
     "output_type": "execute_result"
    },
    {
     "data": {
      "image/png": "[encoded data removed]",
      "text/plain": [
       "<Figure size 432x288 with 1 Axes>"
      ]
     },
     "metadata": {
      "needs_background": "light"
     },
     "output_type": "display_data"
    }
   ],
   "source": [
    "r = np.logspace(-3,1,300)\n",
    "plt.loglog(r, 100*abs((output_cl.M_to_r(r)-input_cl.M_to_r(r))/input_cl.M_to_r(r)))\n",
    "plt.xlabel('r [Mpc]', fontsize = 20)\n",
    "plt.ylabel(r'|bias| ($\\%$)', fontsize = 20)"
   ]
  },
  {
   "cell_type": "code",
   "execution_count": null,
   "metadata": {},
   "outputs": [],
   "source": []
  },
  {
   "cell_type": "code",
   "execution_count": null,
   "metadata": {},
   "outputs": [],
   "source": []
  }
 ],
 "metadata": {
  "kernelspec": {
   "display_name": "mydesc",
   "language": "python",
   "name": "mydesc"
  },
  "language_info": {
   "codemirror_mode": {
    "name": "ipython",
    "version": 3
   },
   "file_extension": ".py",
   "mimetype": "text/x-python",
   "name": "python",
   "nbconvert_exporter": "python",
   "pygments_lexer": "ipython3",
   "version": "3.7.6"
  }
 },
 "nbformat": 4,
 "nbformat_minor": 4
}
