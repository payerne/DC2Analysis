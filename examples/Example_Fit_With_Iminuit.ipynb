{
 "cells": [
  {
   "cell_type": "code",
   "execution_count": 6,
   "metadata": {},
   "outputs": [],
   "source": [
    "import numpy as np\n",
    "import sys\n",
    "import matplotlib.pyplot as plt\n",
    "from astropy.table import Table\n",
    "import corner"
   ]
  },
  {
   "cell_type": "code",
   "execution_count": 7,
   "metadata": {},
   "outputs": [],
   "source": [
    "sys.path.append('/pbs/throng/lsst/users/cpayerne/GitForThesis/DC2Analysis')\n",
    "import statistics_ as sta\n",
    "import mcmc as mcmc_"
   ]
  },
  {
   "cell_type": "markdown",
   "metadata": {},
   "source": [
    "# Creating fake data assuming a model"
   ]
  },
  {
   "cell_type": "markdown",
   "metadata": {},
   "source": [
    "We set the true parameters"
   ]
  },
  {
   "cell_type": "code",
   "execution_count": 121,
   "metadata": {},
   "outputs": [],
   "source": [
    "free_p2 = False"
   ]
  },
  {
   "cell_type": "code",
   "execution_count": 129,
   "metadata": {},
   "outputs": [],
   "source": [
    "p_1true, p_2true = 1, 2"
   ]
  },
  {
   "cell_type": "markdown",
   "metadata": {},
   "source": [
    "We define the model"
   ]
  },
  {
   "cell_type": "code",
   "execution_count": 166,
   "metadata": {},
   "outputs": [],
   "source": [
    "def model(x,p1, p2):\n",
    "    \n",
    "    return p1*x*np.cos(p2*x)"
   ]
  },
  {
   "cell_type": "markdown",
   "metadata": {},
   "source": [
    "We create fake data described by the above model introducing fake noise"
   ]
  },
  {
   "cell_type": "code",
   "execution_count": 198,
   "metadata": {},
   "outputs": [],
   "source": [
    "N = 20\n",
    "noise = 0.05\n",
    "x = np.linspace(0,1,N)\n",
    "y_exp = model(x,p_1true, p_2true) + np.random.randn(N)*noise"
   ]
  },
  {
   "cell_type": "markdown",
   "metadata": {},
   "source": [
    "We store the `x` data and `y` measured data in an `astropy` table"
   ]
  },
  {
   "cell_type": "markdown",
   "metadata": {},
   "source": [
    "# Covariance Matrix"
   ]
  },
  {
   "cell_type": "markdown",
   "metadata": {},
   "source": [
    "We create arbitrary covariance matrix"
   ]
  },
  {
   "cell_type": "code",
   "execution_count": 199,
   "metadata": {},
   "outputs": [],
   "source": [
    "Stat = sta.Statistics(N)"
   ]
  },
  {
   "cell_type": "code",
   "execution_count": 200,
   "metadata": {},
   "outputs": [],
   "source": [
    "for i in range(100):\n",
    "    \n",
    "    y_real = model(x,p_1true, p_2true) + np.random.randn(N)*noise\n",
    "    \n",
    "    Stat._add_realization(y_real)"
   ]
  },
  {
   "cell_type": "code",
   "execution_count": 201,
   "metadata": {},
   "outputs": [],
   "source": [
    "Stat.covariance()\n",
    "cov = Stat.covariance"
   ]
  },
  {
   "cell_type": "code",
   "execution_count": 202,
   "metadata": {},
   "outputs": [
    {
     "data": {
      "text/plain": [
       "<ErrorbarContainer object of 3 artists>"
      ]
     },
     "execution_count": 202,
     "metadata": {},
     "output_type": "execute_result"
    },
    {
     "data": {
      "image/png": "[encoded data removed]",
      "text/plain": [
       "<Figure size 432x288 with 1 Axes>"
      ]
     },
     "metadata": {
      "needs_background": "light"
     },
     "output_type": "display_data"
    }
   ],
   "source": [
    "plt.errorbar(x,y_exp,np.sqrt(cov.diagonal()),fmt = '.')"
   ]
  },
  {
   "cell_type": "code",
   "execution_count": 203,
   "metadata": {},
   "outputs": [
    {
     "data": {
      "image/png": "[encoded data removed]",
      "text/plain": [
       "<Figure size 576x576 with 2 Axes>"
      ]
     },
     "metadata": {
      "needs_background": "light"
     },
     "output_type": "display_data"
    }
   ],
   "source": [
    "fig = plt.figure(figsize = (8,8))\n",
    "plt.imshow(cov)\n",
    "plt.title('Covariance Matrix')\n",
    "plt.colorbar()\n",
    "plt.show()"
   ]
  },
  {
   "cell_type": "markdown",
   "metadata": {},
   "source": [
    "# Fit parameters using iMinuit"
   ]
  },
  {
   "cell_type": "code",
   "execution_count": 204,
   "metadata": {},
   "outputs": [],
   "source": [
    "import iminuit\n",
    "from iminuit import Minuit"
   ]
  },
  {
   "cell_type": "code",
   "execution_count": 205,
   "metadata": {},
   "outputs": [
    {
     "name": "stdout",
     "output_type": "stream",
     "text": [
      "┌───┬──────┬───────────┬───────────┬────────────┬────────────┬─────────┬─────────┬───────┐\n",
      "│   │ Name │   Value   │ Hesse Err │ Minos Err- │ Minos Err+ │ Limit-  │ Limit+  │ Fixed │\n",
      "├───┼──────┼───────────┼───────────┼────────────┼────────────┼─────────┼─────────┼───────┤\n",
      "│ 0 │ p1   │   1.02    │   0.06    │   -0.06    │    0.06    │   -1    │   10    │       │\n",
      "│ 1 │ p2   │   2.012   │   0.024   │   -0.024   │   0.024    │   -1    │   10    │       │\n",
      "└───┴──────┴───────────┴───────────┴────────────┴────────────┴─────────┴─────────┴───────┘\n"
     ]
    }
   ],
   "source": [
    "def chi2(p1, p2):\n",
    "    \n",
    "    chi2=0\n",
    "    \n",
    "     # Calculated model at data x-values\n",
    "\n",
    "    y_predict = np.array(model(x, p1, p2))\n",
    "\n",
    "    delta = y_predict - y_exp\n",
    "\n",
    "    inv_cov = np.linalg.inv(cov)\n",
    "\n",
    "    chi2 =  np.sum(delta * inv_cov.dot(delta))\n",
    "    \n",
    "    return chi2\n",
    "\n",
    "## Minimisation (we can fix some parameters, or define domains (see \n",
    "\n",
    "m = Minuit(chi2,\n",
    "           p1 = 1, \n",
    "           p2 = 2, \n",
    "           fix_p1 = False,\n",
    "           fix_p2 = False,\n",
    "           limit_p1 = (-1,10),\n",
    "           limit_p2 = (-1,10),\n",
    "           errordef = 1)\n",
    "## Find minimum with Migrad\n",
    "m.migrad()\n",
    "## Run Hessian for uncertainties\n",
    "m.hesse()\n",
    "## Run Minos for more robust and asymetric error bars\n",
    "m.minos()\n",
    "## Calculate chi2_min/dof (I have two free parameters here)\n",
    "chi2min_dof =  m.fval/(len(x)-2)\n",
    "# retrieve best-fit values\n",
    "# Print all (values, parameters, errors Hess and Minos)\n",
    "print(m.params)"
   ]
  },
  {
   "cell_type": "code",
   "execution_count": 206,
   "metadata": {},
   "outputs": [
    {
     "data": {
      "image/png": "[encoded data removed]",
      "text/plain": [
       "<Figure size 432x288 with 1 Axes>"
      ]
     },
     "metadata": {
      "needs_background": "light"
     },
     "output_type": "display_data"
    }
   ],
   "source": [
    "plt.errorbar(x,y_exp,np.sqrt(cov.diagonal()),fmt = '.')\n",
    "y_up = model(x, m.values['p1'] + m.merrors['p1'].upper, m.values['p2'] + m.merrors['p2'].upper)\n",
    "y_down = model(x, m.values['p1'] + m.merrors['p1'].lower, m.values['p2'] + m.merrors['p2'].lower)\n",
    "plt.fill_between(x,y_up,y_down ,color = 'r', alpha = 1)\n",
    "plt.show()"
   ]
  },
  {
   "cell_type": "code",
   "execution_count": 207,
   "metadata": {},
   "outputs": [],
   "source": [
    "def f(x,y):\n",
    "    return 3-x**2"
   ]
  },
  {
   "cell_type": "code",
   "execution_count": 209,
   "metadata": {},
   "outputs": [
    {
     "data": {
      "text/plain": [
       "tuple"
      ]
     },
     "execution_count": 209,
     "metadata": {},
     "output_type": "execute_result"
    }
   ],
   "source": [
    "type(f.__code__.co_varnames)"
   ]
  },
  {
   "cell_type": "code",
   "execution_count": 187,
   "metadata": {},
   "outputs": [
    {
     "data": {
      "text/plain": [
       "<ArgsView of Minuit at 5647ac7fc7b0>\n",
       "  1.0"
      ]
     },
     "execution_count": 187,
     "metadata": {},
     "output_type": "execute_result"
    }
   ],
   "source": [
    "m.args"
   ]
  },
  {
   "cell_type": "code",
   "execution_count": null,
   "metadata": {},
   "outputs": [],
   "source": []
  }
 ],
 "metadata": {
  "kernelspec": {
   "display_name": "mydesc",
   "language": "python",
   "name": "mydesc"
  },
  "language_info": {
   "codemirror_mode": {
    "name": "ipython",
    "version": 3
   },
   "file_extension": ".py",
   "mimetype": "text/x-python",
   "name": "python",
   "nbconvert_exporter": "python",
   "pygments_lexer": "ipython3",
   "version": "3.7.6"
  }
 },
 "nbformat": 4,
 "nbformat_minor": 4
}
