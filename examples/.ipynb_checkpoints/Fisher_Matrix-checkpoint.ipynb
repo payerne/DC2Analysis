{
 "cells": [
  {
   "cell_type": "code",
   "execution_count": 109,
   "metadata": {},
   "outputs": [],
   "source": [
    "import numpy as np\n",
    "import matplotlib.pyplot as plt\n",
    "from scipy.optimize import curve_fit"
   ]
  },
  {
   "cell_type": "code",
   "execution_count": 110,
   "metadata": {},
   "outputs": [],
   "source": [
    "a_true, b_true = 1, 0.1\n",
    "x = np.linspace(0.1,1,10)\n",
    "\n",
    "def mean(theta):\n",
    "    a,b = theta\n",
    "    #return b*np.cos(a**2*x)\n",
    "    #return b**x**a\n",
    "    #return b*a/((x*a)*(1 + x*a))\n",
    "    return a**4*x**b*np.exp(-(x-a)**2/b**2)\n",
    "\n",
    "y_mean = mean([a_true, b_true])\n",
    "std = .001*max(abs(y_mean))\n",
    "#plt.errorbar(x, y_mean, std)"
   ]
  },
  {
   "cell_type": "code",
   "execution_count": 111,
   "metadata": {},
   "outputs": [],
   "source": [
    "#plt.plot(x, y_mean)"
   ]
  },
  {
   "cell_type": "code",
   "execution_count": 112,
   "metadata": {},
   "outputs": [],
   "source": [
    "y_random = np.random.randn(200, len(x)) "
   ]
  },
  {
   "cell_type": "code",
   "execution_count": 113,
   "metadata": {},
   "outputs": [],
   "source": [
    "y_sample = y_random * std + y_mean\n",
    "cov = np.cov(y_sample.T)"
   ]
  },
  {
   "cell_type": "code",
   "execution_count": 114,
   "metadata": {},
   "outputs": [
    {
     "data": {
      "text/plain": [
       "<matplotlib.image.AxesImage at 0x7fb1abd2b590>"
      ]
     },
     "execution_count": 114,
     "metadata": {},
     "output_type": "execute_result"
    },
    {
     "data": {
      "image/png": "[encoded data removed]",
      "text/plain": [
       "<Figure size 432x288 with 1 Axes>"
      ]
     },
     "metadata": {
      "needs_background": "light"
     },
     "output_type": "display_data"
    }
   ],
   "source": [
    "plt.imshow(cov)"
   ]
  },
  {
   "cell_type": "code",
   "execution_count": 115,
   "metadata": {},
   "outputs": [],
   "source": [
    "import iminuit\n",
    "from iminuit import Minuit\n",
    "def lnL(a, b):\n",
    "    theta = a, b\n",
    "    y_th = mean(theta)\n",
    "    inv_cov = np.linalg.inv(cov)\n",
    "    d = y_sample[0] - y_th\n",
    "    res = -0.5*np.sum(d*inv_cov.dot(d))\n",
    "    return res\n",
    "\n",
    "def lnL_emcee(theta):\n",
    "    a, b = theta\n",
    "    return lnL(a, b)\n",
    "def neg_lnL_minuit(a, b):\n",
    "    return -lnL(a, b)\n",
    "\n",
    "minuit = Minuit(neg_lnL_minuit, a = a_true, b= b_true,\n",
    "                   errordef = 0.5)\n",
    "        \n",
    "minuit.migrad(),minuit.hesse(),minuit.minos()\n",
    "a = minuit.matrix()\n",
    "a = np.array(a)"
   ]
  },
  {
   "cell_type": "code",
   "execution_count": null,
   "metadata": {},
   "outputs": [],
   "source": [
    "import emcee\n",
    "initial = [a_true,b_true]\n",
    "npath = 200\n",
    "nwalkers = 600\n",
    "pos = initial + 0.001 * np.random.randn(nwalkers, len(initial))\n",
    "nwalkers, ndim = pos.shape\n",
    "sampler_single = emcee.EnsembleSampler(nwalkers, ndim, lnL_emcee)\n",
    "print('Single cluster : running...')\n",
    "sampler_single.run_mcmc(pos, npath, progress=True);"
   ]
  },
  {
   "cell_type": "code",
   "execution_count": null,
   "metadata": {},
   "outputs": [],
   "source": [
    "MLE = [minuit.values['a'], minuit.values['b']]"
   ]
  },
  {
   "cell_type": "code",
   "execution_count": null,
   "metadata": {},
   "outputs": [],
   "source": [
    "%load_ext autoreload\n",
    "\n",
    "%autoreload 2\n",
    "import sys\n",
    "sys.path.append('/pbs/throng/lsst/users/cpayerne/GitForThesis/DC2Analysis/modeling/')\n",
    "import DATAOPS_Fisher_matrix as fisher\n",
    "Fisher_matrix= fisher.Fisher_Matrix(MLE, mean, cov)\n",
    "S_matrix= fisher.S_Fisher_Matrix(MLE, mean, cov)\n",
    "Q_matrix= fisher.Q_Fisher_Matrix(MLE, mean, cov)"
   ]
  },
  {
   "cell_type": "code",
   "execution_count": null,
   "metadata": {},
   "outputs": [],
   "source": [
    "Q_matrix"
   ]
  },
  {
   "cell_type": "code",
   "execution_count": null,
   "metadata": {},
   "outputs": [],
   "source": [
    "a"
   ]
  },
  {
   "cell_type": "code",
   "execution_count": null,
   "metadata": {},
   "outputs": [],
   "source": [
    "np.linalg.inv(Fisher_matrix)"
   ]
  },
  {
   "cell_type": "code",
   "execution_count": 92,
   "metadata": {},
   "outputs": [],
   "source": [
    "def prior(theta,MLE, Fisher_matrix):\n",
    "    \n",
    "    alpha = 6\n",
    "    cov = np.linalg.inv(Fisher_matrix)\n",
    "    for i, theta_value in enumerate(theta):\n",
    "        if theta_value < MLE[i] - alpha*np.sqrt(cov[i,i])/2:\n",
    "            return -np.inf\n",
    "        if theta_value > MLE[i] + alpha*np.sqrt(cov[i,i])/2:\n",
    "            return -np.inf\n",
    "                \n",
    "    return 0\n",
    "\n",
    "\n",
    "def lnL_parameters_F(theta):\n",
    "    \n",
    "    theta = np.array(theta)\n",
    "    \n",
    "    dtheta = np.array(theta) - MLE\n",
    "    \n",
    "    lnL_Fisher = fisher.lnL_Fisher(theta, MLE, Fisher_matrix)\n",
    "\n",
    "    return lnL_Fisher + prior(theta,MLE, Fisher_matrix)\n",
    "\n",
    "def lnL_parameters_FS(theta):\n",
    "    \n",
    "    theta = np.array(theta)\n",
    "    \n",
    "    dtheta = np.array(theta) - MLE\n",
    "    \n",
    "    lnL_Fisher = fisher.lnL_Fisher(theta, MLE, Fisher_matrix)\n",
    "    lnL_S_Fisher = fisher.lnL_S_Fisher(theta, MLE, S_matrix)\n",
    "\n",
    "    return lnL_Fisher + lnL_S_Fisher + prior(theta, MLE, Fisher_matrix)\n",
    "\n",
    "def lnL_parameters_FSQ(theta):\n",
    "    \n",
    "    theta = np.array(theta)\n",
    "    \n",
    "    dtheta = np.array(theta) - MLE\n",
    "    \n",
    "    lnL_Fisher = fisher.lnL_Fisher(theta, MLE, Fisher_matrix)\n",
    "    lnL_S_Fisher = fisher.lnL_S_Fisher(theta, MLE, S_matrix)\n",
    "    lnL_Q_Fisher = fisher.lnL_Q_Fisher(theta, MLE, Q_matrix)\n",
    "    \n",
    "    return lnL_Fisher +  lnL_Q_Fisher + lnL_S_Fisher + prior(theta,MLE, Fisher_matrix)"
   ]
  },
  {
   "cell_type": "code",
   "execution_count": 93,
   "metadata": {},
   "outputs": [
    {
     "name": "stderr",
     "output_type": "stream",
     "text": [
      "  0%|          | 0/300 [00:00<?, ?it/s]"
     ]
    },
    {
     "name": "stdout",
     "output_type": "stream",
     "text": [
      "Single cluster : running...\n"
     ]
    },
    {
     "name": "stderr",
     "output_type": "stream",
     "text": [
      "/pbs/home/c/cpayerne/.conda/envs/mydesc/lib/python3.7/site-packages/emcee/moves/red_blue.py:99: RuntimeWarning: invalid value encountered in double_scalars\n",
      "  lnpdiff = f + nlp - state.log_prob[j]\n",
      "100%|██████████| 300/300 [00:22<00:00, 13.23it/s]\n"
     ]
    }
   ],
   "source": [
    "initial = MLE\n",
    "npath = 300\n",
    "nwalkers = 600\n",
    "pos = initial + 0.001 * np.random.randn(nwalkers, len(initial))\n",
    "sampler_param_FS = emcee.EnsembleSampler(nwalkers, ndim, lnL_parameters_FS)\n",
    "print('Single cluster : running...')\n",
    "sampler_param_FS.run_mcmc(pos, npath, progress=True);"
   ]
  },
  {
   "cell_type": "code",
   "execution_count": 94,
   "metadata": {},
   "outputs": [
    {
     "name": "stderr",
     "output_type": "stream",
     "text": [
      "  0%|          | 0/300 [00:00<?, ?it/s]"
     ]
    },
    {
     "name": "stdout",
     "output_type": "stream",
     "text": [
      "Single cluster : running...\n"
     ]
    },
    {
     "name": "stderr",
     "output_type": "stream",
     "text": [
      "100%|██████████| 300/300 [00:28<00:00, 10.40it/s]\n"
     ]
    }
   ],
   "source": [
    "sampler_param_FSQ = emcee.EnsembleSampler(nwalkers, ndim, lnL_parameters_FSQ)\n",
    "print('Single cluster : running...')\n",
    "sampler_param_FSQ.run_mcmc(pos, npath, progress=True);"
   ]
  },
  {
   "cell_type": "code",
   "execution_count": 95,
   "metadata": {},
   "outputs": [],
   "source": [
    "### See lnL 1D"
   ]
  },
  {
   "cell_type": "code",
   "execution_count": 96,
   "metadata": {},
   "outputs": [],
   "source": [
    "#a_array = np.linspace(0.9999,1,30)\n",
    "#for a_ in a_array:\n",
    "##    plt.scatter(a_, lnL_parameters_F([a_, b_true]), c='k')\n",
    "#    plt.scatter(a_, lnL_parameters_FS([a_, b_true]),  c='r')\n",
    "#    plt.scatter(a_, lnL_parameters_FSQ([a_, b_true]),  c='g')"
   ]
  },
  {
   "cell_type": "code",
   "execution_count": 97,
   "metadata": {},
   "outputs": [],
   "source": [
    "discard, thin = 100, 10\n",
    "f = sampler_single.get_chain(discard = discard, thin = thin, flat = True)\n",
    "s = sampler_param_FSQ.get_chain(discard = discard, thin = thin, flat = True)"
   ]
  },
  {
   "cell_type": "code",
   "execution_count": 100,
   "metadata": {},
   "outputs": [
    {
     "data": {
      "text/plain": [
       "(0.9701049505690708,\n",
       " 1.0628617434640708,\n",
       " 0.09706658399449507,\n",
       " 0.10371780558769624)"
      ]
     },
     "execution_count": 100,
     "metadata": {},
     "output_type": "execute_result"
    },
    {
     "data": {
      "image/png": "[encoded data removed]",
      "text/plain": [
       "<Figure size 432x288 with 1 Axes>"
      ]
     },
     "metadata": {
      "needs_background": "light"
     },
     "output_type": "display_data"
    }
   ],
   "source": [
    "plt.scatter(f[:,0], f[:,1])\n",
    "plt.scatter(s[:,0], s[:,1])\n",
    "plt.axis('equal')"
   ]
  },
  {
   "cell_type": "code",
   "execution_count": 99,
   "metadata": {},
   "outputs": [
    {
     "data": {
      "image/png": "[encoded data removed]",
      "text/plain": [
       "<Figure size 720x720 with 4 Axes>"
      ]
     },
     "metadata": {
      "needs_background": "light"
     },
     "output_type": "display_data"
    }
   ],
   "source": [
    "flat_sample_single = sampler_single.get_chain(discard = discard, thin = thin, flat = True)\n",
    "import numpy as np\n",
    "from chainconsumer import ChainConsumer\n",
    "labels = [r'$p_1$',r'$p_2$', ]\n",
    "\n",
    "#posterior\n",
    "cs = ChainConsumer()\n",
    "cs.add_chain(sampler_single.get_chain(discard = discard, thin = thin, flat = True),\n",
    "             parameters=labels, name = 'MCMC')\n",
    "#Fisher\n",
    "data = np.random.multivariate_normal(MLE, np.linalg.inv(Fisher_matrix), size=100000)\n",
    "cs.add_chain(data,parameters=labels, name = 'Fisher Matrix')\n",
    "#Fisher + S\n",
    "cs.add_chain(sampler_param_FS.get_chain(discard = discard, thin = thin, flat = True),\n",
    "             parameters=labels, name = 'Fisher Matrix + S')\n",
    "#Fisher + S + Q\n",
    "cs.add_chain(sampler_param_FSQ.get_chain(discard = discard, thin = thin, flat = True),\n",
    "             parameters=labels, name = 'Fisher Matrix + S + Q')\n",
    "cs.configure(linestyles=[\"--\", \"-\", '-', '-'], linewidths=[1.0, 2.0, 1.0,1],\n",
    "            shade=[True, False, False, True], shade_alpha=[0.2, 0.0, 0.1,0.1], sigma2d = True)\n",
    "fig = cs.plotter.plot(figsize=\"column\", truth=[a_true, b_true])\n",
    "fig.set_size_inches(10, 10)"
   ]
  },
  {
   "cell_type": "code",
   "execution_count": null,
   "metadata": {},
   "outputs": [],
   "source": []
  },
  {
   "cell_type": "code",
   "execution_count": null,
   "metadata": {},
   "outputs": [],
   "source": []
  },
  {
   "cell_type": "code",
   "execution_count": null,
   "metadata": {},
   "outputs": [],
   "source": []
  },
  {
   "cell_type": "code",
   "execution_count": null,
   "metadata": {},
   "outputs": [],
   "source": []
  }
 ],
 "metadata": {
  "kernelspec": {
   "display_name": "mydesc",
   "language": "python",
   "name": "mydesc"
  },
  "language_info": {
   "codemirror_mode": {
    "name": "ipython",
    "version": 3
   },
   "file_extension": ".py",
   "mimetype": "text/x-python",
   "name": "python",
   "nbconvert_exporter": "python",
   "pygments_lexer": "ipython3",
   "version": "3.7.6"
  }
 },
 "nbformat": 4,
 "nbformat_minor": 4
}
