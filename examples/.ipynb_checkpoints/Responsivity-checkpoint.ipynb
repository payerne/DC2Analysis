{
 "cells": [
  {
   "cell_type": "code",
   "execution_count": 1,
   "metadata": {},
   "outputs": [],
   "source": [
    "import sys\n",
    "import os\n",
    "os.environ['CLMM_MODELING_BACKEND'] = 'ccl' # here you may choose ccl or nc (NumCosmo)\n",
    "sys.path.append('/pbs/throng/lsst/users/cpayerne/CLMM/examples/support')\n",
    "try: import clmm\n",
    "except:\n",
    "    import notebook_install\n",
    "    notebook_install.install_clmm_pipeline(upgrade=False)\n",
    "    import clmm\n",
    "import matplotlib.pyplot as plt\n",
    "import numpy as np\n",
    "from numpy import random\n",
    "from astropy.table import Table\n",
    "\n",
    "clmm.__version__\n",
    "import clmm.polaraveraging as pa\n",
    "import clmm.galaxycluster as gc\n",
    "import clmm.modeling as modeling\n",
    "from clmm import Cosmology \n",
    "sys.path.append('/pbs/throng/lsst/users/cpayerne/GitForThesis/DC2Analysis')\n",
    "import statistics as stat\n",
    "import resampling\n",
    "import mock_data as mock\n",
    "from scipy.optimize import curve_fit\n",
    "import iminuit\n",
    "from iminuit import Minuit"
   ]
  },
  {
   "cell_type": "code",
   "execution_count": 2,
   "metadata": {},
   "outputs": [
    {
     "data": {
      "text/plain": [
       "'/pbs/throng/lsst/users/cpayerne/GitForThesis/DC2Analysis/examples'"
      ]
     },
     "execution_count": 2,
     "metadata": {},
     "output_type": "execute_result"
    }
   ],
   "source": [
    "pwd"
   ]
  },
  {
   "cell_type": "code",
   "execution_count": 4,
   "metadata": {},
   "outputs": [],
   "source": [
    "import pickle\n",
    "filename = '/pbs/throng/lsst/users/cpayerne/GitForThesis/DC2Analysis/examples/test.pkl'\n",
    "outfile = open(filename,'wb')\n",
    "dogs_dict = [1,1]\n",
    "pickle.dump(dogs_dict,outfile)\n",
    "outfile.close()"
   ]
  },
  {
   "cell_type": "markdown",
   "metadata": {},
   "source": [
    "### Testing Modeling"
   ]
  },
  {
   "cell_type": "code",
   "execution_count": 2,
   "metadata": {},
   "outputs": [],
   "source": [
    "mock_cosmo = Cosmology(H0=70.0, Omega_dm0=0.27-0.045, Omega_b0=0.045, Omega_k0=0.0)"
   ]
  },
  {
   "cell_type": "code",
   "execution_count": 3,
   "metadata": {},
   "outputs": [],
   "source": [
    "cluster_z = 0.4\n",
    "cluster_m = 10**15\n",
    "c = 4"
   ]
  },
  {
   "cell_type": "code",
   "execution_count": 4,
   "metadata": {},
   "outputs": [],
   "source": [
    "np.random.seed(15)"
   ]
  },
  {
   "cell_type": "code",
   "execution_count": 5,
   "metadata": {},
   "outputs": [
    {
     "name": "stderr",
     "output_type": "stream",
     "text": [
      "/pbs/home/c/cpayerne/.conda/envs/mydesc/lib/python3.7/site-packages/numpy/ma/core.py:2832: VisibleDeprecationWarning: Creating an ndarray from ragged nested sequences (which is a list-or-tuple of lists-or-tuples-or ndarrays with different lengths or shapes) is deprecated. If you meant to do this, you must specify 'dtype=object' when creating the ndarray\n",
      "  order=order, subok=True, ndmin=ndmin)\n"
     ]
    }
   ],
   "source": [
    "data = mock.generate_galaxy_catalog(cluster_m, \n",
    "                                    cluster_z, \n",
    "                                    c, \n",
    "                                    mock_cosmo, \n",
    "                                    200,\n",
    "                                    'chang13', \n",
    "                                    zsrc_min = cluster_z + 0.1\n",
    "                                    ,shapenoise = 0.05\n",
    "                                    ,ngals=10000)\n",
    "\n",
    "\"\"\"Create GalaxyCluster object\"\"\"\n",
    "\n",
    "cl = clmm.GalaxyCluster('cluster', 0, 0, cluster_z, data)\n",
    "\n",
    "\"\"\"Add tangential and cross components\"\"\"\n",
    "\n",
    "# the critical surface density is recquired then set is_deltasigma = True whatever you estimate reduced shear or deltasigma\n",
    "\n",
    "cl.compute_tangential_and_cross_components(geometry=\"flat\", is_deltasigma = False, cosmo = mock_cosmo)\n",
    "\n",
    "\"\"\"Create profile\"\"\"\n",
    "\n",
    "bin_edges = pa.make_bins( 0.1, 3.7,15, method='evenlog10width')\n",
    "\n",
    "profile = cl.make_binned_profile(\"radians\", \"Mpc\", bins=bin_edges,cosmo=mock_cosmo,include_empty_bins= True,gal_ids_in_bins=True)"
   ]
  },
  {
   "cell_type": "code",
   "execution_count": 23,
   "metadata": {},
   "outputs": [],
   "source": [
    "cl.galcat['test211'] = cl.galcat['ztrue']*22"
   ]
  },
  {
   "cell_type": "code",
   "execution_count": 24,
   "metadata": {},
   "outputs": [],
   "source": [
    "cl.save('/pbs/throng/lsst/users/cpayerne/GitForThesis/DC2Analysis/examples/test.pkl')"
   ]
  },
  {
   "cell_type": "code",
   "execution_count": 25,
   "metadata": {},
   "outputs": [],
   "source": [
    "import pickle\n",
    "infos_cosmodc2 = '/pbs/throng/lsst/users/cpayerne/GitForThesis/DC2Analysis/examples/test.pkl'\n",
    "with open(infos_cosmodc2, 'rb') as infos_cosmodc2:\n",
    "    infos_dc2 = pickle.load(infos_cosmodc2)"
   ]
  },
  {
   "cell_type": "code",
   "execution_count": 26,
   "metadata": {},
   "outputs": [
    {
     "data": {
      "text/html": [
       "<i>GCData length=10000</i>\n",
       "<table id=\"table139722488901584\" class=\"table-striped table-bordered table-condensed\">\n",
       "<thead><tr><th>ra</th><th>dec</th><th>e1</th><th>e2</th><th>z</th><th>ztrue</th><th>id</th><th>theta</th><th>et</th><th>ex</th><th>test</th><th>test2</th><th>test21</th><th>test211</th></tr></thead>\n",
       "<thead><tr><th>float64</th><th>float64</th><th>float64</th><th>float64</th><th>float64</th><th>float64</th><th>int64</th><th>float64</th><th>float64</th><th>float64</th><th>float64</th><th>float64</th><th>float64</th><th>float64</th></tr></thead>\n",
       "<tr><td>-0.07962211043048455</td><td>0.1831335350313941</td><td>0.06244446948223421</td><td>0.07911795027607738</td><td>1.9946972237105611</td><td>1.9946972237105611</td><td>0</td><td>0.00348531248632229</td><td>-0.015270125262560719</td><td>0.09962823444822877</td><td>39.893944474211224</td><td>39.893944474211224</td><td>43.883338921632344</td><td>43.883338921632344</td></tr>\n",
       "<tr><td>0.09042019614187513</td><td>0.141102280645693</td><td>0.034306907194036895</td><td>0.05359689240743972</td><td>0.7142221319891036</td><td>0.7142221319891036</td><td>1</td><td>0.002924958623571742</td><td>0.06302824284566283</td><td>-0.008776751149661359</td><td>14.284442639782071</td><td>14.284442639782071</td><td>15.712886903760278</td><td>15.712886903760278</td></tr>\n",
       "<tr><td>-0.12237312834945403</td><td>-0.00773032749165447</td><td>0.0784287056058818</td><td>0.025299316045988434</td><td>0.56567370346639</td><td>0.56567370346639</td><td>2</td><td>0.002140071209873299</td><td>-0.0746216407300805</td><td>-0.03496752765294786</td><td>11.3134740693278</td><td>11.3134740693278</td><td>12.44482147626058</td><td>12.44482147626058</td></tr>\n",
       "<tr><td>-0.13402120848622295</td><td>0.03240285253815282</td><td>-0.024265890251996936</td><td>0.04521490139446353</td><td>0.9445673299239268</td><td>0.9445673299239268</td><td>3</td><td>0.0024065064773968955</td><td>0.000929519052645187</td><td>-0.05130649795263549</td><td>18.891346598478535</td><td>18.891346598478535</td><td>20.78048125832639</td><td>20.78048125832639</td></tr>\n",
       "<tr><td>0.10911348873709317</td><td>0.1271397418206483</td><td>0.05043850354173982</td><td>0.0958662425625007</td><td>0.8326802910624161</td><td>0.8326802910624161</td><td>4</td><td>0.0029241567024313082</td><td>0.10240890111685083</td><td>-0.03530999964063145</td><td>16.653605821248323</td><td>16.653605821248323</td><td>18.318966403373157</td><td>18.318966403373157</td></tr>\n",
       "<tr><td>-0.1322112160106672</td><td>0.17916695142401456</td><td>0.05261567573348328</td><td>-0.07126240456572874</td><td>1.1940334841134332</td><td>1.1940334841134332</td><td>5</td><td>0.0038862726473771142</td><td>0.08360939127626524</td><td>0.02926105479631659</td><td>23.880669682268664</td><td>23.880669682268664</td><td>26.26873665049553</td><td>26.26873665049553</td></tr>\n",
       "<tr><td>-0.13333748547054206</td><td>0.12033938110895062</td><td>-0.027352902842591648</td><td>-0.0738960232945912</td><td>0.8714880494894639</td><td>0.8714880494894639</td><td>6</td><td>0.0031348198594322078</td><td>0.07630474478770093</td><td>-0.0196567920972587</td><td>17.42976098978928</td><td>17.42976098978928</td><td>19.172737088768205</td><td>19.172737088768205</td></tr>\n",
       "<tr><td>-0.12263552556145878</td><td>-0.03749827722121128</td><td>-0.05669655082518591</td><td>0.006647032850235651</td><td>0.8696324638142803</td><td>0.8696324638142803</td><td>7</td><td>0.0022382167195026037</td><td>0.05071865572553386</td><td>0.026197325866961562</td><td>17.392649276285606</td><td>17.392649276285606</td><td>19.131914203914167</td><td>19.131914203914167</td></tr>\n",
       "<tr><td>0.15854506386449435</td><td>0.030138121120046688</td><td>-0.028300521400461128</td><td>-0.02807993022252258</td><td>0.6340163933607784</td><td>0.6340163933607784</td><td>8</td><td>0.002816684764471829</td><td>0.016023351950408472</td><td>0.036505536362489405</td><td>12.680327867215569</td><td>12.680327867215569</td><td>13.948360653937126</td><td>13.948360653937126</td></tr>\n",
       "<tr><td>-0.10700968064933669</td><td>-0.1876403991269238</td><td>-0.0718318295899055</td><td>0.026569375965366175</td><td>0.8008240176113718</td><td>0.8008240176113718</td><td>9</td><td>0.003770072427351995</td><td>-0.013707217316348573</td><td>0.07535154726257845</td><td>16.016480352227436</td><td>16.016480352227436</td><td>17.61812838745018</td><td>17.61812838745018</td></tr>\n",
       "<tr><td>...</td><td>...</td><td>...</td><td>...</td><td>...</td><td>...</td><td>...</td><td>...</td><td>...</td><td>...</td><td>...</td><td>...</td><td>...</td><td>...</td></tr>\n",
       "<tr><td>0.08804409518591545</td><td>-0.18150840359788456</td><td>0.018553948760745828</td><td>0.0037545441317197114</td><td>0.9739999538817016</td><td>0.9739999538817016</td><td>9990</td><td>0.0035209422612915583</td><td>0.008537195857411778</td><td>0.01689561786812201</td><td>19.47999907763403</td><td>19.47999907763403</td><td>21.427998985397434</td><td>21.427998985397434</td></tr>\n",
       "<tr><td>0.04087366950670686</td><td>-0.032116102357033244</td><td>-0.014483795056209238</td><td>-0.08325721303728349</td><td>0.6070708652764876</td><td>0.6070708652764876</td><td>9991</td><td>0.000907252446113195</td><td>0.08432039210918249</td><td>0.005622749907260204</td><td>12.141417305529751</td><td>12.141417305529751</td><td>13.355559036082727</td><td>13.355559036082727</td></tr>\n",
       "<tr><td>0.09913315493400043</td><td>0.05201778845575755</td><td>-0.028796942837590378</td><td>-0.01383037926634566</td><td>2.2583494572443734</td><td>2.2583494572443734</td><td>9992</td><td>0.0019539296337548933</td><td>0.004981992009064039</td><td>0.03155507982978388</td><td>45.16698914488747</td><td>45.16698914488747</td><td>49.683688059376216</td><td>49.683688059376216</td></tr>\n",
       "<tr><td>-0.006677378448461491</td><td>-0.10921781307224808</td><td>-0.030345541541172416</td><td>-0.08207990752986083</td><td>1.0032929540207494</td><td>1.0032929540207494</td><td>9993</td><td>0.001909769707288737</td><td>-0.04011858780121227</td><td>-0.07777185882035961</td><td>20.065859080414988</td><td>20.065859080414988</td><td>22.072444988456486</td><td>22.072444988456486</td></tr>\n",
       "<tr><td>-0.05281241238462001</td><td>-0.06555899435033839</td><td>-0.015980761365456064</td><td>0.0770489322852313</td><td>1.7911655229558952</td><td>1.7911655229558952</td><td>9994</td><td>0.0014693073399142777</td><td>0.07188029501007959</td><td>0.03201789951539199</td><td>35.823310459117906</td><td>35.823310459117906</td><td>39.40564150502969</td><td>39.40564150502969</td></tr>\n",
       "<tr><td>0.17881266758273506</td><td>0.0872324845782433</td><td>-0.07054640153431166</td><td>0.024402446671291784</td><td>1.0560659718501533</td><td>1.0560659718501533</td><td>9995</td><td>0.0034724366752366263</td><td>0.06265486324737238</td><td>0.04057884035354678</td><td>21.121319437003066</td><td>21.121319437003066</td><td>23.23345138070337</td><td>23.23345138070337</td></tr>\n",
       "<tr><td>-0.17640286089746307</td><td>-0.1031777264999585</td><td>0.06862546582620718</td><td>0.010448363508502229</td><td>1.9020286803805744</td><td>1.9020286803805744</td><td>9996</td><td>0.003566780607864384</td><td>-0.024532954355325754</td><td>-0.06493656143090142</td><td>38.040573607611485</td><td>38.040573607611485</td><td>41.844630968372634</td><td>41.844630968372634</td></tr>\n",
       "<tr><td>0.09304316000155788</td><td>0.10478068916212795</td><td>-0.05367808350985019</td><td>-0.03916556046064406</td><td>2.535415862703036</td><td>2.535415862703036</td><td>9997</td><td>0.0024457053158294974</td><td>-0.04523821145503455</td><td>0.04867013457795649</td><td>50.708317254060724</td><td>50.708317254060724</td><td>55.7791489794668</td><td>55.7791489794668</td></tr>\n",
       "<tr><td>-0.1624447815516269</td><td>-0.024865941179640968</td><td>-0.02613454888945302</td><td>-0.0056428118934753555</td><td>0.5569806815146066</td><td>0.5569806815146066</td><td>9998</td><td>0.0028682202733428357</td><td>0.023249876121454124</td><td>0.01320224344789151</td><td>11.139613630292132</td><td>11.139613630292132</td><td>12.253574993321344</td><td>12.253574993321344</td></tr>\n",
       "<tr><td>0.016973553221399124</td><td>0.023349170096369526</td><td>0.009770735464153121</td><td>0.08436615268573254</td><td>1.0459329518481533</td><td>1.0459329518481533</td><td>9999</td><td>0.0005038186218874027</td><td>0.0832651200650169</td><td>0.016734239482603164</td><td>20.918659036963064</td><td>20.918659036963064</td><td>23.010524940659373</td><td>23.010524940659373</td></tr>\n",
       "</table>"
      ],
      "text/plain": [
       "GCData(columns: ra, dec, e1, e2, z, ztrue, id, theta, et, ex, test, test2, test21, test211)"
      ]
     },
     "execution_count": 26,
     "metadata": {},
     "output_type": "execute_result"
    }
   ],
   "source": [
    "cl.galcat"
   ]
  },
  {
   "cell_type": "code",
   "execution_count": 6,
   "metadata": {},
   "outputs": [],
   "source": [
    "moo = clmm.Modeling(massdef = 'mean', delta_mdef = 200, halo_profile_model = 'nfw')\n",
    "\n",
    "moo.set_cosmo(mock_cosmo)\n",
    "\n",
    "def predict_reduced_tangential_shear(r, logm):\n",
    "\n",
    "    m = 10.**logm \n",
    "    \n",
    "    moo.set_mass(m) \n",
    "    \n",
    "    moo.set_concentration(c)\n",
    "    \n",
    "    deltasigma = []\n",
    "    \n",
    "    for i, R in enumerate(r):\n",
    "        \n",
    "        galist = profile['gal_id'][i]\n",
    "        \n",
    "        z = cl.galcat['z'][galist]\n",
    "        \n",
    "        surface_density = np.mean(moo.eval_reduced_shear(R, cluster_z, z))\n",
    "    \n",
    "        deltasigma.append(surface_density)\n",
    "        \n",
    "    return deltasigma"
   ]
  },
  {
   "cell_type": "code",
   "execution_count": 7,
   "metadata": {},
   "outputs": [],
   "source": [
    "#def predict_reduced_tangential_shear(r, logm):\n",
    "    \n",
    "#    return np.array([np.mean(\n",
    "#        clmm.predict_reduced_tangential_shear(\n",
    "#            r_proj = r, # Radial component of the profile\n",
    "#            mdelta=10**logm, # Mass of the cluster [M_sun]\n",
    "#            cdelta=4, # Concentration of the cluster\n",
    "#            z_cluster=cluster_z, # Redshift of the cluster\n",
    "#            z_source=cl.galcat[profile['gal_id'][i]]['z'], # Redshift value of each source galaxy inside the radial bin\n",
    "#            cosmo=mock_cosmo,\n",
    "#            delta_mdef=200,\n",
    "#            halo_profile_model='nfw'\n",
    "#        )) for i, r in enumerate(profile['radius'])])"
   ]
  },
  {
   "cell_type": "code",
   "execution_count": 8,
   "metadata": {},
   "outputs": [
    {
     "name": "stderr",
     "output_type": "stream",
     "text": [
      "/pbs/home/c/cpayerne/.conda/envs/mydesc/lib/python3.7/site-packages/scipy/optimize/minpack.py:755: RuntimeWarning: divide by zero encountered in true_divide\n",
      "  transform = 1.0 / sigma\n"
     ]
    },
    {
     "ename": "ValueError",
     "evalue": "Residuals are not finite in the initial point.",
     "output_type": "error",
     "traceback": [
      "\u001b[0;31m---------------------------------------------------------------------------\u001b[0m",
      "\u001b[0;31mValueError\u001b[0m                                Traceback (most recent call last)",
      "\u001b[0;32m<ipython-input-8-0e2a8d2c240b>\u001b[0m in \u001b[0;36m<module>\u001b[0;34m\u001b[0m\n\u001b[1;32m      1\u001b[0m logm, var_logm = curve_fit(predict_reduced_tangential_shear, profile['radius'], profile['gt'], sigma = profile['gt_err'],\n\u001b[0;32m----> 2\u001b[0;31m                           bounds = [10,17])\n\u001b[0m",
      "\u001b[0;32m~/.conda/envs/mydesc/lib/python3.7/site-packages/scipy/optimize/minpack.py\u001b[0m in \u001b[0;36mcurve_fit\u001b[0;34m(f, xdata, ydata, p0, sigma, absolute_sigma, check_finite, bounds, method, jac, **kwargs)\u001b[0m\n\u001b[1;32m    794\u001b[0m \u001b[0;34m\u001b[0m\u001b[0m\n\u001b[1;32m    795\u001b[0m         res = least_squares(func, p0, jac=jac, bounds=bounds, method=method,\n\u001b[0;32m--> 796\u001b[0;31m                             **kwargs)\n\u001b[0m\u001b[1;32m    797\u001b[0m \u001b[0;34m\u001b[0m\u001b[0m\n\u001b[1;32m    798\u001b[0m         \u001b[0;32mif\u001b[0m \u001b[0;32mnot\u001b[0m \u001b[0mres\u001b[0m\u001b[0;34m.\u001b[0m\u001b[0msuccess\u001b[0m\u001b[0;34m:\u001b[0m\u001b[0;34m\u001b[0m\u001b[0;34m\u001b[0m\u001b[0m\n",
      "\u001b[0;32m~/.conda/envs/mydesc/lib/python3.7/site-packages/scipy/optimize/_lsq/least_squares.py\u001b[0m in \u001b[0;36mleast_squares\u001b[0;34m(fun, x0, jac, bounds, method, ftol, xtol, gtol, x_scale, loss, f_scale, diff_step, tr_solver, tr_options, jac_sparsity, max_nfev, verbose, args, kwargs)\u001b[0m\n\u001b[1;32m    812\u001b[0m \u001b[0;34m\u001b[0m\u001b[0m\n\u001b[1;32m    813\u001b[0m     \u001b[0;32mif\u001b[0m \u001b[0;32mnot\u001b[0m \u001b[0mnp\u001b[0m\u001b[0;34m.\u001b[0m\u001b[0mall\u001b[0m\u001b[0;34m(\u001b[0m\u001b[0mnp\u001b[0m\u001b[0;34m.\u001b[0m\u001b[0misfinite\u001b[0m\u001b[0;34m(\u001b[0m\u001b[0mf0\u001b[0m\u001b[0;34m)\u001b[0m\u001b[0;34m)\u001b[0m\u001b[0;34m:\u001b[0m\u001b[0;34m\u001b[0m\u001b[0;34m\u001b[0m\u001b[0m\n\u001b[0;32m--> 814\u001b[0;31m         \u001b[0;32mraise\u001b[0m \u001b[0mValueError\u001b[0m\u001b[0;34m(\u001b[0m\u001b[0;34m\"Residuals are not finite in the initial point.\"\u001b[0m\u001b[0;34m)\u001b[0m\u001b[0;34m\u001b[0m\u001b[0;34m\u001b[0m\u001b[0m\n\u001b[0m\u001b[1;32m    815\u001b[0m \u001b[0;34m\u001b[0m\u001b[0m\n\u001b[1;32m    816\u001b[0m     \u001b[0mn\u001b[0m \u001b[0;34m=\u001b[0m \u001b[0mx0\u001b[0m\u001b[0;34m.\u001b[0m\u001b[0msize\u001b[0m\u001b[0;34m\u001b[0m\u001b[0;34m\u001b[0m\u001b[0m\n",
      "\u001b[0;31mValueError\u001b[0m: Residuals are not finite in the initial point."
     ]
    }
   ],
   "source": [
    "logm, var_logm = curve_fit(predict_reduced_tangential_shear, profile['radius'], profile['gt'], sigma = profile['gt_err'],\n",
    "                          bounds = [10,17])"
   ]
  },
  {
   "cell_type": "code",
   "execution_count": null,
   "metadata": {},
   "outputs": [],
   "source": [
    "popt_up_diag = [logm + 3*np.sqrt(var_logm)]\n",
    "popt_low_diag = [logm - 3*np.sqrt(var_logm)]\n",
    "y_up_diag = predict_reduced_tangential_shear(profile['radius'], *popt_up_diag)\n",
    "y_down_diag = predict_reduced_tangential_shear(profile['radius'], *popt_low_diag)"
   ]
  },
  {
   "cell_type": "code",
   "execution_count": null,
   "metadata": {},
   "outputs": [],
   "source": [
    "plt.errorbar(profile['radius'], profile['gt'], profile['gt_err'], c='k', fmt = '.', label = 'data')\n",
    "plt.plot(profile['radius'], predict_reduced_tangential_shear(profile['radius'], logm), label = 'best fit')\n",
    "plt.fill_between(profile['radius'], y_up_diag, y_down_diag, color = 'b', alpha = 0.2, label = '3sigma')\n",
    "plt.xscale('log')\n",
    "plt.yscale('log')\n",
    "plt.xlim(profile['radius'][0], profile['radius'][-1])\n",
    "plt.legend()"
   ]
  },
  {
   "cell_type": "markdown",
   "metadata": {},
   "source": [
    "# Using Bootstrap Covariance Matrix"
   ]
  },
  {
   "cell_type": "code",
   "execution_count": null,
   "metadata": {},
   "outputs": [],
   "source": [
    "sys.path.append('/pbs/throng/lsst/users/cpayerne/GitForThesis/DC2Analysis')\n",
    "import statistics_ as stat"
   ]
  },
  {
   "cell_type": "code",
   "execution_count": null,
   "metadata": {},
   "outputs": [],
   "source": [
    "Stat = stat.Statistics(len(profile['radius']))\n",
    "n_repetition = 500\n",
    "p1, p2 = [], []\n",
    "for i in range(n_repetition):\n",
    "    \n",
    "    cl_bootstrap = resampling.bootstrap(cl)\n",
    "\n",
    "    \"\"\"Create profile\"\"\"\n",
    "\n",
    "    profile_ = cl_bootstrap.make_binned_profile(\"radians\", \"Mpc\", bins=bin_edges,cosmo=mock_cosmo,include_empty_bins= True,gal_ids_in_bins=True)\n",
    "\n",
    "    p1.append(profile_['gt'][6])\n",
    "    p2.append(profile_['gt'][7])\n",
    "    \n",
    "    Stat._add_realization(profile_['gt'])"
   ]
  },
  {
   "cell_type": "code",
   "execution_count": null,
   "metadata": {},
   "outputs": [],
   "source": [
    "plt.scatter(p1, p2)\n",
    "plt.axis('equal')"
   ]
  },
  {
   "cell_type": "code",
   "execution_count": null,
   "metadata": {},
   "outputs": [],
   "source": [
    "Stat.estimate_covariance()"
   ]
  },
  {
   "cell_type": "code",
   "execution_count": null,
   "metadata": {},
   "outputs": [],
   "source": [
    "cov = Stat.covariance_matrix * 1./(n_repetition - 1.)\n",
    "Stat.estimate_correlation()\n",
    "corr = Stat.correlation_matrix"
   ]
  },
  {
   "cell_type": "code",
   "execution_count": null,
   "metadata": {},
   "outputs": [],
   "source": [
    "plt.imshow(cov)\n",
    "plt.colorbar()"
   ]
  },
  {
   "cell_type": "code",
   "execution_count": null,
   "metadata": {},
   "outputs": [],
   "source": [
    "plt.plot(profile['radius'],cov.diagonal()/(profile['gt_err']**2))"
   ]
  },
  {
   "cell_type": "code",
   "execution_count": null,
   "metadata": {},
   "outputs": [],
   "source": [
    "def chi2(logm):\n",
    "    \n",
    "\n",
    "    y_predict = predict_reduced_tangential_shear(profile['radius'], logm)\n",
    "\n",
    "    delta = -(profile['gt'] - y_predict)\n",
    "\n",
    "    inv_cov = np.linalg.inv(cov)\n",
    "\n",
    "    chi2 = np.sum(delta * inv_cov.dot(delta))\n",
    "    \n",
    "    return chi2"
   ]
  },
  {
   "cell_type": "code",
   "execution_count": null,
   "metadata": {},
   "outputs": [],
   "source": [
    "m_cov = Minuit(chi2, limit_logm = (12,16),  errordef = 1)\n",
    "m_cov.migrad()\n",
    "m_cov.hesse()\n",
    "m_cov.minos()\n",
    "chi2min_dof_cov =  chi2(m_cov.values['logm'])/(len(profile['radius'])-1)"
   ]
  },
  {
   "cell_type": "code",
   "execution_count": null,
   "metadata": {},
   "outputs": [],
   "source": [
    "popt_up_cov = [m_cov.values['logm'] + 3*m_cov.merrors['logm'].upper]\n",
    "popt_low_cov = [m_cov.values['logm'] + 3*m_cov.merrors['logm'].lower]\n"
   ]
  },
  {
   "cell_type": "code",
   "execution_count": null,
   "metadata": {},
   "outputs": [],
   "source": [
    "y_up_cov = predict_reduced_tangential_shear(profile['radius'], *popt_up_cov)\n",
    "y_down_cov = predict_reduced_tangential_shear(profile['radius'], *popt_low_cov)"
   ]
  },
  {
   "cell_type": "code",
   "execution_count": null,
   "metadata": {},
   "outputs": [],
   "source": [
    "m_cov_, err_m_cov_ = 10**m_cov.values['logm'],  np.log(10) * 10**m_cov.values['logm'] * m_cov.errors['logm']\n",
    "m_diag, m_err_diag = 10**logm[0],np.log(10) * 10 ** logm * np.sqrt(var_logm)"
   ]
  },
  {
   "cell_type": "code",
   "execution_count": null,
   "metadata": {},
   "outputs": [],
   "source": [
    "plt.figure(figsize = (8,8))\n",
    "plt.errorbar(profile['radius'],profile['gt'],profile['gt_err'],fmt = '.', c = 'k',elinewidth=1, capsize=2, \n",
    "             markersize= 5, \n",
    "             lolims=False, \n",
    "             uplims=False, \n",
    "             capthick=None, \n",
    "             alpha = 1, label = 'g_t (clmm)')\n",
    "#plt.errorbar(profile['radius'],profile['gt'],np.sqrt(cov_.diagonal()),fmt = 'x')\n",
    "plt.plot(profile['radius'], predict_reduced_tangential_shear(profile['radius'], np.log10(cluster_m)), '--k', label ='input')\n",
    "plt.fill_between(profile['radius'],y_up_cov,y_down_cov , color = 'g', alpha = 0.1, label = f'Full C')\n",
    "plt.fill_between(profile['radius'],y_up_diag,y_down_diag ,color = 'b', alpha = 0.1,label = f'w/ gt_err (clmm)')\n",
    "\n",
    "#plt.plot(profile['radius'],predict_reduced_tangential_shear(profile['radius'], logm), color = 'g', label = f'Full C')\n",
    "#plt.plot(profile['radius'],predict_reduced_tangential_shear(profile['radius'], np.log10(m_cov_)) ,color = 'b',label = f'Diagonal C')\n",
    "#plt.xlim(profile['radius'][0],profile['radius'][-1])\n",
    "#plt.plot([],[],'s',c = 'w', label = f'M_fit w/ full C = {m_cov_:1e} +/- {err_m_cov_:1e}')\n",
    "#plt.plot([],[],'s',c = 'w', label = f'M_fit w/ diagonal C = {m_diag:1e} +/- {m_err_diag[0][0]:1e}')\n",
    "plt.xscale('log')\n",
    "plt.yscale('log')\n",
    "plt.legend(frameon = False, fontsize = 15, loc = 'lower left')\n",
    "plt.show()"
   ]
  },
  {
   "cell_type": "code",
   "execution_count": null,
   "metadata": {},
   "outputs": [],
   "source": []
  },
  {
   "cell_type": "code",
   "execution_count": null,
   "metadata": {},
   "outputs": [],
   "source": []
  },
  {
   "cell_type": "code",
   "execution_count": null,
   "metadata": {},
   "outputs": [],
   "source": [
    "ls"
   ]
  },
  {
   "cell_type": "code",
   "execution_count": null,
   "metadata": {},
   "outputs": [],
   "source": []
  }
 ],
 "metadata": {
  "kernelspec": {
   "display_name": "mydesc",
   "language": "python",
   "name": "mydesc"
  },
  "language_info": {
   "codemirror_mode": {
    "name": "ipython",
    "version": 3
   },
   "file_extension": ".py",
   "mimetype": "text/x-python",
   "name": "python",
   "nbconvert_exporter": "python",
   "pygments_lexer": "ipython3",
   "version": "3.7.6"
  }
 },
 "nbformat": 4,
 "nbformat_minor": 4
}
