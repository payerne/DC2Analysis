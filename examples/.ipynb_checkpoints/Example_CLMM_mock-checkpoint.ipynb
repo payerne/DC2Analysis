{
 "cells": [
  {
   "cell_type": "markdown",
   "metadata": {},
   "source": [
    "# Fit halo mass to shear profile: 2. object-oriented modeling\n",
    "\n",
    "_the LSST-DESC CLMM team_\n",
    "\n",
    "\n",
    "This notebooks performs the same set of operations as `Example2_Fit_halo_Mass_to_Shear_Catalog.ipynb`, but uses instead the object-oriented interface to build the model. Here the NumCosmo theory backend is used but you may try the `CCL` or `cluster_toolkit` backend instead. For that, change the line `os.environ['CLMM_MODELING_BACKEND'] = 'nc'` to :\n",
    " - `os.environ['CLMM_MODELING_BACKEND'] = 'ccl'` - for `CCL`\n",
    " - `os.environ['CLMM_MODELING_BACKEND'] = 'ct'` - for `cluster_toolkit`"
   ]
  },
  {
   "cell_type": "markdown",
   "metadata": {},
   "source": [
    "## Setup"
   ]
  },
  {
   "cell_type": "markdown",
   "metadata": {},
   "source": [
    "First, we import some standard packages."
   ]
  },
  {
   "cell_type": "code",
   "execution_count": 18,
   "metadata": {},
   "outputs": [
    {
     "data": {
      "text/plain": [
       "'1.0.8'"
      ]
     },
     "execution_count": 18,
     "metadata": {},
     "output_type": "execute_result"
    }
   ],
   "source": [
    "import os\n",
    "os.environ['CLMM_MODELING_BACKEND'] = 'nc' # here you may choose ccl, nc (NumCosmo) or ct (cluster_toolkit)\n",
    "import clmm\n",
    "import matplotlib.pyplot as plt\n",
    "import numpy as np\n",
    "from numpy import random\n",
    "from clmm.support.sampler import fitters\n",
    "\n",
    "clmm.__version__"
   ]
  },
  {
   "cell_type": "markdown",
   "metadata": {},
   "source": [
    "Next, we import `clmm`'s core modules."
   ]
  },
  {
   "cell_type": "code",
   "execution_count": 31,
   "metadata": {},
   "outputs": [],
   "source": [
    "import clmm.dataops as da\n",
    "import clmm.galaxycluster as gc\n",
    "import clmm.theory as theory\n",
    "from clmm import Cosmology "
   ]
  },
  {
   "cell_type": "markdown",
   "metadata": {},
   "source": [
    "We then import a support modules for a specific data sets.\n",
    "`clmm` includes support modules that enable the user to generate mock data in a format compatible with `clmm`."
   ]
  },
  {
   "cell_type": "code",
   "execution_count": 32,
   "metadata": {},
   "outputs": [],
   "source": [
    "from clmm.support import mock_data as mock"
   ]
  },
  {
   "cell_type": "markdown",
   "metadata": {},
   "source": [
    "## Making mock data"
   ]
  },
  {
   "cell_type": "markdown",
   "metadata": {},
   "source": [
    "For reproducibility:"
   ]
  },
  {
   "cell_type": "markdown",
   "metadata": {},
   "source": [
    "To create mock data, we need to define a true cosmology, which is currently done with [`astropy`'s cosmology library](http://docs.astropy.org/en/stable/cosmology/index.html)."
   ]
  },
  {
   "cell_type": "code",
   "execution_count": 33,
   "metadata": {},
   "outputs": [],
   "source": [
    "mock_cosmo = Cosmology(H0 = 70.0, Omega_dm0 = 0.27 - 0.045, Omega_b0 = 0.045, Omega_k0 = 0.0)"
   ]
  },
  {
   "cell_type": "markdown",
   "metadata": {},
   "source": [
    "We now set some parameters for a mock galaxy cluster."
   ]
  },
  {
   "cell_type": "code",
   "execution_count": 34,
   "metadata": {},
   "outputs": [],
   "source": [
    "cosmo = mock_cosmo\n",
    "cluster_m = 1.e15 # M200,m [Msun]\n",
    "cluster_z = 0.3\n",
    "concentration = 4\n",
    "ngals = 15000\n",
    "cluster_ra = 0.0\n",
    "cluster_dec = 0.0\n",
    "# First define a CLMM theory object to use with the NC or CCL backend\n",
    "moo = clmm.Modeling (massdef = 'mean', delta_mdef = 200, halo_profile_model = 'nfw')\n",
    "moo.set_cosmo(mock_cosmo)\n",
    "moo.set_concentration (4)"
   ]
  },
  {
   "cell_type": "markdown",
   "metadata": {},
   "source": [
    "Then we use the `mock_data` support module to generate 3 galaxy catalogs:\n",
    "- `ideal_data`: all background galaxies at the same redshift.\n",
    "- `ideal_data_z`: galaxies distributed according to the Chang et al. (2013) redshift distribution.\n",
    "- `noisy_data_z`: `ideal_data_z` + photoz errors + shape noise"
   ]
  },
  {
   "cell_type": "code",
   "execution_count": 43,
   "metadata": {},
   "outputs": [
    {
     "name": "stderr",
     "output_type": "stream",
     "text": [
      "/pbs/home/c/cpayerne/.conda/envs/mydesc/lib/python3.7/site-packages/numpy/ma/core.py:2832: VisibleDeprecationWarning: Creating an ndarray from ragged nested sequences (which is a list-or-tuple of lists-or-tuples-or ndarrays with different lengths or shapes) is deprecated. If you meant to do this, you must specify 'dtype=object' when creating the ndarray\n",
      "  order=order, subok=True, ndmin=ndmin)\n"
     ]
    }
   ],
   "source": [
    "noisy_data_z = mock.generate_galaxy_catalog(cluster_m, cluster_z, concentration, cosmo,'chang13', \n",
    "                                            shapenoise=0.07, \n",
    "                                            photoz_sigma_unscaled=0.05, ngals=ngals)\n",
    "\n",
    "cluster_id = \"CL_noisy_z\"\n",
    "gc_object = clmm.GalaxyCluster(cluster_id, cluster_ra, cluster_dec,\n",
    "                               cluster_z, noisy_data_z)\n",
    "\n",
    "theta2, g_t3, g_x3 = gc_object.compute_tangential_and_cross_components(geometry=\"flat\", is_deltasigma = True, cosmo = mock_cosmo)\n",
    "\n",
    "bin_edges = da.make_bins(0.7, 8, 15, method='evenlog10width')\n",
    "\n",
    "profile3 = cl3.make_radial_profile(\"Mpc\", bins=bin_edges,cosmo=cosmo)\n",
    "\n",
    "def ds_profile_model(r, logm):\n",
    "\n",
    "    moo.set_mass (10.**logm)\n",
    "    gt_model = moo.eval_excess_surface_density (r, cluster_z)\n",
    "    return gt_model\n",
    "\n",
    "popt1,pcov1 = fitters['curve_fit'](lambda r, logm:ds_profile_model(r, logm), \n",
    "                    profile3['radius'], \n",
    "                    profile3['gt'], \n",
    "                    profile3['gt_err'], bounds=[13.,17.])"
   ]
  },
  {
   "cell_type": "markdown",
   "metadata": {},
   "source": [
    "The galaxy catalogs are converted to a `clmm.GalaxyCluster` object and may be saved for later use."
   ]
  },
  {
   "cell_type": "code",
   "execution_count": 47,
   "metadata": {},
   "outputs": [],
   "source": []
  },
  {
   "cell_type": "markdown",
   "metadata": {},
   "source": [
    "Any saved `clmm.GalaxyCluster` object may be read in for analysis."
   ]
  },
  {
   "cell_type": "markdown",
   "metadata": {},
   "source": [
    "### Computing shear"
   ]
  },
  {
   "cell_type": "markdown",
   "metadata": {},
   "source": [
    "`clmm.dataops.compute_tangential_and_cross_components` calculates the tangential and cross shears for each source galaxy in the cluster."
   ]
  },
  {
   "cell_type": "code",
   "execution_count": 48,
   "metadata": {},
   "outputs": [],
   "source": [
    "theta2, g_t3, g_x3 = cl3.compute_tangential_and_cross_components(geometry=\"flat\", is_deltasigma = True, cosmo = mock_cosmo)"
   ]
  },
  {
   "cell_type": "markdown",
   "metadata": {},
   "source": [
    "### Radially binning the data"
   ]
  },
  {
   "cell_type": "code",
   "execution_count": 49,
   "metadata": {},
   "outputs": [],
   "source": [
    "bin_edges = da.make_bins(0.7, 8, 15, method='evenlog10width')"
   ]
  },
  {
   "cell_type": "markdown",
   "metadata": {},
   "source": [
    "`clmm.dataops.make_radial_profile` evaluates the average shear of the galaxy catalog in bins of radius."
   ]
  },
  {
   "cell_type": "code",
   "execution_count": 50,
   "metadata": {},
   "outputs": [
    {
     "name": "stderr",
     "output_type": "stream",
     "text": [
      "/pbs/throng/lsst/users/cpayerne/CLMM/clmm/galaxycluster.py:462: UserWarning: overwriting profile table.\n",
      "  warnings.warn(f'overwriting {table_name} table.')\n"
     ]
    }
   ],
   "source": [
    "profile3 = cl3.make_radial_profile(\"Mpc\", bins=bin_edges,cosmo=cosmo)"
   ]
  },
  {
   "cell_type": "markdown",
   "metadata": {},
   "source": [
    "After running `clmm.GalaxyCluster.make_radial_profile` object, the object acquires the `clmm.GalaxyCluster.profile` attribute."
   ]
  },
  {
   "cell_type": "markdown",
   "metadata": {},
   "source": [
    "We visualize the radially binned shear for the 3 configurations"
   ]
  },
  {
   "cell_type": "code",
   "execution_count": 51,
   "metadata": {},
   "outputs": [],
   "source": [
    "def ds_profile_model(r, logm):\n",
    "\n",
    "    moo.set_mass (10.**logm)\n",
    "    gt_model = moo.eval_excess_surface_density (r, cluster_z)\n",
    "    return gt_model"
   ]
  },
  {
   "cell_type": "code",
   "execution_count": 52,
   "metadata": {},
   "outputs": [],
   "source": [
    "popt1,pcov1 = fitters['curve_fit'](lambda r, logm:ds_profile_model(r, logm), \n",
    "                    profile3['radius'], \n",
    "                    profile3['gt'], \n",
    "                    profile3['gt_err'], bounds=[13.,17.])"
   ]
  },
  {
   "cell_type": "code",
   "execution_count": 53,
   "metadata": {},
   "outputs": [
    {
     "data": {
      "image/png": "[encoded data removed]",
      "text/plain": [
       "<Figure size 720x504 with 1 Axes>"
      ]
     },
     "metadata": {
      "needs_background": "light"
     },
     "output_type": "display_data"
    }
   ],
   "source": [
    "fig, ax = plt.subplots(figsize=(10, 7))\n",
    "plt.loglog()\n",
    "import matplotlib\n",
    "plt.errorbar(profile3['radius'], profile3['gt'], yerr=profile3['gt_err'], marker='o', fmt = ' ',  c='k',\n",
    "                   label = r'$\\widehat{\\Delta\\Sigma}$')\n",
    "r = np.linspace(.7, 8, 100)\n",
    "plt.loglog(r, ds_profile_model(r, popt1[0]), label = 'best fit', linewidth = 2)\n",
    "plt.xlabel('R [Mpc]', fontsize = 20)\n",
    "plt.ylabel(r'$\\Delta\\Sigma$ ' +'$[$' + r'${\\rm M}$' + r'$_\\odot\\;$'+ r'${\\rm Mpc}$'+r'$^{-2}$'r'$]$', fontsize = 20)\n",
    "plt.legend(fontsize = 20)\n",
    "ax.set_xticks(np.arange(6)+1)\n",
    "plt.ylim(7e12, 2e14)\n",
    "plt.xlim(.6, 9)\n",
    "ax.get_xaxis().set_major_formatter(matplotlib.ticker.ScalarFormatter())\n",
    "plt.tick_params(axis='both', which = 'major', labelsize= 20)\n",
    "plt.savefig('/pbs/throng/lsst/users/cpayerne/ThesisAtCCin2p3/Images/DS_mock.png', bbox_inches='tight', dpi=300)"
   ]
  },
  {
   "cell_type": "code",
   "execution_count": null,
   "metadata": {},
   "outputs": [],
   "source": []
  },
  {
   "cell_type": "code",
   "execution_count": null,
   "metadata": {},
   "outputs": [],
   "source": []
  },
  {
   "cell_type": "code",
   "execution_count": null,
   "metadata": {},
   "outputs": [],
   "source": []
  },
  {
   "cell_type": "code",
   "execution_count": null,
   "metadata": {},
   "outputs": [],
   "source": []
  },
  {
   "cell_type": "code",
   "execution_count": null,
   "metadata": {},
   "outputs": [],
   "source": []
  }
 ],
 "metadata": {
  "kernelspec": {
   "display_name": "mydesc",
   "language": "python",
   "name": "mydesc"
  },
  "language_info": {
   "codemirror_mode": {
    "name": "ipython",
    "version": 3
   },
   "file_extension": ".py",
   "mimetype": "text/x-python",
   "name": "python",
   "nbconvert_exporter": "python",
   "pygments_lexer": "ipython3",
   "version": "3.7.6"
  }
 },
 "nbformat": 4,
 "nbformat_minor": 4
}
