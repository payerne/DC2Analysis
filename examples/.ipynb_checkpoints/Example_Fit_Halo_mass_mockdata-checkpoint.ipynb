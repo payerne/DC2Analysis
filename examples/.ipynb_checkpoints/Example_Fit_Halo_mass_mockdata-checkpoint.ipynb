{
 "cells": [
  {
   "cell_type": "code",
   "execution_count": 1,
   "metadata": {},
   "outputs": [],
   "source": [
    "import sys\n",
    "import os\n",
    "os.environ['CLMM_MODELING_BACKEND'] = 'nc' # here you may choose ccl or nc (NumCosmo)\n",
    "sys.path.append('/pbs/throng/lsst/users/cpayerne/CLMM/examples/support')\n",
    "try: import clmm\n",
    "except:\n",
    "    import notebook_install\n",
    "    notebook_install.install_clmm_pipeline(upgrade=False)\n",
    "    import clmm\n",
    "import clmm.polaraveraging as pa\n",
    "import numpy as np\n",
    "from astropy.table import Table\n",
    "import matplotlib.pyplot as plt\n",
    "import fnmatch\n",
    "from scipy.integrate import quad\n",
    "import pickle \n",
    "\n",
    "import iminuit\n",
    "from iminuit import Minuit\n",
    "\n",
    "sys.path.append('/pbs/throng/lsst/users/cpayerne/GitForThesis/DC2Analysis')\n",
    "\n",
    "import statistics_ as stat\n",
    "import modeling as model\n",
    "#import modeling_test as model\n",
    "import utils as ut\n",
    "import perform_stacking as stack_in_bin\n",
    "import resampling\n",
    "from scipy import interpolate\n",
    "\n",
    "sys.path.append('/pbs/throng/lsst/users/cpayerne/ThesisAtCCin2p3/Analysis/cosmoDC2/Fit_Halo_Mass/Fit_Cluster_Lensing_Mass/Run_Python_Codes')\n",
    "\n",
    "import settings_analysis as settings"
   ]
  },
  {
   "cell_type": "code",
   "execution_count": 2,
   "metadata": {},
   "outputs": [],
   "source": [
    "################################################################################################\n",
    "cosmo = settings.cosmo\n",
    "\n",
    "Richness_bin, Mass_bin, Z_bin = settings.Richness_bin, [[1*1e14, 1.2*1e14]], [[0.4,0.5]]\n",
    "\n",
    "Choose_binning = 'M_fof'\n",
    "\n",
    "is_deltasigma = True\n",
    "\n",
    "################################################################################################\n",
    "Mass_def = 'mean'\n",
    "\n",
    "#signal = model.Signal(cosmo = cosmo)\n",
    "#signal._set_halo_def(mass_def = Mass_def, delta_mdef = 200, halo_profile_model = 'einasto')\n",
    "#signal._set_is_deltasigma(is_deltasigma = True)\n",
    "#signal.available_parameters()\n",
    "#signal._set_free_parameters(free_logm = True, free_concentration = True)\n",
    "##############################################################################################\n",
    "\n",
    "where_catalogs =settings.path_cosmoDC2\n",
    "\n",
    "if Choose_binning == 'M_fof': Binning_your_data = Mass_bin\n",
    "elif Choose_binning == 'richness': Binning_your_data = Richness_bin"
   ]
  },
  {
   "cell_type": "markdown",
   "metadata": {},
   "source": [
    "## Defining Stacked cluster catalog"
   ]
  },
  {
   "cell_type": "code",
   "execution_count": 3,
   "metadata": {},
   "outputs": [
    {
     "name": "stdout",
     "output_type": "stream",
     "text": [
      "n = there are 164 available catalogs\n"
     ]
    }
   ],
   "source": [
    "for obs_bin in Binning_your_data:\n",
    "    \n",
    "    for z_bin in Z_bin:\n",
    "        \n",
    "        r\"\"\"\n",
    "        Definning stacking signal\n",
    "        \"\"\"\n",
    "        \n",
    "        stack = stack_in_bin.Perform_Stacking(is_deltasigma = True, cosmo = cosmo)\n",
    "        \n",
    "        try : \n",
    "            \n",
    "            stack._check_available_catalogs(bin_def = Choose_binning, \n",
    "                                            z_bin = z_bin, \n",
    "                                            obs_bin = obs_bin, \n",
    "                                            where_source = where_catalogs, \n",
    "                                            r_lim = 5)\n",
    "        \n",
    "        except ValueError: continue\n",
    "            \n",
    "        cl = stack.make_GalaxyCluster_catalog()\n",
    "        \n",
    "        stack.add_weights(cl)\n",
    "        \n",
    "        stack._check_average_inputs()"
   ]
  },
  {
   "cell_type": "code",
   "execution_count": 4,
   "metadata": {},
   "outputs": [],
   "source": [
    "down, up, n_bins = 0.4 , 5 , 10"
   ]
  },
  {
   "cell_type": "code",
   "execution_count": 5,
   "metadata": {},
   "outputs": [
    {
     "name": "stderr",
     "output_type": "stream",
     "text": [
      "/pbs/throng/lsst/users/cpayerne/GitForThesis/DC2Analysis/perform_stacking.py:311: VisibleDeprecationWarning: Creating an ndarray from ragged nested sequences (which is a list-or-tuple of lists-or-tuples-or ndarrays with different lengths or shapes) is deprecated. If you meant to do this, you must specify 'dtype=object' when creating the ndarray\n",
      "  profile['gal_id'] = np.array(gal_id)\n",
      "/pbs/throng/lsst/users/cpayerne/GitForThesis/DC2Analysis/perform_stacking.py:313: VisibleDeprecationWarning: Creating an ndarray from ragged nested sequences (which is a list-or-tuple of lists-or-tuples-or ndarrays with different lengths or shapes) is deprecated. If you meant to do this, you must specify 'dtype=object' when creating the ndarray\n",
      "  profile['halo_id'] = np.array(halo_id)\n",
      "/pbs/throng/lsst/users/cpayerne/GitForThesis/DC2Analysis/perform_stacking.py:315: VisibleDeprecationWarning: Creating an ndarray from ragged nested sequences (which is a list-or-tuple of lists-or-tuples-or ndarrays with different lengths or shapes) is deprecated. If you meant to do this, you must specify 'dtype=object' when creating the ndarray\n",
      "  profile['r'] = np.array(r_to_center)\n",
      "/pbs/throng/lsst/users/cpayerne/GitForThesis/DC2Analysis/perform_stacking.py:317: VisibleDeprecationWarning: Creating an ndarray from ragged nested sequences (which is a list-or-tuple of lists-or-tuples-or ndarrays with different lengths or shapes) is deprecated. If you meant to do this, you must specify 'dtype=object' when creating the ndarray\n",
      "  profile['w_ls'] = np.array(wls)\n",
      "/pbs/throng/lsst/users/cpayerne/GitForThesis/DC2Analysis/perform_stacking.py:319: VisibleDeprecationWarning: Creating an ndarray from ragged nested sequences (which is a list-or-tuple of lists-or-tuples-or ndarrays with different lengths or shapes) is deprecated. If you meant to do this, you must specify 'dtype=object' when creating the ndarray\n",
      "  profile['et'] = np.array(e_tangential)\n",
      "/pbs/throng/lsst/users/cpayerne/GitForThesis/DC2Analysis/perform_stacking.py:321: VisibleDeprecationWarning: Creating an ndarray from ragged nested sequences (which is a list-or-tuple of lists-or-tuples-or ndarrays with different lengths or shapes) is deprecated. If you meant to do this, you must specify 'dtype=object' when creating the ndarray\n",
      "  profile['ex'] = np.array(e_cross)\n"
     ]
    }
   ],
   "source": [
    "bin_edges = pa.make_bins( down , up , n_bins , method = 'evenlog10width')\n",
    "profile = stack.make_binned_profile(cl = cl, bin_edges = bin_edges)"
   ]
  },
  {
   "cell_type": "markdown",
   "metadata": {},
   "source": [
    "# Estimating individual profile"
   ]
  },
  {
   "cell_type": "code",
   "execution_count": 6,
   "metadata": {},
   "outputs": [],
   "source": [
    "p_individual_t = []\n",
    "p_individual_x = []\n",
    "for i in range(cl.n_stacked_catalogs):\n",
    "    cl_individual = stack.list_cl[i]\n",
    "    stack.add_weights(cl_individual)\n",
    "    profile_ = stack.make_binned_profile(cl = cl_individual, bin_edges = bin_edges)\n",
    "    p_individual_t.append([profile_['radius'],profile_['gt']])\n",
    "    p_individual_x.append([profile_['radius'],profile_['gx']])"
   ]
  },
  {
   "cell_type": "code",
   "execution_count": 7,
   "metadata": {},
   "outputs": [],
   "source": [
    "cov_t_sample, cov_x_sample = stack.sample_covariance(bin_edges = bin_edges)"
   ]
  },
  {
   "cell_type": "code",
   "execution_count": 8,
   "metadata": {},
   "outputs": [
    {
     "name": "stderr",
     "output_type": "stream",
     "text": [
      "No handles with labels found to put in legend.\n"
     ]
    },
    {
     "data": {
      "image/png": "[encoded data removed]",
      "text/plain": [
       "<Figure size 432x288 with 1 Axes>"
      ]
     },
     "metadata": {
      "needs_background": "light"
     },
     "output_type": "display_data"
    }
   ],
   "source": [
    "plt.plot(profile['radius'],profile['gt']/np.sqrt(cov_t_sample.diagonal()), 'k')\n",
    "plt.xlim(profile['radius'][0], profile['radius'][-1])\n",
    "plt.xscale('log')\n",
    "plt.ylabel(r'$S/N$')\n",
    "plt.xlabel('R [Mpc]')\n",
    "plt.legend(frameon = False)\n",
    "os.chdir('/pbs/throng/lsst/users/cpayerne/ThesisAtCCin2p3')\n",
    "plt.savefig('sample_cov.png', bbox_inches='tight', dpi=300)"
   ]
  },
  {
   "cell_type": "markdown",
   "metadata": {},
   "source": [
    "# Estimating Bootstrap covariance matrix"
   ]
  },
  {
   "cell_type": "code",
   "execution_count": null,
   "metadata": {},
   "outputs": [],
   "source": [
    "cov_t_bootstrap, cov_x_bootstrap = stack.bootstrap_resampling(binned_profile = profile, catalog = cl, n_boot = 200)"
   ]
  },
  {
   "cell_type": "code",
   "execution_count": null,
   "metadata": {
    "jupyter": {
     "source_hidden": true
    }
   },
   "outputs": [],
   "source": [
    "#for n_jk in [10,20,30,40,50,60]:\n",
    "    \n",
    "#    cov_t_jack, cov_x_jack = jacknife_resampling(profile, n_jk)\n",
    "\n",
    "#    plt.plot(profile['radius'],profile['gt']/np.sqrt(cov_t_jack.diagonal()), label = f'n_jk = {n_jk}')\n",
    "    \n",
    "#plt.plot(profile['radius'],profile['gt']/np.sqrt(cov_t_bootstrap.diagonal()), '--k', label = 'bootstrap')\n",
    "#plt.plot(profile['radius'],profile['gt']/np.sqrt(cov_t_sample.diagonal()), '-*', label = 'sample covariance')\n",
    "#plt.xscale('log')\n",
    "#plt.xlim(profile['radius'][0], profile['radius'][-1])\n",
    "#plt.ylabel(r'$\\sqrt{Cov(R_i, R_i)}$')\n",
    "#plt.ylabel(r'$S/N$')\n",
    "#plt.xlabel('R [Mpc]')\n",
    "#plt.legend(frameon = False)\n",
    "#os.chdir('/pbs/throng/lsst/users/cpayerne/ThesisAtCCin2p3')\n",
    "#plt.savefig('jk_boot_err.png', bbox_inches='tight', dpi=300)"
   ]
  },
  {
   "cell_type": "code",
   "execution_count": null,
   "metadata": {},
   "outputs": [],
   "source": [
    "cov_t = cov_t_bootstrap\n",
    "cov_x = cov_x_bootstrap"
   ]
  },
  {
   "cell_type": "code",
   "execution_count": null,
   "metadata": {},
   "outputs": [],
   "source": [
    "profile['gt_err'] = np.sqrt(cov_t.diagonal())\n",
    "profile['gx_err'] = np.sqrt(cov_x.diagonal())"
   ]
  },
  {
   "cell_type": "markdown",
   "metadata": {},
   "source": [
    "# DEFINNING MODEL"
   ]
  },
  {
   "cell_type": "code",
   "execution_count": null,
   "metadata": {},
   "outputs": [],
   "source": [
    "cluster_z = stack.z\n",
    "moo = clmm.Modeling(massdef = 'mean', delta_mdef = 200, halo_profile_model = 'einasto')\n",
    "moo.set_cosmo(cosmo)\n"
   ]
  },
  {
   "cell_type": "code",
   "execution_count": null,
   "metadata": {
    "jupyter": {
     "source_hidden": true
    }
   },
   "outputs": [],
   "source": [
    "#def predict_excess_surface_density(r, logm):\n",
    "    \n",
    "#    c = model.Duffy_concentration(10.**logm, cluster_z, 'mean')\n",
    "\n",
    "#    m = 10.**logm \n",
    "    \n",
    "#    moo.set_mass(m) \n",
    "    \n",
    "#    moo.set_concentration(c)\n",
    "    \n",
    "#    deltasigma = []\n",
    "    \n",
    "#    for i, R in enumerate(r):\n",
    "        \n",
    "#        surface_density = moo.eval_sigma_excess(R, cluster_z)\n",
    "    \n",
    "#        deltasigma.append(surface_density)\n",
    "        \n",
    "#    return deltasigma\n"
   ]
  },
  {
   "cell_type": "code",
   "execution_count": null,
   "metadata": {},
   "outputs": [],
   "source": [
    "r_lim = max(0.9*stack.z + 0.50, down)\n",
    "\n",
    "index = np.arange(len(profile['radius']))\n",
    "\n",
    "mask = profile['radius'] > r_lim\n",
    "\n",
    "index_mask = index[mask]\n",
    "\n",
    "#r_lim = max(1.15 * stack.z + 0.50, down)\n",
    "\n",
    "R = profile['radius'][mask]\n",
    "\n",
    "y_exp = profile['gt'][mask]\n",
    "\n",
    "n = len(mask[mask == True])"
   ]
  },
  {
   "cell_type": "code",
   "execution_count": null,
   "metadata": {},
   "outputs": [],
   "source": [
    "cov_fit = np.zeros((n,n))\n",
    "for i in range(n):\n",
    "    index_1 = index_mask[i]\n",
    "    for j in range(n):\n",
    "        index_2 = index_mask[j]\n",
    "        cov_fit[i,j] = cov_t[index_1, index_2]"
   ]
  },
  {
   "cell_type": "code",
   "execution_count": null,
   "metadata": {
    "jupyter": {
     "source_hidden": true
    }
   },
   "outputs": [],
   "source": []
  },
  {
   "cell_type": "code",
   "execution_count": null,
   "metadata": {
    "jupyter": {
     "source_hidden": true
    }
   },
   "outputs": [],
   "source": [
    "\n",
    "#plt.plot(R,np.sqrt(cov_fit.diagonal()),'k')\n",
    "#plt.plot(profile['radius'],np.sqrt(cov_t_bootstrap.diagonal()),'--g')"
   ]
  },
  {
   "cell_type": "code",
   "execution_count": null,
   "metadata": {},
   "outputs": [],
   "source": [
    "bins = np.array([[bin_edges[i], bin_edges[i + 1]] for i in range(len(bin_edges) - 1)])\n",
    "mask = profile['radius'] > r_lim\n",
    "bins = bins[mask]"
   ]
  },
  {
   "cell_type": "code",
   "execution_count": null,
   "metadata": {},
   "outputs": [],
   "source": [
    "def predict_excess_surface_density(r, logm, c):\n",
    "    \n",
    "   # c = model.Duffy_concentration(10.**logm, cluster_z, 'mean')\n",
    "\n",
    "    m = 10.**logm \n",
    "    \n",
    "    moo.set_mass(m) \n",
    "    \n",
    "    moo.set_concentration(c)\n",
    "    \n",
    "    deltasigma = []\n",
    "    \n",
    "    r\"\"\"\n",
    "    \n",
    "    def f(R) : return moo.eval_sigma_excess(R, cluster_z) * R * 2 * np.pi\n",
    "    \n",
    "    for i, R in enumerate(r):\n",
    "        \n",
    "        S = np.pi * bins[i][1]**2 - np.pi * bins[i][0]**2\n",
    "        \n",
    "        surface_density = quad(f,bins[i][0], bins[i][1])[0] / S\n",
    "    \n",
    "        deltasigma.append(surface_density)\n",
    "        \n",
    "    \"\"\"\n",
    "    for i, R in enumerate(r):\n",
    "    \n",
    "        deltasigma.append(moo.eval_sigma_excess(R, cluster_z))\n",
    "        \n",
    "    return np.array(deltasigma)"
   ]
  },
  {
   "cell_type": "code",
   "execution_count": null,
   "metadata": {},
   "outputs": [],
   "source": [
    "def chi2(logm,c):\n",
    "    \n",
    "    chi2 = 0\n",
    "    \n",
    "    inv_cov = np.linalg.inv(cov_fit)\n",
    "    \n",
    "    y_predict = predict_excess_surface_density(R, logm,c)\n",
    "    \n",
    "    for i, r in enumerate(R):\n",
    "        \n",
    "        for j, rprime, in enumerate(R):\n",
    "            \n",
    "            chi2 += (y_predict[i] - y_exp[i])*inv_cov[i,j]*(y_predict[j] - y_exp[j])\n",
    "\n",
    "    return chi2"
   ]
  },
  {
   "cell_type": "code",
   "execution_count": null,
   "metadata": {},
   "outputs": [],
   "source": [
    "#m = Minuit.from_array_func(chi2, (13,1,0.1), errordef = 0.5)\n",
    "\n",
    "m = Minuit(chi2, logm = 13,c = 4, limit_logm = (11,16),limit_c = (0,20), errordef = 1)\n",
    "\n",
    "m.migrad()\n",
    "\n",
    "m.hesse()\n",
    "\n",
    "m.minos()\n",
    "\n",
    "chi2min_dof =  m.fval/(n_bins-1)\n",
    "\n",
    "print(m.params)\n"
   ]
  },
  {
   "cell_type": "code",
   "execution_count": null,
   "metadata": {},
   "outputs": [],
   "source": [
    "m.fval/(len(y_exp)-1)\n"
   ]
  },
  {
   "cell_type": "code",
   "execution_count": null,
   "metadata": {},
   "outputs": [],
   "source": [
    "model.Duffy_concentration(10**m.values['logm'], cluster_z, 'mean')"
   ]
  },
  {
   "cell_type": "code",
   "execution_count": null,
   "metadata": {},
   "outputs": [],
   "source": [
    "mass = 10**m.values['logm']"
   ]
  },
  {
   "cell_type": "code",
   "execution_count": null,
   "metadata": {},
   "outputs": [],
   "source": [
    "err_mass = np.log(10)*mass*(m.errors['logm'])"
   ]
  },
  {
   "cell_type": "code",
   "execution_count": null,
   "metadata": {},
   "outputs": [],
   "source": [
    "print(f'{mass:.2e} pm {err_mass:.2e}')"
   ]
  },
  {
   "cell_type": "code",
   "execution_count": null,
   "metadata": {},
   "outputs": [],
   "source": [
    "def myyticks(x,pos):\n",
    "    if x == 0: return \"$0$\"\n",
    "\n",
    "    sign = x/abs(x)\n",
    "    coeff = (x)/10**13\n",
    "\n",
    "    return r\"${:2.1f}$\".format(coeff)\n",
    "\n",
    "def myxticks(x,pos):\n",
    "    if x == 0: return \"$0$\"\n",
    "\n",
    "    exponent = int(np.log10(abs(x)))\n",
    "    sign = x/abs(x)\n",
    "    coeff = (x/(10**exponent))\n",
    "\n",
    "    \n",
    "    return r\"${:.1f}$\".format(x)"
   ]
  },
  {
   "cell_type": "code",
   "execution_count": null,
   "metadata": {},
   "outputs": [],
   "source": [
    "r = profile['radius']\n",
    "R = r[r > r_lim]"
   ]
  },
  {
   "cell_type": "code",
   "execution_count": null,
   "metadata": {},
   "outputs": [],
   "source": [
    "rr = np.linspace(0.1,10,100)\n",
    "gt, gt_err = profile['gt'], profile['gt_err']\n",
    "gx, gx_err = profile['gx'], profile['gx_err']\n",
    "#y_up = predict_excess_surface_density(R, m.values['logm'] + 3*m.merrors['logm'].upper, m.values['c'] + 3*m.merrors['c'].upper)\n",
    "#y_down = predict_excess_surface_density(R, m.values['logm'] + 3*m.merrors['logm'].lower,  m.values['c'] + 3*m.merrors['c'].lower)\n",
    "y = predict_excess_surface_density(R, m.values['logm'], m.values['c'])"
   ]
  },
  {
   "cell_type": "code",
   "execution_count": null,
   "metadata": {},
   "outputs": [],
   "source": [
    "y_up = []\n",
    "y_down = []\n",
    "\n",
    "for i, r_ in enumerate(R):\n",
    "    \n",
    "    def shear(p): \n",
    "        \n",
    "        return predict_excess_surface_density([r_], p[0], p[1])[0]\n",
    "    \n",
    "    def shear_(p): return -shear(p)\n",
    "    \n",
    "    bounds = [(m.values['logm'] - 1*m.errors['logm'],m.values['logm'] + 1*m.errors['logm']),\n",
    "              (m.values['c'] - 1*m.errors['c'],m.values['c'] + 1*m.errors['c'])]\n",
    "\n",
    "    from scipy.optimize import fmin_tnc\n",
    "\n",
    "    logm_min, c_min = fmin_tnc(shear, np.array([m.values['logm'],m.values['c']]), approx_grad = True, bounds = bounds)[0]\n",
    "    logm_max, c_max = fmin_tnc(shear_, np.array([m.values['logm'],m.values['c']]), approx_grad = True, bounds = bounds)[0]\n",
    "    \n",
    "    y_up.append(shear([logm_max, c_max]))\n",
    "    y_down.append(shear([logm_min, c_min]))\n",
    "    \n",
    "    "
   ]
  },
  {
   "cell_type": "code",
   "execution_count": null,
   "metadata": {},
   "outputs": [],
   "source": [
    "plt.plot(R,y_up,R, y_down)"
   ]
  },
  {
   "cell_type": "code",
   "execution_count": null,
   "metadata": {},
   "outputs": [],
   "source": [
    "y_up = np.array(y_up)\n",
    "y_down = np.array(y_down)"
   ]
  },
  {
   "cell_type": "code",
   "execution_count": null,
   "metadata": {},
   "outputs": [],
   "source": [
    "from matplotlib import gridspec\n",
    "import matplotlib.ticker as ticker\n",
    "plt.style.use('classic')\n",
    "\n",
    "ylabelup = r'$\\Delta\\Sigma_+$ ' +'$[$' + r'$\\times 10^{13}$ ' + r'${\\rm M}$' + r'$_\\odot\\;$'+ r'${\\rm Mpc}$'+r'$^{-2}$'r'$]$'\n",
    "ylabeldown = r'$\\Delta\\Sigma_\\times$ ' +'$[$' + r'$\\times 10^{13}$ ' + r'${\\rm M}$' + r'$_\\odot\\;$'+ r'${\\rm Mpc}$'+r'$^{-2}$'r'$]$'\n",
    "xlabel = r'$R\\ [$' + r'${\\rm Mpc}$' + r'$]$'\n",
    "\n",
    "# Simple data to display in various forms\n",
    "\n",
    "fig = plt.figure(figsize = (6,7))\n",
    "gs = gridspec.GridSpec(2, 1, height_ratios=[3, 1]) \n",
    "ax0 = plt.subplot(gs[0])\n",
    "ax0.tick_params(axis='both', which='major', labelsize=16)\n",
    "ax0.set_ylabel(ylabelup, fontsize=16)\n",
    "#ax0.set_ylabel('r'$\\rm{stacked}\\ \\Delta\\Sigma_\\times$)\n",
    "\n",
    "# log scale for axis Y of the first subplot\n",
    "ax0.set_yscale(\"log\")\n",
    "ax0.set_xscale(\"log\")\n",
    "#ax0.set_xlim(down, up)\n",
    "ax0.set_ylim(3*10**12, 1*10**14)\n",
    "\n",
    "ax0.fill_between(R, y_up , y_down ,color = 'r', alpha = 1, label=r'$\\rm{3-\\sigma\\ best\\ fit\\ NFW}$')\n",
    "ax0.plot(R,y ,'-k', alpha = 1, label=r'$\\rm{best\\ fit\\ NFW}$')\n",
    "line0 = ax0.errorbar(profile['radius'], gt,gt_err,fmt='-x',capsize = 7 ,ecolor = 'g',elinewidth=1.2, c='g',\n",
    "                     markeredgecolor='g',markerfacecolor='None',markeredgewidth=2,label=r'$\\widehat{\\Delta\\Sigma}_+$')\n",
    "\n",
    "#ax0.plot([],[], c='grey', alpha = 0.1,label=r'$\\rm{individual}$')\n",
    "\"\"\"\n",
    "for p_ in p_individual_t:\n",
    "    \n",
    "    ax0.plot(p_[0],p_[1],'-',c='grey',alpha=0.1,zorder = 0)\n",
    "\"\"\"\n",
    "ax0.yaxis.set_major_formatter(ticker.FuncFormatter(myyticks))\n",
    "ax0.legend(loc='best', frameon = False,\n",
    "          numpoints = 1, fontsize = 15)\n",
    "\n",
    "##############################\n",
    "ax1 = plt.subplot(gs[1], sharex = ax0)\n",
    "ax1.tick_params(axis='both', which='major', labelsize=16)\n",
    "ax1.set_xlabel(xlabel, fontsize=16)\n",
    "ax1.set_ylabel(ylabeldown, fontsize=16)\n",
    "\n",
    "line1 = ax1.errorbar(profile['radius'], gx,gx_err, label=r'$\\widehat{\\Delta\\Sigma}_\\times$'\\\n",
    "                    ,fmt='x',capsize = 7 ,ecolor = 'b',elinewidth=1.2, c='b',\\\n",
    "                 markeredgecolor='b',markerfacecolor='None',markeredgewidth=1, markersize = 8)\n",
    "\n",
    "\n",
    "ax1.plot(rr, 0*rr, '--k')\n",
    "ax1.legend(loc='best', frameon = False,\n",
    "          numpoints = 1, fontsize = 15)\n",
    "\"\"\"\n",
    "for p_ in p_individual_x:\n",
    "    \n",
    "    ax1.plot(p_[0],p_[1],'-',c='grey',alpha=0.1,zorder = 0)\n",
    "\"\"\"  \n",
    "\n",
    "plt.setp(ax0.get_xticklabels(), visible=False)\n",
    "# remove last tick label for the second subplot\n",
    "\n",
    "yticks = ax1.yaxis.get_major_ticks()\n",
    "ax1.set_xticks([0.2,0.3,0.4,0.5,1,2,3,4,5])\n",
    "yticks[-1].label1.set_visible(False)\n",
    "ax1.yaxis.set_major_formatter(ticker.FuncFormatter(myyticks))\n",
    "ax1.xaxis.set_major_formatter(ticker.FuncFormatter(myxticks))\n",
    "ax1.set_xlim(down, up)\n",
    "ax1.set_ylim(-1*10**13, 1*10**13)\n",
    "# remove vertical gap between subplots\n",
    "plt.subplots_adjust(hspace=.0)\n",
    "\n",
    "\n",
    "os.chdir('/pbs/throng/lsst/users/cpayerne/ThesisAtCCin2p3')\n",
    "plt.savefig('DeltaSigma_Stacking.png', bbox_inches='tight', dpi=300)\n",
    "\n",
    "plt.show()"
   ]
  },
  {
   "cell_type": "code",
   "execution_count": null,
   "metadata": {},
   "outputs": [],
   "source": [
    "plt.plot(R,y-y_exp)\n",
    "plt.xscale('log')"
   ]
  },
  {
   "cell_type": "code",
   "execution_count": null,
   "metadata": {},
   "outputs": [],
   "source": []
  },
  {
   "cell_type": "code",
   "execution_count": null,
   "metadata": {},
   "outputs": [],
   "source": []
  },
  {
   "cell_type": "code",
   "execution_count": null,
   "metadata": {},
   "outputs": [],
   "source": []
  },
  {
   "cell_type": "code",
   "execution_count": null,
   "metadata": {},
   "outputs": [],
   "source": []
  }
 ],
 "metadata": {
  "kernelspec": {
   "display_name": "mydesc",
   "language": "python",
   "name": "mydesc"
  },
  "language_info": {
   "codemirror_mode": {
    "name": "ipython",
    "version": 3
   },
   "file_extension": ".py",
   "mimetype": "text/x-python",
   "name": "python",
   "nbconvert_exporter": "python",
   "pygments_lexer": "ipython3",
   "version": "3.7.6"
  }
 },
 "nbformat": 4,
 "nbformat_minor": 4
}
