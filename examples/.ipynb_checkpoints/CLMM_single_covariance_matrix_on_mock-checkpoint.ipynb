{
 "cells": [
  {
   "cell_type": "markdown",
   "id": "b1cb08f6-99c1-411b-809a-81372e0d2547",
   "metadata": {},
   "source": [
    "# Covariance matrix for binned excess surface density"
   ]
  },
  {
   "cell_type": "code",
   "execution_count": 24,
   "id": "97c1c00a-a525-4f2e-b829-6d649fbd516a",
   "metadata": {},
   "outputs": [],
   "source": [
    "import matplotlib.pyplot as plt\n",
    "import sys\n",
    "import numpy as np\n",
    "from astropy.table import Table, QTable, hstack, vstack, join\n",
    "import clmm\n",
    "import clmm.dataops as da\n",
    "from clmm.support import mock_data as mock\n",
    "from clmm import Cosmology\n",
    "cosmo = Cosmology(H0 = 71.0, Omega_dm0 = 0.265 - 0.0448, Omega_b0 = 0.0448, Omega_k0 = 0.0)"
   ]
  },
  {
   "cell_type": "markdown",
   "id": "d2bd2aae-9fbc-4bfb-9fa2-da74b6876144",
   "metadata": {},
   "source": [
    "## Excess surface density profile\n",
    "### Background galaxy catalog"
   ]
  },
  {
   "cell_type": "code",
   "execution_count": 25,
   "id": "4826cb7b-fb7d-414c-9e0b-06763e74d026",
   "metadata": {},
   "outputs": [],
   "source": [
    "cosmo = cosmo\n",
    "cluster_id = \"Awesome_cluster\"\n",
    "cluster_m = 1.e15 # M200,m [Msun]\n",
    "cluster_z = 0.3\n",
    "src_z = 0.8\n",
    "concentration = 4\n",
    "ngals = 10000\n",
    "cluster_ra = 20.0\n",
    "cluster_dec = 30.0"
   ]
  },
  {
   "cell_type": "code",
   "execution_count": 26,
   "id": "ce32a7e8-9698-4114-9f54-7d40932f924b",
   "metadata": {},
   "outputs": [],
   "source": [
    "ideal_data = mock.generate_galaxy_catalog(cluster_m, cluster_z, concentration, \n",
    "                                          cosmo, src_z, ngals=ngals, cluster_ra=cluster_ra, cluster_dec=cluster_dec,\n",
    "                                          shapenoise=.3,)"
   ]
  },
  {
   "cell_type": "code",
   "execution_count": 27,
   "id": "920ccb04-3f38-482b-81bf-078e58f3af2a",
   "metadata": {},
   "outputs": [],
   "source": [
    "gc_object = clmm.GalaxyCluster(cluster_id, cluster_ra, cluster_dec,\n",
    "                               cluster_z, ideal_data)"
   ]
  },
  {
   "cell_type": "code",
   "execution_count": 28,
   "id": "5c070376-1ada-4573-a7b2-b2def5d78bec",
   "metadata": {},
   "outputs": [],
   "source": [
    "ra_l = gc_object.ra\n",
    "dec_l = gc_object.dec\n",
    "z = gc_object.z\n",
    "e1 = gc_object.galcat['e1']\n",
    "e2 = gc_object.galcat['e2']\n",
    "ra_s = gc_object.galcat['ra']\n",
    "dec_s = gc_object.galcat['dec']\n",
    "z_s = gc_object.galcat['z']"
   ]
  },
  {
   "cell_type": "code",
   "execution_count": 29,
   "id": "79eed991-2beb-47ec-8263-dc8e3c5aa899",
   "metadata": {},
   "outputs": [],
   "source": [
    "theta, g_t, g_x = da.compute_tangential_and_cross_components(ra_l, dec_l, ra_s, dec_s, e1, e2, 'flat', True, cosmo,z, z_s)"
   ]
  },
  {
   "cell_type": "code",
   "execution_count": 30,
   "id": "1b55adf0-7361-49b2-9353-83a33c946657",
   "metadata": {},
   "outputs": [],
   "source": [
    "theta, phi = da._compute_lensing_angles_flatsky(ra_l, dec_l, ra_s, dec_s)"
   ]
  },
  {
   "cell_type": "markdown",
   "id": "0c4aba11-cce2-40ca-b150-4904cd254b6a",
   "metadata": {},
   "source": [
    "### Binned excess surface density profile"
   ]
  },
  {
   "cell_type": "code",
   "execution_count": 31,
   "id": "771cefca-98f1-4f55-86a3-e3c423cdb635",
   "metadata": {},
   "outputs": [
    {
     "name": "stderr",
     "output_type": "stream",
     "text": [
      "/pbs/home/c/cpayerne/.conda/envs/mydesc/lib/python3.7/site-packages/clmm-1.1.2-py3.7.egg/clmm/utils.py:68: RuntimeWarning: invalid value encountered in sqrt\n"
     ]
    }
   ],
   "source": [
    "bin_edges = da.make_bins(0.01, 3.7, 10)\n",
    "prf = da.make_radial_profile(\n",
    "    [g_t, g_x, z_s], theta, \"radians\", \"Mpc\", bins=bin_edges, cosmo=cosmo, z_lens=z, include_empty_bins=False)"
   ]
  },
  {
   "cell_type": "markdown",
   "id": "d0eebbcc-71a6-4646-a354-dac19721376e",
   "metadata": {},
   "source": [
    "## Covariance"
   ]
  },
  {
   "cell_type": "markdown",
   "id": "5b7dee9d-0271-40ac-94c0-0c6bdf734dfb",
   "metadata": {},
   "source": [
    "### Jackknife resampling\n",
    "We use the jackknife resampling:\n",
    "- we divide in $N_{JK}$ equal sized areas arround the cluster center (based on regular polar angle separation)\n",
    "- we remove one Jackknife region at a time, and estimate the new shear profile\n",
    "- After doing it for the $N_{JK}$ regions, we compute \n",
    "$$\n",
    "C_{ij} = \\frac{N_{JK}-1}{N_{JK}}\\sum_{k=1}^{N_{JK}}(\\Delta\\Sigma_k(R_i)-\\widehat{\\Delta\\Sigma(R_i)})(\\Delta\\Sigma_k(R_j)-\\widehat{\\Delta\\Sigma(R_j)})\n",
    "$$\n",
    "where \n",
    "$$\n",
    "\\widehat{\\Delta\\Sigma(R_i)} = \\frac{1}{N_{JK}}\\sum_{k=1}^{N_{JK}}\\Delta\\Sigma_k(R_i)\n",
    "$$\n"
   ]
  },
  {
   "cell_type": "code",
   "execution_count": 32,
   "id": "f70d1046-c139-4a49-baf2-c8a2ea2a549e",
   "metadata": {},
   "outputs": [],
   "source": [
    "def jackknife_covariance(g, theta, phi, bin_edges, n_jk = 1):\n",
    "    r\"\"\"\n",
    "    compute the jackknife covariance matrix for individual cluster\n",
    "    g: array\n",
    "        tangential /cross ellipticities (or sigma_c * et/x for excess surface density)\n",
    "    theta: array\n",
    "        galaxy angular separation from cluster center\n",
    "    phi: array\n",
    "        galaxy polar angles\n",
    "    bin_edges: array\n",
    "        bin edges for radial profile\n",
    "    n_jk: int\n",
    "        number of jackknife region\n",
    "    \"\"\"\n",
    "    phi_corner = np.linspace(-np.pi, np.pi, n_jk + 1)\n",
    "    phi_bin = [[phi_corner[i], phi_corner[i+1]] for i in range(len(phi_corner)-1)]\n",
    "    g_jackk=np.zeros([n_jk, len(bin_edges)-1])\n",
    "    for i,phi_ in enumerate(phi_bin):\n",
    "        mask_phi = np.invert((phi_[0]<phi)*(phi_[1]>=phi))\n",
    "        prf_jackk=da.make_radial_profile([g[mask_phi]], \n",
    "                                     theta[mask_phi], \"radians\", \"Mpc\", \n",
    "                                     bins=bin_edges, cosmo=cosmo, \n",
    "                                     z_lens=z, include_empty_bins=True)\n",
    "        g_jackk[i,:]=np.array(prf_jackk['p_0'])\n",
    "    coeff = (n_jk-1)/n_jk\n",
    "    cov = coeff*(n_jk-1)*np.cov(g_jackk.T, bias=False)\n",
    "    return cov"
   ]
  },
  {
   "cell_type": "code",
   "execution_count": 33,
   "id": "fb93c851-ae05-4fbd-9c56-2dd13f83bb3d",
   "metadata": {},
   "outputs": [],
   "source": [
    "covt=jackknife_covariance(g_t, theta, phi, bin_edges, n_jk = 200)"
   ]
  },
  {
   "cell_type": "markdown",
   "id": "b6242111-f6dc-49fd-9620-69b4a8ebe69b",
   "metadata": {},
   "source": [
    "### plot covariance"
   ]
  },
  {
   "cell_type": "code",
   "execution_count": 34,
   "id": "f140d9e2-2c77-4294-a65b-788ed3eda4d8",
   "metadata": {},
   "outputs": [
    {
     "data": {
      "text/plain": [
       "<matplotlib.colorbar.Colorbar at 0x7f270dfdd290>"
      ]
     },
     "execution_count": 34,
     "metadata": {},
     "output_type": "execute_result"
    },
    {
     "data": {
      "image/png": "[encoded data removed]",
      "text/plain": [
       "<Figure size 432x288 with 2 Axes>"
      ]
     },
     "metadata": {
      "needs_background": "light"
     },
     "output_type": "display_data"
    }
   ],
   "source": [
    "plt.imshow(covt, cmap='bwr')\n",
    "plt.colorbar()"
   ]
  },
  {
   "cell_type": "code",
   "execution_count": 35,
   "id": "09fe19b8-1a71-47e0-9413-81bb68144ae6",
   "metadata": {},
   "outputs": [
    {
     "data": {
      "image/png": "[encoded data removed]",
      "text/plain": [
       "<Figure size 432x288 with 1 Axes>"
      ]
     },
     "metadata": {
      "needs_background": "light"
     },
     "output_type": "display_data"
    }
   ],
   "source": [
    "plt.loglog(prf['radius'],prf['p_0'], label=r'$\\Delta\\Sigma$')\n",
    "plt.loglog(prf['radius'],covt.diagonal()**.5, label=r'$\\sigma(\\Delta\\Sigma)$')\n",
    "plt.ylabel(r'$M_\\odot\\times Mpc^{-2}$')\n",
    "plt.xlabel(r'$R\\ [Mpc]$')\n",
    "plt.legend()\n",
    "plt.show()"
   ]
  },
  {
   "cell_type": "markdown",
   "id": "6e312d1e-a9c1-4fda-b241-066ebb473271",
   "metadata": {},
   "source": [
    "### plot correlation"
   ]
  },
  {
   "cell_type": "code",
   "execution_count": 36,
   "id": "cbd79c64-3ed2-4822-a8d5-a9fe4df56f22",
   "metadata": {},
   "outputs": [
    {
     "data": {
      "text/plain": [
       "<matplotlib.colorbar.Colorbar at 0x7f270d7d1650>"
      ]
     },
     "execution_count": 36,
     "metadata": {},
     "output_type": "execute_result"
    },
    {
     "data": {
      "image/png": "[encoded data removed]",
      "text/plain": [
       "<Figure size 432x288 with 2 Axes>"
      ]
     },
     "metadata": {
      "needs_background": "light"
     },
     "output_type": "display_data"
    }
   ],
   "source": [
    "plt.imshow(np.corrcoef(covt), cmap='bwr', vmin=-1, vmax=1)\n",
    "plt.colorbar()"
   ]
  },
  {
   "cell_type": "code",
   "execution_count": null,
   "id": "a13617bf-ba0a-41c6-898e-9436951c7736",
   "metadata": {},
   "outputs": [],
   "source": []
  },
  {
   "cell_type": "code",
   "execution_count": null,
   "id": "0d894451-9ee9-472f-8e59-7cdfd720aa7a",
   "metadata": {},
   "outputs": [],
   "source": []
  }
 ],
 "metadata": {
  "kernelspec": {
   "display_name": "mydesc",
   "language": "python",
   "name": "mydesc"
  },
  "language_info": {
   "codemirror_mode": {
    "name": "ipython",
    "version": 3
   },
   "file_extension": ".py",
   "mimetype": "text/x-python",
   "name": "python",
   "nbconvert_exporter": "python",
   "pygments_lexer": "ipython3",
   "version": "3.7.6"
  }
 },
 "nbformat": 4,
 "nbformat_minor": 5
}
