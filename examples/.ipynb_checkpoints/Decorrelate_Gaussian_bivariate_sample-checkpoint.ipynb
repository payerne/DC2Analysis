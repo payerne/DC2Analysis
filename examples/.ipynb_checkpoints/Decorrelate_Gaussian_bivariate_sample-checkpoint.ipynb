{
 "cells": [
  {
   "cell_type": "code",
   "execution_count": 323,
   "id": "dbf09028-2d12-4a25-9665-5070cec2ab2c",
   "metadata": {},
   "outputs": [],
   "source": [
    "import numpy as np\n",
    "from scipy.optimize import fsolve\n",
    "from scipy.linalg import eigh"
   ]
  },
  {
   "cell_type": "code",
   "execution_count": 324,
   "id": "7f90d33a-4ccb-4647-889b-068c7e2d6c0a",
   "metadata": {},
   "outputs": [],
   "source": [
    "cov = np.array([[3,3],[3,5]])\n",
    "cov_inv = np.linalg.inv(cov)"
   ]
  },
  {
   "cell_type": "code",
   "execution_count": 325,
   "id": "3d33bf8e-3e1f-431a-8b35-9ab65abb6236",
   "metadata": {},
   "outputs": [
    {
     "data": {
      "text/plain": [
       "array([0.83772234, 7.16227766])"
      ]
     },
     "execution_count": 325,
     "metadata": {},
     "output_type": "execute_result"
    }
   ],
   "source": [
    "eigh(cov)[0]"
   ]
  },
  {
   "cell_type": "code",
   "execution_count": 386,
   "id": "e5d0435f-cac9-4e2c-bc33-b979595719cd",
   "metadata": {},
   "outputs": [],
   "source": [
    "#diag = np.diag(1/eigh(cov)[0]**2)\n",
    "#diag = np.diag(np.zeros(2)+1)\n",
    "#print(diag)\n",
    "def f_optimize(p):\n",
    "    a,b = p\n",
    "    R = np.array([[a,-b],[b,a]])\n",
    "    detR = np.linalg.det(R)\n",
    "    #det(R) = 1\n",
    "    R_inv = np.linalg.inv(R)\n",
    "    Lambda = np.dot(R_inv, np.dot(cov_inv, R))\n",
    "    #R^TC^(-1)R = 1\n",
    "    res = Lambda - diag\n",
    "    #res = detR - np.linalg.det(R_inv)\n",
    "    return res[1,0], detR - 1."
   ]
  },
  {
   "cell_type": "code",
   "execution_count": 387,
   "id": "86d3a291-96bd-4b27-b138-4d389fcefa14",
   "metadata": {},
   "outputs": [],
   "source": [
    "res = fsolve(f_optimize, np.random.randn(2))"
   ]
  },
  {
   "cell_type": "code",
   "execution_count": 388,
   "id": "1f4178ed-fbcf-468e-82c9-679d4cad8d58",
   "metadata": {},
   "outputs": [
    {
     "data": {
      "text/plain": [
       "(-4.853357063057802e-15, 8.43769498715119e-15)"
      ]
     },
     "execution_count": 388,
     "metadata": {},
     "output_type": "execute_result"
    }
   ],
   "source": [
    "f_optimize(res)"
   ]
  },
  {
   "cell_type": "code",
   "execution_count": 389,
   "id": "2d950e25-634c-4e74-b757-6de38b0b2d29",
   "metadata": {},
   "outputs": [
    {
     "data": {
      "text/plain": [
       "array([ True,  True])"
      ]
     },
     "execution_count": 389,
     "metadata": {},
     "output_type": "execute_result"
    }
   ],
   "source": [
    "np.isclose(f_optimize(res), [0.0, 0.0])"
   ]
  },
  {
   "cell_type": "code",
   "execution_count": 390,
   "id": "f9cbcfc5-c4d8-47e1-8ff0-ab69915d7433",
   "metadata": {},
   "outputs": [],
   "source": [
    "Rotation_matrix = np.array([[res[0], res[1]],[-res[1], res[0]]])"
   ]
  },
  {
   "cell_type": "code",
   "execution_count": 391,
   "id": "fdc68e7c-b947-4c4c-8fb1-8b8769de6f3e",
   "metadata": {},
   "outputs": [
    {
     "data": {
      "text/plain": [
       "array([[-0.81124219,  0.58471028],\n",
       "       [-0.58471028, -0.81124219]])"
      ]
     },
     "execution_count": 391,
     "metadata": {},
     "output_type": "execute_result"
    }
   ],
   "source": [
    "Rotation_matrix"
   ]
  },
  {
   "cell_type": "code",
   "execution_count": 392,
   "id": "26aed73d-36c1-41d1-89cf-63e596244324",
   "metadata": {},
   "outputs": [],
   "source": [
    "import matplotlib.pyplot as plt\n",
    "x, y = np.random.multivariate_normal([0,0], cov, 50000).T\n",
    "x_rot, y_rot = [], []\n",
    "for i, x_ in enumerate(x):\n",
    "    x_rot_i, y_rot_i = Rotation_matrix.dot(np.array([x[i], y[i]]))\n",
    "    x_rot.append(x_rot_i), y_rot.append(y_rot_i)"
   ]
  },
  {
   "cell_type": "code",
   "execution_count": 393,
   "id": "9e136055-c66a-4df2-bd9f-ae5404fa420f",
   "metadata": {},
   "outputs": [
    {
     "name": "stdout",
     "output_type": "stream",
     "text": [
      "[[1.         0.77441626]\n",
      " [0.77441626 1.        ]]\n",
      "[[ 1.         -0.00627872]\n",
      " [-0.00627872  1.        ]]\n"
     ]
    },
    {
     "data": {
      "image/png": "[encoded data removed]",
      "text/plain": [
       "<Figure size 432x288 with 1 Axes>"
      ]
     },
     "metadata": {
      "needs_background": "light"
     },
     "output_type": "display_data"
    }
   ],
   "source": [
    "plt.scatter(x,y ,label = 'correlated dataset')\n",
    "print(np.corrcoef(x,y))\n",
    "plt.scatter(x_rot,y_rot, label = 'de-correlated dataset')\n",
    "plt.legend()\n",
    "plt.xlabel('x')\n",
    "plt.ylabel('y')\n",
    "plt.axis('equal')\n",
    "print(np.corrcoef(x_rot,y_rot))"
   ]
  },
  {
   "cell_type": "code",
   "execution_count": 394,
   "id": "7cbca6cc-fdf6-49df-8943-3dc818dcab64",
   "metadata": {},
   "outputs": [
    {
     "data": {
      "text/plain": [
       "(7.15030718454981, 0.8349756435306415)"
      ]
     },
     "execution_count": 394,
     "metadata": {},
     "output_type": "execute_result"
    }
   ],
   "source": [
    "np.std(y_rot)**2,np.std(x_rot)**2"
   ]
  },
  {
   "cell_type": "code",
   "execution_count": null,
   "id": "3d309909-a18d-426c-a361-4a1eaf9e0964",
   "metadata": {},
   "outputs": [],
   "source": []
  }
 ],
 "metadata": {
  "kernelspec": {
   "display_name": "mydesc",
   "language": "python",
   "name": "mydesc"
  },
  "language_info": {
   "codemirror_mode": {
    "name": "ipython",
    "version": 3
   },
   "file_extension": ".py",
   "mimetype": "text/x-python",
   "name": "python",
   "nbconvert_exporter": "python",
   "pygments_lexer": "ipython3",
   "version": "3.7.6"
  }
 },
 "nbformat": 4,
 "nbformat_minor": 5
}
