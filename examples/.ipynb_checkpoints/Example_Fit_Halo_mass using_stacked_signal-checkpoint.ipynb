{
 "cells": [
  {
   "cell_type": "markdown",
   "metadata": {},
   "source": [
    "# Example - Estimate Excess Surface Density with stacking strategy"
   ]
  },
  {
   "cell_type": "markdown",
   "metadata": {},
   "source": [
    "we import some clmm modules"
   ]
  },
  {
   "cell_type": "code",
   "execution_count": 1,
   "metadata": {},
   "outputs": [
    {
     "data": {
      "text/plain": [
       "'0.3.0'"
      ]
     },
     "execution_count": 1,
     "metadata": {},
     "output_type": "execute_result"
    }
   ],
   "source": [
    "import sys\n",
    "import os\n",
    "os.environ['CLMM_MODELING_BACKEND'] = 'nc' # here you may choose ccl or nc (NumCosmo)\n",
    "sys.path.append('/pbs/throng/lsst/users/cpayerne/CLMM/examples/support')\n",
    "try: import clmm\n",
    "except:\n",
    "    import notebook_install\n",
    "    notebook_install.install_clmm_pipeline(upgrade=False)\n",
    "    import clmm\n",
    "import matplotlib.pyplot as plt\n",
    "plt.style.use('classic')\n",
    "import numpy as np\n",
    "from numpy import random\n",
    "from astropy.table import Table\n",
    "\n",
    "clmm.__version__"
   ]
  },
  {
   "cell_type": "markdown",
   "metadata": {},
   "source": [
    "we import `clmm` module's core."
   ]
  },
  {
   "cell_type": "code",
   "execution_count": 2,
   "metadata": {},
   "outputs": [],
   "source": [
    "import clmm.polaraveraging as pa\n",
    "import clmm.galaxycluster as gc\n",
    "import clmm.modeling as modeling\n",
    "from clmm import Cosmology "
   ]
  },
  {
   "cell_type": "markdown",
   "metadata": {},
   "source": [
    "we import module for mock data"
   ]
  },
  {
   "cell_type": "code",
   "execution_count": 3,
   "metadata": {},
   "outputs": [],
   "source": [
    "import mock_data as mock"
   ]
  },
  {
   "cell_type": "markdown",
   "metadata": {},
   "source": [
    "basic modules"
   ]
  },
  {
   "cell_type": "code",
   "execution_count": 4,
   "metadata": {},
   "outputs": [],
   "source": [
    "import matplotlib.pyplot as plt\n",
    "import astropy.units as u\n",
    "import numpy as np\n",
    "from scipy.optimize import curve_fit"
   ]
  },
  {
   "cell_type": "markdown",
   "metadata": {},
   "source": [
    "we import `DC2Analysis` modules"
   ]
  },
  {
   "cell_type": "code",
   "execution_count": 5,
   "metadata": {},
   "outputs": [],
   "source": [
    "import sys\n",
    "sys.path.append('/pbs/throng/lsst/users/cpayerne/GitForThesis/DC2Analysis')\n",
    "import stacking as st\n",
    "import modeling as model\n",
    "import utils as ut\n",
    "import mcmc as mcmc"
   ]
  },
  {
   "cell_type": "markdown",
   "metadata": {},
   "source": [
    "for reproductibility :"
   ]
  },
  {
   "cell_type": "code",
   "execution_count": 6,
   "metadata": {},
   "outputs": [],
   "source": [
    "np.random.seed(11)"
   ]
  },
  {
   "cell_type": "markdown",
   "metadata": {},
   "source": [
    "we define cosmology into `Cosmology` object"
   ]
  },
  {
   "cell_type": "code",
   "execution_count": 7,
   "metadata": {},
   "outputs": [],
   "source": [
    "mock_cosmo = Cosmology(H0 = 71.0, Omega_dm0 = 0.265 - 0.0448, Omega_b0 = 0.0448, Omega_k0 = 0.0)"
   ]
  },
  {
   "cell_type": "code",
   "execution_count": null,
   "metadata": {},
   "outputs": [],
   "source": []
  },
  {
   "cell_type": "code",
   "execution_count": 8,
   "metadata": {},
   "outputs": [
    {
     "name": "stdout",
     "output_type": "stream",
     "text": [
      "[7.33739995e+15]\n"
     ]
    }
   ],
   "source": [
    "print(model.critical_surface_density(0.4, [0.5],mock_cosmo))"
   ]
  },
  {
   "cell_type": "markdown",
   "metadata": {},
   "source": [
    "we define the `Modeling` object `moo` to for the galaxy cluster."
   ]
  },
  {
   "cell_type": "code",
   "execution_count": 9,
   "metadata": {},
   "outputs": [],
   "source": [
    "moo = clmm.Modeling(massdef = 'mean', delta_mdef = 200, halo_profile_model = 'nfw')\n",
    "moo.set_cosmo(mock_cosmo)"
   ]
  },
  {
   "cell_type": "markdown",
   "metadata": {},
   "source": [
    "we define the `Stacking` object `stack` by definning a given range of radial axis, the number of bins for the binned stacked shear profile."
   ]
  },
  {
   "cell_type": "code",
   "execution_count": 10,
   "metadata": {},
   "outputs": [],
   "source": [
    "stack = st.Stacking(r_low = 0.5,  r_up = 5, n_bins = 10, cosmo = mock_cosmo)"
   ]
  },
  {
   "cell_type": "markdown",
   "metadata": {},
   "source": [
    "we now define the type of desired profile : tangential reduced shear of Excess surface density for the stacking procedure by modifying the atribute. We use the method `Type` from the class to select DeltaSigma of reduced tangential shear."
   ]
  },
  {
   "cell_type": "code",
   "execution_count": 11,
   "metadata": {},
   "outputs": [],
   "source": [
    "deltasigma = True"
   ]
  },
  {
   "cell_type": "code",
   "execution_count": 12,
   "metadata": {},
   "outputs": [],
   "source": [
    "stack._select_type(is_deltasigma = deltasigma)"
   ]
  },
  {
   "cell_type": "markdown",
   "metadata": {},
   "source": [
    "We now define some redshift interval and input mass interval to select GalaxyCluster object in preselected galaxy catalogs from `cosmoDC2`"
   ]
  },
  {
   "cell_type": "code",
   "execution_count": 13,
   "metadata": {},
   "outputs": [],
   "source": [
    "z_bin = [0.4,0.5]\n",
    "m_bin = [10**14, 1.2*10**14]\n",
    "m_bin = np.array(m_bin)\n",
    "n_catalogs = 3\n",
    "ngals = 2000"
   ]
  },
  {
   "cell_type": "markdown",
   "metadata": {},
   "source": [
    "we define a set of selected cluster with given true masses ans true redshifts"
   ]
  },
  {
   "cell_type": "code",
   "execution_count": 14,
   "metadata": {},
   "outputs": [],
   "source": [
    "cluster_m = (m_bin[1] - m_bin[0])*np.random.random(n_catalogs) + m_bin[0] #in M_sun\n",
    "cluster_z = (z_bin[1] - z_bin[0])*np.random.random(n_catalogs) + z_bin[0]\n",
    "concentration = model.Duffy_concentration(cluster_m, cluster_z, 'mean')"
   ]
  },
  {
   "cell_type": "markdown",
   "metadata": {},
   "source": [
    "We add each galaxy catalogs that correponds to binning to the `stack` object"
   ]
  },
  {
   "cell_type": "code",
   "execution_count": 15,
   "metadata": {},
   "outputs": [
    {
     "name": "stdout",
     "output_type": "stream",
     "text": [
      "\n"
     ]
    },
    {
     "name": "stderr",
     "output_type": "stream",
     "text": [
      "/pbs/home/c/cpayerne/.conda/envs/mydesc/lib/python3.7/site-packages/numpy/ma/core.py:2832: VisibleDeprecationWarning: Creating an ndarray from ragged nested sequences (which is a list-or-tuple of lists-or-tuples-or ndarrays with different lengths or shapes) is deprecated. If you meant to do this, you must specify 'dtype=object' when creating the ndarray\n",
      "  order=order, subok=True, ndmin=ndmin)\n"
     ]
    },
    {
     "name": "stdout",
     "output_type": "stream",
     "text": [
      "\n",
      "\n"
     ]
    }
   ],
   "source": [
    "x_list = []\n",
    "\n",
    "for i in range(n_catalogs):\n",
    "    \n",
    "    \"\"\"Generate mock data\"\"\"\n",
    "    \n",
    "    data = mock.generate_galaxy_catalog(cluster_m[i], cluster_z[i], concentration[i], mock_cosmo,  200,'chang13', zsrc_min = cluster_z[i] + 0.1 ,shapenoise = 0.005,ngals=ngals)\n",
    "\n",
    "    #mock._compute_photoz_pdfs(data, 0.01)\n",
    "    \n",
    "    \n",
    "    \"\"\"Create GalaxyCluster object\"\"\"\n",
    "    \n",
    "    cl = clmm.GalaxyCluster('cluster', 0, 0, cluster_z[i], data)\n",
    "    \n",
    "    \"\"\"Add tangential and cross components\"\"\"\n",
    "    \n",
    "    # the critical surface density is recquired then set is_deltasigma = True whatever you estimate reduced shear or deltasigma\n",
    "    \n",
    "    cl.compute_tangential_and_cross_components(geometry=\"flat\", is_deltasigma = True, cosmo = stack.cosmo)\n",
    "    \n",
    "    \"\"\"Create profile\"\"\"\n",
    "    \n",
    "    bin_edges = pa.make_bins( stack.r_low , stack.r_up , stack.n_bins , method='evenlog10width')\n",
    "\n",
    "    profile = cl.make_binned_profile(\"radians\", \"Mpc\", bins=bin_edges,cosmo=stack.cosmo,include_empty_bins= True,gal_ids_in_bins=True)\n",
    "    \n",
    "    \"\"\"Estimate individual shear profile\"\"\"\n",
    "    \n",
    "    stack._add_background_galaxies(cl, profile)\n",
    "    \n",
    "    print(cl.galcat['w_ls'])\n",
    "    \n",
    "    stack._estimate_individual_lensing_signal(cl, profile)\n",
    "    \n",
    "    x_list.append(profile['radius'])\n",
    "    \n",
    "    \"\"\"Add catalog of background galaxies to stack\"\"\"\n",
    "    \n",
    "    stack._add_cluster_redshift(cl)\n",
    "    "
   ]
  },
  {
   "cell_type": "markdown",
   "metadata": {},
   "source": [
    "we can see how much catalogs have been selected"
   ]
  },
  {
   "cell_type": "code",
   "execution_count": 16,
   "metadata": {},
   "outputs": [
    {
     "name": "stdout",
     "output_type": "stream",
     "text": [
      "we selected 3 clusters\n"
     ]
    }
   ],
   "source": [
    "print(f'we selected {stack.n_stacked_cluster} clusters')"
   ]
  },
  {
   "cell_type": "markdown",
   "metadata": {},
   "source": [
    "The attribute `profile` of `shear` object is filled using the method `MakeShearProfile`. We can comput the standard deviation of every lensing signal derived from individial cluster from the stacked lensing signal via `._add_standard_deviation()`"
   ]
  },
  {
   "cell_type": "code",
   "execution_count": 17,
   "metadata": {},
   "outputs": [],
   "source": [
    "stack.MakeStackedProfile() \n",
    "stack._add_standard_deviation()\n",
    "stack._reshape_data()"
   ]
  },
  {
   "cell_type": "code",
   "execution_count": null,
   "metadata": {},
   "outputs": [],
   "source": []
  },
  {
   "cell_type": "markdown",
   "metadata": {},
   "source": [
    "The `profile` attribute of `stack`is an astropy table containing the binned profile `gt` along the radial axis `radius` and the error `gt_err`."
   ]
  },
  {
   "cell_type": "code",
   "execution_count": 18,
   "metadata": {},
   "outputs": [],
   "source": [
    "profile = stack.profile"
   ]
  },
  {
   "cell_type": "code",
   "execution_count": 19,
   "metadata": {},
   "outputs": [
    {
     "data": {
      "text/html": [
       "<i>Table length=10</i>\n",
       "<table id=\"table140322878080976\" class=\"table-striped table-bordered table-condensed\">\n",
       "<thead><tr><th>radius</th><th>gt</th><th>gx</th><th>n_gal</th><th>gt_err</th><th>gx_err</th></tr></thead>\n",
       "<thead><tr><th>float64</th><th>float64</th><th>float64</th><th>float64</th><th>float64</th><th>float64</th></tr></thead>\n",
       "<tr><td>0.5641072511523625</td><td>55731470080528.125</td><td>-1085735212883.7664</td><td>56.0</td><td>3706950232797.7437</td><td>3005374018591.227</td></tr>\n",
       "<tr><td>0.7038830391828572</td><td>42499828377682.42</td><td>1204804604741.668</td><td>73.0</td><td>1806959230141.3657</td><td>5053884567942.148</td></tr>\n",
       "<tr><td>0.8930127528629512</td><td>32633431479393.285</td><td>-1166783233202.3682</td><td>110.0</td><td>2835208729140.0425</td><td>1380797126187.316</td></tr>\n",
       "<tr><td>1.1376835312688807</td><td>24033633199008.598</td><td>-117160347981.67685</td><td>150.0</td><td>2147513377020.973</td><td>3187112453166.6763</td></tr>\n",
       "<tr><td>1.4224537173815686</td><td>19881515281530.695</td><td>-1175257534203.1611</td><td>264.0</td><td>1802572769230.2222</td><td>570165344482.8572</td></tr>\n",
       "<tr><td>1.7920573857895408</td><td>13016229452654.566</td><td>968261756021.9537</td><td>456.0</td><td>494765960737.1014</td><td>1411928803691.998</td></tr>\n",
       "<tr><td>2.2663353545214133</td><td>9702066469954.268</td><td>124930188025.48839</td><td>656.0</td><td>304801220364.20135</td><td>817608395282.6244</td></tr>\n",
       "<tr><td>2.8405635065947465</td><td>7263852754145.096</td><td>-1207942177.7563176</td><td>1071.0</td><td>238967889646.825</td><td>1397864537459.916</td></tr>\n",
       "<tr><td>3.5746055671689114</td><td>4750654252494.255</td><td>-105348760936.78815</td><td>1769.0</td><td>329676609488.7911</td><td>197115789951.87857</td></tr>\n",
       "<tr><td>4.367400564693653</td><td>3779796666558.55</td><td>228792541276.06552</td><td>1160.0</td><td>578258043102.7994</td><td>687093415015.5197</td></tr>\n",
       "</table>"
      ],
      "text/plain": [
       "<Table length=10>\n",
       "      radius               gt         ...       gt_err             gx_err      \n",
       "     float64            float64       ...      float64            float64      \n",
       "------------------ ------------------ ... ------------------ ------------------\n",
       "0.5641072511523625 55731470080528.125 ... 3706950232797.7437  3005374018591.227\n",
       "0.7038830391828572  42499828377682.42 ... 1806959230141.3657  5053884567942.148\n",
       "0.8930127528629512 32633431479393.285 ... 2835208729140.0425  1380797126187.316\n",
       "1.1376835312688807 24033633199008.598 ...  2147513377020.973 3187112453166.6763\n",
       "1.4224537173815686 19881515281530.695 ... 1802572769230.2222  570165344482.8572\n",
       "1.7920573857895408 13016229452654.566 ...  494765960737.1014  1411928803691.998\n",
       "2.2663353545214133  9702066469954.268 ... 304801220364.20135  817608395282.6244\n",
       "2.8405635065947465  7263852754145.096 ...   238967889646.825  1397864537459.916\n",
       "3.5746055671689114  4750654252494.255 ...  329676609488.7911 197115789951.87857\n",
       " 4.367400564693653   3779796666558.55 ...  578258043102.7994  687093415015.5197"
      ]
     },
     "execution_count": 19,
     "metadata": {},
     "output_type": "execute_result"
    }
   ],
   "source": [
    "profile"
   ]
  },
  {
   "cell_type": "markdown",
   "metadata": {},
   "source": [
    "### Visualization of the results"
   ]
  },
  {
   "cell_type": "markdown",
   "metadata": {},
   "source": [
    "we visualize the reduced tangential stacked shear and we calculate the predicted reduced shear when using the average innput mass of selected clusters. The sum above is aver all lense-source pairs. We also visualize individual shear profiles estimated only by summation over the background galaxies itself."
   ]
  },
  {
   "cell_type": "markdown",
   "metadata": {},
   "source": [
    "$$\\Delta \\Sigma(R) = \\left(\\frac{1}{\\sum\\limits_{l,s} w_{l,s}}\\right)\\sum\\limits_{l,s} w_{l,s}\\Sigma_c(z_s,z_l)e^t_{l,s}  \\ at\\ R$$"
   ]
  },
  {
   "cell_type": "markdown",
   "metadata": {},
   "source": [
    "with : \n",
    "    $$\n",
    "    w_{l,s} = 1/\\Sigma_c(z_s,z_l)^2\n",
    "    $$"
   ]
  },
  {
   "cell_type": "markdown",
   "metadata": {},
   "source": [
    "the list of galaxy redshift is given by:"
   ]
  },
  {
   "cell_type": "code",
   "execution_count": 20,
   "metadata": {},
   "outputs": [],
   "source": [
    "z_gal = sum(stack.z_galaxy, [])"
   ]
  },
  {
   "cell_type": "markdown",
   "metadata": {},
   "source": [
    "we plot the results for the estimated stacked shear signal (in red) relatively to individual estimated shear signal from all the selected cluster"
   ]
  },
  {
   "cell_type": "code",
   "execution_count": 21,
   "metadata": {},
   "outputs": [],
   "source": [
    "def myticks(x,pos):\n",
    "\n",
    "    if x == 0: return \"$0$\"\n",
    "\n",
    "    exponent = int(np.log10(abs(x)))\n",
    "    sign = x/abs(x)\n",
    "    coeff = x/(10**exponent)\n",
    "\n",
    "    return r\"${:2.0f}.10^{{ {:2d} }}$\".format(coeff,exponent)"
   ]
  },
  {
   "cell_type": "code",
   "execution_count": 22,
   "metadata": {},
   "outputs": [
    {
     "data": {
      "image/png": "[encoded data removed]",
      "text/plain": [
       "<Figure size 640x480 with 2 Axes>"
      ]
     },
     "metadata": {},
     "output_type": "display_data"
    }
   ],
   "source": [
    "from matplotlib import gridspec\n",
    "import matplotlib.ticker as ticker\n",
    "\n",
    "# Simple data to display in various forms\n",
    "r = profile['radius']\n",
    "rr = np.logspace(-2,7,100)\n",
    "gt, gt_err = profile['gt'], profile['gt_err']\n",
    "gx, gx_err = profile['gx'], profile['gx_err']\n",
    "\n",
    "\n",
    "fig = plt.figure()\n",
    "gs = gridspec.GridSpec(2, 1, height_ratios=[2, 1]) \n",
    "ax0 = plt.subplot(gs[0])\n",
    "ax0.tick_params(axis='both', which='major', labelsize=16)\n",
    "#ax0.set_ylabel('r'$\\rm{stacked}\\ \\Delta\\Sigma_\\times$)\n",
    "\n",
    "# log scale for axis Y of the first subplot\n",
    "ax0.set_yscale(\"log\")\n",
    "ax0.set_xscale(\"log\")\n",
    "ax0.set_xlim(stack.r_low, stack.r_up)\n",
    "ax0.set_ylim(2*10**12, 10**14)\n",
    "line0 = ax0.errorbar(r, gt,gt_err, c='k', fmt = 's',  label=r'$\\rm{stacked}\\ \\Delta\\Sigma\\_t$')\n",
    "ax0.plot(r, gt , '-', c = 'grey',alpha = 0.1, label = r'$\\rm{individual\\ profile}$')\n",
    "ax0.errorbar([],[],[], c='b', fmt = 's', label=r'$\\rm{stacked}\\ \\Delta\\Sigma_\\times$')\n",
    "\n",
    "for i in range(stack.n_stacked_cluster):\n",
    "    \n",
    "    ax0.plot(x_list[i],stack.LS_t_list[i],'-',c='grey',alpha=0.1)\n",
    "    \n",
    "ax0.yaxis.set_major_formatter(ticker.FuncFormatter(myticks))\n",
    "ax0.legend(loc='best', frameon = False,\n",
    "          numpoints = 1, fontsize = 16)\n",
    "\n",
    "##############################\n",
    "ax1 = plt.subplot(gs[1], sharex = ax0)\n",
    "ax1.tick_params(axis='both', which='major', labelsize=16)\n",
    "\n",
    "\n",
    "\n",
    "line1 = ax1.errorbar(r, gx,gx_err, c='b', fmt = 's', label=r'$\\Delta\\Sigma_\\times$')\n",
    "ax1.plot(rr, 0*rr, '--k')\n",
    "\n",
    "for i in range(stack.n_stacked_cluster):\n",
    "    \n",
    "    ax1.plot(x_list[i],stack.LS_x_list[i],c='grey',alpha=0.1)\n",
    "\n",
    "plt.setp(ax0.get_xticklabels(), visible=False)\n",
    "# remove last tick label for the second subplot\n",
    "\n",
    "yticks = ax1.yaxis.get_major_ticks()\n",
    "yticks[-1].label1.set_visible(False)\n",
    "ax1.yaxis.set_major_formatter(ticker.FuncFormatter(myticks))\n",
    "ax1.xaxis.set_major_formatter(ticker.FuncFormatter(myticks))\n",
    "\n",
    "# remove vertical gap between subplots\n",
    "plt.subplots_adjust(hspace=.0)\n",
    "plt.show()"
   ]
  },
  {
   "cell_type": "markdown",
   "metadata": {},
   "source": [
    "# Fitting join Halo mass and halo concentration with MCMC"
   ]
  },
  {
   "cell_type": "markdown",
   "metadata": {},
   "source": [
    "We first estimate halo mass and concentration with `scipy.optimize.curve_fit` function to initialize the walkers positions for MCMC analysis"
   ]
  },
  {
   "cell_type": "markdown",
   "metadata": {},
   "source": [
    "## Fitting Halo Mass and concentration using `curve_fit` from `scipy.optimize`\n"
   ]
  },
  {
   "cell_type": "code",
   "execution_count": 23,
   "metadata": {},
   "outputs": [],
   "source": [
    "def model_data(r, logm, c):\n",
    "    \n",
    "    cluster_z = stack.z_average\n",
    "    \n",
    "    z_gal_per_bin = stack.z_galaxy\n",
    "    \n",
    "    z_gal = sum(z_gal_per_bin, [])\n",
    "\n",
    "    if stack.is_deltasigma == False:\n",
    "\n",
    "        return model.predict_reduced_tangential_shear_z_distrib(r, logm, c, cluster_z , z_gal_per_bin, moo)\n",
    "\n",
    "    else:\n",
    "\n",
    "        return model.predict_excess_surface_density(r, logm, c, stack.z_average, moo)"
   ]
  },
  {
   "cell_type": "code",
   "execution_count": 24,
   "metadata": {},
   "outputs": [],
   "source": [
    "r, gt, gt_err = profile['radius'], profile['gt'], profile['gt_err']"
   ]
  },
  {
   "cell_type": "code",
   "execution_count": 25,
   "metadata": {},
   "outputs": [],
   "source": [
    "param_p0 = [14.,2.]\n",
    "            \n",
    "param_bounds = ([13., 0. ], [16., 20.])\n",
    "\n",
    "popt_fit, cov_fit = curve_fit(model_data, r, gt, sigma = gt_err, bounds = param_bounds, p0 = param_p0)"
   ]
  },
  {
   "cell_type": "code",
   "execution_count": 26,
   "metadata": {},
   "outputs": [],
   "source": [
    "m = 10**popt_fit[0]\n",
    "err_m = m*np.log(10)*np.sqrt(cov_fit[0][0])\n",
    "c = popt_fit[1]\n",
    "err_c = np.sqrt(cov_fit[1][1])"
   ]
  },
  {
   "cell_type": "code",
   "execution_count": 27,
   "metadata": {},
   "outputs": [
    {
     "name": "stdout",
     "output_type": "stream",
     "text": [
      "$---> Average input mass M_{200m}^{NFW}$ : 1.044198e+14$M_{SUN}$\n",
      " \n",
      "$---> Average input concentration c(M_{200m}^{NFW})$ : 5.184554$M_{SUN}$\n",
      " \n",
      "$---> Average fit mass : 1.084707e+14 \\pm 1.599710e+12$\n",
      " \n",
      "$---> Average fit c : 5.162133e+00 \\pm 0.356677$\n"
     ]
    }
   ],
   "source": [
    "print(r'$---> Average input mass M_{200m}^{NFW}$' + f' : {np.mean(cluster_m):2e}' + r'$M_{SUN}$')\n",
    "print(' ')\n",
    "print(r'$---> Average input concentration c(M_{200m}^{NFW})$' + f' : {np.mean(concentration):2f}' + r'$M_{SUN}$')\n",
    "print(' ')\n",
    "print(f'$---> Average fit mass : {m:2e} \\pm {err_m:2e}$')\n",
    "print(' ')\n",
    "print(f'$---> Average fit c : {c:2e} \\pm {err_c:2f}$')"
   ]
  },
  {
   "cell_type": "markdown",
   "metadata": {},
   "source": [
    "# Fitting Halo Mass Using MCMC"
   ]
  },
  {
   "cell_type": "markdown",
   "metadata": {},
   "source": [
    "we initialize MCMC object"
   ]
  },
  {
   "cell_type": "code",
   "execution_count": 28,
   "metadata": {},
   "outputs": [
    {
     "name": "stderr",
     "output_type": "stream",
     "text": [
      "No handles with labels found to put in legend.\n"
     ]
    },
    {
     "data": {
      "image/png": "[encoded data removed]",
      "text/plain": [
       "<Figure size 1280x480 with 3 Axes>"
      ]
     },
     "metadata": {},
     "output_type": "display_data"
    }
   ],
   "source": [
    "fig, axes = plt.subplots(nrows=1, ncols=2, figsize=(16, 6))\n",
    "axes[0].tick_params(axis='both', which='major', labelsize=16)\n",
    "axes[1].tick_params(axis='both', which='major', labelsize=16)\n",
    "\n",
    "for i in range(stack.n_stacked_cluster):\n",
    "    \n",
    "    axes[0].plot(x_list[i],stack.LS_t_list[i],c='grey',alpha=0.1)\n",
    "    \n",
    "axes[0].plot([],[],c='grey', label='individual profile')    \n",
    "axes[0].errorbar(profile['radius'], profile['gt'], profile['gt_err'], c='r', fmt = 's', label='stacked profile')\n",
    "axes[0].set_xlabel('R [Mpc]', fontsize=16)\n",
    "axes[0].set_ylabel('profile', fontsize=16)\n",
    "axes[0].legend(fontsize=20, frameon=True, numpoints = 1, loc = 'best')\n",
    "axes[0].semilogx()\n",
    "axes[0].semilogy()\n",
    "axes[0].set_xlim(stack.r_low, stack.r_up)\n",
    "axes[0].set_title(r'$\\rm{Stacked\\ estimated\\ lensing\\ profile}$', fontsize = 20)\n",
    "\n",
    "\n",
    "im1 = axes[1].imshow(stack.cov_t)\n",
    "fig.colorbar(im1)\n",
    "axes[1].set_xlabel('bins in R', fontsize=16)\n",
    "axes[1].set_ylabel('bins in R', fontsize=16)\n",
    "\n",
    "axes[1].set_title(r'$\\rm{Sample\\ covariance\\ matrix}$', fontsize = 20)\n",
    "axes[1].legend(fontsize = 20, frameon = False)\n",
    "plt.show()"
   ]
  },
  {
   "cell_type": "code",
   "execution_count": 29,
   "metadata": {},
   "outputs": [],
   "source": [
    "MCMC = mcmc.MCMC(n_parameters = 2)"
   ]
  },
  {
   "cell_type": "code",
   "execution_count": 30,
   "metadata": {},
   "outputs": [],
   "source": [
    "t = Table()\n",
    "t['x0'] = r\n",
    "t['y'] = gt"
   ]
  },
  {
   "cell_type": "code",
   "execution_count": 31,
   "metadata": {},
   "outputs": [],
   "source": [
    "def model_MCMC(X, p):\n",
    "    \n",
    "    r = X[0]\n",
    "    \n",
    "    logm, c = p[0], p[1]\n",
    "    \n",
    "    return model_data(r, logm, c)"
   ]
  },
  {
   "cell_type": "markdown",
   "metadata": {},
   "source": [
    "we add new attributes with MCMC informations"
   ]
  },
  {
   "cell_type": "code",
   "execution_count": 32,
   "metadata": {},
   "outputs": [],
   "source": [
    "MCMC._set_data(t)\n",
    "MCMC._set_covariance_matrix(stack.cov_t)\n",
    "MCMC._set_model(model_MCMC)\n",
    "MCMC._set_lnprior_bounds(bounds = [[13., 0. ], [16., 20.]])"
   ]
  },
  {
   "cell_type": "code",
   "execution_count": 33,
   "metadata": {},
   "outputs": [],
   "source": [
    "MCMC._set_walkers(n_walkers = 300, n_step = 5000)\n",
    "MCMC._set_initial_condition(popt_fit, np.sqrt(cov_fit.diagonal()))"
   ]
  },
  {
   "cell_type": "markdown",
   "metadata": {},
   "source": [
    "we start the MCMC"
   ]
  },
  {
   "cell_type": "code",
   "execution_count": 34,
   "metadata": {},
   "outputs": [
    {
     "name": "stderr",
     "output_type": "stream",
     "text": [
      "  0%|          | 0/5000 [00:00<?, ?it/s]/pbs/home/c/cpayerne/.conda/envs/mydesc/lib/python3.7/site-packages/emcee/moves/red_blue.py:99: RuntimeWarning: invalid value encountered in double_scalars\n",
      "  lnpdiff = f + nlp - state.log_prob[j]\n",
      " 15%|█▌        | 774/5000 [00:04<00:26, 159.74it/s]Traceback (most recent call last):\n",
      "  File \"/pbs/home/c/cpayerne/.conda/envs/mydesc/lib/python3.7/site-packages/emcee/ensemble.py\", line 545, in __call__\n",
      "    return self.f(x, *self.args, **self.kwargs)\n",
      "  File \"/pbs/throng/lsst/users/cpayerne/GitForThesis/DC2Analysis/mcmc.py\", line 138, in lnprob\n",
      "    lp = self.lnprior(p)\n",
      "KeyboardInterrupt\n",
      " 16%|█▌        | 777/5000 [00:04<00:26, 158.50it/s]\n"
     ]
    },
    {
     "name": "stdout",
     "output_type": "stream",
     "text": [
      "emcee: Exception while calling your likelihood function:\n",
      "  params: [14.06013922  5.17052766]\n",
      "  args: []\n",
      "  kwargs: {}\n",
      "  exception:\n"
     ]
    },
    {
     "ename": "KeyboardInterrupt",
     "evalue": "",
     "output_type": "error",
     "traceback": [
      "\u001b[0;31m---------------------------------------------------------------------------\u001b[0m",
      "\u001b[0;31mKeyboardInterrupt\u001b[0m                         Traceback (most recent call last)",
      "\u001b[0;32m<ipython-input-34-7d781e631943>\u001b[0m in \u001b[0;36m<module>\u001b[0;34m\u001b[0m\n\u001b[0;32m----> 1\u001b[0;31m \u001b[0mMCMC\u001b[0m\u001b[0;34m.\u001b[0m\u001b[0mrun_MCMC\u001b[0m\u001b[0;34m(\u001b[0m\u001b[0;34m)\u001b[0m\u001b[0;34m\u001b[0m\u001b[0;34m\u001b[0m\u001b[0m\n\u001b[0m",
      "\u001b[0;32m/pbs/throng/lsst/users/cpayerne/GitForThesis/DC2Analysis/mcmc.py\u001b[0m in \u001b[0;36mrun_MCMC\u001b[0;34m(self)\u001b[0m\n\u001b[1;32m    158\u001b[0m         \u001b[0mself\u001b[0m\u001b[0;34m.\u001b[0m\u001b[0msampler\u001b[0m \u001b[0;34m=\u001b[0m \u001b[0memcee\u001b[0m\u001b[0;34m.\u001b[0m\u001b[0mEnsembleSampler\u001b[0m\u001b[0;34m(\u001b[0m\u001b[0mself\u001b[0m\u001b[0;34m.\u001b[0m\u001b[0mn_walkers\u001b[0m\u001b[0;34m,\u001b[0m\u001b[0mself\u001b[0m\u001b[0;34m.\u001b[0m\u001b[0mn_parameters\u001b[0m\u001b[0;34m,\u001b[0m\u001b[0mself\u001b[0m\u001b[0;34m.\u001b[0m\u001b[0mlnprob\u001b[0m\u001b[0;34m)\u001b[0m\u001b[0;34m\u001b[0m\u001b[0;34m\u001b[0m\u001b[0m\n\u001b[1;32m    159\u001b[0m \u001b[0;34m\u001b[0m\u001b[0m\n\u001b[0;32m--> 160\u001b[0;31m         \u001b[0mpos\u001b[0m\u001b[0;34m,\u001b[0m \u001b[0mprob\u001b[0m\u001b[0;34m,\u001b[0m \u001b[0mstate\u001b[0m \u001b[0;34m=\u001b[0m \u001b[0mself\u001b[0m\u001b[0;34m.\u001b[0m\u001b[0msampler\u001b[0m\u001b[0;34m.\u001b[0m\u001b[0mrun_mcmc\u001b[0m\u001b[0;34m(\u001b[0m\u001b[0mself\u001b[0m\u001b[0;34m.\u001b[0m\u001b[0mp0\u001b[0m\u001b[0;34m,\u001b[0m \u001b[0mself\u001b[0m\u001b[0;34m.\u001b[0m\u001b[0mn_step\u001b[0m\u001b[0;34m,\u001b[0m\u001b[0mprogress\u001b[0m\u001b[0;34m=\u001b[0m\u001b[0;32mTrue\u001b[0m\u001b[0;34m)\u001b[0m\u001b[0;34m\u001b[0m\u001b[0;34m\u001b[0m\u001b[0m\n\u001b[0m\u001b[1;32m    161\u001b[0m \u001b[0;34m\u001b[0m\u001b[0m\n\u001b[1;32m    162\u001b[0m         \u001b[0mself\u001b[0m\u001b[0;34m.\u001b[0m\u001b[0macceptance_fraction\u001b[0m \u001b[0;34m=\u001b[0m \u001b[0mself\u001b[0m\u001b[0;34m.\u001b[0m\u001b[0msampler\u001b[0m\u001b[0;34m.\u001b[0m\u001b[0macceptance_fraction\u001b[0m\u001b[0;34m\u001b[0m\u001b[0;34m\u001b[0m\u001b[0m\n",
      "\u001b[0;32m~/.conda/envs/mydesc/lib/python3.7/site-packages/emcee/ensemble.py\u001b[0m in \u001b[0;36mrun_mcmc\u001b[0;34m(self, initial_state, nsteps, **kwargs)\u001b[0m\n\u001b[1;32m    382\u001b[0m \u001b[0;34m\u001b[0m\u001b[0m\n\u001b[1;32m    383\u001b[0m         \u001b[0mresults\u001b[0m \u001b[0;34m=\u001b[0m \u001b[0;32mNone\u001b[0m\u001b[0;34m\u001b[0m\u001b[0;34m\u001b[0m\u001b[0m\n\u001b[0;32m--> 384\u001b[0;31m         \u001b[0;32mfor\u001b[0m \u001b[0mresults\u001b[0m \u001b[0;32min\u001b[0m \u001b[0mself\u001b[0m\u001b[0;34m.\u001b[0m\u001b[0msample\u001b[0m\u001b[0;34m(\u001b[0m\u001b[0minitial_state\u001b[0m\u001b[0;34m,\u001b[0m \u001b[0miterations\u001b[0m\u001b[0;34m=\u001b[0m\u001b[0mnsteps\u001b[0m\u001b[0;34m,\u001b[0m \u001b[0;34m**\u001b[0m\u001b[0mkwargs\u001b[0m\u001b[0;34m)\u001b[0m\u001b[0;34m:\u001b[0m\u001b[0;34m\u001b[0m\u001b[0;34m\u001b[0m\u001b[0m\n\u001b[0m\u001b[1;32m    385\u001b[0m             \u001b[0;32mpass\u001b[0m\u001b[0;34m\u001b[0m\u001b[0;34m\u001b[0m\u001b[0m\n\u001b[1;32m    386\u001b[0m \u001b[0;34m\u001b[0m\u001b[0m\n",
      "\u001b[0;32m~/.conda/envs/mydesc/lib/python3.7/site-packages/emcee/ensemble.py\u001b[0m in \u001b[0;36msample\u001b[0;34m(self, initial_state, log_prob0, rstate0, blobs0, iterations, tune, skip_initial_state_check, thin_by, thin, store, progress)\u001b[0m\n\u001b[1;32m    341\u001b[0m \u001b[0;34m\u001b[0m\u001b[0m\n\u001b[1;32m    342\u001b[0m                     \u001b[0;31m# Propose\u001b[0m\u001b[0;34m\u001b[0m\u001b[0;34m\u001b[0m\u001b[0;34m\u001b[0m\u001b[0m\n\u001b[0;32m--> 343\u001b[0;31m                     \u001b[0mstate\u001b[0m\u001b[0;34m,\u001b[0m \u001b[0maccepted\u001b[0m \u001b[0;34m=\u001b[0m \u001b[0mmove\u001b[0m\u001b[0;34m.\u001b[0m\u001b[0mpropose\u001b[0m\u001b[0;34m(\u001b[0m\u001b[0mmodel\u001b[0m\u001b[0;34m,\u001b[0m \u001b[0mstate\u001b[0m\u001b[0;34m)\u001b[0m\u001b[0;34m\u001b[0m\u001b[0;34m\u001b[0m\u001b[0m\n\u001b[0m\u001b[1;32m    344\u001b[0m                     \u001b[0mstate\u001b[0m\u001b[0;34m.\u001b[0m\u001b[0mrandom_state\u001b[0m \u001b[0;34m=\u001b[0m \u001b[0mself\u001b[0m\u001b[0;34m.\u001b[0m\u001b[0mrandom_state\u001b[0m\u001b[0;34m\u001b[0m\u001b[0;34m\u001b[0m\u001b[0m\n\u001b[1;32m    345\u001b[0m \u001b[0;34m\u001b[0m\u001b[0m\n",
      "\u001b[0;32m~/.conda/envs/mydesc/lib/python3.7/site-packages/emcee/moves/red_blue.py\u001b[0m in \u001b[0;36mpropose\u001b[0;34m(self, model, state)\u001b[0m\n\u001b[1;32m     91\u001b[0m \u001b[0;34m\u001b[0m\u001b[0m\n\u001b[1;32m     92\u001b[0m             \u001b[0;31m# Compute the lnprobs of the proposed position.\u001b[0m\u001b[0;34m\u001b[0m\u001b[0;34m\u001b[0m\u001b[0;34m\u001b[0m\u001b[0m\n\u001b[0;32m---> 93\u001b[0;31m             \u001b[0mnew_log_probs\u001b[0m\u001b[0;34m,\u001b[0m \u001b[0mnew_blobs\u001b[0m \u001b[0;34m=\u001b[0m \u001b[0mmodel\u001b[0m\u001b[0;34m.\u001b[0m\u001b[0mcompute_log_prob_fn\u001b[0m\u001b[0;34m(\u001b[0m\u001b[0mq\u001b[0m\u001b[0;34m)\u001b[0m\u001b[0;34m\u001b[0m\u001b[0;34m\u001b[0m\u001b[0m\n\u001b[0m\u001b[1;32m     94\u001b[0m \u001b[0;34m\u001b[0m\u001b[0m\n\u001b[1;32m     95\u001b[0m             \u001b[0;31m# Loop over the walkers and update them accordingly.\u001b[0m\u001b[0;34m\u001b[0m\u001b[0;34m\u001b[0m\u001b[0;34m\u001b[0m\u001b[0m\n",
      "\u001b[0;32m~/.conda/envs/mydesc/lib/python3.7/site-packages/emcee/ensemble.py\u001b[0m in \u001b[0;36mcompute_log_prob\u001b[0;34m(self, coords)\u001b[0m\n\u001b[1;32m    425\u001b[0m                 \u001b[0mmap_func\u001b[0m \u001b[0;34m=\u001b[0m \u001b[0mmap\u001b[0m\u001b[0;34m\u001b[0m\u001b[0;34m\u001b[0m\u001b[0m\n\u001b[1;32m    426\u001b[0m             results = list(\n\u001b[0;32m--> 427\u001b[0;31m                 \u001b[0mmap_func\u001b[0m\u001b[0;34m(\u001b[0m\u001b[0mself\u001b[0m\u001b[0;34m.\u001b[0m\u001b[0mlog_prob_fn\u001b[0m\u001b[0;34m,\u001b[0m \u001b[0;34m(\u001b[0m\u001b[0mp\u001b[0m\u001b[0;34m[\u001b[0m\u001b[0mi\u001b[0m\u001b[0;34m]\u001b[0m \u001b[0;32mfor\u001b[0m \u001b[0mi\u001b[0m \u001b[0;32min\u001b[0m \u001b[0mrange\u001b[0m\u001b[0;34m(\u001b[0m\u001b[0mlen\u001b[0m\u001b[0;34m(\u001b[0m\u001b[0mp\u001b[0m\u001b[0;34m)\u001b[0m\u001b[0;34m)\u001b[0m\u001b[0;34m)\u001b[0m\u001b[0;34m)\u001b[0m\u001b[0;34m\u001b[0m\u001b[0;34m\u001b[0m\u001b[0m\n\u001b[0m\u001b[1;32m    428\u001b[0m             )\n\u001b[1;32m    429\u001b[0m \u001b[0;34m\u001b[0m\u001b[0m\n",
      "\u001b[0;32m~/.conda/envs/mydesc/lib/python3.7/site-packages/emcee/ensemble.py\u001b[0m in \u001b[0;36m__call__\u001b[0;34m(self, x)\u001b[0m\n\u001b[1;32m    543\u001b[0m     \u001b[0;32mdef\u001b[0m \u001b[0m__call__\u001b[0m\u001b[0;34m(\u001b[0m\u001b[0mself\u001b[0m\u001b[0;34m,\u001b[0m \u001b[0mx\u001b[0m\u001b[0;34m)\u001b[0m\u001b[0;34m:\u001b[0m\u001b[0;34m\u001b[0m\u001b[0;34m\u001b[0m\u001b[0m\n\u001b[1;32m    544\u001b[0m         \u001b[0;32mtry\u001b[0m\u001b[0;34m:\u001b[0m\u001b[0;34m\u001b[0m\u001b[0;34m\u001b[0m\u001b[0m\n\u001b[0;32m--> 545\u001b[0;31m             \u001b[0;32mreturn\u001b[0m \u001b[0mself\u001b[0m\u001b[0;34m.\u001b[0m\u001b[0mf\u001b[0m\u001b[0;34m(\u001b[0m\u001b[0mx\u001b[0m\u001b[0;34m,\u001b[0m \u001b[0;34m*\u001b[0m\u001b[0mself\u001b[0m\u001b[0;34m.\u001b[0m\u001b[0margs\u001b[0m\u001b[0;34m,\u001b[0m \u001b[0;34m**\u001b[0m\u001b[0mself\u001b[0m\u001b[0;34m.\u001b[0m\u001b[0mkwargs\u001b[0m\u001b[0;34m)\u001b[0m\u001b[0;34m\u001b[0m\u001b[0;34m\u001b[0m\u001b[0m\n\u001b[0m\u001b[1;32m    546\u001b[0m         \u001b[0;32mexcept\u001b[0m\u001b[0;34m:\u001b[0m  \u001b[0;31m# pragma: no cover\u001b[0m\u001b[0;34m\u001b[0m\u001b[0;34m\u001b[0m\u001b[0m\n\u001b[1;32m    547\u001b[0m             \u001b[0;32mimport\u001b[0m \u001b[0mtraceback\u001b[0m\u001b[0;34m\u001b[0m\u001b[0;34m\u001b[0m\u001b[0m\n",
      "\u001b[0;32m/pbs/throng/lsst/users/cpayerne/GitForThesis/DC2Analysis/mcmc.py\u001b[0m in \u001b[0;36mlnprob\u001b[0;34m(self, p)\u001b[0m\n\u001b[1;32m    136\u001b[0m     \u001b[0;32mdef\u001b[0m \u001b[0mlnprob\u001b[0m\u001b[0;34m(\u001b[0m\u001b[0mself\u001b[0m\u001b[0;34m,\u001b[0m \u001b[0mp\u001b[0m\u001b[0;34m)\u001b[0m\u001b[0;34m:\u001b[0m\u001b[0;34m\u001b[0m\u001b[0;34m\u001b[0m\u001b[0m\n\u001b[1;32m    137\u001b[0m \u001b[0;34m\u001b[0m\u001b[0m\n\u001b[0;32m--> 138\u001b[0;31m         \u001b[0mlp\u001b[0m \u001b[0;34m=\u001b[0m \u001b[0mself\u001b[0m\u001b[0;34m.\u001b[0m\u001b[0mlnprior\u001b[0m\u001b[0;34m(\u001b[0m\u001b[0mp\u001b[0m\u001b[0;34m)\u001b[0m\u001b[0;34m\u001b[0m\u001b[0;34m\u001b[0m\u001b[0m\n\u001b[0m\u001b[1;32m    139\u001b[0m \u001b[0;34m\u001b[0m\u001b[0m\n\u001b[1;32m    140\u001b[0m         \u001b[0;32mif\u001b[0m \u001b[0;32mnot\u001b[0m \u001b[0mnp\u001b[0m\u001b[0;34m.\u001b[0m\u001b[0misfinite\u001b[0m\u001b[0;34m(\u001b[0m\u001b[0mlp\u001b[0m\u001b[0;34m)\u001b[0m\u001b[0;34m:\u001b[0m\u001b[0;34m\u001b[0m\u001b[0;34m\u001b[0m\u001b[0m\n",
      "\u001b[0;31mKeyboardInterrupt\u001b[0m: "
     ]
    }
   ],
   "source": [
    "MCMC.run_MCMC()"
   ]
  },
  {
   "cell_type": "code",
   "execution_count": null,
   "metadata": {},
   "outputs": [],
   "source": [
    "MCMC._discard(tau = 50)"
   ]
  },
  {
   "cell_type": "code",
   "execution_count": null,
   "metadata": {},
   "outputs": [],
   "source": [
    "dict_ranges = {r'$\\log_{10}\\ (M/M_\\odot)$': (13.75, 14.2), r'$c$': (4.5, 5.1)}"
   ]
  },
  {
   "cell_type": "code",
   "execution_count": null,
   "metadata": {},
   "outputs": [],
   "source": [
    "use_params = [r'$\\log_{10}\\ (M/M_\\odot)$', r'$c$']\n",
    "use_ranges = [[13.75, 14.25], [3, 10]]\n",
    "true_values = [np.mean(np.log10(cluster_m)), np.mean(concentration)]"
   ]
  },
  {
   "cell_type": "code",
   "execution_count": null,
   "metadata": {},
   "outputs": [],
   "source": [
    "from corner import corner\n",
    "fig = plt.figure()\n",
    "sigma1 = 1. - np.exp(-(1./1.)**2/2.)\n",
    "sigma2 = 1. - np.exp(-(2./1.)**2/2.)\n",
    "fig = corner(MCMC.samples\\\n",
    "             ,reverse = False,\\\n",
    "            bins = 30,\\\n",
    "             smooth = True,\\\n",
    "             plot_datapoints=False,levels=(sigma1, sigma2), \\\n",
    "             labels =use_params,\\\n",
    "             quantiles=[0.16, 0.5, 0.84], \\\n",
    "             color='k',\\\n",
    "             range = use_ranges,\\\n",
    "         show_titles = True, \\\n",
    "        truths =true_values, truth_color='r', smooth1d = 1, top_ticks = True)\n",
    "#plt.savefig('M_to_c_mock.png', bbox_inches='tight', dpi=300)"
   ]
  },
  {
   "cell_type": "code",
   "execution_count": null,
   "metadata": {},
   "outputs": [],
   "source": [
    "r = profile['radius']\n",
    "MCMC.fit_MCMC()\n",
    "p = MCMC.mean_MCMC\n",
    "y_fit = model_MCMC([r], p)"
   ]
  },
  {
   "cell_type": "markdown",
   "metadata": {},
   "source": [
    "we finally plot the results"
   ]
  },
  {
   "cell_type": "code",
   "execution_count": null,
   "metadata": {},
   "outputs": [],
   "source": [
    "f, ax = plt.subplots(figsize = (6,6))\n",
    "plt.tick_params(axis='both', which='major', labelsize=14)\n",
    "#plt.grid(True, ls = '--')\n",
    "plt.style.use('classic')\n",
    "\n",
    "for i in range(stack.n_stacked_cluster):\n",
    "    \n",
    "    plt.plot(x_list[i],stack.LS_t_list[i],c='grey',alpha=0.1)\n",
    "\n",
    "plt.plot([],[],c='grey', label='individual profile')  \n",
    "plt.errorbar(profile['radius'], profile['gt'], profile['gt_err'], c='r', fmt = 's', label='stacked profile')\n",
    "plt.plot(r,y_fit, label=r'$\\rm{Best\\ fit\\ model}$')\n",
    "ax.set_xlim(min(r), max(r))\n",
    "plt.xscale('log')\n",
    "plt.yscale('log')\n",
    "plt.legend(loc='best', fontsize = 20)"
   ]
  },
  {
   "cell_type": "code",
   "execution_count": null,
   "metadata": {},
   "outputs": [],
   "source": []
  }
 ],
 "metadata": {
  "kernelspec": {
   "display_name": "mydesc",
   "language": "python",
   "name": "mydesc"
  },
  "language_info": {
   "codemirror_mode": {
    "name": "ipython",
    "version": 3
   },
   "file_extension": ".py",
   "mimetype": "text/x-python",
   "name": "python",
   "nbconvert_exporter": "python",
   "pygments_lexer": "ipython3",
   "version": "3.7.6"
  }
 },
 "nbformat": 4,
 "nbformat_minor": 4
}
