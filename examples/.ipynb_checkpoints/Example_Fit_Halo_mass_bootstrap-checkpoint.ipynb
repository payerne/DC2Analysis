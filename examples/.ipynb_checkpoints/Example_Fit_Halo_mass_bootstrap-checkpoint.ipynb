{
 "cells": [
  {
   "cell_type": "code",
   "execution_count": 1,
   "metadata": {},
   "outputs": [],
   "source": [
    "import sys\n",
    "import os\n",
    "os.environ['CLMM_MODELING_BACKEND'] = 'nc' # here you may choose ccl or nc (NumCosmo)\n",
    "sys.path.append('/pbs/throng/lsst/users/cpayerne/CLMM/examples/support')\n",
    "try: import clmm\n",
    "except:\n",
    "    import notebook_install\n",
    "    notebook_install.install_clmm_pipeline(upgrade=False)\n",
    "    import clmm\n",
    "import matplotlib.pyplot as plt\n",
    "plt.style.use('classic')\n",
    "import numpy as np\n",
    "from numpy import random\n",
    "from astropy.table import Table\n",
    "\n",
    "clmm.__version__\n",
    "import clmm.polaraveraging as pa\n",
    "import clmm.galaxycluster as gc\n",
    "import clmm.modeling as modeling\n",
    "from clmm import Cosmology \n",
    "import modeling_test as model\n",
    "import mock_data as mock"
   ]
  },
  {
   "cell_type": "code",
   "execution_count": 2,
   "metadata": {},
   "outputs": [
    {
     "ename": "TypeError",
     "evalue": "_set_halo_def() got an unexpected keyword argument 'cluster_z'",
     "output_type": "error",
     "traceback": [
      "\u001b[0;31m---------------------------------------------------------------------------\u001b[0m",
      "\u001b[0;31mTypeError\u001b[0m                                 Traceback (most recent call last)",
      "\u001b[0;32m<ipython-input-2-86fe7a69e95e>\u001b[0m in \u001b[0;36m<module>\u001b[0;34m\u001b[0m\n\u001b[1;32m      1\u001b[0m \u001b[0mcosmo\u001b[0m \u001b[0;34m=\u001b[0m \u001b[0mCosmology\u001b[0m\u001b[0;34m(\u001b[0m\u001b[0mH0\u001b[0m \u001b[0;34m=\u001b[0m \u001b[0;36m71.0\u001b[0m\u001b[0;34m,\u001b[0m \u001b[0mOmega_dm0\u001b[0m \u001b[0;34m=\u001b[0m \u001b[0;36m0.265\u001b[0m \u001b[0;34m-\u001b[0m \u001b[0;36m0.0448\u001b[0m\u001b[0;34m,\u001b[0m \u001b[0mOmega_b0\u001b[0m \u001b[0;34m=\u001b[0m \u001b[0;36m0.0448\u001b[0m\u001b[0;34m,\u001b[0m \u001b[0mOmega_k0\u001b[0m \u001b[0;34m=\u001b[0m \u001b[0;36m0.0\u001b[0m\u001b[0;34m)\u001b[0m\u001b[0;34m\u001b[0m\u001b[0;34m\u001b[0m\u001b[0m\n\u001b[1;32m      2\u001b[0m \u001b[0msignal\u001b[0m \u001b[0;34m=\u001b[0m \u001b[0mmodel\u001b[0m\u001b[0;34m.\u001b[0m\u001b[0mSignal\u001b[0m\u001b[0;34m(\u001b[0m\u001b[0mcosmo\u001b[0m \u001b[0;34m=\u001b[0m \u001b[0mcosmo\u001b[0m\u001b[0;34m)\u001b[0m\u001b[0;34m\u001b[0m\u001b[0;34m\u001b[0m\u001b[0m\n\u001b[0;32m----> 3\u001b[0;31m \u001b[0msignal\u001b[0m\u001b[0;34m.\u001b[0m\u001b[0m_set_halo_def\u001b[0m\u001b[0;34m(\u001b[0m\u001b[0mmass_def\u001b[0m \u001b[0;34m=\u001b[0m \u001b[0;34m'mean'\u001b[0m\u001b[0;34m,\u001b[0m \u001b[0mdelta_mdef\u001b[0m \u001b[0;34m=\u001b[0m \u001b[0;36m200\u001b[0m\u001b[0;34m,\u001b[0m \u001b[0mhalo_profile_model\u001b[0m \u001b[0;34m=\u001b[0m \u001b[0;34m'nfw'\u001b[0m\u001b[0;34m,\u001b[0m \u001b[0mcluster_z\u001b[0m \u001b[0;34m=\u001b[0m \u001b[0;36m0.4\u001b[0m\u001b[0;34m)\u001b[0m\u001b[0;34m\u001b[0m\u001b[0;34m\u001b[0m\u001b[0m\n\u001b[0m\u001b[1;32m      4\u001b[0m \u001b[0msignal\u001b[0m\u001b[0;34m.\u001b[0m\u001b[0m_set_is_deltasigma\u001b[0m\u001b[0;34m(\u001b[0m\u001b[0mis_deltasigma\u001b[0m \u001b[0;34m=\u001b[0m \u001b[0;32mTrue\u001b[0m\u001b[0;34m)\u001b[0m\u001b[0;34m\u001b[0m\u001b[0;34m\u001b[0m\u001b[0m\n\u001b[1;32m      5\u001b[0m \u001b[0msignal\u001b[0m\u001b[0;34m.\u001b[0m\u001b[0mavailable_parameters\u001b[0m\u001b[0;34m(\u001b[0m\u001b[0;34m)\u001b[0m\u001b[0;34m\u001b[0m\u001b[0;34m\u001b[0m\u001b[0m\n",
      "\u001b[0;31mTypeError\u001b[0m: _set_halo_def() got an unexpected keyword argument 'cluster_z'"
     ]
    }
   ],
   "source": [
    "cosmo = Cosmology(H0 = 71.0, Omega_dm0 = 0.265 - 0.0448, Omega_b0 = 0.0448, Omega_k0 = 0.0)\n",
    "signal = model.Signal(cosmo = cosmo)\n",
    "signal._set_halo_def(mass_def = 'mean', delta_mdef = 200, halo_profile_model = 'nfw')\n",
    "signal._set_cluster_z(cluster_z = 0.4)\n",
    "signal._set_is_deltasigma(is_deltasigma = True)\n",
    "signal.available_parameters()\n",
    "signal._set_free_parameters(free_logm = True, free_concentration = True)\n",
    "signal._set_model_to_fit(z_galaxy = np.array([1,2]))\n",
    "signal._set_dict()"
   ]
  },
  {
   "cell_type": "code",
   "execution_count": null,
   "metadata": {},
   "outputs": [],
   "source": [
    "mock_cosmo = Cosmology(H0 = 71.0, Omega_dm0 = 0.265 - 0.0448, Omega_b0 = 0.0448, Omega_k0 = 0.0)"
   ]
  },
  {
   "cell_type": "code",
   "execution_count": null,
   "metadata": {},
   "outputs": [],
   "source": [
    "data = mock.generate_galaxy_catalog(10**14, 0.4, 5, mock_cosmo, 200,'chang13', zsrc_min = 0.4 + 0.1 ,shapenoise = 0.05,ngals=20000)\n",
    "\n",
    "\"\"\"Create GalaxyCluster object\"\"\"\n",
    "\n",
    "cl = clmm.GalaxyCluster('cluster', 0, 0, 0.4, data)\n",
    "\n",
    "\"\"\"Add tangential and cross components\"\"\"\n",
    "\n",
    "# the critical surface density is recquired then set is_deltasigma = True whatever you estimate reduced shear or deltasigma\n",
    "\n",
    "cl.compute_tangential_and_cross_components(geometry=\"flat\", is_deltasigma = True, cosmo = mock_cosmo)\n",
    "\n",
    "\"\"\"Create profile\"\"\"\n",
    "\n",
    "bin_edges = pa.make_bins( 0.1 , 5 , 10 , method='evenwidth')\n",
    "\n",
    "profile = cl.make_binned_profile(\"radians\", \"Mpc\", bins=bin_edges,cosmo=mock_cosmo,include_empty_bins= True,gal_ids_in_bins=True)\n",
    "\n",
    "\"\"\"Estimate individual shear profile\"\"\""
   ]
  },
  {
   "cell_type": "code",
   "execution_count": null,
   "metadata": {},
   "outputs": [],
   "source": [
    "import iminuit\n",
    "from iminuit import Minuit"
   ]
  },
  {
   "cell_type": "code",
   "execution_count": null,
   "metadata": {},
   "outputs": [],
   "source": [
    "def chi2(p):\n",
    "    \n",
    "    chi2=0\n",
    "    \n",
    "     # Calculated model at data x-values\n",
    "\n",
    "    y_predict = np.array(signal.model(profile['radius'], p))\n",
    "\n",
    "    delta = -(profile['gt'] - y_predict)\n",
    "    \n",
    "    cov = np.eye(len(profile['radius']))*profile['gt_err']**2\n",
    "\n",
    "    inv_cov = np.linalg.inv(cov)\n",
    "\n",
    "    chi2 =  np.sum(delta * inv_cov.dot(delta))\n",
    "    \n",
    "    return chi2\n",
    "\n",
    "## Minimisation (we can fix some parameters, or define domains (see \n",
    "\n",
    "m = Minuit.from_array_func(chi2, signal.init, (12,16), (0,16), errordef = 1, name = (\"p1\",\"p2\"))\n",
    "## Find minimum with Migrad\n",
    "m.migrad()\n",
    "## Run Hessian for uncertainties\n",
    "m.hesse()\n",
    "## Run Minos for more robust and asymetric error bars\n",
    "m.minos()\n",
    "## Calculate chi2_min/dof (I have two free parameters here)\n",
    "chi2min_dof =  m.fval/(len(profile['gt'])-2)\n",
    "# retrieve best-fit values\n",
    "# Print all (values, parameters, errors Hess and Minos)\n",
    "print(m.params)"
   ]
  },
  {
   "cell_type": "code",
   "execution_count": null,
   "metadata": {},
   "outputs": [],
   "source": [
    "\n",
    "plt.errorbar(profile['radius'],profile['gt'],profile['gt_err'],fmt = '.')\n",
    "y_up = signal.model(profile['radius'], [m.values['p1'] + m.merrors['p1'].upper, m.values['p2'] + m.merrors['p2'].upper])\n",
    "y_down = signal.model(profile['radius'], [m.values['p1'] + m.merrors['p1'].lower, m.values['p2'] + m.merrors['p2'].lower])\n",
    "plt.fill_between(profile['radius'],y_up,y_down ,color = 'r', alpha = 1)\n",
    "plt.xscale('log')\n",
    "plt.yscale('log')\n",
    "plt.show()"
   ]
  },
  {
   "cell_type": "code",
   "execution_count": null,
   "metadata": {},
   "outputs": [],
   "source": []
  }
 ],
 "metadata": {
  "kernelspec": {
   "display_name": "mydesc",
   "language": "python",
   "name": "mydesc"
  },
  "language_info": {
   "codemirror_mode": {
    "name": "ipython",
    "version": 3
   },
   "file_extension": ".py",
   "mimetype": "text/x-python",
   "name": "python",
   "nbconvert_exporter": "python",
   "pygments_lexer": "ipython3",
   "version": "3.7.6"
  }
 },
 "nbformat": 4,
 "nbformat_minor": 4
}
