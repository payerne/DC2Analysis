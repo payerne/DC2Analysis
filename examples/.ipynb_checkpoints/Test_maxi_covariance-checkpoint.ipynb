{
 "cells": [
  {
   "cell_type": "code",
   "execution_count": 1,
   "id": "5c96e453",
   "metadata": {},
   "outputs": [],
   "source": [
    "%load_ext autoreload\n",
    "\n",
    "%autoreload 2\n",
    "import GCRCatalogs\n",
    "import matplotlib.pyplot as plt\n",
    "import pickle\n",
    "from astropy.coordinates import SkyCoord, match_coordinates_3d, match_coordinates_sky\n",
    "import sys\n",
    "import numpy as np\n",
    "from astropy.cosmology import FlatLambdaCDM\n",
    "import astropy.units as u\n",
    "from astropy.table import Table, QTable, hstack, vstack\n",
    "from astropy import units as u\n",
    "from astropy.coordinates import SkyCoord, match_coordinates_3d\n",
    "cosmo_astropy = FlatLambdaCDM(H0=71.0, Om0=0.265, Ob0 = 0.0448)\n",
    "import iminuit\n",
    "from iminuit import Minuit\n",
    "cosmo_astropy.critical_density(0.4).to(u.Msun / u.Mpc**3).value\n",
    "sys.path.append('/pbs/throng/lsst/users/cpayerne/GitForThesis/DC2Analysis')\n",
    "import corner\n",
    "import make_profile as prf\n",
    "\n",
    "sys.path.append('/pbs/throng/lsst/users/cpayerne/GitForThesis/DC2Analysis/modeling/')\n",
    "import miscentering as mis\n",
    "import two_halo_term as twoh\n",
    "import mass_conversion as utils\n",
    "import clmm\n",
    "import clmm.dataops\n",
    "from clmm.dataops import compute_tangential_and_cross_components, make_radial_profile, make_bins\n",
    "from clmm.galaxycluster import GalaxyCluster\n",
    "import clmm.utils as u\n",
    "import astropy.units as un\n",
    "from clmm import Cosmology\n",
    "from clmm.support import mock_data as mock\n",
    "import pyccl as ccl\n",
    "cosmo = Cosmology(H0 = 71.0, Omega_dm0 = 0.265 - 0.0448, Omega_b0 = 0.0448, Omega_k0 = 0.0)\n",
    "cosmo_astropy = FlatLambdaCDM(H0=71.0, Om0=0.265, Ob0 = 0.0448)\n",
    "cosmo_clmm = Cosmology(H0 = 71.0, Omega_dm0 = 0.265 - 0.0448, Omega_b0 = 0.0448, Omega_k0 = 0.0)\n",
    "cosmo_ccl  = ccl.Cosmology(Omega_c=0.265-0.0448, Omega_b=0.0448, h=0.71, A_s=2.1e-9, n_s=0.96, Neff=0, Omega_g=0)"
   ]
  },
  {
   "cell_type": "code",
   "execution_count": 2,
   "id": "a78ec39f",
   "metadata": {},
   "outputs": [],
   "source": [
    "def load(filename, **kwargs):\n",
    "\n",
    "    with open(filename, 'rb') as fin:\n",
    "        \n",
    "        return pickle.load(fin, **kwargs)"
   ]
  },
  {
   "cell_type": "code",
   "execution_count": 3,
   "id": "2bcee6dd",
   "metadata": {},
   "outputs": [],
   "source": [
    "profile_SkySim = load('/pbs/throng/lsst/users/cpayerne/ThesisAtCCin2p3/p_RedMapper_clusters/paper_dc2_galaxy_cluster_mass/data_DS/Richness_cosmodc2_flex_BPZ/individual_epsilon_shape_true_z_SkySim_all_bins.pkl')"
   ]
  },
  {
   "cell_type": "code",
   "execution_count": 4,
   "id": "eac92aaf",
   "metadata": {},
   "outputs": [],
   "source": [
    "sum_weights_per_cluster_10 = []\n",
    "sum_weights_per_cluster_5 = []\n",
    "for i, cl in enumerate(profile_SkySim):\n",
    "    mask = (profile_SkySim['radius_av'][i] > 1)*(profile_SkySim['radius_av'][i] < 10)\n",
    "    sum_weights_per_cluster_10.append(np.sum(profile_SkySim['norm_sum'][i][mask]))\n",
    "    mask = (profile_SkySim['radius_av'][i] > 1)*(profile_SkySim['radius_av'][i] < 5.5)\n",
    "    sum_weights_per_cluster_5.append(np.sum(profile_SkySim['norm_sum'][i][mask]))"
   ]
  },
  {
   "cell_type": "code",
   "execution_count": 5,
   "id": "434da12f",
   "metadata": {},
   "outputs": [],
   "source": [
    "profile_SkySim['weight_per_cluster_5'] = np.array(sum_weights_per_cluster_5)*1e27\n",
    "profile_SkySim['weight_per_cluster_10'] = np.array(sum_weights_per_cluster_10)*1e27"
   ]
  },
  {
   "cell_type": "code",
   "execution_count": 79,
   "id": "efeeb09d",
   "metadata": {},
   "outputs": [
    {
     "name": "stdout",
     "output_type": "stream",
     "text": [
      "[0.2        0.33333333 0.46666667 0.6       ]\n"
     ]
    }
   ],
   "source": [
    "def binning(corner): return [[corner[i],corner[i+1]] for i in range(len(corner)-1)]\n",
    "z_corner = np.linspace(0.2, 0.6, 4)\n",
    "print(z_corner)\n",
    "#z_corner = [0.2, 0.35, 0.5, 0.65]\n",
    "Z_bin = binning(z_corner)\n",
    "#rich_corner = [20,30,45,60, np.inf]\n",
    "rich_corner = np.logspace(np.log10(20), np.log10(200),4)\n",
    "rich_corner[-1] = np.inf\n",
    "Richness_bin = binning(rich_corner)\n",
    "Obs_bin = Richness_bin"
   ]
  },
  {
   "cell_type": "code",
   "execution_count": 80,
   "id": "e7945726-6b70-40bc-9c7d-8f7ae01d48df",
   "metadata": {},
   "outputs": [],
   "source": [
    "richness = np.array(profile_SkySim['richness'])\n",
    "richness = [r[0] for r in richness]\n",
    "sorte = np.array_split(np.sort(richness), 4)\n",
    "Richness_bin = [[s[0], s[-1]] for s in sorte]"
   ]
  },
  {
   "cell_type": "code",
   "execution_count": 81,
   "id": "30d03477",
   "metadata": {},
   "outputs": [
    {
     "data": {
      "text/plain": [
       "[[20.003485, 23.527384],\n",
       " [23.527384, 28.85137],\n",
       " [28.85137, 40.170563],\n",
       " [40.216324, 293.70822]]"
      ]
     },
     "execution_count": 81,
     "metadata": {},
     "output_type": "execute_result"
    }
   ],
   "source": [
    "Richness_bin"
   ]
  },
  {
   "cell_type": "code",
   "execution_count": 82,
   "id": "778ffe6f",
   "metadata": {},
   "outputs": [],
   "source": [
    "moo = clmm.Modeling(massdef = 'critical', delta_mdef = 200, halo_profile_model = 'nfw')\n",
    "moo.set_cosmo(cosmo_clmm)\n",
    "deff = ccl.halos.massdef.MassDef(200, 'critical', c_m_relation=None)\n",
    "conc = ccl.halos.concentration.ConcentrationDiemer15(mdef=deff)"
   ]
  },
  {
   "cell_type": "markdown",
   "id": "8231172b",
   "metadata": {},
   "source": [
    "### Mass richness relation"
   ]
  },
  {
   "cell_type": "code",
   "execution_count": 83,
   "id": "11682cef",
   "metadata": {},
   "outputs": [],
   "source": [
    "from statistics import median"
   ]
  },
  {
   "cell_type": "code",
   "execution_count": 84,
   "id": "b053a9dd",
   "metadata": {},
   "outputs": [],
   "source": [
    "z0 = median(profile_SkySim['cluster_z'])\n",
    "richness0 = median(profile_SkySim['richness'])\n",
    "Gamma_5 = 0.75\n",
    "Gamma_10 = 0.8"
   ]
  },
  {
   "cell_type": "code",
   "execution_count": 85,
   "id": "a81cc2fd",
   "metadata": {},
   "outputs": [],
   "source": [
    "def gaussian(x,mu,sigma):\n",
    "        return np.exp(-(x-mu)**2/(2*sigma**2))/np.sqrt(2*np.pi*sigma**2)\n",
    "    \n",
    "def mu_logM_lambda_f(redshift, logrichness, logM200c0, alpha, beta):\n",
    "    return logM200c0 + alpha*np.log10((1+redshift)/(1 + z0)) + beta*(logrichness-np.log10(richness0))"
   ]
  },
  {
   "cell_type": "code",
   "execution_count": 86,
   "id": "94d449e6",
   "metadata": {},
   "outputs": [],
   "source": [
    "def lnL_binned_1(theta, m200c_mean, m200c_err_mean, logrichness_mean, z_mean):\n",
    "    logM200c0, alpha, beta = theta\n",
    "    logm200c_err_mean = m200c_err_mean/(np.log(10)*m200c_mean)\n",
    "    model = mu_logM_lambda_f(z_mean, logrichness_mean, logM200c0, alpha, beta)\n",
    "    return np.sum(np.log(gaussian(m200c_mean, 10**model, m200c_err_mean)))"
   ]
  },
  {
   "cell_type": "code",
   "execution_count": 87,
   "id": "a1e57530",
   "metadata": {},
   "outputs": [],
   "source": [
    "def lnL_binned_2(theta, m200c_mean, m200c_err_mean, richness_individual, z_individual, weight_individual):\n",
    "    \n",
    "    p = []\n",
    "    \n",
    "    logM200c0, alpha, beta = theta\n",
    "    \n",
    "    for i, sample in enumerate(m200c_mean):\n",
    "        \n",
    "            logm_individual = mu_logM_lambda_f(z_individual[i], np.log10(richness_individual[i]), logM200c0, alpha, beta)\n",
    "            logm_excpected = np.log10(np.average((10**logm_individual)**Gamma, weights = weight_individual[i], axis = 0)**(1/Gamma))\n",
    "            \n",
    "            p.append(gaussian(np.log10(m200c_mean[i]), logm_excpected, m200c_err_mean[i]/(np.log(10)*m200c_mean[i])))\n",
    "    \n",
    "    return np.sum(np.log(np.array(p)))"
   ]
  },
  {
   "cell_type": "markdown",
   "id": "09b80253",
   "metadata": {},
   "source": [
    "### Fiducial"
   ]
  },
  {
   "cell_type": "code",
   "execution_count": 88,
   "id": "61c3de01",
   "metadata": {},
   "outputs": [],
   "source": [
    "def theta(ra1,dec1, ra2, dec2):\n",
    "    t = np.sqrt((ra1 - ra2)**2*np.cos(dec1*np.pi/180)**2 + (dec1 - dec2)**2)*(np.pi/180)\n",
    "    return t"
   ]
  },
  {
   "cell_type": "code",
   "execution_count": 89,
   "id": "6faf410e",
   "metadata": {},
   "outputs": [],
   "source": [
    "dat_RM = load('/pbs/throng/lsst/users/cpayerne/ThesisAtCCin2p3/Galaxy_Cluster_Catalogs_details/cosmoDC2/RedMapper_galaxy_clusters.pkl')\n",
    "dat_cosmodc2 = load('/pbs/throng/lsst/users/cpayerne/ThesisAtCCin2p3/Galaxy_Cluster_Catalogs_details/cosmoDC2/SkySim5000_DM_halos.pkl')"
   ]
  },
  {
   "cell_type": "code",
   "execution_count": 90,
   "id": "a0e0a0a0",
   "metadata": {},
   "outputs": [],
   "source": [
    "dat_cosmodc2['M200c'] = dat_cosmodc2['baseDC2/sod_halo_mass']/0.71    "
   ]
  },
  {
   "cell_type": "code",
   "execution_count": 91,
   "id": "7a0feb29",
   "metadata": {},
   "outputs": [],
   "source": [
    "def match_nearest_neghbor(base_catalog = 1, target_catalog =1, label_base = '', label_target = '', id_base = '', id_target = ''):\n",
    "    ml = {'z_mean' : [], 'richness' : [], 'richness_err' : [], 'logm200' : [],'logm200_err' : [], 'n' : []}\n",
    "    dat_tot = Table()\n",
    "\n",
    "    base_SkyCoord = SkyCoord(ra=base_catalog['ra']*un.deg, dec=base_catalog['dec']*un.deg, distance=cosmo_astropy.angular_diameter_distance(base_catalog['redshift']))\n",
    "    target_SkyCoord = SkyCoord(ra=target_catalog['ra']*un.deg, dec=target_catalog['dec']*un.deg, distance=cosmo_astropy.angular_diameter_distance(target_catalog['redshift']))\n",
    "\n",
    "    idx, sep2d, sep3d = match_coordinates_sky(base_SkyCoord,target_SkyCoord, nthneighbor=1,storekdtree='kdtree_3d')\n",
    "   \n",
    "    base_cut = base_catalog\n",
    "    target_cut = target_catalog[idx]\n",
    "    \n",
    "    for name in base_catalog.colnames:\n",
    "        name_match = name + label_base\n",
    "        dat_tot[name_match] = base_cut[name]\n",
    "        \n",
    "    for name in target_catalog.colnames:\n",
    "        name_match = name + label_target\n",
    "        dat_tot[name_match] = target_cut[name]\n",
    "\n",
    "    return dat_tot"
   ]
  },
  {
   "cell_type": "code",
   "execution_count": 92,
   "id": "8abbfbff",
   "metadata": {},
   "outputs": [],
   "source": [
    "def selection_cut(match = 1, label_base = '', label_target = ''):\n",
    "    \n",
    "    angsep = theta(match['ra' + label_base],match['dec' + label_base], match['ra' + label_target], match['dec' + label_target])\n",
    "    rsep = angsep*cosmo_astropy.angular_diameter_distance(match['redshift' + label_base]).value\n",
    "    match['distance'] = rsep\n",
    "    \n",
    "    z_selection = abs(match['redshift' + label_base] - match['redshift' + label_target]) < 0.05\n",
    "    RLambda = ((match['richness'+label_base]/100)**0.2)/0.71\n",
    "    r_selection = (match['distance'] < RLambda)\n",
    "    selection = z_selection * r_selection\n",
    "    match['R_lambda'] = RLambda\n",
    "    \n",
    "    return match[selection]"
   ]
  },
  {
   "cell_type": "code",
   "execution_count": 93,
   "id": "3b0d5307",
   "metadata": {},
   "outputs": [],
   "source": [
    "def find_repetition(match = 1, label_base = '', label_target = '', id_base = '', id_target = ''):\n",
    "    \n",
    "    choose_base_id = []\n",
    "    \n",
    "    list_unique_target_id = np.unique(match[id_target + label_target])\n",
    "    \n",
    "    for target_key in list_unique_target_id:\n",
    "        \n",
    "        mask = np.isin(match[id_target + label_target], target_key)\n",
    "        \n",
    "        cut = match[mask]\n",
    "        \n",
    "        if len(cut) == 1: choose_base_id.append(cut[id_base + label_base][0])\n",
    "            \n",
    "        else: \n",
    "            \n",
    "            index = np.argsort(cut['distance'])\n",
    "            \n",
    "            choose_base_id.append(cut[index][id_base + label_base][0])\n",
    "            \n",
    "    index = np.arange(len(match))\n",
    "    \n",
    "    ide = match[id_base + label_base]\n",
    "    \n",
    "    mask = np.isin(ide, np.array(choose_base_id))\n",
    "    \n",
    "    return match[mask]"
   ]
  },
  {
   "cell_type": "code",
   "execution_count": 94,
   "id": "c57bfe3f",
   "metadata": {},
   "outputs": [],
   "source": [
    "dat_cosmodc2['M200c'] = dat_cosmodc2['baseDC2/sod_halo_mass']/0.71    \n",
    "dat_cosmodc2_cut = dat_cosmodc2[(dat_cosmodc2['M200c'] > 3e13)]\n",
    "match_1 = match_nearest_neghbor(base_catalog = dat_RM, target_catalog =dat_cosmodc2_cut, label_base = '_RedMapper', label_target = '_cosmoDC2')\n",
    "match_1_selection = selection_cut(match = match_1, label_base = '_RedMapper', label_target = '_cosmoDC2')\n",
    "match_1_selection_repetition = find_repetition(match = match_1_selection, label_base = '_RedMapper', label_target = '_cosmoDC2', id_base = 'cluster_id', id_target = 'halo_id', )"
   ]
  },
  {
   "cell_type": "code",
   "execution_count": 95,
   "id": "c26ea7e3",
   "metadata": {},
   "outputs": [],
   "source": [
    "def make_binned(match = 1, Z_bin = '', Richness_bin = ''):\n",
    "    ml = {'z_mean' : [], 'logrichness' : [], 'logrichness_err' : [], 'm200' : [],'m200_err' : [], 'n_stack' : [], 'logrichness_in_bin':[], 'redshift_in_bin':[], 'logrichness_err_in_bin':[], 'redshift_err_in_bin':[]}\n",
    "    for z_bin in Z_bin:\n",
    "        for l_bin in Richness_bin:\n",
    "            mask_richness = (match['richness_RedMapper'] > l_bin[0])*(match['richness_RedMapper'] < l_bin[1])\n",
    "            mask_z = (match['redshift_RedMapper'] > z_bin[0])*(match['redshift_RedMapper'] < z_bin[1])\n",
    "            mask = mask_richness*mask_z\n",
    "            if len(mask[mask == True]) == 0: continue\n",
    "            if len(mask[mask == True]) > 1:\n",
    "                \n",
    "                ml['logrichness_in_bin'].append(np.log10(np.array(match['richness_RedMapper'][mask])))\n",
    "                ml['logrichness_err_in_bin'].append(np.array(match['richness_err_RedMapper'][mask])/(np.log(10) * np.array(match['richness_err_RedMapper'][mask])))\n",
    "                ml['redshift_in_bin'].append(np.array(match['redshift_RedMapper'][mask]))\n",
    "                ml['redshift_err_in_bin'].append(np.array(match['redshift_err_RedMapper'][mask]))\n",
    "                \n",
    "                weight_z = 1/np.array(match['redshift_err_RedMapper'][mask]**2)\n",
    "                ml['z_mean'].append(np.average(match['redshift_RedMapper'][mask], weights = None))\n",
    "                \n",
    "                weight_richness = 1./(np.array(match['richness_err_RedMapper'][mask])/(np.log(10) * np.array(match['richness_RedMapper'][mask]))**2)\n",
    "                ml['logrichness'].append(np.log10(np.average(match['richness_RedMapper'][mask], \n",
    "                                                    weights = None)))\n",
    "                ml['logrichness_err'].append(0)\n",
    "                ml['m200'].append(np.mean(match['M200c_cosmoDC2'][mask]))\n",
    "                \n",
    "                err_m = np.std(match['M200c_cosmoDC2'][mask])\n",
    "                ml['m200_err'].append(err_m/np.sqrt(len(match['M200c_cosmoDC2'][mask])))\n",
    "                ml['n_stack'].append(len(match['M200c_cosmoDC2'][mask]))\n",
    "            if len(mask[mask == True]) == 1: continue\n",
    "               \n",
    "    return ml\n",
    "\n",
    "binned_data = make_binned(match = match_1_selection_repetition, Z_bin = Z_bin, Richness_bin = Richness_bin)"
   ]
  },
  {
   "cell_type": "code",
   "execution_count": 96,
   "id": "20e7ba7e",
   "metadata": {},
   "outputs": [
    {
     "name": "stderr",
     "output_type": "stream",
     "text": [
      "No handles with labels found to put in legend.\n"
     ]
    },
    {
     "data": {
      "text/plain": [
       "<matplotlib.legend.Legend at 0x7f6e3eaa9310>"
      ]
     },
     "execution_count": 96,
     "metadata": {},
     "output_type": "execute_result"
    },
    {
     "data": {
      "image/png": "[encoded data removed]",
      "text/plain": [
       "<Figure size 432x288 with 1 Axes>"
      ]
     },
     "metadata": {
      "needs_background": "light"
     },
     "output_type": "display_data"
    }
   ],
   "source": [
    "err = (binned_data['m200_err'])/(np.log(10)*np.array(binned_data['m200']))\n",
    "plt.errorbar(binned_data['logrichness'], np.log10(binned_data['m200']),err, c = 'r', fmt = ' ')\n",
    "plt.legend()"
   ]
  },
  {
   "cell_type": "code",
   "execution_count": 97,
   "id": "1988476e",
   "metadata": {},
   "outputs": [],
   "source": [
    "def lnL_binned_val_2(theta, m200c, m200c_err, logrichness_individual, z_individual):\n",
    "    \n",
    "    p = []\n",
    "    \n",
    "    logM200c0, alpha, beta = theta\n",
    "    \n",
    "    for i, sample in enumerate(m200c):\n",
    "        \n",
    "            mu_individual = mu_logM_lambda_f(z_individual[i], logrichness_individual[i], logM200c0, alpha, beta)\n",
    "            mu_excpected = np.average(mu_individual)\n",
    "            \n",
    "            p.append(gaussian(np.log10(m200c[i]), mu_excpected, m200c_err[i]/(np.log(10)*m200c[i])))\n",
    "    \n",
    "    return np.sum(np.log(np.array(p)))"
   ]
  },
  {
   "cell_type": "code",
   "execution_count": 98,
   "id": "e04373f1",
   "metadata": {},
   "outputs": [],
   "source": [
    "m200c_mean_val = np.array(binned_data['m200'])\n",
    "m200c_err_mean_val = np.array(binned_data['m200_err'])\n",
    "logrichness_mean_val = np.array(binned_data['logrichness'])\n",
    "z_mean_val = np.array(binned_data['z_mean'])\n",
    "logrichness_individual_val = binned_data['logrichness_in_bin']\n",
    "z_individual_val = binned_data['redshift_in_bin']"
   ]
  },
  {
   "cell_type": "code",
   "execution_count": 99,
   "id": "5c0b3d95",
   "metadata": {},
   "outputs": [],
   "source": [
    "npath = 50\n",
    "nwalkers = 100"
   ]
  },
  {
   "cell_type": "code",
   "execution_count": 100,
   "id": "3186dacd",
   "metadata": {},
   "outputs": [
    {
     "name": "stderr",
     "output_type": "stream",
     "text": [
      "100%|██████████| 50/50 [00:03<00:00, 15.35it/s]\n"
     ]
    }
   ],
   "source": [
    "import emcee\n",
    "initial_binned = [14.,0.,1]\n",
    "pos_binned = initial_binned + 0.01 * np.random.randn(npath, len(initial_binned))\n",
    "nwalkers, ndim = pos_binned.shape\n",
    "sampler_binned_true = emcee.EnsembleSampler(nwalkers, ndim, lnL_binned_val_2, args = (m200c_mean_val, m200c_err_mean_val, logrichness_individual_val, z_individual_val))\n",
    "#sampler_binned_true = emcee.EnsembleSampler(nwalkers, ndim, lnL_binned_1, args = (m200c_mean_val, m200c_err_mean_val, logrichness_mean_val, z_mean_val))\n",
    "sampler_binned_true.run_mcmc(pos_binned, nwalkers, progress=True);"
   ]
  },
  {
   "cell_type": "code",
   "execution_count": 101,
   "id": "199c1ed6",
   "metadata": {},
   "outputs": [],
   "source": [
    "flat_samples_binned_true = sampler_binned_true.get_chain(discard=40, thin=1,flat=True)"
   ]
  },
  {
   "cell_type": "code",
   "execution_count": 102,
   "id": "754e1e3a",
   "metadata": {},
   "outputs": [],
   "source": [
    "mask = np.isin(profile_SkySim['cluster_id'], match_1_selection_repetition['cluster_id_RedMapper'])"
   ]
  },
  {
   "cell_type": "code",
   "execution_count": 103,
   "id": "e7052ecf",
   "metadata": {},
   "outputs": [],
   "source": [
    "profile_SkySim_cut = profile_SkySim[mask]"
   ]
  },
  {
   "cell_type": "markdown",
   "id": "fc71ac3b",
   "metadata": {},
   "source": [
    "Weak lensing mass richness relation"
   ]
  },
  {
   "cell_type": "code",
   "execution_count": 124,
   "id": "453eaa93",
   "metadata": {},
   "outputs": [
    {
     "name": "stderr",
     "output_type": "stream",
     "text": [
      "/pbs/home/c/cpayerne/.conda/envs/mydesc/lib/python3.7/site-packages/numpy/ma/core.py:2832: VisibleDeprecationWarning: Creating an ndarray from ragged nested sequences (which is a list-or-tuple of lists-or-tuples-or ndarrays with different lengths or shapes) is deprecated. If you meant to do this, you must specify 'dtype=object' when creating the ndarray\n",
      "  order=order, subok=True, ndmin=ndmin)\n"
     ]
    }
   ],
   "source": [
    "profile_sky_stack = prf.stacked_profile(profile = profile_SkySim_cut,\n",
    "                    r_in = 'radius_av',\n",
    "                    gt_in = 'gt_av', gx_in = 'gx_av',\n",
    "                    r_out = 'radius',\n",
    "                    gt_out = 'gt', gx_out = 'gx',\n",
    "                    weight = 'norm_sum',\n",
    "                    z_name = 'cluster_z', obs_name = 'richness',\n",
    "                    Z_bin = Z_bin, Obs_bin = Obs_bin, add_columns_to_bin = ['weight_per_cluster_10','weight_per_cluster_5']\n",
    "                                       )\n",
    "\n",
    "covariance_sky_stack = prf.bootstrap_covariance(profile = profile_SkySim_cut,\n",
    "                    r_in = 'radius_av',\n",
    "                    gt_in = 'gt_av', gx_in = 'gx_av',\n",
    "                    r_out = 'radius',\n",
    "                    gt_out = 'gt', gx_out = 'gx',\n",
    "                    weight = 'norm_sum',\n",
    "                    n_boot = 400,\n",
    "                    z_name = 'cluster_z', obs_name = 'richness',\n",
    "                    Z_bin = Z_bin, Obs_bin = Obs_bin)"
   ]
  },
  {
   "cell_type": "code",
   "execution_count": 125,
   "id": "8d40f3fa",
   "metadata": {},
   "outputs": [
    {
     "data": {
      "image/png": "[encoded data removed]",
      "text/plain": [
       "<Figure size 432x288 with 1 Axes>"
      ]
     },
     "metadata": {
      "needs_background": "light"
     },
     "output_type": "display_data"
    }
   ],
   "source": [
    "for i,p in enumerate(profile_sky_stack):\n",
    "    plt.loglog(p['radius'], p['gt'])"
   ]
  },
  {
   "cell_type": "code",
   "execution_count": 126,
   "id": "daf1f448",
   "metadata": {},
   "outputs": [],
   "source": [
    "moo = clmm.Modeling(massdef = 'critical', delta_mdef = 200, halo_profile_model = 'nfw')\n",
    "moo.set_cosmo(cosmo_clmm)\n",
    "deff = ccl.halos.massdef.MassDef(200, 'critical', c_m_relation=None)\n",
    "conc = ccl.halos.concentration.ConcentrationDiemer15(mdef=deff)"
   ]
  },
  {
   "cell_type": "code",
   "execution_count": 127,
   "id": "1fea66a1-f6c5-4340-829b-9540a2f40ba5",
   "metadata": {},
   "outputs": [],
   "source": [
    "from scipy.stats import multivariate_normal"
   ]
  },
  {
   "cell_type": "code",
   "execution_count": 128,
   "id": "e15a6383-3817-4fba-a869-3211c2811157",
   "metadata": {},
   "outputs": [],
   "source": [
    "def modify_matrix(cov, index):\n",
    "    mat_corr = np.zeros([len(index), len(index)])\n",
    "    for i, index_i in enumerate(index):\n",
    "        for j, index_j in enumerate(index):\n",
    "            mat_corr[i,j] = cov[index_i, index_j]\n",
    "    return mat_corr"
   ]
  },
  {
   "cell_type": "code",
   "execution_count": 129,
   "id": "fb2abc11",
   "metadata": {},
   "outputs": [],
   "source": [
    "def modele_ds(r, logm, c, cluster_z):\n",
    "\n",
    "    m = 10.**logm \n",
    "    \n",
    "    moo.set_mass(m), moo.set_concentration(c)\n",
    "    \n",
    "    deltasigma = []\n",
    "        \n",
    "    for i, xr in enumerate(r):\n",
    "    \n",
    "        deltasigma.append(moo.eval_excess_surface_density(xr, cluster_z))\n",
    "    \n",
    "    return np.array(deltasigma)\n",
    "\n",
    "def fitp(profile = 1, covariance = 1, up = 1, down = 1, m_c_relation = 1, fit_2_halo_term = 1):\n",
    "    \n",
    "    profile_in = profile\n",
    "    \n",
    "    fit_data_name = ['mask',\n",
    "                     'chi2ndof', \n",
    "                     'logm200','logm200_err', \n",
    "                     'c_w', 'c_w_err',\n",
    "                     'richness','richness_err', \n",
    "                     '1h_term', '2h_term','radius_model', 'z']\n",
    "    \n",
    "    tab = {name : [] for name in fit_data_name}\n",
    "    \n",
    "    kk = np.logspace(-5,5 ,100000)\n",
    "\n",
    "    for j, p in enumerate(profile_in):\n",
    "        \n",
    "        infos_cov = covariance[j]\n",
    "        \n",
    "        cluster_z, R, y_exp, cov_t = p['z_mean'], p['radius'], p['gt'], infos_cov['cov_t']\n",
    "        \n",
    "        if fit_2_halo_term == True:\n",
    "\n",
    "            Pk = twoh.compute_Pk(kk, cluster_z, cosmo_ccl)\n",
    "\n",
    "            ds_unbaised = twoh.ds_two_halo_term_unbaised(R, cluster_z, cosmo_ccl, kk, Pk)\n",
    "        \n",
    "        rmin, rmax = down, up\n",
    "\n",
    "        mask = (R > rmin)*(R < rmax)\n",
    "        \n",
    "        index = np.arange(len(mask))\n",
    "        \n",
    "        index_cut = index[mask]\n",
    "        \n",
    "        logm = np.logspace(11,16,1000)\n",
    "        \n",
    "        c200array = conc._concentration(cosmo_ccl, logm, 1/(1 + cluster_z))\n",
    "        \n",
    "        def chi2(logm200, c200):\n",
    "            \n",
    "            if m_c_relation == True:\n",
    "\n",
    "                c200 = np.interp(logm200, logm, c200array)\n",
    "\n",
    "            bias = twoh.halo_bais(logm = logm200, concentration = c200,\n",
    "                                         mdef = 'critical', Delta = 200, halo_def = 'nfw',\n",
    "                                         cluster_z = cluster_z, cosmo_ccl = cosmo_ccl)\n",
    "            \n",
    "            if fit_2_halo_term == True:\n",
    "\n",
    "                y_predict = modele_ds(R, logm200, c200, cluster_z) + bias * ds_unbaised\n",
    "                \n",
    "            else : y_predict = modele_ds(R, logm200, c200, cluster_z)\n",
    "            \n",
    "            d = (y_predict - y_exp)\n",
    "\n",
    "            d_cut = d[mask]\n",
    "            \n",
    "            inv_cov = np.linalg.inv((modify_matrix(cov_t, index_cut)))\n",
    "\n",
    "            m_lnL_ds = np.sum(d_cut*inv_cov.dot(d_cut))/2\n",
    "\n",
    "            return m_lnL_ds\n",
    "\n",
    "        minuit = Minuit(chi2, logm200 = 13, c200 = 3, limit_c200 = (0.01,16), fix_c200 = m_c_relation,\n",
    "                   limit_logm200 = (13,15), error_logm200 = 0.1,\n",
    "                   errordef = 0.5)\n",
    "        \n",
    "\n",
    "        minuit.migrad(),minuit.hesse(),minuit.minos()\n",
    "\n",
    "        chi2 = minuit.fval/(len(mask[mask == True])-2)\n",
    "\n",
    "        logm_fit = minuit.values['logm200']\n",
    "\n",
    "        logm_fit_err = minuit.errors['logm200']\n",
    "\n",
    "        c_fit = conc._concentration(cosmo_ccl, 10**logm_fit, 1/(1 + cluster_z))\n",
    "\n",
    "        c_fit_err = minuit.errors['c200']\n",
    "\n",
    "        radius, y_exp, y_exp_err = R, y_exp, np.sqrt(cov_t.diagonal())\n",
    "\n",
    "        ds_1h_term = modele_ds(R,logm_fit,c_fit,cluster_z)\n",
    "\n",
    "        #hbiais = minuit.values['bias']#twoh.halo_bais(logm = logm_fit, concentration = c_fit,\n",
    "                                         #mdef = 'critical', Delta = 200, halo_def = 'nfw',\n",
    "                                         #cluster_z = cluster_z, cosmo_ccl = cosmo_ccl)\n",
    "\n",
    "        ds_2h_term = 1#hbiais * ds_unbaised\n",
    "\n",
    "        dat_col = [mask, \n",
    "                   chi2, \n",
    "                   logm_fit, logm_fit_err, \n",
    "                   c_fit, c_fit_err, \n",
    "                   p['obs_mean'], p['obs_rms'],\n",
    "                   ds_1h_term, ds_2h_term, R, p['z_mean']]\n",
    "\n",
    "    \n",
    "            #dat_col = [None for i in range(len(fit_data_name))]\n",
    "            \n",
    "        for i, name in enumerate(fit_data_name):\n",
    "            \n",
    "            tab[name].append(dat_col[i])\n",
    "\n",
    "    #for name in fit_data_name:\n",
    "        \n",
    "       # profile_in[name] = tab[name]\n",
    "    \n",
    "    t = Table(tab)\n",
    "    \n",
    "    t = hstack([t, profile_in])\n",
    "        \n",
    "    return t"
   ]
  },
  {
   "cell_type": "code",
   "execution_count": 130,
   "id": "82b44381",
   "metadata": {},
   "outputs": [
    {
     "name": "stdout",
     "output_type": "stream",
     "text": [
      "CPU times: user 4 µs, sys: 3 µs, total: 7 µs\n",
      "Wall time: 14.3 µs\n"
     ]
    },
    {
     "name": "stderr",
     "output_type": "stream",
     "text": [
      "/pbs/throng/lsst/users/cpayerne/GitForThesis/DC2Analysis/modeling/two_halo_term.py:72: IntegrationWarning: The maximum number of subdivisions (50) has been achieved.\n",
      "  If increasing the limit yields no improvement it is advised to analyze \n",
      "  the integrand in order to determine the difficulties.  If the position of a \n",
      "  local difficulty can be determined (singularity, discontinuity) one will \n",
      "  probably gain from splitting up the interval and calling the integrator \n",
      "  on the subranges.  Perhaps a special-purpose integrator should be used.\n",
      "  val = quad(integrand  , 2*1e-4 , 20000 , args = ( theta ))[0]\n",
      "/pbs/throng/lsst/users/cpayerne/GitForThesis/DC2Analysis/modeling/NFW_profile.py:47: RuntimeWarning: invalid value encountered in log\n",
      "  return np.log(1 + c) - c/(1 + c)\n",
      "/pbs/home/c/cpayerne/.conda/envs/mydesc/lib/python3.7/site-packages/scipy/optimize/minpack.py:175: RuntimeWarning: The iteration is not making good progress, as measured by the \n",
      "  improvement from the last ten iterations.\n",
      "  warnings.warn(msg, RuntimeWarning)\n",
      "/pbs/throng/lsst/users/cpayerne/GitForThesis/DC2Analysis/modeling/NFW_profile.py:33: RuntimeWarning: invalid value encountered in double_scalars\n",
      "  self.r200 = ((self.M200 * 3) / (self.alpha * 800 * np.pi * self.rho_critical)) ** (1./3.)\n"
     ]
    }
   ],
   "source": [
    "%time\n",
    "down = 1\n",
    "#fix_c_2h = fitp(profile = profile_sky_stack, covariance = covariance_sky_stack, up = 10, down = down, m_c_relation = True, fit_2_halo_term = True)\n",
    "#fix_c_1h = fitp(profile = profile_sky_stack, covariance = covariance_sky_stack, up = 4.5, down = down, m_c_relation = True, fit_2_halo_term = False)\n",
    "#free_c_2h = fitp(profile = profile_sky_stack, covariance = covariance_sky_stack,up = 10, down = down, m_c_relation = False, fit_2_halo_term = True)\n",
    "free_c_1h = fitp(profile = profile_sky_stack, covariance = covariance_sky_stack,up = 10, down = down, m_c_relation = False, fit_2_halo_term = True)"
   ]
  },
  {
   "cell_type": "code",
   "execution_count": 131,
   "id": "4adf06bd-9988-4609-9885-2e062d03456e",
   "metadata": {},
   "outputs": [
    {
     "data": {
      "text/plain": [
       "(14.0, 14.8)"
      ]
     },
     "execution_count": 131,
     "metadata": {},
     "output_type": "execute_result"
    },
    {
     "data": {
      "image/png": "[encoded data removed]",
      "text/plain": [
       "<Figure size 432x288 with 1 Axes>"
      ]
     },
     "metadata": {
      "needs_background": "light"
     },
     "output_type": "display_data"
    }
   ],
   "source": [
    "plt.errorbar(free_c_1h['richness'],free_c_1h['logm200'], free_c_1h['logm200_err'])\n",
    "plt.xscale('log')\n",
    "plt.ylim(14,14.8)"
   ]
  },
  {
   "cell_type": "code",
   "execution_count": 123,
   "id": "a3df64fa-ec00-4bbb-9e30-636ac901bf5e",
   "metadata": {},
   "outputs": [
    {
     "data": {
      "text/plain": [
       "(array([8., 0., 0., 0., 0., 0., 0., 0., 0., 1.]),\n",
       " array([4.15977581e-01, 5.49421179e+01, 1.09468258e+02, 1.63994399e+02,\n",
       "        2.18520539e+02, 2.73046679e+02, 3.27572820e+02, 3.82098960e+02,\n",
       "        4.36625100e+02, 4.91151241e+02, 5.45677381e+02]),\n",
       " <a list of 10 Patch objects>)"
      ]
     },
     "execution_count": 123,
     "metadata": {},
     "output_type": "execute_result"
    },
    {
     "data": {
      "image/png": "[encoded data removed]",
      "text/plain": [
       "<Figure size 432x288 with 1 Axes>"
      ]
     },
     "metadata": {
      "needs_background": "light"
     },
     "output_type": "display_data"
    }
   ],
   "source": [
    "plt.hist(free_c_1h['chi2ndof'])"
   ]
  },
  {
   "cell_type": "code",
   "execution_count": 118,
   "id": "7e1694bd",
   "metadata": {},
   "outputs": [],
   "source": [
    "fits = [free_c_1h]\n",
    "text = ['free c, 1h']"
   ]
  },
  {
   "cell_type": "code",
   "execution_count": 119,
   "id": "1c30fa8c",
   "metadata": {},
   "outputs": [
    {
     "data": {
      "image/png": "[encoded data removed]",
      "text/plain": [
       "<Figure size 1440x1440 with 4 Axes>"
      ]
     },
     "metadata": {
      "needs_background": "light"
     },
     "output_type": "display_data"
    }
   ],
   "source": [
    "fig, axs = plt.subplots(2, 2, figsize = (20,20), sharex=True, sharey=True)\n",
    "plt.rcParams['axes.linewidth'] = 2\n",
    "fig.subplots_adjust(wspace=0, hspace=0)\n",
    "i_fits = [0,0,1,1]\n",
    "j_fits = [1,0,1,0]\n",
    "color_z = ['orange','red','magenta','purple','green','cyan','blue','black']\n",
    "x = np.linspace(1,3,100)\n",
    "y = 0.7*x + 13.2\n",
    "for i,f in enumerate(fits):\n",
    "    \n",
    "    \n",
    "    for k, z_bin in enumerate(Z_bin):\n",
    "        \n",
    "            if i == 0:\n",
    "                \n",
    "                axs[i_fits[i],j_fits[i]].plot([],[], '-', c = color_z[k],label = f'{z_bin[0]:.2f}'+ r'$< z < $'+ f'{z_bin[1]:.2f}',)\n",
    "    \n",
    "\n",
    "            mask = (np.array(f['chi2ndof']) > 0.)*(np.array(f['chi2ndof']) < 400)\n",
    "\n",
    "            mask = mask*(f['z_mean'] > z_bin[0])*(f['z_mean'] < z_bin[1])\n",
    "\n",
    "            mask = mask*(f['n_stack'] > 1)\n",
    "\n",
    "            f_cut = f[mask]\n",
    "\n",
    "            a_t = 1./(1 + f_cut['z_mean'])\n",
    "\n",
    "            richness = f_cut['richness']\n",
    "            richness_err = f_cut['richness_err']\n",
    "            logm200w = f_cut['logm200']\n",
    "            logm200w_err = f_cut['logm200_err']\n",
    "            \n",
    "            axs[i_fits[i],j_fits[i]].text(1.5, 14.75, text[i], fontsize = 20)\n",
    "\n",
    "            axs[i_fits[i],j_fits[i]].errorbar(np.log10(richness),logm200w,logm200w_err, richness_err/(np.log(10)*richness),\n",
    "                    marker = '.', \n",
    "                    elinewidth = 2, capsize = 0, markersize = 7, c = color_z[k],\n",
    "                        markerfacecolor = None)\n",
    "    axs[i_fits[i],j_fits[i]].set_xlim(1.3,2.4)\n",
    "    axs[i_fits[i],j_fits[i]].set_ylim(13.9,14.9)\n",
    "    axs[i_fits[i],j_fits[i]].plot(x,y,'--k')\n",
    "    axs[i_fits[i],j_fits[i]].tick_params(axis='both', which = 'major', labelsize= 20)\n",
    "    axs[i_fits[i],j_fits[i]].legend(frameon = False, fontsize = 13, loc = 'lower right')\n",
    "    axs[i_fits[i],j_fits[i]].grid('True')\n",
    "    axs[i_fits[i],j_fits[i]].set_xlabel(r'$\\log_{10}(\\langle\\lambda\\rangle)$', fontsize = 20)\n",
    "    if j_fits[i] == 0:\n",
    "        axs[i_fits[i],j_fits[i]].set_ylabel(r'$\\log_{10}(\\langle M_{\\rm 200c}^{\\rm WL}\\rangle)$', fontsize = 20)\n",
    "plt.savefig('/pbs/throng/lsst/users/cpayerne/ThesisAtCCin2p3/Images/est_wl_mass.png', bbox_inches='tight', dpi=300)"
   ]
  }
 ],
 "metadata": {
  "kernelspec": {
   "display_name": "mydesc",
   "language": "python",
   "name": "mydesc"
  },
  "language_info": {
   "codemirror_mode": {
    "name": "ipython",
    "version": 3
   },
   "file_extension": ".py",
   "mimetype": "text/x-python",
   "name": "python",
   "nbconvert_exporter": "python",
   "pygments_lexer": "ipython3",
   "version": "3.7.6"
  }
 },
 "nbformat": 4,
 "nbformat_minor": 5
}
