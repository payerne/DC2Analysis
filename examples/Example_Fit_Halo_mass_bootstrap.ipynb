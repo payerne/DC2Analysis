{
 "cells": [
  {
   "cell_type": "code",
   "execution_count": 1,
   "metadata": {},
   "outputs": [],
   "source": [
    "import sys\n",
    "import os\n",
    "os.environ['CLMM_MODELING_BACKEND'] = 'ccl' # here you may choose ccl or nc (NumCosmo)\n",
    "sys.path.append('/pbs/throng/lsst/users/cpayerne/CLMM/examples/support')\n",
    "try: import clmm\n",
    "except:\n",
    "    import notebook_install\n",
    "    notebook_install.install_clmm_pipeline(upgrade=False)\n",
    "    import clmm\n",
    "import matplotlib.pyplot as plt\n",
    "import numpy as np\n",
    "from numpy import random\n",
    "from astropy.table import Table\n",
    "\n",
    "clmm.__version__\n",
    "import clmm.polaraveraging as pa\n",
    "import clmm.galaxycluster as gc\n",
    "import clmm.modeling as modeling\n",
    "from clmm import Cosmology \n",
    "sys.path.append('/pbs/throng/lsst/users/cpayerne/GitForThesis/DC2Analysis')\n",
    "import statistics as stat\n",
    "import resampling\n",
    "import mock_data as mock\n",
    "from scipy.optimize import curve_fit\n",
    "import iminuit\n",
    "from iminuit import Minuit"
   ]
  },
  {
   "cell_type": "markdown",
   "metadata": {},
   "source": [
    "### Testing Modeling"
   ]
  },
  {
   "cell_type": "code",
   "execution_count": 2,
   "metadata": {},
   "outputs": [],
   "source": [
    "mock_cosmo = Cosmology(H0=70.0, Omega_dm0=0.27-0.045, Omega_b0=0.045, Omega_k0=0.0)"
   ]
  },
  {
   "cell_type": "code",
   "execution_count": 3,
   "metadata": {},
   "outputs": [],
   "source": [
    "cluster_z = 0.4\n",
    "cluster_m = 10**15\n",
    "c = 4"
   ]
  },
  {
   "cell_type": "code",
   "execution_count": 4,
   "metadata": {},
   "outputs": [],
   "source": [
    "np.random.seed(15)"
   ]
  },
  {
   "cell_type": "code",
   "execution_count": 5,
   "metadata": {},
   "outputs": [
    {
     "name": "stderr",
     "output_type": "stream",
     "text": [
      "/pbs/home/c/cpayerne/.conda/envs/mydesc/lib/python3.7/site-packages/numpy/ma/core.py:2832: VisibleDeprecationWarning: Creating an ndarray from ragged nested sequences (which is a list-or-tuple of lists-or-tuples-or ndarrays with different lengths or shapes) is deprecated. If you meant to do this, you must specify 'dtype=object' when creating the ndarray\n",
      "  order=order, subok=True, ndmin=ndmin)\n"
     ]
    }
   ],
   "source": [
    "data = mock.generate_galaxy_catalog(cluster_m, \n",
    "                                    cluster_z, \n",
    "                                    c, \n",
    "                                    mock_cosmo, \n",
    "                                    200,\n",
    "                                    'chang13', \n",
    "                                    zsrc_min = cluster_z + 0.1\n",
    "                                    ,shapenoise = 0.05\n",
    "                                    ,ngals=10000)\n",
    "\n",
    "\"\"\"Create GalaxyCluster object\"\"\"\n",
    "\n",
    "cl = clmm.GalaxyCluster('cluster', 0, 0, cluster_z, data)\n",
    "\n",
    "\"\"\"Add tangential and cross components\"\"\"\n",
    "\n",
    "# the critical surface density is recquired then set is_deltasigma = True whatever you estimate reduced shear or deltasigma\n",
    "\n",
    "cl.compute_tangential_and_cross_components(geometry=\"flat\", is_deltasigma = False, cosmo = mock_cosmo)\n",
    "\n",
    "\"\"\"Create profile\"\"\"\n",
    "\n",
    "bin_edges = pa.make_bins( 0.1, 3.7,15, method='evenlog10width')\n",
    "\n",
    "profile = cl.make_binned_profile(\"radians\", \"Mpc\", bins=bin_edges,cosmo=mock_cosmo,include_empty_bins= True,gal_ids_in_bins=True)"
   ]
  },
  {
   "cell_type": "code",
   "execution_count": 6,
   "metadata": {},
   "outputs": [],
   "source": [
    "moo = clmm.Modeling(massdef = 'mean', delta_mdef = 200, halo_profile_model = 'nfw')\n",
    "\n",
    "moo.set_cosmo(mock_cosmo)\n",
    "\n",
    "def predict_reduced_tangential_shear(r, logm):\n",
    "\n",
    "    m = 10.**logm \n",
    "    \n",
    "    moo.set_mass(m) \n",
    "    \n",
    "    moo.set_concentration(c)\n",
    "    \n",
    "    deltasigma = []\n",
    "    \n",
    "    for i, R in enumerate(r):\n",
    "        \n",
    "        galist = profile['gal_id'][i]\n",
    "        \n",
    "        z = cl.galcat['z'][galist]\n",
    "        \n",
    "        surface_density = np.mean(moo.eval_reduced_shear(R, cluster_z, z))\n",
    "    \n",
    "        deltasigma.append(surface_density)\n",
    "        \n",
    "    return deltasigma"
   ]
  },
  {
   "cell_type": "code",
   "execution_count": 7,
   "metadata": {},
   "outputs": [],
   "source": [
    "#def predict_reduced_tangential_shear(r, logm):\n",
    "    \n",
    "#    return np.array([np.mean(\n",
    "#        clmm.predict_reduced_tangential_shear(\n",
    "#            r_proj = r, # Radial component of the profile\n",
    "#            mdelta=10**logm, # Mass of the cluster [M_sun]\n",
    "#            cdelta=4, # Concentration of the cluster\n",
    "#            z_cluster=cluster_z, # Redshift of the cluster\n",
    "#            z_source=cl.galcat[profile['gal_id'][i]]['z'], # Redshift value of each source galaxy inside the radial bin\n",
    "#            cosmo=mock_cosmo,\n",
    "#            delta_mdef=200,\n",
    "#            halo_profile_model='nfw'\n",
    "#        )) for i, r in enumerate(profile['radius'])])"
   ]
  },
  {
   "cell_type": "code",
   "execution_count": 8,
   "metadata": {},
   "outputs": [
    {
     "name": "stderr",
     "output_type": "stream",
     "text": [
      "/pbs/home/c/cpayerne/.conda/envs/mydesc/lib/python3.7/site-packages/scipy/optimize/minpack.py:755: RuntimeWarning: divide by zero encountered in true_divide\n",
      "  transform = 1.0 / sigma\n"
     ]
    },
    {
     "ename": "ValueError",
     "evalue": "Residuals are not finite in the initial point.",
     "output_type": "error",
     "traceback": [
      "\u001b[0;31m---------------------------------------------------------------------------\u001b[0m",
      "\u001b[0;31mValueError\u001b[0m                                Traceback (most recent call last)",
      "\u001b[0;32m<ipython-input-8-0e2a8d2c240b>\u001b[0m in \u001b[0;36m<module>\u001b[0;34m\u001b[0m\n\u001b[1;32m      1\u001b[0m logm, var_logm = curve_fit(predict_reduced_tangential_shear, profile['radius'], profile['gt'], sigma = profile['gt_err'],\n\u001b[0;32m----> 2\u001b[0;31m                           bounds = [10,17])\n\u001b[0m",
      "\u001b[0;32m~/.conda/envs/mydesc/lib/python3.7/site-packages/scipy/optimize/minpack.py\u001b[0m in \u001b[0;36mcurve_fit\u001b[0;34m(f, xdata, ydata, p0, sigma, absolute_sigma, check_finite, bounds, method, jac, **kwargs)\u001b[0m\n\u001b[1;32m    794\u001b[0m \u001b[0;34m\u001b[0m\u001b[0m\n\u001b[1;32m    795\u001b[0m         res = least_squares(func, p0, jac=jac, bounds=bounds, method=method,\n\u001b[0;32m--> 796\u001b[0;31m                             **kwargs)\n\u001b[0m\u001b[1;32m    797\u001b[0m \u001b[0;34m\u001b[0m\u001b[0m\n\u001b[1;32m    798\u001b[0m         \u001b[0;32mif\u001b[0m \u001b[0;32mnot\u001b[0m \u001b[0mres\u001b[0m\u001b[0;34m.\u001b[0m\u001b[0msuccess\u001b[0m\u001b[0;34m:\u001b[0m\u001b[0;34m\u001b[0m\u001b[0;34m\u001b[0m\u001b[0m\n",
      "\u001b[0;32m~/.conda/envs/mydesc/lib/python3.7/site-packages/scipy/optimize/_lsq/least_squares.py\u001b[0m in \u001b[0;36mleast_squares\u001b[0;34m(fun, x0, jac, bounds, method, ftol, xtol, gtol, x_scale, loss, f_scale, diff_step, tr_solver, tr_options, jac_sparsity, max_nfev, verbose, args, kwargs)\u001b[0m\n\u001b[1;32m    812\u001b[0m \u001b[0;34m\u001b[0m\u001b[0m\n\u001b[1;32m    813\u001b[0m     \u001b[0;32mif\u001b[0m \u001b[0;32mnot\u001b[0m \u001b[0mnp\u001b[0m\u001b[0;34m.\u001b[0m\u001b[0mall\u001b[0m\u001b[0;34m(\u001b[0m\u001b[0mnp\u001b[0m\u001b[0;34m.\u001b[0m\u001b[0misfinite\u001b[0m\u001b[0;34m(\u001b[0m\u001b[0mf0\u001b[0m\u001b[0;34m)\u001b[0m\u001b[0;34m)\u001b[0m\u001b[0;34m:\u001b[0m\u001b[0;34m\u001b[0m\u001b[0;34m\u001b[0m\u001b[0m\n\u001b[0;32m--> 814\u001b[0;31m         \u001b[0;32mraise\u001b[0m \u001b[0mValueError\u001b[0m\u001b[0;34m(\u001b[0m\u001b[0;34m\"Residuals are not finite in the initial point.\"\u001b[0m\u001b[0;34m)\u001b[0m\u001b[0;34m\u001b[0m\u001b[0;34m\u001b[0m\u001b[0m\n\u001b[0m\u001b[1;32m    815\u001b[0m \u001b[0;34m\u001b[0m\u001b[0m\n\u001b[1;32m    816\u001b[0m     \u001b[0mn\u001b[0m \u001b[0;34m=\u001b[0m \u001b[0mx0\u001b[0m\u001b[0;34m.\u001b[0m\u001b[0msize\u001b[0m\u001b[0;34m\u001b[0m\u001b[0;34m\u001b[0m\u001b[0m\n",
      "\u001b[0;31mValueError\u001b[0m: Residuals are not finite in the initial point."
     ]
    }
   ],
   "source": [
    "logm, var_logm = curve_fit(predict_reduced_tangential_shear, profile['radius'], profile['gt'], sigma = profile['gt_err'],\n",
    "                          bounds = [10,17])"
   ]
  },
  {
   "cell_type": "code",
   "execution_count": null,
   "metadata": {},
   "outputs": [],
   "source": [
    "popt_up_diag = [logm + 3*np.sqrt(var_logm)]\n",
    "popt_low_diag = [logm - 3*np.sqrt(var_logm)]\n",
    "y_up_diag = predict_reduced_tangential_shear(profile['radius'], *popt_up_diag)\n",
    "y_down_diag = predict_reduced_tangential_shear(profile['radius'], *popt_low_diag)"
   ]
  },
  {
   "cell_type": "code",
   "execution_count": null,
   "metadata": {},
   "outputs": [],
   "source": [
    "plt.errorbar(profile['radius'], profile['gt'], profile['gt_err'], c='k', fmt = '.', label = 'data')\n",
    "plt.plot(profile['radius'], predict_reduced_tangential_shear(profile['radius'], logm), label = 'best fit')\n",
    "plt.fill_between(profile['radius'], y_up_diag, y_down_diag, color = 'b', alpha = 0.2, label = '3sigma')\n",
    "plt.xscale('log')\n",
    "plt.yscale('log')\n",
    "plt.xlim(profile['radius'][0], profile['radius'][-1])\n",
    "plt.legend()"
   ]
  },
  {
   "cell_type": "markdown",
   "metadata": {},
   "source": [
    "# Using Bootstrap Covariance Matrix"
   ]
  },
  {
   "cell_type": "code",
   "execution_count": null,
   "metadata": {},
   "outputs": [],
   "source": [
    "sys.path.append('/pbs/throng/lsst/users/cpayerne/GitForThesis/DC2Analysis')\n",
    "import statistics_ as stat"
   ]
  },
  {
   "cell_type": "code",
   "execution_count": null,
   "metadata": {},
   "outputs": [],
   "source": [
    "Stat = stat.Statistics(len(profile['radius']))\n",
    "n_repetition = 500\n",
    "p1, p2 = [], []\n",
    "for i in range(n_repetition):\n",
    "    \n",
    "    cl_bootstrap = resampling.bootstrap(cl)\n",
    "\n",
    "    \"\"\"Create profile\"\"\"\n",
    "\n",
    "    profile_ = cl_bootstrap.make_binned_profile(\"radians\", \"Mpc\", bins=bin_edges,cosmo=mock_cosmo,include_empty_bins= True,gal_ids_in_bins=True)\n",
    "\n",
    "    p1.append(profile_['gt'][6])\n",
    "    p2.append(profile_['gt'][7])\n",
    "    \n",
    "    Stat._add_realization(profile_['gt'])"
   ]
  },
  {
   "cell_type": "code",
   "execution_count": null,
   "metadata": {},
   "outputs": [],
   "source": [
    "plt.scatter(p1, p2)\n",
    "plt.axis('equal')"
   ]
  },
  {
   "cell_type": "code",
   "execution_count": null,
   "metadata": {},
   "outputs": [],
   "source": [
    "Stat.estimate_covariance()"
   ]
  },
  {
   "cell_type": "code",
   "execution_count": null,
   "metadata": {},
   "outputs": [],
   "source": [
    "cov = Stat.covariance_matrix * 1./(n_repetition - 1.)\n",
    "Stat.estimate_correlation()\n",
    "corr = Stat.correlation_matrix"
   ]
  },
  {
   "cell_type": "code",
   "execution_count": null,
   "metadata": {},
   "outputs": [],
   "source": [
    "plt.imshow(cov)\n",
    "plt.colorbar()"
   ]
  },
  {
   "cell_type": "code",
   "execution_count": null,
   "metadata": {},
   "outputs": [],
   "source": [
    "plt.plot(profile['radius'],cov.diagonal()/(profile['gt_err']**2))"
   ]
  },
  {
   "cell_type": "code",
   "execution_count": null,
   "metadata": {},
   "outputs": [],
   "source": [
    "def chi2(logm):\n",
    "    \n",
    "\n",
    "    y_predict = predict_reduced_tangential_shear(profile['radius'], logm)\n",
    "\n",
    "    delta = -(profile['gt'] - y_predict)\n",
    "\n",
    "    inv_cov = np.linalg.inv(cov)\n",
    "\n",
    "    chi2 = np.sum(delta * inv_cov.dot(delta))\n",
    "    \n",
    "    return chi2"
   ]
  },
  {
   "cell_type": "code",
   "execution_count": null,
   "metadata": {},
   "outputs": [],
   "source": [
    "m_cov = Minuit(chi2, limit_logm = (12,16),  errordef = 1)\n",
    "m_cov.migrad()\n",
    "m_cov.hesse()\n",
    "m_cov.minos()\n",
    "chi2min_dof_cov =  chi2(m_cov.values['logm'])/(len(profile['radius'])-1)"
   ]
  },
  {
   "cell_type": "code",
   "execution_count": null,
   "metadata": {},
   "outputs": [],
   "source": [
    "popt_up_cov = [m_cov.values['logm'] + 3*m_cov.merrors['logm'].upper]\n",
    "popt_low_cov = [m_cov.values['logm'] + 3*m_cov.merrors['logm'].lower]\n"
   ]
  },
  {
   "cell_type": "code",
   "execution_count": null,
   "metadata": {},
   "outputs": [],
   "source": [
    "y_up_cov = predict_reduced_tangential_shear(profile['radius'], *popt_up_cov)\n",
    "y_down_cov = predict_reduced_tangential_shear(profile['radius'], *popt_low_cov)"
   ]
  },
  {
   "cell_type": "code",
   "execution_count": null,
   "metadata": {},
   "outputs": [],
   "source": [
    "m_cov_, err_m_cov_ = 10**m_cov.values['logm'],  np.log(10) * 10**m_cov.values['logm'] * m_cov.errors['logm']\n",
    "m_diag, m_err_diag = 10**logm[0],np.log(10) * 10 ** logm * np.sqrt(var_logm)"
   ]
  },
  {
   "cell_type": "code",
   "execution_count": null,
   "metadata": {},
   "outputs": [],
   "source": [
    "plt.figure(figsize = (8,8))\n",
    "plt.errorbar(profile['radius'],profile['gt'],profile['gt_err'],fmt = '.', c = 'k',elinewidth=1, capsize=2, \n",
    "             markersize= 5, \n",
    "             lolims=False, \n",
    "             uplims=False, \n",
    "             capthick=None, \n",
    "             alpha = 1, label = 'g_t (clmm)')\n",
    "#plt.errorbar(profile['radius'],profile['gt'],np.sqrt(cov_.diagonal()),fmt = 'x')\n",
    "plt.plot(profile['radius'], predict_reduced_tangential_shear(profile['radius'], np.log10(cluster_m)), '--k', label ='input')\n",
    "plt.fill_between(profile['radius'],y_up_cov,y_down_cov , color = 'g', alpha = 0.1, label = f'Full C')\n",
    "plt.fill_between(profile['radius'],y_up_diag,y_down_diag ,color = 'b', alpha = 0.1,label = f'w/ gt_err (clmm)')\n",
    "\n",
    "#plt.plot(profile['radius'],predict_reduced_tangential_shear(profile['radius'], logm), color = 'g', label = f'Full C')\n",
    "#plt.plot(profile['radius'],predict_reduced_tangential_shear(profile['radius'], np.log10(m_cov_)) ,color = 'b',label = f'Diagonal C')\n",
    "#plt.xlim(profile['radius'][0],profile['radius'][-1])\n",
    "#plt.plot([],[],'s',c = 'w', label = f'M_fit w/ full C = {m_cov_:1e} +/- {err_m_cov_:1e}')\n",
    "#plt.plot([],[],'s',c = 'w', label = f'M_fit w/ diagonal C = {m_diag:1e} +/- {m_err_diag[0][0]:1e}')\n",
    "plt.xscale('log')\n",
    "plt.yscale('log')\n",
    "plt.legend(frameon = False, fontsize = 15, loc = 'lower left')\n",
    "plt.show()"
   ]
  },
  {
   "cell_type": "code",
   "execution_count": null,
   "metadata": {},
   "outputs": [],
   "source": []
  },
  {
   "cell_type": "code",
   "execution_count": null,
   "metadata": {},
   "outputs": [],
   "source": []
  },
  {
   "cell_type": "code",
   "execution_count": null,
   "metadata": {},
   "outputs": [],
   "source": []
  }
 ],
 "metadata": {
  "kernelspec": {
   "display_name": "mydesc",
   "language": "python",
   "name": "mydesc"
  },
  "language_info": {
   "codemirror_mode": {
    "name": "ipython",
    "version": 3
   },
   "file_extension": ".py",
   "mimetype": "text/x-python",
   "name": "python",
   "nbconvert_exporter": "python",
   "pygments_lexer": "ipython3",
   "version": "3.7.6"
  }
 },
 "nbformat": 4,
 "nbformat_minor": 4
}
