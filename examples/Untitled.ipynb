{
 "cells": [
  {
   "cell_type": "code",
   "execution_count": 42,
   "id": "9c683f75-553e-43f0-8231-7847478fc2b2",
   "metadata": {},
   "outputs": [],
   "source": [
    "import numpy as np\n",
    "import matplotlib.pyplot as plt"
   ]
  },
  {
   "cell_type": "code",
   "execution_count": 50,
   "id": "4fe26a5f-0cc6-44d6-ac56-eca154795823",
   "metadata": {},
   "outputs": [],
   "source": [
    "n = 1\n",
    "mu = np.linspace(10, 5000, n)\n",
    "N_obs = mu + 3#np.random.randn(n)*np.sqrt(mu)\n",
    "N_obs_frac_mu = N_obs/mu\n",
    "Sigma_ij = np.diag(mu)"
   ]
  },
  {
   "cell_type": "code",
   "execution_count": 51,
   "id": "8482affa-b9fa-4208-b613-4559a0527912",
   "metadata": {},
   "outputs": [
    {
     "data": {
      "text/plain": [
       "array([[10.]])"
      ]
     },
     "execution_count": 51,
     "metadata": {},
     "output_type": "execute_result"
    }
   ],
   "source": [
    "Sigma_ij"
   ]
  },
  {
   "cell_type": "code",
   "execution_count": 52,
   "id": "97e54c1a-4418-40dc-a23a-295e7a5a26bf",
   "metadata": {},
   "outputs": [],
   "source": [
    "unity = np.zeros(n) + 1"
   ]
  },
  {
   "cell_type": "code",
   "execution_count": 53,
   "id": "035e3adb-69d5-4842-bdb9-e61e7d585a10",
   "metadata": {},
   "outputs": [],
   "source": [
    "frac_mu_x_frac_mu = np.tensordot(1/mu, 1/mu, axes=0)\n",
    "N_obs_x_1 = np.tensordot(N_obs, unity, axes=0)\n",
    "N_obs_frac_mu_x_N_obs_frac_mu = np.tensordot(N_obs_frac_mu, N_obs_frac_mu, axes=0)\n",
    "N_obs_frac_mu_x_1 = np.tensordot(N_obs_frac_mu, unity, axes=0) \n",
    "Kronoecker = np.eye(n)"
   ]
  },
  {
   "cell_type": "code",
   "execution_count": 54,
   "id": "da266bbc-f550-4500-961e-f16af6abfbc4",
   "metadata": {},
   "outputs": [],
   "source": [
    "M_ij = Sigma_ij * ( 1 - 2 * N_obs_frac_mu_x_1\n",
    "                   + N_obs_frac_mu_x_N_obs_frac_mu\n",
    "                   - frac_mu_x_frac_mu * N_obs_x_1 * Kronoecker )\n",
    "lnL = 1 + .5 * np.sum(M_ij) "
   ]
  },
  {
   "cell_type": "code",
   "execution_count": 55,
   "id": "08f49f10-8bfd-4876-badc-1e1132d0ad3b",
   "metadata": {},
   "outputs": [
    {
     "data": {
      "text/plain": [
       "0.8000000000000003"
      ]
     },
     "execution_count": 55,
     "metadata": {},
     "output_type": "execute_result"
    }
   ],
   "source": [
    "lnL"
   ]
  },
  {
   "cell_type": "code",
   "execution_count": null,
   "id": "dbc7a216-0abf-4c13-b5e3-e540132c558e",
   "metadata": {},
   "outputs": [],
   "source": [
    "plt.imshow("
   ]
  },
  {
   "cell_type": "code",
   "execution_count": 49,
   "id": "646b5954-8b7a-4ccf-a7f2-4082e570a790",
   "metadata": {},
   "outputs": [
    {
     "data": {
      "image/png": "[encoded data removed]",
      "text/plain": [
       "<Figure size 432x288 with 1 Axes>"
      ]
     },
     "metadata": {
      "needs_background": "light"
     },
     "output_type": "display_data"
    }
   ],
   "source": [
    "plt.plot(mu, M_ij.diagonal())\n",
    "plt.xscale('log')"
   ]
  },
  {
   "cell_type": "code",
   "execution_count": null,
   "id": "7ffd274a-a3c0-4aef-a480-8332627b095e",
   "metadata": {},
   "outputs": [],
   "source": []
  }
 ],
 "metadata": {
  "kernelspec": {
   "display_name": "mydesc",
   "language": "python",
   "name": "mydesc"
  },
  "language_info": {
   "codemirror_mode": {
    "name": "ipython",
    "version": 3
   },
   "file_extension": ".py",
   "mimetype": "text/x-python",
   "name": "python",
   "nbconvert_exporter": "python",
   "pygments_lexer": "ipython3",
   "version": "3.7.6"
  }
 },
 "nbformat": 4,
 "nbformat_minor": 5
}
