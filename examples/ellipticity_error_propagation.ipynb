{
 "cells": [
  {
   "cell_type": "code",
   "execution_count": 1,
   "id": "charming-sculpture",
   "metadata": {},
   "outputs": [],
   "source": [
    "import numpy as np"
   ]
  },
  {
   "cell_type": "code",
   "execution_count": 3,
   "id": "willing-boring",
   "metadata": {},
   "outputs": [],
   "source": [
    "def e(chi1, chi2):\n",
    "    \n",
    "    chi = np.sqrt(chi1**2 + chi2**2)\n",
    "    \n",
    "    zero = 1. + (1. - chi**2)**(1/2)\n",
    "    \n",
    "    return chi1/zero, chi2/zero\n",
    "    \n",
    "def chi(e1, e2):\n",
    "    \n",
    "    e = np.sqrt(e1**2+e2**2)\n",
    "    \n",
    "    zero = 1. + (1. + e**2)\n",
    "    \n",
    "    return 2*e1/zero, 2*e2/zero\n",
    "    \n",
    "def e_sigma(chi, chi_sigma):\n",
    "    \n",
    "    zero = 1. + (1. - chi**2)**(1/2)\n",
    "    \n",
    "    first = 1./zero\n",
    "    \n",
    "    second = chi**2./(zero * (1 - chi**2))\n",
    "    \n",
    "    return first*(1 + second)*chi_sigma\n",
    "\n",
    "def chi_sigma(e, e_sigma):\n",
    "    \n",
    "    chi_obs = 2*e/(1 + e**2)\n",
    "    \n",
    "    return e_sigma*chi_obs*(1/e - chi_obs)"
   ]
  },
  {
   "cell_type": "code",
   "execution_count": 37,
   "id": "entire-million",
   "metadata": {},
   "outputs": [],
   "source": [
    "chi1 = np.random.random(100)\n",
    "chi2 = np.random.random(100)\n",
    "chi_sigma = np.random.random(100)\n",
    "chi = np.sqrt(chi1**2 + chi2**2)\n",
    "\n",
    "\n",
    "mask = chi < 1\n",
    "chi1, chi2, chi, chi_sigma = chi1[mask], chi2[mask], chi[mask], chi_sigma[mask]"
   ]
  },
  {
   "cell_type": "code",
   "execution_count": 38,
   "id": "verified-accessory",
   "metadata": {},
   "outputs": [],
   "source": [
    "epsi1, epsi2 = e(chi1, chi2)\n",
    "epsi = np.sqrt(epsi1**2+ epsi2**2)\n",
    "epsi_sigma = e_sigma(chi,chi_sigma)"
   ]
  },
  {
   "cell_type": "code",
   "execution_count": 39,
   "id": "failing-grass",
   "metadata": {},
   "outputs": [],
   "source": [
    "import matplotlib.pyplot as plt"
   ]
  },
  {
   "cell_type": "code",
   "execution_count": 44,
   "id": "alpine-honey",
   "metadata": {},
   "outputs": [
    {
     "data": {
      "text/plain": [
       "[<matplotlib.lines.Line2D at 0x7f27eb1b3bd0>]"
      ]
     },
     "execution_count": 44,
     "metadata": {},
     "output_type": "execute_result"
    },
    {
     "data": {
      "image/png": "[encoded data removed]",
      "text/plain": [
       "<Figure size 432x288 with 1 Axes>"
      ]
     },
     "metadata": {
      "needs_background": "light"
     },
     "output_type": "display_data"
    }
   ],
   "source": [
    "plt.scatter(chi/chi_sigma, epsi/epsi_sigma, s = 0.7)\n",
    "plt.plot(chi/chi_sigma,chi/chi_sigma)"
   ]
  },
  {
   "cell_type": "code",
   "execution_count": null,
   "id": "incorporate-slave",
   "metadata": {},
   "outputs": [],
   "source": []
  }
 ],
 "metadata": {
  "kernelspec": {
   "display_name": "mydesc",
   "language": "python",
   "name": "mydesc"
  },
  "language_info": {
   "codemirror_mode": {
    "name": "ipython",
    "version": 3
   },
   "file_extension": ".py",
   "mimetype": "text/x-python",
   "name": "python",
   "nbconvert_exporter": "python",
   "pygments_lexer": "ipython3",
   "version": "3.7.6"
  }
 },
 "nbformat": 4,
 "nbformat_minor": 5
}
