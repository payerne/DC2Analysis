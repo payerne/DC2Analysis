{
 "cells": [
  {
   "cell_type": "code",
   "execution_count": 1,
   "metadata": {},
   "outputs": [
    {
     "ename": "ValueError",
     "evalue": "numpy.ndarray size changed, may indicate binary incompatibility. Expected 88 from C header, got 80 from PyObject",
     "output_type": "error",
     "traceback": [
      "\u001b[0;31m---------------------------------------------------------------------------\u001b[0m",
      "\u001b[0;31mValueError\u001b[0m                                Traceback (most recent call last)",
      "\u001b[0;32m<ipython-input-1-caf823f763ab>\u001b[0m in \u001b[0;36m<module>\u001b[0;34m\u001b[0m\n\u001b[1;32m      2\u001b[0m \u001b[0;32mimport\u001b[0m \u001b[0mos\u001b[0m\u001b[0;34m\u001b[0m\u001b[0;34m\u001b[0m\u001b[0m\n\u001b[1;32m      3\u001b[0m \u001b[0;32mimport\u001b[0m \u001b[0mnumpy\u001b[0m \u001b[0;32mas\u001b[0m \u001b[0mnp\u001b[0m\u001b[0;34m\u001b[0m\u001b[0;34m\u001b[0m\u001b[0m\n\u001b[0;32m----> 4\u001b[0;31m \u001b[0;32mimport\u001b[0m \u001b[0mpyccl\u001b[0m \u001b[0;32mas\u001b[0m \u001b[0mccl\u001b[0m\u001b[0;34m\u001b[0m\u001b[0;34m\u001b[0m\u001b[0m\n\u001b[0m\u001b[1;32m      5\u001b[0m \u001b[0;32mimport\u001b[0m \u001b[0mnumpy\u001b[0m \u001b[0;32mas\u001b[0m \u001b[0mnp\u001b[0m\u001b[0;34m\u001b[0m\u001b[0;34m\u001b[0m\u001b[0m\n\u001b[1;32m      6\u001b[0m \u001b[0;32mimport\u001b[0m \u001b[0msys\u001b[0m\u001b[0;34m\u001b[0m\u001b[0;34m\u001b[0m\u001b[0m\n",
      "\u001b[0;32m~/.conda/envs/mydesc/lib/python3.7/site-packages/pyccl/__init__.py\u001b[0m in \u001b[0;36m<module>\u001b[0;34m\u001b[0m\n\u001b[1;32m     14\u001b[0m \u001b[0;34m\u001b[0m\u001b[0m\n\u001b[1;32m     15\u001b[0m \u001b[0;32mfrom\u001b[0m \u001b[0;34m.\u001b[0m \u001b[0;32mimport\u001b[0m \u001b[0mccllib\u001b[0m \u001b[0;32mas\u001b[0m \u001b[0mlib\u001b[0m\u001b[0;34m\u001b[0m\u001b[0;34m\u001b[0m\u001b[0m\n\u001b[0;32m---> 16\u001b[0;31m \u001b[0;32mfrom\u001b[0m \u001b[0;34m.\u001b[0m \u001b[0;32mimport\u001b[0m \u001b[0mcore\u001b[0m\u001b[0;34m,\u001b[0m \u001b[0mconstants\u001b[0m\u001b[0;34m,\u001b[0m \u001b[0mbackground\u001b[0m\u001b[0;34m,\u001b[0m \u001b[0mpower\u001b[0m\u001b[0;34m,\u001b[0m \u001b[0mhalomodel\u001b[0m\u001b[0;34m,\u001b[0m \u001b[0mpk2d\u001b[0m\u001b[0;34m,\u001b[0m \u001b[0mhaloprofile\u001b[0m\u001b[0;34m,\u001b[0m \u001b[0mhalos\u001b[0m\u001b[0;34m,\u001b[0m \u001b[0mmassfunction\u001b[0m\u001b[0;34m,\u001b[0m \u001b[0mnl_pt\u001b[0m\u001b[0;34m\u001b[0m\u001b[0;34m\u001b[0m\u001b[0m\n\u001b[0m\u001b[1;32m     17\u001b[0m \u001b[0;34m\u001b[0m\u001b[0m\n\u001b[1;32m     18\u001b[0m \u001b[0;31m# Core data structures\u001b[0m\u001b[0;34m\u001b[0m\u001b[0;34m\u001b[0m\u001b[0;34m\u001b[0m\u001b[0m\n",
      "\u001b[0;32m~/.conda/envs/mydesc/lib/python3.7/site-packages/pyccl/core.py\u001b[0m in \u001b[0;36m<module>\u001b[0;34m\u001b[0m\n\u001b[1;32m     10\u001b[0m \u001b[0;32mfrom\u001b[0m \u001b[0;34m.\u001b[0m\u001b[0merrors\u001b[0m \u001b[0;32mimport\u001b[0m \u001b[0mCCLError\u001b[0m\u001b[0;34m,\u001b[0m \u001b[0mCCLWarning\u001b[0m\u001b[0;34m\u001b[0m\u001b[0;34m\u001b[0m\u001b[0m\n\u001b[1;32m     11\u001b[0m \u001b[0;32mfrom\u001b[0m \u001b[0;34m.\u001b[0m\u001b[0m_types\u001b[0m \u001b[0;32mimport\u001b[0m \u001b[0merror_types\u001b[0m\u001b[0;34m\u001b[0m\u001b[0;34m\u001b[0m\u001b[0m\n\u001b[0;32m---> 12\u001b[0;31m \u001b[0;32mfrom\u001b[0m \u001b[0;34m.\u001b[0m\u001b[0mboltzmann\u001b[0m \u001b[0;32mimport\u001b[0m \u001b[0mget_class_pk_lin\u001b[0m\u001b[0;34m,\u001b[0m \u001b[0mget_camb_pk_lin\u001b[0m\u001b[0;34m,\u001b[0m \u001b[0mget_isitgr_pk_lin\u001b[0m\u001b[0;34m\u001b[0m\u001b[0;34m\u001b[0m\u001b[0m\n\u001b[0m\u001b[1;32m     13\u001b[0m \u001b[0;32mfrom\u001b[0m \u001b[0;34m.\u001b[0m\u001b[0mpyutils\u001b[0m \u001b[0;32mimport\u001b[0m \u001b[0mcheck\u001b[0m\u001b[0;34m\u001b[0m\u001b[0;34m\u001b[0m\u001b[0m\n\u001b[1;32m     14\u001b[0m \u001b[0;32mfrom\u001b[0m \u001b[0;34m.\u001b[0m\u001b[0mpk2d\u001b[0m \u001b[0;32mimport\u001b[0m \u001b[0mPk2D\u001b[0m\u001b[0;34m\u001b[0m\u001b[0;34m\u001b[0m\u001b[0m\n",
      "\u001b[0;32m~/.conda/envs/mydesc/lib/python3.7/site-packages/pyccl/boltzmann.py\u001b[0m in \u001b[0;36m<module>\u001b[0;34m\u001b[0m\n\u001b[1;32m      2\u001b[0m \u001b[0;34m\u001b[0m\u001b[0m\n\u001b[1;32m      3\u001b[0m \u001b[0;32mtry\u001b[0m\u001b[0;34m:\u001b[0m\u001b[0;34m\u001b[0m\u001b[0;34m\u001b[0m\u001b[0m\n\u001b[0;32m----> 4\u001b[0;31m     \u001b[0;32mimport\u001b[0m \u001b[0mclassy\u001b[0m\u001b[0;34m\u001b[0m\u001b[0;34m\u001b[0m\u001b[0m\n\u001b[0m\u001b[1;32m      5\u001b[0m     \u001b[0mHAVE_CLASS\u001b[0m \u001b[0;34m=\u001b[0m \u001b[0;32mTrue\u001b[0m\u001b[0;34m\u001b[0m\u001b[0;34m\u001b[0m\u001b[0m\n\u001b[1;32m      6\u001b[0m \u001b[0;32mexcept\u001b[0m \u001b[0mImportError\u001b[0m\u001b[0;34m:\u001b[0m\u001b[0;34m\u001b[0m\u001b[0;34m\u001b[0m\u001b[0m\n",
      "\u001b[0;32mpython/classy.pyx\u001b[0m in \u001b[0;36minit classy\u001b[0;34m()\u001b[0m\n",
      "\u001b[0;31mValueError\u001b[0m: numpy.ndarray size changed, may indicate binary incompatibility. Expected 88 from C header, got 80 from PyObject"
     ]
    }
   ],
   "source": [
    "import sys\n",
    "import os\n",
    "import numpy as np\n",
    "import pyccl as ccl\n",
    "import numpy as np\n",
    "import sys\n",
    "import matplotlib.pyplot as plt\n",
    "from astropy.cosmology import FlatLambdaCDM\n",
    "from scipy.integrate import quad,simps, dblquad\n",
    "from scipy.optimize import curve_fit"
   ]
  },
  {
   "cell_type": "code",
   "execution_count": null,
   "metadata": {},
   "outputs": [],
   "source": [
    "os.environ['CLMM_MODELING_BACKEND'] = 'nc'\n",
    "import clmm\n",
    "import clmm.dataops\n",
    "from clmm.dataops import compute_tangential_and_cross_components, make_radial_profile, make_bins\n",
    "from clmm.galaxycluster import GalaxyCluster\n",
    "import clmm.utils as u\n",
    "from clmm import Cosmology\n",
    "from clmm.support import mock_data as mock\n",
    "cosmo = Cosmology(H0 = 71.0, Omega_dm0 = 0.265 - 0.0448, Omega_b0 = 0.0448, Omega_k0 = 0.0)"
   ]
  },
  {
   "cell_type": "code",
   "execution_count": null,
   "metadata": {},
   "outputs": [],
   "source": [
    "clmm.__version__"
   ]
  },
  {
   "cell_type": "code",
   "execution_count": null,
   "metadata": {},
   "outputs": [],
   "source": [
    "def binning(corner): return [[corner[i],corner[i+1]] for i in range(len(corner)-1)]"
   ]
  },
  {
   "cell_type": "code",
   "execution_count": null,
   "metadata": {},
   "outputs": [],
   "source": [
    "cluster_m_true = 1e14\n",
    "cluster_z_true = 0.5\n",
    "concentration_true = 4\n",
    "a = 0.9\n",
    "moo = clmm.Modeling(massdef = 'critical', delta_mdef = 200, halo_profile_model = 'nfw')\n",
    "mock_cosmo = cosmo\n",
    "moo.set_cosmo(mock_cosmo)"
   ]
  },
  {
   "cell_type": "markdown",
   "metadata": {},
   "source": [
    "### Compute Miscentering"
   ]
  },
  {
   "cell_type": "code",
   "execution_count": null,
   "metadata": {},
   "outputs": [],
   "source": [
    "def excess_surface_density(single_catalog = None, radial_bin = None, sigma_c = None):\n",
    "    r\"\"\"\n",
    "    Attributes:\n",
    "    -----------\n",
    "    \n",
    "    single_catalog : GalaxyCluster object\n",
    "    \n",
    "    radial_bin : liste\n",
    "        radial bins to evaluate the binned excess surface density\n",
    "    \n",
    "    sigma_c : string \n",
    "        column name in the single_catalog for the critical surface mass density\n",
    "        \n",
    "    Returns:\n",
    "    --------\n",
    "    \n",
    "    ds, r, sum_weights : array, array, array\n",
    "        the binned excess surface density, the binned radius, the sum of weights w_ls in each radial bin\n",
    "\n",
    "    \"\"\"\n",
    "    \n",
    "    ds = np.zeros(len(radial_bin))\n",
    "    \n",
    "    r = np.zeros(len(radial_bin))\n",
    "    \n",
    "    sum_weights = np.zeros(len(radial_bin))\n",
    "    \n",
    "    for i, r_bin in enumerate(radial_bin):\n",
    "\n",
    "        mask = (single_catalog.galcat['R'] > r_bin[0])*(single_catalog.galcat['R'] < r_bin[1])\n",
    "        \n",
    "        w_ls = 1./single_catalog.galcat[sigma_c][mask]**2\n",
    "        \n",
    "        ds[i] = np.average(single_catalog.galcat['et'][mask]*single_catalog.galcat[sigma_c][mask], weights = w_ls)\n",
    "        \n",
    "        r[i] = np.average(single_catalog.galcat['R'][mask])\n",
    "        \n",
    "        sum_weights[i] = np.sum( w_ls )\n",
    "        \n",
    "    return ds, r, sum_weights"
   ]
  },
  {
   "cell_type": "code",
   "execution_count": null,
   "metadata": {},
   "outputs": [],
   "source": [
    "c, m, z = concentration_true, cluster_m_true, cluster_z_true\n",
    "ngals = 30000"
   ]
  },
  {
   "cell_type": "code",
   "execution_count": null,
   "metadata": {},
   "outputs": [],
   "source": [
    "noisy_data_z_single = mock.generate_galaxy_catalog(m, z, c, cosmo, \n",
    "                                                zsrc = 'chang13', \n",
    "                                                #Delta_SO=200, \n",
    "                                               massdef='critical',\n",
    "                                               halo_profile_model='nfw', zsrc_min=z + 0.1,\n",
    "                           zsrc_max=3., field_size=15., shapenoise=0.01, photoz_sigma_unscaled=0, ngals=ngals)\n",
    "\n",
    "cl_single = clmm.GalaxyCluster('mock_cluster', 0., 0., z, noisy_data_z_single)\n",
    "\n",
    "cl_single.compute_tangential_and_cross_components(geometry=\"flat\",\n",
    "                                                  shape_component1='e1', shape_component2='e2', \n",
    "                                                  tan_component='et', cross_component='ex',\n",
    "                                                  add=True, is_deltasigma = False, cosmo = cosmo)\n",
    "\n",
    "cl_single.galcat['R'] = mock_cosmo.eval_da_z1z2(0,z)*cl_single.galcat['theta']\n",
    "\n",
    "ang, phi = clmm.dataops._compute_lensing_angles_flatsky(cl_single.ra, cl_single.dec, cl_single.galcat['ra'], cl_single.galcat['dec'])\n",
    "\n",
    "cl_single.galcat['phi'] = np.array(phi)\n",
    "\n",
    "cl_single.galcat['sigma_c'] = mock_cosmo.eval_sigma_crit(z, cl_single.galcat['z'])"
   ]
  },
  {
   "cell_type": "code",
   "execution_count": null,
   "metadata": {},
   "outputs": [],
   "source": [
    "R = np.logspace(np.log10(1), np.log10(7), 20)\n",
    "radial_bin = [[R[i], R[i+1]] for i in range(len(R)-1)]"
   ]
  },
  {
   "cell_type": "code",
   "execution_count": null,
   "metadata": {},
   "outputs": [],
   "source": [
    "ds_single,r_single,sum_weight_single = excess_surface_density(single_catalog = cl_single, radial_bin = radial_bin, sigma_c = 'sigma_c')"
   ]
  },
  {
   "cell_type": "code",
   "execution_count": null,
   "metadata": {},
   "outputs": [],
   "source": [
    "def jackknife(single_catalog = None, N_jk = None):\n",
    "    \n",
    "    r\"\"\"\n",
    "    Attributes:\n",
    "    -----------\n",
    "    single_catalog : GalaxyCluster object\n",
    "        GalaxyCluster object of a single cluster \n",
    "    N_jk : int\n",
    "        number of jackknife regions\n",
    "        \n",
    "    Returns:\n",
    "    --------\n",
    "    cov : array\n",
    "        Jackknife delete-1 covariance matrix\n",
    "    \n",
    "    \"\"\"\n",
    "    \n",
    "    phi = np.linspace(-np.pi, np.pi, N_jk + 1)\n",
    "    \n",
    "    phi_bin = binning(phi)\n",
    "    \n",
    "    gt = []\n",
    "    \n",
    "    mask_list_in = [(phi_[0] < single_catalog.galcat['phi'])*(single_catalog.galcat['phi'] < phi_[1]) for phi_ in phi_bin]\n",
    "    \n",
    "    for s, phi_ in enumerate(phi_bin):\n",
    "        \n",
    "        mask_in = mask_list_in[s]\n",
    "        \n",
    "        mask_out = np.invert(mask_in)\n",
    "        \n",
    "        plt.scatter(single_catalog.galcat['ra'][mask_in], single_catalog.galcat['dec'][mask_in], s = 1)\n",
    "        \n",
    "        data_cut = single_catalog.galcat[mask_out]\n",
    "        \n",
    "        cl_cut_jack = clmm.GalaxyCluster('Stack', single_catalog.ra, single_catalog.dec, single_catalog.z, single_catalog.galcat[mask_out])\n",
    "        \n",
    "        ds, r, sum_weights = excess_surface_density(single_catalog = cl_cut_jack, radial_bin = radial_bin, sigma_c = 'sigma_c')\n",
    "        \n",
    "        gt.append(ds)\n",
    "\n",
    "    gt = np.array(gt)\n",
    "    \n",
    "    cov = np.cov(gt.T)*(N_jk-1)**2/N_jk\n",
    "    \n",
    "    plt.xlabel('ra')\n",
    "    plt.ylabel('dec')\n",
    "    plt.axis('equal')\n",
    "        \n",
    "    return cov"
   ]
  },
  {
   "cell_type": "code",
   "execution_count": null,
   "metadata": {},
   "outputs": [],
   "source": [
    "cov_single = jackknife(single_catalog = cl_single, N_jk = 100)"
   ]
  },
  {
   "cell_type": "code",
   "execution_count": null,
   "metadata": {},
   "outputs": [],
   "source": [
    "plt.errorbar(r_single, ds_single, np.sqrt(cov_single.diagonal()))\n",
    "plt.loglog()\n",
    "plt.figure()\n",
    "plt.imshow(cov_single)"
   ]
  },
  {
   "cell_type": "code",
   "execution_count": null,
   "metadata": {},
   "outputs": [],
   "source": [
    "def model(theta):\n",
    "    c, logm = theta\n",
    "    moo.set_mass(10**logm) \n",
    "    moo.set_concentration(c)\n",
    "    return moo.eval_excess_surface_density(r_single, cluster_z_true)"
   ]
  },
  {
   "cell_type": "code",
   "execution_count": null,
   "metadata": {},
   "outputs": [],
   "source": [
    "import iminuit\n",
    "from iminuit import Minuit\n",
    "def negative_lnL(c, logm):\n",
    "    #if a < 0: return np.inf\n",
    "    if c < 0: return np.inf\n",
    "    theta = c, logm\n",
    "    y_th = model(theta)\n",
    "    inv_cov = np.linalg.inv(cov_single)\n",
    "    d = y_th - ds_single\n",
    "    res = 0.5*np.sum(d*inv_cov.dot(d))\n",
    "    return res\n",
    "def lnL_emcee(theta):\n",
    "    c, logm = theta\n",
    "    return -negative_lnL(c, logm)\n",
    "\n",
    "minuit = Minuit(negative_lnL, logm = 14, c = 4, limit_logm = (12,18),limit_c = (0,18),\n",
    "                   errordef = 0.5)\n",
    "        \n",
    "minuit.migrad(),minuit.hesse(),minuit.minos()"
   ]
  },
  {
   "cell_type": "code",
   "execution_count": null,
   "metadata": {},
   "outputs": [],
   "source": [
    "cov_minuit = np.array(minuit.matrix())"
   ]
  },
  {
   "cell_type": "code",
   "execution_count": null,
   "metadata": {},
   "outputs": [],
   "source": [
    "import emcee\n",
    "initial = [concentration_true, np.log10(cluster_m_true)]\n",
    "npath = 500\n",
    "nwalkers = 100\n",
    "pos = initial + 0.01 * np.random.randn(nwalkers, len(initial))\n",
    "nwalkers, ndim = pos.shape\n",
    "sampler_single = emcee.EnsembleSampler(nwalkers, ndim, lnL_emcee)\n",
    "print('Single cluster : running...')\n",
    "sampler_single.run_mcmc(pos, npath, progress=True);"
   ]
  },
  {
   "cell_type": "code",
   "execution_count": null,
   "metadata": {},
   "outputs": [],
   "source": [
    "flat_sample_single_pre_cut = sampler_single.get_chain(discard = 0, thin = 1, flat = True)\n",
    "for i in range(len(initial)):\n",
    "    plt.plot(flat_sample_single_pre_cut[:,i])\n",
    "    plt.figure()"
   ]
  },
  {
   "cell_type": "code",
   "execution_count": null,
   "metadata": {},
   "outputs": [],
   "source": [
    "%load_ext autoreload\n",
    "\n",
    "%autoreload 2\n",
    "sys.path.append('/pbs/throng/lsst/users/cpayerne/GitForThesis/DC2Analysis/modeling/')\n",
    "import DATAOPS_Fisher_matrix as fisher"
   ]
  },
  {
   "cell_type": "code",
   "execution_count": null,
   "metadata": {},
   "outputs": [],
   "source": [
    "mean = np.array([minuit.values['c'],minuit.values['logm'],])\n",
    "#mean = [ concentration_true, np.log10(cluster_m_true),]\n",
    "Fisher_matrix = fisher.Fisher_Matrix(mean, model, cov_single)\n",
    "S_matrix = fisher.S_Fisher_Matrix(mean, model, cov_single)\n",
    "Q_matrix = fisher.Q_Fisher_Matrix(mean, model, cov_single)"
   ]
  },
  {
   "cell_type": "code",
   "execution_count": null,
   "metadata": {},
   "outputs": [],
   "source": [
    "import iminuit\n",
    "from iminuit import Minuit\n",
    "def lnL_parameters(theta, MLE, Fisher_matrix, S_matrix, Q_matrix):\n",
    "    \n",
    "    dtheta = theta - MLE\n",
    "    \n",
    "    lnL_Gaussian = -0.5*np.sum(dtheta*Fisher_matrix.dot(dtheta))\n",
    "    \n",
    "    s = 0\n",
    "    q = 0\n",
    "    \n",
    "    for i in range(len(theta)):\n",
    "        for j in range(len(theta)): \n",
    "            for k in range(len(theta)):\n",
    "                s += S_matrix[i,j,k]*dtheta[i]*dtheta[j]*dtheta[k]\n",
    "                for l in range(len(theta)):\n",
    "                        q += Q_matrix[i,j,k,l]*dtheta[i]*dtheta[j]*dtheta[k]*dtheta[l]\n",
    "                        \n",
    "    #for i in range(len(theta)):\n",
    "      #  for j in range(len(theta)): \n",
    "       #     for k in range(len(theta)):\n",
    "       #***         s += S_matrix[i,j,k]*dtheta[i]*dtheta[j]*dtheta[k]\n",
    "                        \n",
    "    \n",
    "    lnL_S_Gaussian = -(1./2.)*s\n",
    "    lnL_Q_Gaussian = -(1./8.)*q\n",
    "    \n",
    "    return lnL_Gaussian +  lnL_S_Gaussian + lnL_Q_Gaussian "
   ]
  },
  {
   "cell_type": "code",
   "execution_count": null,
   "metadata": {},
   "outputs": [],
   "source": [
    "lnL_parameters(mean + 0.001*mean, mean, Fisher_matrix, S_matrix, Q_matrix)"
   ]
  },
  {
   "cell_type": "code",
   "execution_count": null,
   "metadata": {},
   "outputs": [],
   "source": [
    "def lnL_emcee_param(theta):\n",
    "    c, logm = theta\n",
    "    if c < 0.00: return -np.inf\n",
    "    return lnL_parameters(theta, mean, Fisher_matrix, S_matrix, Q_matrix)"
   ]
  },
  {
   "cell_type": "code",
   "execution_count": null,
   "metadata": {},
   "outputs": [],
   "source": [
    "import emcee\n",
    "initial = [concentration_true, np.log10(cluster_m_true)]\n",
    "npath = 500\n",
    "nwalkers = 500\n",
    "pos = initial + 0.001 * np.random.randn(nwalkers, len(initial))\n",
    "nwalkers, ndim = pos.shape\n",
    "sampler_param = emcee.EnsembleSampler(nwalkers, ndim, lnL_emcee_param)\n",
    "print('Single cluster : running...')\n",
    "sampler_param.run_mcmc(pos, npath, progress=True);"
   ]
  },
  {
   "cell_type": "code",
   "execution_count": null,
   "metadata": {},
   "outputs": [],
   "source": []
  },
  {
   "cell_type": "code",
   "execution_count": null,
   "metadata": {},
   "outputs": [],
   "source": [
    "discard, thin = 200, 10\n",
    "flat_sample_single = sampler_single.get_chain(discard = discard, thin = thin, flat = True)\n",
    "flat_sample_param = sampler_param.get_chain(discard = discard, thin = thin, flat = True)\n",
    "import numpy as np\n",
    "from chainconsumer import ChainConsumer\n",
    "labels = [r'$c_{\\rm 200c}$', r'$\\log_{10} M_{\\rm 200c}$']\n",
    "\n",
    "cs = ChainConsumer()\n",
    "cs.add_chain(flat_sample_single, parameters=labels, name = 'MCMC')\n",
    "data = np.random.multivariate_normal(mean, cov_minuit, size=100000)\n",
    "#cs.add_chain(data,parameters=labels, name = 'Minuit Covariance Matrix')\n",
    "data = np.random.multivariate_normal(mean, np.linalg.inv(Fisher_matrix), size=100000)\n",
    "cs.add_chain(data,parameters=labels, name = 'Fisher Matrix')\n",
    "cs.add_chain(flat_sample_param,parameters=labels, name = 'S-Fisher Matrix')\n",
    "fig = cs.plotter.plot(figsize=\"column\", truth=mean)\n",
    "#fig = cs.plotter.plot(figsize=\"column\", truth=mean)\n",
    "fig.set_size_inches(10, 10)\n"
   ]
  },
  {
   "cell_type": "code",
   "execution_count": null,
   "metadata": {},
   "outputs": [],
   "source": []
  },
  {
   "cell_type": "code",
   "execution_count": null,
   "metadata": {},
   "outputs": [],
   "source": []
  },
  {
   "cell_type": "code",
   "execution_count": null,
   "metadata": {},
   "outputs": [],
   "source": []
  },
  {
   "cell_type": "code",
   "execution_count": null,
   "metadata": {},
   "outputs": [],
   "source": []
  },
  {
   "cell_type": "code",
   "execution_count": null,
   "metadata": {},
   "outputs": [],
   "source": []
  },
  {
   "cell_type": "code",
   "execution_count": null,
   "metadata": {},
   "outputs": [],
   "source": []
  }
 ],
 "metadata": {
  "kernelspec": {
   "display_name": "mydesc",
   "language": "python",
   "name": "mydesc"
  },
  "language_info": {
   "codemirror_mode": {
    "name": "ipython",
    "version": 3
   },
   "file_extension": ".py",
   "mimetype": "text/x-python",
   "name": "python",
   "nbconvert_exporter": "python",
   "pygments_lexer": "ipython3",
   "version": "3.7.6"
  }
 },
 "nbformat": 4,
 "nbformat_minor": 4
}
