{
 "cells": [
  {
   "cell_type": "code",
   "execution_count": 20,
   "metadata": {},
   "outputs": [],
   "source": [
    "import sys\n",
    "import os\n",
    "os.environ['CLMM_MODELING_BACKEND'] = 'nc'\n",
    "import clmm\n",
    "import clmm.dataops\n",
    "from clmm.dataops import compute_tangential_and_cross_components, make_radial_profile, make_bins\n",
    "from clmm.galaxycluster import GalaxyCluster\n",
    "import clmm.utils as u\n",
    "from clmm import Cosmology\n",
    "from clmm.support import mock_data as mock\n",
    "cosmo = Cosmology(H0 = 71.0, Omega_dm0 = 0.265 - 0.0448, Omega_b0 = 0.0448, Omega_k0 = 0.0)\n",
    "import numpy as np\n",
    "import pyccl as ccl\n",
    "import numpy as np\n",
    "import sys\n",
    "import matplotlib.pyplot as plt\n",
    "from astropy.cosmology import FlatLambdaCDM\n",
    "from scipy.integrate import quad,simps, dblquad"
   ]
  },
  {
   "cell_type": "code",
   "execution_count": 21,
   "metadata": {},
   "outputs": [],
   "source": [
    "sys.path.append('/pbs/throng/lsst/users/cpayerne/GitForThesis/DC2Analysis/modeling')\n",
    "import miscentering as mis\n",
    "import two_halo_term as twoh"
   ]
  },
  {
   "cell_type": "code",
   "execution_count": 22,
   "metadata": {},
   "outputs": [],
   "source": [
    "from cluster_toolkit import miscentering\n",
    "from cluster_toolkit import deltasigma"
   ]
  },
  {
   "cell_type": "code",
   "execution_count": 23,
   "metadata": {},
   "outputs": [],
   "source": [
    "import cluster_toolkit as ct"
   ]
  },
  {
   "cell_type": "code",
   "execution_count": 53,
   "metadata": {},
   "outputs": [],
   "source": [
    "logm = 14.4\n",
    "cluster_m = 10**logm\n",
    "cluster_z = 0.5\n",
    "moo = clmm.Modeling(massdef = 'critical', delta_mdef = 200, halo_profile_model = 'einasto')\n",
    "mock_cosmo = Cosmology(H0=70.0, Omega_dm0=0.27-0.045, Omega_b0=0.045, Omega_k0=0.0)\n",
    "cosmo_ccl = ccl.Cosmology(Omega_c=0.27-0.045, Omega_b=0.045, h=0.7, A_s=2.1e-9, n_s=0.96, Neff=0, Omega_g=0)\n",
    "deff = ccl.halos.massdef.MassDef(200, 'critical', c_m_relation=None)\n",
    "conc = ccl.halos.concentration.ConcentrationDiemer15(mdef=deff)\n",
    "concentration = conc._concentration(cosmo_ccl, 10**logm, 1/(1 + cluster_z))\n",
    "moo.set_cosmo(mock_cosmo)\n",
    "moo.set_mass(cluster_m) \n",
    "moo.set_concentration(concentration)"
   ]
  },
  {
   "cell_type": "code",
   "execution_count": 54,
   "metadata": {},
   "outputs": [
    {
     "name": "stdout",
     "output_type": "stream",
     "text": [
      "concentration = 4.226214305733157\n"
     ]
    }
   ],
   "source": [
    "print('concentration = ' + str(concentration))"
   ]
  },
  {
   "cell_type": "markdown",
   "metadata": {},
   "source": [
    "### Compute Miscentering"
   ]
  },
  {
   "cell_type": "code",
   "execution_count": 55,
   "metadata": {},
   "outputs": [],
   "source": [
    "R_real = np.logspace(np.log10(1), np.log10(10), 50)\n",
    "R_Sigma = np.logspace(np.log10(0.0001), np.log10(20), 500)"
   ]
  },
  {
   "cell_type": "code",
   "execution_count": 56,
   "metadata": {},
   "outputs": [],
   "source": [
    "Sigma_nfw_clmm = moo.eval_surface_density(R_Sigma, cluster_z) #Msun/Mpc^2 real"
   ]
  },
  {
   "cell_type": "code",
   "execution_count": 57,
   "metadata": {},
   "outputs": [
    {
     "name": "stdout",
     "output_type": "stream",
     "text": [
      "DS - S\n",
      "DS - S\n"
     ]
    }
   ],
   "source": [
    "Rmis = 0.1\n",
    "ds_mis_rayleigh =  mis.predict_sigma_excess_miscentering(Sigma_nfw_clmm, R_real, R_Sigma, Rmis, cluster_z, \"rayleigh\", moo)\n",
    "ds_mis_gamma =  mis.predict_sigma_excess_miscentering(Sigma_nfw_clmm, R_real, R_Sigma, Rmis, cluster_z, \"gamma\", moo)"
   ]
  },
  {
   "cell_type": "code",
   "execution_count": 58,
   "metadata": {},
   "outputs": [],
   "source": [
    "ds_mis = ds_mis_gamma"
   ]
  },
  {
   "cell_type": "markdown",
   "metadata": {},
   "source": [
    "### Computing Power spectrum for 2h term"
   ]
  },
  {
   "cell_type": "code",
   "execution_count": 63,
   "metadata": {},
   "outputs": [],
   "source": [
    "kk = np.logspace(-5,5 ,100000)"
   ]
  },
  {
   "cell_type": "code",
   "execution_count": 64,
   "metadata": {},
   "outputs": [],
   "source": [
    "R = np.logspace(np.log10(1), np.log10(20), 50)"
   ]
  },
  {
   "cell_type": "code",
   "execution_count": 65,
   "metadata": {},
   "outputs": [],
   "source": [
    "Pk = twoh.compute_Pk(kk, cluster_z, cosmo_ccl)"
   ]
  },
  {
   "cell_type": "code",
   "execution_count": 66,
   "metadata": {},
   "outputs": [],
   "source": [
    "ds_unbaised = twoh.ds_two_halo_term_unbaised(R, cluster_z, cosmo_ccl, kk, Pk)\n",
    "bais_200c = twoh.halo_bais(logm = np.log10(cluster_m), concentration = concentration, mdef = 'critical', Delta = 200, cluster_z = cluster_z, cosmo_ccl = cosmo_ccl)\n",
    "bais_200m = twoh.halo_bais(logm = np.log10(cluster_m), concentration = concentration, mdef = 'matter', Delta = 200, cluster_z = cluster_z, cosmo_ccl = cosmo_ccl)"
   ]
  },
  {
   "cell_type": "code",
   "execution_count": 67,
   "metadata": {},
   "outputs": [],
   "source": [
    "bais = bais_200c"
   ]
  },
  {
   "cell_type": "code",
   "execution_count": 69,
   "metadata": {},
   "outputs": [
    {
     "data": {
      "image/png": "[encoded data removed]",
      "text/plain": [
       "<Figure size 432x360 with 1 Axes>"
      ]
     },
     "metadata": {
      "needs_background": "light"
     },
     "output_type": "display_data"
    }
   ],
   "source": [
    "plt.figure(figsize = (6,5))\n",
    "plt.loglog(R,moo.eval_excess_surface_density(R,cluster_z), '-', label = r'$\\Delta\\Sigma_{NFW}$' + f'$(M200c\\ =\\ {cluster_m:.1e}\\ M_\\odot)$')\n",
    "#plt.loglog(R,ds_mis, '-', label = r'$\\Delta\\Sigma_{NFW, mis}$ ' + f'$(Rmis\\ = {Rmis}\\ Mpc)$')\n",
    "plt.loglog(R,ds_unbaised*bais, '-', label = r'$\\Delta\\Sigma_{2h}$')\n",
    "plt.plot(R, ds_unbaised*bais + 1*moo.eval_excess_surface_density(R, cluster_z),':',linewidth=5,label = r'$\\Delta\\Sigma_{tot} =\\Delta\\Sigma_{NFW} + \\Delta\\Sigma_{2h}$')\n",
    "ds_tot_max = [max(ds_unbaised[i]*bais, 1*moo.eval_excess_surface_density(R[i], cluster_z)) for i in range(len(R))]\n",
    "plt.plot(R, ds_tot_max,':',linewidth=5,label = r'$\\Delta\\Sigma_{tot} =max(\\Delta\\Sigma_{NFW},\\Delta\\Sigma_{2h})$')\n",
    "plt.xlabel('R [Mpc]', fontsize = 20)\n",
    "plt.ylabel(r'$\\Delta\\Sigma_+$ ' +'$[$' + r'${\\rm M}$' + r'$_\\odot\\;$'+ r'${\\rm Mpc}$'+r'$^{-2}$'r'$]$', fontsize = 20)\n",
    "plt.legend(fontsize = 10)\n",
    "plt.xlim(min(R),max(R))\n",
    "plt.savefig('/pbs/throng/lsst/users/cpayerne/GitForThesis/DC2Analysis/examples/modelingillustration', dpi = 300)"
   ]
  },
  {
   "cell_type": "code",
   "execution_count": null,
   "metadata": {},
   "outputs": [],
   "source": []
  },
  {
   "cell_type": "code",
   "execution_count": null,
   "metadata": {},
   "outputs": [],
   "source": []
  }
 ],
 "metadata": {
  "kernelspec": {
   "display_name": "mydesc",
   "language": "python",
   "name": "mydesc"
  },
  "language_info": {
   "codemirror_mode": {
    "name": "ipython",
    "version": 3
   },
   "file_extension": ".py",
   "mimetype": "text/x-python",
   "name": "python",
   "nbconvert_exporter": "python",
   "pygments_lexer": "ipython3",
   "version": "3.7.6"
  }
 },
 "nbformat": 4,
 "nbformat_minor": 4
}
