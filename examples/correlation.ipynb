{
 "cells": [
  {
   "cell_type": "code",
   "execution_count": 1,
   "metadata": {},
   "outputs": [],
   "source": [
    "import sys\n",
    "import os\n",
    "os.environ['CLMM_MODELING_BACKEND'] = 'ccl' # here you may choose ccl or nc (NumCosmo)\n",
    "sys.path.append('/pbs/throng/lsst/users/cpayerne/CLMM/examples/support')\n",
    "try: import clmm\n",
    "except:\n",
    "    import notebook_install\n",
    "    notebook_install.install_clmm_pipeline(upgrade=False)\n",
    "    import clmm\n",
    "import matplotlib.pyplot as plt\n",
    "import numpy as np\n",
    "from numpy import random\n",
    "from astropy.table import Table\n",
    "\n",
    "clmm.__version__\n",
    "import clmm.polaraveraging as pa\n",
    "import clmm.galaxycluster as gc\n",
    "import clmm.modeling as modeling\n",
    "from clmm import Cosmology \n",
    "sys.path.append('/pbs/throng/lsst/users/cpayerne/GitForThesis/DC2Analysis')\n",
    "import statistics as stat\n",
    "import resampling\n",
    "import mock_data as mock\n",
    "from scipy.optimize import curve_fit\n",
    "import iminuit\n",
    "from iminuit import Minuit"
   ]
  },
  {
   "cell_type": "code",
   "execution_count": 2,
   "metadata": {},
   "outputs": [
    {
     "data": {
      "text/plain": [
       "'/pbs/throng/lsst/users/cpayerne/GitForThesis/DC2Analysis/examples'"
      ]
     },
     "execution_count": 2,
     "metadata": {},
     "output_type": "execute_result"
    }
   ],
   "source": [
    "pwd"
   ]
  },
  {
   "cell_type": "code",
   "execution_count": null,
   "metadata": {},
   "outputs": [],
   "source": [
    "\n"
   ]
  },
  {
   "cell_type": "markdown",
   "metadata": {},
   "source": [
    "### Testing Modeling"
   ]
  },
  {
   "cell_type": "code",
   "execution_count": 124,
   "metadata": {},
   "outputs": [],
   "source": [
    "mock_cosmo = Cosmology(H0=70.0, Omega_dm0=0.27-0.045, Omega_b0=0.045, Omega_k0=0.0)"
   ]
  },
  {
   "cell_type": "code",
   "execution_count": 128,
   "metadata": {},
   "outputs": [],
   "source": [
    "cluster_z = 0.4\n",
    "cluster_m = 10**16\n",
    "c = 4\n",
    "shapenoise = 0.0\n",
    "shapenoise_scaled = shapenoise*(1 + cluster_z)"
   ]
  },
  {
   "cell_type": "code",
   "execution_count": null,
   "metadata": {},
   "outputs": [],
   "source": []
  },
  {
   "cell_type": "code",
   "execution_count": 163,
   "metadata": {},
   "outputs": [],
   "source": [
    "data = mock.generate_galaxy_catalog(cluster_m, \n",
    "                                    cluster_z, \n",
    "                                    c, \n",
    "                                    mock_cosmo, \n",
    "                                    200,\n",
    "                                    \n",
    "                                    zsrc = 0.6\n",
    "                                    ,shapenoise = shapenoise\n",
    "                                    ,ngals=100)\n",
    "\n",
    "\"\"\"Create GalaxyCluster object\"\"\"\n",
    "\n",
    "cl = clmm.GalaxyCluster('cluster', 0, 0, cluster_z, data)"
   ]
  },
  {
   "cell_type": "code",
   "execution_count": 164,
   "metadata": {},
   "outputs": [
    {
     "data": {
      "text/plain": [
       "GalaxyCluster cluster: (ra=0.0, dec=0.0) at z=0.4\n",
       "> 100 source galaxies\n",
       "> With columns: ra dec e1 e2 z ztrue id"
      ]
     },
     "execution_count": 164,
     "metadata": {},
     "output_type": "execute_result"
    }
   ],
   "source": [
    "cl"
   ]
  },
  {
   "cell_type": "code",
   "execution_count": 165,
   "metadata": {},
   "outputs": [],
   "source": [
    "s = (100,100)\n",
    "distance = np.zeros(s)\n",
    "phi = np.zeros(s)"
   ]
  },
  {
   "cell_type": "code",
   "execution_count": 166,
   "metadata": {},
   "outputs": [],
   "source": [
    "for j in range(100):\n",
    "        distance[:,j] = np.sqrt((cl.galcat['ra']-cl.galcat['ra'][j])**2 +\n",
    "                                (cl.galcat['dec']-cl.galcat['dec'][j])**2)\n",
    "        phi = "
   ]
  },
  {
   "cell_type": "code",
   "execution_count": null,
   "metadata": {},
   "outputs": [],
   "source": []
  },
  {
   "cell_type": "code",
   "execution_count": 189,
   "metadata": {},
   "outputs": [],
   "source": [
    "def mask(theta):\n",
    "    \n",
    "    mask =(distance > theta - 0.01) * (distance < theta + 0.01)\n",
    "    \n",
    "    print(mask[0,10])\n",
    "    \n",
    "    return mask"
   ]
  },
  {
   "cell_type": "code",
   "execution_count": 190,
   "metadata": {},
   "outputs": [
    {
     "name": "stdout",
     "output_type": "stream",
     "text": [
      "False\n"
     ]
    }
   ],
   "source": [
    "mask = mask(0.1)"
   ]
  },
  {
   "cell_type": "code",
   "execution_count": 191,
   "metadata": {},
   "outputs": [],
   "source": [
    "index = np.arange(100)\n",
    "pairs = []\n",
    "for i in range(100):\n",
    "    \n",
    "    index_cut = index[mask[i,:]==True]\n",
    "    \n",
    "    pairs.extend([[i,ind] for ind in index_cut])\n"
   ]
  },
  {
   "cell_type": "code",
   "execution_count": 244,
   "metadata": {},
   "outputs": [],
   "source": [
    "def gg(phi, theta):\n",
    "    \n",
    "    pairs = []\n",
    "    \n",
    "    mask =(distance > theta) * (distance < theta + 0.05)\n",
    "    c = 0\n",
    "    for i in range(100):\n",
    "    \n",
    "        index_cut = index[mask[i,:]==True]\n",
    "\n",
    "        pairs.extend([[i,ind] for ind in index_cut])\n",
    "\n",
    "    for p in pairs:\n",
    "        \n",
    "        dra = cl.galcat['ra'][p[1]] - cl.galcat['ra'][p[0]]\n",
    "        ddec = cl.galcat['dec'][p[1]] - cl.galcat['dec'][p[0]]\n",
    "        \n",
    "        phi_to_x = np.arctan(ddec/dra)\n",
    "        \n",
    "        phi_to_phi = phi\n",
    "        \n",
    "        e1 = cl.galcat['e1'][p[1]] + 1j*cl.galcat['e2'][p[1]]\n",
    "        e2 = cl.galcat['e1'][p[0]] + 1j*cl.galcat['e2'][p[0]]\n",
    "        \n",
    "        e1t, e2t = -(e1*np.exp(-2*phi_to_phi)), -(e2*np.exp(-2*phi_to_phi))\n",
    "        \n",
    "        c += (e2t.real*e1t.real + e2t.imag*e1t.imag)\n",
    "    \n",
    "    c = c/len(pairs)\n",
    "        \n",
    "    return c"
   ]
  },
  {
   "cell_type": "code",
   "execution_count": 245,
   "metadata": {},
   "outputs": [],
   "source": [
    "phi = np.linspace(0.,np.pi*2,100)"
   ]
  },
  {
   "cell_type": "code",
   "execution_count": 246,
   "metadata": {},
   "outputs": [],
   "source": [
    "gg_ = []\n",
    "for p in phi:\n",
    "    a = gg(p, 0.2)\n",
    "    gg_.append(a)"
   ]
  },
  {
   "cell_type": "code",
   "execution_count": 247,
   "metadata": {},
   "outputs": [
    {
     "data": {
      "text/plain": [
       "[<matplotlib.lines.Line2D at 0x7fd7777cb050>]"
      ]
     },
     "execution_count": 247,
     "metadata": {},
     "output_type": "execute_result"
    },
    {
     "data": {
      "image/png": "[encoded data removed]",
      "text/plain": [
       "<Figure size 432x288 with 1 Axes>"
      ]
     },
     "metadata": {
      "needs_background": "light"
     },
     "output_type": "display_data"
    }
   ],
   "source": [
    "plt.plot(theta, np.array(gg_))"
   ]
  },
  {
   "cell_type": "code",
   "execution_count": 104,
   "metadata": {},
   "outputs": [
    {
     "data": {
      "text/plain": [
       "[None, None, None, None, None, None, None, None, None, None]"
      ]
     },
     "execution_count": 104,
     "metadata": {},
     "output_type": "execute_result"
    }
   ],
   "source": [
    "gg_"
   ]
  },
  {
   "cell_type": "code",
   "execution_count": null,
   "metadata": {},
   "outputs": [],
   "source": []
  }
 ],
 "metadata": {
  "kernelspec": {
   "display_name": "mydesc",
   "language": "python",
   "name": "mydesc"
  },
  "language_info": {
   "codemirror_mode": {
    "name": "ipython",
    "version": 3
   },
   "file_extension": ".py",
   "mimetype": "text/x-python",
   "name": "python",
   "nbconvert_exporter": "python",
   "pygments_lexer": "ipython3",
   "version": "3.7.6"
  }
 },
 "nbformat": 4,
 "nbformat_minor": 4
}
