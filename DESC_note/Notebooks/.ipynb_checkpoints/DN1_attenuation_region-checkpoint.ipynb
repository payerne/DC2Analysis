{
 "cells": [
  {
   "cell_type": "code",
   "execution_count": 2,
   "id": "f0fd27b4",
   "metadata": {},
   "outputs": [
    {
     "name": "stdout",
     "output_type": "stream",
     "text": [
      "The autoreload extension is already loaded. To reload it, use:\n",
      "  %reload_ext autoreload\n"
     ]
    }
   ],
   "source": [
    "%load_ext autoreload\n",
    "\n",
    "%autoreload 2\n",
    "import GCRCatalogs\n",
    "import matplotlib.pyplot as plt\n",
    "import pickle\n",
    "import sys\n",
    "from astropy.table import QTable, Table, vstack, join \n",
    "import numpy as np\n",
    "from astropy.cosmology import FlatLambdaCDM\n",
    "import astropy.units as u\n",
    "from astropy.table import Table, QTable\n",
    "from astropy import units as u\n",
    "from astropy.coordinates import SkyCoord, match_coordinates_3d\n",
    "cosmo_astropy = FlatLambdaCDM(H0=71.0, Om0=0.265, Ob0 = 0.0448)\n",
    "import iminuit\n",
    "from iminuit import Minuit\n",
    "cosmo_astropy.critical_density(0.4).to(u.Msun / u.Mpc**3).value\n",
    "\n",
    "#module from my personnal github\n",
    "sys.path.append('/pbs/throng/lsst/users/cpayerne/GitForThesis/DC2Analysis/modeling/')\n",
    "import CL_WL_miscentering as mis\n",
    "import CL_WL_DATAOPS_make_profile as prf\n",
    "import CL_WL_two_halo_term as twoh\n",
    "import CL_WL_mass_conversion as utils\n",
    "import CL_WL_fit_cluster_mass as fit\n",
    "import CL_Mass_richness_relation as mr\n",
    "\n",
    "import clmm\n",
    "import clmm.dataops\n",
    "from clmm.dataops import compute_tangential_and_cross_components, make_radial_profile, make_bins\n",
    "from clmm.galaxycluster import GalaxyCluster\n",
    "import clmm.utils as u\n",
    "from clmm import Cosmology\n",
    "from clmm.support import mock_data as mock\n",
    "import pyccl as ccl\n",
    "cosmo = Cosmology(H0 = 71.0, Omega_dm0 = 0.265 - 0.0448, Omega_b0 = 0.0448, Omega_k0 = 0.0)\n",
    "cosmo_astropy = FlatLambdaCDM(H0=71.0, Om0=0.265, Ob0 = 0.0448)\n",
    "cosmo_clmm = Cosmology(H0 = 71.0, Omega_dm0 = 0.265 - 0.0448, Omega_b0 = 0.0448, Omega_k0 = 0.0)\n",
    "cosmo_ccl  = ccl.Cosmology(Omega_c=0.265-0.0448, Omega_b=0.0448, h=0.71, A_s=2.1e-9, n_s=0.96, Neff=0, Omega_g=0)"
   ]
  },
  {
   "cell_type": "code",
   "execution_count": 3,
   "id": "b8749ce1",
   "metadata": {},
   "outputs": [],
   "source": [
    "def binning(corner): return [[corner[i],corner[i+1]] for i in range(len(corner)-1)]\n",
    "down, up, n_bins = 0.1, 15, 40\n",
    "bin_edges = make_bins(down, up, nbins=n_bins, method='evenlog10width')\n",
    "radial_bin = binning(bin_edges)"
   ]
  },
  {
   "cell_type": "code",
   "execution_count": 4,
   "id": "cc021e0a",
   "metadata": {},
   "outputs": [],
   "source": [
    "radial_bin_mid = np.mean(radial_bin, axis = 1)"
   ]
  },
  {
   "cell_type": "code",
   "execution_count": 5,
   "id": "e950492f",
   "metadata": {},
   "outputs": [
    {
     "data": {
      "text/plain": [
       "array([ 0.10667249,  0.12090791,  0.13704304,  0.15533141,  0.17606035,\n",
       "        0.19955556,  0.22618621,  0.25637071,  0.29058332,  0.3293616 ,\n",
       "        0.37331483,  0.42313361,  0.4796007 ,  0.5436033 ,  0.61614704,\n",
       "        0.69837173,  0.79156928,  0.89720402,  1.0169357 ,  1.15264555,\n",
       "        1.30646584,  1.48081341,  1.67842763,  1.90241343,  2.15629007,\n",
       "        2.4440465 ,  2.77020396,  3.13988707,  3.5589043 ,  4.03383928,\n",
       "        4.57215424,  5.1823072 ,  5.87388494,  6.65775358,  7.54622931,\n",
       "        8.55327193,  9.69470417, 10.98846028, 12.45486786, 14.1169672 ])"
      ]
     },
     "execution_count": 5,
     "metadata": {},
     "output_type": "execute_result"
    }
   ],
   "source": [
    "radial_bin_mid"
   ]
  },
  {
   "cell_type": "code",
   "execution_count": 6,
   "id": "30226697",
   "metadata": {},
   "outputs": [],
   "source": [
    "\n",
    "def load(filename, **kwargs):\n",
    "\n",
    "    with open(filename, 'rb') as fin:\n",
    "        \n",
    "        return pickle.load(fin, **kwargs)"
   ]
  },
  {
   "cell_type": "code",
   "execution_count": 7,
   "id": "25f52c66",
   "metadata": {},
   "outputs": [],
   "source": [
    "profile_true = load('/pbs/throng/lsst/users/cpayerne/ThesisAtCCin2p3/p_DC2_validation/cosmoDC2/cosmodc2_true_shape_all_bins_ns.pkl')\n",
    "profile_epsilon = load('/pbs/throng/lsst/users/cpayerne/ThesisAtCCin2p3/p_DC2_validation/cosmoDC2/cosmodc2_epsilon_shape_all_bins_ns.pkl')"
   ]
  },
  {
   "cell_type": "code",
   "execution_count": 8,
   "id": "1726122d",
   "metadata": {},
   "outputs": [],
   "source": [
    "while 1 > 0:\n",
    "    try:\n",
    "        profile_SkySim5000 = load('/pbs/throng/lsst/users/cpayerne/ThesisAtCCin2p3/p_DC2_validation/SkySim5000/SkySim5000_epsilon_shape_all_bins_ns.pkl')\n",
    "        break\n",
    "    except: a = 1"
   ]
  },
  {
   "cell_type": "code",
   "execution_count": 9,
   "id": "ce466f9b",
   "metadata": {},
   "outputs": [
    {
     "data": {
      "text/plain": [
       "4725"
      ]
     },
     "execution_count": 9,
     "metadata": {},
     "output_type": "execute_result"
    }
   ],
   "source": [
    "len(profile_SkySim5000)"
   ]
  },
  {
   "cell_type": "code",
   "execution_count": 10,
   "id": "dc71099d",
   "metadata": {},
   "outputs": [
    {
     "name": "stdout",
     "output_type": "stream",
     "text": [
      "[[0.2, 0.30000000000000004], [0.30000000000000004, 0.4], [0.4, 0.5], [0.5, 0.6000000000000001], [0.6000000000000001, 0.7], [0.7, 0.8], [0.8, 0.9000000000000001], [0.9000000000000001, 1.0]]\n",
      "[[14. 15.]]\n"
     ]
    },
    {
     "data": {
      "text/plain": [
       "(None, None)"
      ]
     },
     "execution_count": 10,
     "metadata": {},
     "output_type": "execute_result"
    }
   ],
   "source": [
    "z_corner = np.linspace(0.2, 1 , 9)\n",
    "Z_bin = binning(z_corner)\n",
    "m_corner = np.logspace(14, 15, 2)\n",
    "#m_corner = np.linspace(1e14, 1e15, 7)\n",
    "Mass_bin = binning(m_corner)\n",
    "print(Z_bin), print(np.log10(Mass_bin))"
   ]
  },
  {
   "cell_type": "code",
   "execution_count": 11,
   "id": "b1ebfb28",
   "metadata": {},
   "outputs": [
    {
     "name": "stderr",
     "output_type": "stream",
     "text": [
      "/pbs/home/c/cpayerne/.conda/envs/mydesc/lib/python3.7/site-packages/numpy/ma/core.py:2832: VisibleDeprecationWarning: Creating an ndarray from ragged nested sequences (which is a list-or-tuple of lists-or-tuples-or ndarrays with different lengths or shapes) is deprecated. If you meant to do this, you must specify 'dtype=object' when creating the ndarray\n",
      "  order=order, subok=True, ndmin=ndmin)\n"
     ]
    }
   ],
   "source": [
    "profile_stack_true = prf.stacked_profile(profile = profile_epsilon,\n",
    "                    r_in = 'radius_av',\n",
    "                    gt_in = 'gt_av', gx_in = 'gx_av',\n",
    "                    r_out = 'radius',\n",
    "                    gt_out = 'gt', gx_out = 'gx',\n",
    "                    weight = 'norm_sum',\n",
    "                    z_name = 'cluster_z', obs_name = 'M200c',\n",
    "                    Z_bin = Z_bin, Obs_bin = Mass_bin)\n",
    "\n",
    "covariance_stack_true = prf.sample_covariance(profile = profile_epsilon,\n",
    "                    r_in = 'radius_av',\n",
    "                    gt_in = 'gt_av', gx_in = 'gx_av',\n",
    "                    r_out = 'radius',\n",
    "                    gt_out = 'gt', gx_out = 'gx',\n",
    "                    weight = 'M200c',\n",
    "                #n_boot = 400,\n",
    "                    z_name = 'cluster_z', obs_name = 'M200c',\n",
    "                    Z_bin = Z_bin, Obs_bin = Mass_bin)"
   ]
  },
  {
   "cell_type": "code",
   "execution_count": 12,
   "id": "c644faac",
   "metadata": {},
   "outputs": [
    {
     "name": "stderr",
     "output_type": "stream",
     "text": [
      "/pbs/throng/lsst/users/cpayerne/GitForThesis/DC2Analysis/modeling/CL_WL_DATAOPS_make_profile.py:35: RuntimeWarning: invalid value encountered in double_scalars\n",
      "  return gt_w/w, gx_w/w, r_w/w\n",
      "/pbs/throng/lsst/users/cpayerne/GitForThesis/DC2Analysis/modeling/CL_WL_DATAOPS_make_profile.py:35: RuntimeWarning: invalid value encountered in true_divide\n",
      "  return gt_w/w, gx_w/w, r_w/w\n"
     ]
    }
   ],
   "source": [
    "profile_stack_true_sky = prf.stacked_profile(profile = profile_SkySim5000,\n",
    "                    r_in = 'radius_av',\n",
    "                    gt_in = 'gt_av', gx_in = 'gx_av',\n",
    "                    r_out = 'radius',\n",
    "                    gt_out = 'gt', gx_out = 'gx',\n",
    "                    weight = 'norm_sum',\n",
    "                    z_name = 'cluster_z', obs_name = 'M200c',\n",
    "                    Z_bin = Z_bin, Obs_bin = Mass_bin)\n",
    "\n",
    "covariance_stack_true_sky = prf.sample_covariance(profile = profile_SkySim5000,\n",
    "                    r_in = 'radius_av',\n",
    "                    gt_in = 'gt_av', gx_in = 'gx_av',\n",
    "                    r_out = 'radius',\n",
    "                    gt_out = 'gt', gx_out = 'gx',\n",
    "                    weight = 'M200c',\n",
    "                #n_boot = 400,\n",
    "                    z_name = 'cluster_z', obs_name = 'M200c',\n",
    "                    Z_bin = Z_bin, Obs_bin = Mass_bin)"
   ]
  },
  {
   "cell_type": "code",
   "execution_count": 13,
   "id": "51043a09",
   "metadata": {},
   "outputs": [],
   "source": [
    "moo = clmm.Modeling(massdef = 'critical', delta_mdef = 200, halo_profile_model = 'nfw')\n",
    "moo.set_cosmo(cosmo_clmm)\n",
    "deff = ccl.halos.massdef.MassDef(200, 'critical', c_m_relation=None)\n",
    "conc = ccl.halos.concentration.ConcentrationDiemer15(mdef=deff)"
   ]
  },
  {
   "cell_type": "code",
   "execution_count": 14,
   "id": "08f8f6f6",
   "metadata": {},
   "outputs": [],
   "source": [
    "def modele_ds(r, logm, c, cluster_z):\n",
    "    m = 10.**logm \n",
    "    moo.set_mass(m), moo.set_concentration(c)\n",
    "    deltasigma = [] \n",
    "    for i, xr in enumerate(r):\n",
    "        deltasigma.append(moo.eval_excess_surface_density(xr, cluster_z))\n",
    "    return np.array(deltasigma)"
   ]
  },
  {
   "cell_type": "code",
   "execution_count": 15,
   "id": "b2fc6e37",
   "metadata": {},
   "outputs": [],
   "source": [
    "def sig(r, z, r00, r0c):\n",
    "    r0 = r00 \n",
    "    rc = r0c \n",
    "    res = []\n",
    "    for R in r: res.append((1./(1 + np.exp(-(R-r0)/rc))))\n",
    "    return np.array(res)"
   ]
  },
  {
   "cell_type": "code",
   "execution_count": 16,
   "id": "9577821b",
   "metadata": {},
   "outputs": [],
   "source": [
    "def fit_sigmoid(profile = 1, cov = 1, fix_logm = True):\n",
    "    \n",
    "    r0, rc = [], []\n",
    "    r0_err, rc_err = [], []\n",
    "    logm_obs = []\n",
    "\n",
    "    for i, p in enumerate(profile):\n",
    "\n",
    "        def chi2(logm, r00, rc0):\n",
    "\n",
    "            chi = 0\n",
    "            \n",
    "            if fix_logm == True: logm = np.log10(p['obs_mean'])\n",
    "            cluster_z, R, y_exp, cov_t =  p['z_mean'], np.array(p['radius']), p['gt'], cov[i]['cov_t'].T.diagonal()\n",
    "            sigmoid = sig(np.array(R, dtype = float), cluster_z, r00, rc0)\n",
    "            y_predict = modele_ds(R, logm, conc._concentration(cosmo_ccl, 10**logm, 1/(1 + cluster_z)), cluster_z)\n",
    "            data_vector = ((y_predict*sigmoid - y_exp)/np.sqrt(cov_t[0]))[(R < 5.5)]\n",
    "            d = data_vector\n",
    "            return np.sum((d)**2)\n",
    "\n",
    "        minuit = Minuit(chi2, logm = 14, r00 = 0.5, rc0 = 0.5, fix_logm = fix_logm,\n",
    "                    limit_logm = (11, 16),\n",
    "                    limit_rc0 = (0., 1),\n",
    "                    limit_r00 = (0., 1),\n",
    "        \n",
    "                   errordef = 1)\n",
    "\n",
    "        minuit.migrad(),minuit.hesse(),minuit.minos()\n",
    "        r0.append(minuit.values['r00'])\n",
    "        rc.append(minuit.values['rc0'])\n",
    "        r0_err.append(minuit.errors['r00'])\n",
    "        rc_err.append(minuit.errors['rc0'])\n",
    "        logm_obs.append(np.log10(p['obs_mean']))\n",
    "\n",
    "    r0 = np.array(r0)\n",
    "    r0_err = np.array(r0_err)\n",
    "    rc = np.array(rc)\n",
    "    rc_err = np.array(rc_err)\n",
    "    return r0, r0_err, rc, rc_err, logm_obs"
   ]
  },
  {
   "cell_type": "code",
   "execution_count": 17,
   "id": "e246b67c",
   "metadata": {},
   "outputs": [],
   "source": [
    "r0, r0_err, rc, rc_err, logm_obs = fit_sigmoid(profile = profile_stack_true, cov = covariance_stack_true, fix_logm = True)"
   ]
  },
  {
   "cell_type": "code",
   "execution_count": 18,
   "id": "7bb8dc5e",
   "metadata": {},
   "outputs": [],
   "source": [
    "r0sky, r0_errsky, rcsky, rc_errsky, logm_obs = fit_sigmoid(profile = profile_stack_true_sky, cov = covariance_stack_true_sky, fix_logm = True)"
   ]
  },
  {
   "cell_type": "code",
   "execution_count": 19,
   "id": "ed44395a",
   "metadata": {},
   "outputs": [],
   "source": [
    "def fit(profile, r0, r0_err, rc, rc_err):\n",
    "    \n",
    "    def chi2(a, b):\n",
    "        z = profile['z_mean']\n",
    "        yexp = r0 + 6*rc\n",
    "        yexp_err = np.sqrt(r0_err**2 + 36*rc_err**2)\n",
    "        model = a * z  + b\n",
    "        return np.sum(((yexp - model)/yexp_err)**2)\n",
    "\n",
    "    minuit = Minuit(chi2, a = 1, b = 0, errordef = 1)\n",
    "    minuit.migrad(),minuit.hesse(),minuit.minos()\n",
    "    print(minuit.fval/(len(r0)-2))\n",
    "    return minuit"
   ]
  },
  {
   "cell_type": "code",
   "execution_count": 20,
   "id": "1a3364c3",
   "metadata": {},
   "outputs": [
    {
     "name": "stdout",
     "output_type": "stream",
     "text": [
      "0.6961166689972421\n",
      "0.3618429091818553\n"
     ]
    }
   ],
   "source": [
    "minuit_sky = fit(profile_stack_true_sky, r0sky, r0_errsky, rcsky, rc_errsky)\n",
    "minuit = fit(profile_stack_true, r0, r0_err, rc, rc_err)"
   ]
  },
  {
   "cell_type": "code",
   "execution_count": 21,
   "id": "c25015f9",
   "metadata": {},
   "outputs": [
    {
     "data": {
      "text/plain": [
       "(┌───┬──────┬───────────┬───────────┬────────────┬────────────┬─────────┬─────────┬───────┐\n",
       "│   │ Name │   Value   │ Hesse Err │ Minos Err- │ Minos Err+ │ Limit-  │ Limit+  │ Fixed │\n",
       "├───┼──────┼───────────┼───────────┼────────────┼────────────┼─────────┼─────────┼───────┤\n",
       "│ 0 │ a    │   2.01    │   0.21    │   -0.21    │    0.21    │         │         │       │\n",
       "│ 1 │ b    │   -0.10   │   0.08    │   -0.08    │    0.08    │         │         │       │\n",
       "└───┴──────┴───────────┴───────────┴────────────┴────────────┴─────────┴─────────┴───────┘,\n",
       " ┌───┬──────┬───────────┬───────────┬────────────┬────────────┬─────────┬─────────┬───────┐\n",
       "│   │ Name │   Value   │ Hesse Err │ Minos Err- │ Minos Err+ │ Limit-  │ Limit+  │ Fixed │\n",
       "├───┼──────┼───────────┼───────────┼────────────┼────────────┼─────────┼─────────┼───────┤\n",
       "│ 0 │ a    │   1.53    │   0.25    │   -0.25    │    0.25    │         │         │       │\n",
       "│ 1 │ b    │   0.38    │   0.10    │   -0.10    │    0.10    │         │         │       │\n",
       "└───┴──────┴───────────┴───────────┴────────────┴────────────┴─────────┴─────────┴───────┘)"
      ]
     },
     "execution_count": 21,
     "metadata": {},
     "output_type": "execute_result"
    }
   ],
   "source": [
    "minuit_sky.params, minuit.params"
   ]
  },
  {
   "cell_type": "code",
   "execution_count": 23,
   "id": "67e5797d",
   "metadata": {},
   "outputs": [
    {
     "data": {
      "text/plain": [
       "<matplotlib.legend.Legend at 0x7f44c7c0d7d0>"
      ]
     },
     "execution_count": 23,
     "metadata": {},
     "output_type": "execute_result"
    },
    {
     "data": {
      "image/png": "[encoded data removed]",
      "text/plain": [
       "<Figure size 720x504 with 1 Axes>"
      ]
     },
     "metadata": {
      "needs_background": "light"
     },
     "output_type": "display_data"
    }
   ],
   "source": [
    "plt.figure(figsize = (10,7))\n",
    "plt.rcParams['axes.linewidth']=2\n",
    "d = cosmo.eval_da(profile_stack_true['z_mean'])\n",
    "z = np.linspace(0,2, 100)\n",
    "factor = 1\n",
    "sigma = 1\n",
    "\n",
    "plt.errorbar(profile_stack_true['z_mean'], (r0 + 6*rc)/factor, np.sqrt(r0_err**2 + 36*rc_err**2)/factor , fmt = ' ', capsize = 4, color = 'r', marker = 'o', markersize = 4, zorder = 100, label = 'cosmoDC2')\n",
    "y = (( minuit.values['a']) * profile_stack_true['z_mean'] + ( minuit.values['b'] ))/factor\n",
    "y_up =(( minuit.values['a'] + sigma* minuit.errors['a']) * z + ( minuit.values['b'] + sigma* minuit.errors['b']))/factor\n",
    "y_down =(( minuit.values['a'] - sigma* minuit.errors['a']) * z + ( minuit.values['b'] - sigma* minuit.errors['b']))/factor\n",
    "plt.fill_between(z,y_up, y_down, color = 'salmon', alpha = 0.5, zorder = 0)\n",
    "\n",
    "plt.xlabel('z', fontsize = 20)\n",
    "plt.ylim(0.5,2.6)\n",
    "plt.yscale('log')\n",
    "plt.xlim(0.2, 1)\n",
    "plt.ylabel(r'$r_0 + 6r_c$ [Mpc]', fontsize = 20)\n",
    "ticks = [0.3,0.4,0.5,0.6, 0.7, 1, 1.5, 2]\n",
    "ticks_str = [str(t) for t in ticks]\n",
    "plt.yticks(ticks=ticks, labels=ticks_str)\n",
    "plt.tick_params(axis='both', which = 'major', labelsize= 15, zorder = 0)\n",
    "plt.legend(loc='upper left', frameon = False, fontsize = 20, numpoints = 1)\n",
    "    #plt.savefig('/pbs/throng/lsst/users/cpayerne/ThesisAtCCin2p3/Images/sigmoid_cosmoDC2_SkySim.png', bbox_inches='tight', dpi=300)"
   ]
  },
  {
   "cell_type": "code",
   "execution_count": null,
   "id": "0b605a7e",
   "metadata": {},
   "outputs": [],
   "source": []
  },
  {
   "cell_type": "code",
   "execution_count": null,
   "id": "76c6a761",
   "metadata": {},
   "outputs": [],
   "source": []
  },
  {
   "cell_type": "code",
   "execution_count": null,
   "id": "9d124c20",
   "metadata": {},
   "outputs": [],
   "source": []
  }
 ],
 "metadata": {
  "kernelspec": {
   "display_name": "mydesc",
   "language": "python",
   "name": "mydesc"
  },
  "language_info": {
   "codemirror_mode": {
    "name": "ipython",
    "version": 3
   },
   "file_extension": ".py",
   "mimetype": "text/x-python",
   "name": "python",
   "nbconvert_exporter": "python",
   "pygments_lexer": "ipython3",
   "version": "3.7.6"
  }
 },
 "nbformat": 4,
 "nbformat_minor": 5
}
