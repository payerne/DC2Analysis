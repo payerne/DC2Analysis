{
 "cells": [
  {
   "cell_type": "code",
   "execution_count": 1,
   "id": "895df33d",
   "metadata": {},
   "outputs": [],
   "source": [
    "%load_ext autoreload\n",
    "\n",
    "%autoreload 2\n",
    "import matplotlib.pyplot as plt\n",
    "import pickle\n",
    "import sys\n",
    "from astropy.table import QTable, Table, vstack, join \n",
    "import numpy as np\n",
    "from astropy.cosmology import FlatLambdaCDM\n",
    "import astropy.units as u\n",
    "from astropy.table import Table, QTable\n",
    "from astropy import units as u\n",
    "from astropy.coordinates import SkyCoord, match_coordinates_3d\n",
    "cosmo_astropy = FlatLambdaCDM(H0=71.0, Om0=0.265, Ob0 = 0.0448)\n",
    "import iminuit\n",
    "from iminuit import Minuit\n",
    "cosmo_astropy.critical_density(0.4).to(u.Msun / u.Mpc**3).value\n",
    "\n",
    "#module from my personnal github\n",
    "sys.path.append('/pbs/throng/lsst/users/cpayerne/GitForThesis/DC2Analysis/modeling/')\n",
    "import CL_WL_miscentering as mis\n",
    "import CL_WL_DATAOPS_make_profile as prf\n",
    "import CL_WL_two_halo_term as twoh\n",
    "import CL_WL_mass_conversion as utils\n",
    "import CL_WL_fit_cluster_mass as fit\n",
    "import CL_Mass_richness_relation as mr\n",
    "\n",
    "import clmm\n",
    "import clmm.dataops\n",
    "from clmm.dataops import compute_tangential_and_cross_components, make_radial_profile, make_bins\n",
    "from clmm.galaxycluster import GalaxyCluster\n",
    "import clmm.utils as u\n",
    "from clmm import Cosmology\n",
    "from clmm.support import mock_data as mock\n",
    "import pyccl as ccl\n",
    "cosmo = Cosmology(H0 = 71.0, Omega_dm0 = 0.265 - 0.0448, Omega_b0 = 0.0448, Omega_k0 = 0.0)\n",
    "cosmo_astropy = FlatLambdaCDM(H0=71.0, Om0=0.265, Ob0 = 0.0448)\n",
    "cosmo_clmm = Cosmology(H0 = 71.0, Omega_dm0 = 0.265 - 0.0448, Omega_b0 = 0.0448, Omega_k0 = 0.0)\n",
    "cosmo_ccl  = ccl.Cosmology(Omega_c=0.265-0.0448, Omega_b=0.0448, h=0.71, A_s=2.1e-9, n_s=0.96, Neff=0, Omega_g=0)"
   ]
  },
  {
   "cell_type": "code",
   "execution_count": 2,
   "id": "4a70f616",
   "metadata": {},
   "outputs": [],
   "source": [
    "def binning(corner): return [[corner[i],corner[i+1]] for i in range(len(corner)-1)]\n",
    "down, up, n_bins = 0.1 , 15,40\n",
    "bin_edges = make_bins(down, up, nbins=n_bins, method='evenlog10width')\n",
    "radial_bin = binning(bin_edges)"
   ]
  },
  {
   "cell_type": "code",
   "execution_count": 3,
   "id": "8b6b5edf",
   "metadata": {},
   "outputs": [],
   "source": [
    "radial_bin_mid = np.mean(radial_bin, axis = 1)"
   ]
  },
  {
   "cell_type": "code",
   "execution_count": 4,
   "id": "98c0d3c1",
   "metadata": {},
   "outputs": [
    {
     "data": {
      "text/plain": [
       "array([ 0.10667249,  0.12090791,  0.13704304,  0.15533141,  0.17606035,\n",
       "        0.19955556,  0.22618621,  0.25637071,  0.29058332,  0.3293616 ,\n",
       "        0.37331483,  0.42313361,  0.4796007 ,  0.5436033 ,  0.61614704,\n",
       "        0.69837173,  0.79156928,  0.89720402,  1.0169357 ,  1.15264555,\n",
       "        1.30646584,  1.48081341,  1.67842763,  1.90241343,  2.15629007,\n",
       "        2.4440465 ,  2.77020396,  3.13988707,  3.5589043 ,  4.03383928,\n",
       "        4.57215424,  5.1823072 ,  5.87388494,  6.65775358,  7.54622931,\n",
       "        8.55327193,  9.69470417, 10.98846028, 12.45486786, 14.1169672 ])"
      ]
     },
     "execution_count": 4,
     "metadata": {},
     "output_type": "execute_result"
    }
   ],
   "source": [
    "radial_bin_mid"
   ]
  },
  {
   "cell_type": "code",
   "execution_count": 5,
   "id": "42045795",
   "metadata": {},
   "outputs": [],
   "source": [
    "\n",
    "def load(filename, **kwargs):\n",
    "\n",
    "    with open(filename, 'rb') as fin:\n",
    "        \n",
    "        return pickle.load(fin, **kwargs)"
   ]
  },
  {
   "cell_type": "code",
   "execution_count": 6,
   "id": "214660c1",
   "metadata": {},
   "outputs": [],
   "source": [
    "profile_cosmodc2 = load('/pbs/throng/lsst/users/cpayerne/ThesisAtCCin2p3/p_DC2_validation/cosmoDC2/cosmodc2_true_shape_all_bins_ns.pkl')\n",
    "profile_SkySim5000 = load('/pbs/throng/lsst/users/cpayerne/ThesisAtCCin2p3/p_DC2_validation/SkySim5000/SkySim5000_true_shape_all_bins_ns.pkl')"
   ]
  },
  {
   "cell_type": "code",
   "execution_count": 7,
   "id": "1ef44087",
   "metadata": {},
   "outputs": [
    {
     "data": {
      "text/plain": [
       "(4725, 5906)"
      ]
     },
     "execution_count": 7,
     "metadata": {},
     "output_type": "execute_result"
    }
   ],
   "source": [
    "len(profile_SkySim5000), len(profile_cosmodc2)"
   ]
  },
  {
   "cell_type": "code",
   "execution_count": 8,
   "id": "8961d975",
   "metadata": {},
   "outputs": [],
   "source": [
    "m_SORT = np.sort(np.array(profile_cosmodc2['M200c']), axis = 0)\n",
    "m_list = np.array_split(m_SORT,5)\n",
    "\n",
    "m_corner = []\n",
    "for m_ in m_list[1:]:\n",
    "    m_corner.append(m_[0][0])\n",
    "m_corner.append(np.inf)"
   ]
  },
  {
   "cell_type": "code",
   "execution_count": 9,
   "id": "4aa8417e",
   "metadata": {},
   "outputs": [
    {
     "name": "stdout",
     "output_type": "stream",
     "text": [
      "[[0.2, 0.30000000000000004], [0.30000000000000004, 0.4], [0.4, 0.5], [0.5, 0.6000000000000001], [0.6000000000000001, 0.7], [0.7, 0.8], [0.8, 0.9000000000000001], [0.9000000000000001, 1.0]]\n",
      "[[14.   14.25]\n",
      " [14.25 14.5 ]]\n"
     ]
    },
    {
     "data": {
      "text/plain": [
       "(None, None)"
      ]
     },
     "execution_count": 9,
     "metadata": {},
     "output_type": "execute_result"
    }
   ],
   "source": [
    "z_corner = np.linspace(0.2, 1 , 9)\n",
    "Z_bin = binning(z_corner)\n",
    "m_corner = np.logspace(14,14.5, 3)\n",
    "#m_corner = np.linspace(1e14, 1e15, 7)\n",
    "Mass_bin = binning(m_corner)\n",
    "print(Z_bin), print(np.log10(Mass_bin))"
   ]
  },
  {
   "cell_type": "code",
   "execution_count": 10,
   "id": "9188bf74",
   "metadata": {},
   "outputs": [
    {
     "name": "stderr",
     "output_type": "stream",
     "text": [
      "/pbs/home/c/cpayerne/.conda/envs/mydesc/lib/python3.7/site-packages/numpy/ma/core.py:2832: VisibleDeprecationWarning: Creating an ndarray from ragged nested sequences (which is a list-or-tuple of lists-or-tuples-or ndarrays with different lengths or shapes) is deprecated. If you meant to do this, you must specify 'dtype=object' when creating the ndarray\n",
      "  order=order, subok=True, ndmin=ndmin)\n"
     ]
    }
   ],
   "source": [
    "profile_stack_cosmodc2 = prf.stacked_profile(profile = profile_cosmodc2,\n",
    "                    r_in = 'radius_av',\n",
    "                    gt_in = 'gt_av', gx_in = 'gx_av',\n",
    "                    r_out = 'radius',\n",
    "                    gt_out = 'gt', gx_out = 'gx',\n",
    "                    weight = 'norm_sum',\n",
    "                    z_name = 'cluster_z', obs_name = 'M200c',\n",
    "                    Z_bin = Z_bin, Obs_bin = Mass_bin)\n",
    "\n",
    "covariance_stack_cosmodc2 = prf.bootstrap_covariance(profile = profile_cosmodc2,\n",
    "                    r_in = 'radius_av',\n",
    "                    gt_in = 'gt_av', gx_in = 'gx_av',\n",
    "                    r_out = 'radius',\n",
    "                    gt_out = 'gt', gx_out = 'gx',\n",
    "                    weight = 'norm_sum',\n",
    "                    n_boot = 100,\n",
    "                    z_name = 'cluster_z', obs_name = 'M200c',\n",
    "                    Z_bin = Z_bin, Obs_bin = Mass_bin)"
   ]
  },
  {
   "cell_type": "code",
   "execution_count": 11,
   "id": "4cf897d3",
   "metadata": {},
   "outputs": [
    {
     "name": "stderr",
     "output_type": "stream",
     "text": [
      "/pbs/throng/lsst/users/cpayerne/GitForThesis/DC2Analysis/modeling/CL_WL_DATAOPS_make_profile.py:35: RuntimeWarning: invalid value encountered in double_scalars\n",
      "  return gt_w/w, gx_w/w, r_w/w\n",
      "/pbs/throng/lsst/users/cpayerne/GitForThesis/DC2Analysis/modeling/CL_WL_DATAOPS_make_profile.py:35: RuntimeWarning: invalid value encountered in true_divide\n",
      "  return gt_w/w, gx_w/w, r_w/w\n"
     ]
    }
   ],
   "source": [
    "profile_stack_sky = prf.stacked_profile(profile = profile_SkySim5000,\n",
    "                    r_in = 'radius_av',\n",
    "                    gt_in = 'gt_av', gx_in = 'gx_av',\n",
    "                    r_out = 'radius',\n",
    "                    gt_out = 'gt', gx_out = 'gx',\n",
    "                    weight = 'norm_sum',\n",
    "                    z_name = 'cluster_z', obs_name = 'M200c',\n",
    "                    Z_bin = Z_bin, Obs_bin = Mass_bin)\n",
    "\n",
    "covariance_stack_sky = prf.bootstrap_covariance(profile = profile_SkySim5000,\n",
    "                    r_in = 'radius_av',\n",
    "                                        gt_in = 'gt_av', gx_in = 'gx_av',\n",
    "                    r_out = 'radius',\n",
    "                    gt_out = 'gt', gx_out = 'gx',\n",
    "                    weight = 'M200c',\n",
    "                    n_boot = 200,\n",
    "                    z_name = 'cluster_z', obs_name = 'M200c',\n",
    "                    Z_bin = Z_bin, Obs_bin = Mass_bin)"
   ]
  },
  {
   "cell_type": "code",
   "execution_count": 12,
   "id": "c424641c",
   "metadata": {},
   "outputs": [],
   "source": [
    "moo = clmm.Modeling(massdef = 'critical', delta_mdef = 200, halo_profile_model = 'nfw')\n",
    "moo.set_cosmo(cosmo_clmm)\n",
    "deff = ccl.halos.massdef.MassDef(200, 'critical', c_m_relation=None)\n",
    "conc = ccl.halos.concentration.ConcentrationDiemer15(mdef=deff)"
   ]
  },
  {
   "cell_type": "code",
   "execution_count": 13,
   "id": "5edcf189",
   "metadata": {},
   "outputs": [
    {
     "name": "stdout",
     "output_type": "stream",
     "text": [
      "4 1\n"
     ]
    },
    {
     "data": {
      "image/png": "[encoded data removed]",
      "text/plain": [
       "<Figure size 1440x360 with 4 Axes>"
      ]
     },
     "metadata": {
      "needs_background": "light"
     },
     "output_type": "display_data"
    }
   ],
   "source": [
    "n_z_bin = len(Z_bin) - 4\n",
    "n_m_bin = len(Mass_bin) - 1\n",
    "print(n_z_bin, n_m_bin)\n",
    "scale = 5\n",
    "fig, axs = plt.subplots(n_m_bin,n_z_bin, figsize = (scale*n_z_bin,scale*n_m_bin))\n",
    "plt.rcParams['axes.linewidth']= 2\n",
    "for j, z_bin in enumerate(Z_bin):\n",
    "\n",
    "    if j >= n_z_bin: continue\n",
    "        \n",
    "    for i, m_bin in enumerate(Mass_bin):\n",
    "\n",
    "        if i >= n_m_bin: continue\n",
    "            \n",
    "        label_z = f'{z_bin[0]:.2f} < z < {z_bin[1]:.2f}'\n",
    "        label_M = f'{np.log10(m_bin[0]):.2f}' + r'$ < \\log_{10}(M_{\\rm 200c}) < $' + f'{np.log10(m_bin[1]):.2f}'\n",
    "        axs[ j].plot([], [], 'w', label = label_z)\n",
    "        axs[ j].plot([], [], 'w', label = label_M)\n",
    "        c = ['r','b']\n",
    "        fmt = ['-', '--']\n",
    "        marker = ['o', 's']\n",
    "        markersize = [2,2]\n",
    "        name = ['center cosmoDC2', 'center RedMapper']\n",
    "        profile = [profile_stack_sky, profile_stack_cosmodc2]\n",
    "        label = [ 'SkySim5000', 'cosmoDC2',]\n",
    "\n",
    "        color = ['b','r']\n",
    "        for g, profile_ in enumerate(profile):\n",
    "            mask_z = (profile_['z_mean'] > z_bin[0])*(profile_['z_mean'] < z_bin[1])\n",
    "            mask_m = (profile_['obs_mean'] > m_bin[0])*(profile_['obs_mean'] < m_bin[1])\n",
    "            index = np.arange(len(profile_))\n",
    "            prf_cut = profile_[index[mask_z*mask_m]][0]\n",
    "            axs[j].plot(prf_cut['radius'], prf_cut['gt'], color[g], linewidth = 2)\n",
    "            \n",
    "        if i+j == 1000:\n",
    "            \n",
    "            axs[j].plot([],[], color[0], label = label[0],)\n",
    "            axs[j].plot([],[], color[1], label = label[1],)\n",
    "            axs[j].plot([],[], '--', c = 'cyan', label = 'fiducial',)\n",
    "            axs[ j].legend(frameon = False, loc = 'lower left', fontsize = 13)\n",
    "        else:\n",
    "            axs[ j].legend(frameon = False, loc = 'upper right', fontsize = 13)\n",
    "            \n",
    "        c200 = conc._concentration(cosmo_ccl, prf_cut['obs_mean'], 1/(1 + prf_cut['z_mean']))   \n",
    "        moo.set_mass(prf_cut['obs_mean']), moo.set_concentration(c200)\n",
    "        yth = [moo.eval_excess_surface_density(prf_cut['radius'][o], prf_cut['z_mean']) for o in range(len(prf_cut['radius']))]\n",
    "        axs[j].plot(prf_cut['radius'], yth, '--', linewidth = 2, color = 'cyan', zorder = 0)\n",
    "\n",
    "        axs[ j].set_ylim(0.5*1e12, 4e14)\n",
    "        axs[j].set_xlim(0.1, 10)\n",
    "        axs[ j].set_xscale('log')\n",
    "        axs[ j].set_yscale('log')\n",
    "        axs[ j].set_xlabel('R [Mpc]', fontsize = 20)\n",
    "        axs[j].set_ylabel(r'$\\Delta\\Sigma_+$ ' +'$[$' + r'${\\rm M}$' + r'$_\\odot\\;$'+ r'${\\rm Mpc}$'+r'$^{-2}$'r'$]$', fontsize = 20)\n",
    "        axs[j].tick_params(axis='both', which = 'major', labelsize= 18, zorder = 0)\n",
    "for ax in fig.get_axes():\n",
    "    ax.label_outer()\n",
    "#plt.savefig('/pbs/throng/lsst/users/cpayerne/ThesisAtCCin2p3/Images/profile_attenuation_SkySim_cosmoDC2.png', bbox_inches='tight', dpi=300)"
   ]
  },
  {
   "cell_type": "code",
   "execution_count": null,
   "id": "6141a996",
   "metadata": {},
   "outputs": [],
   "source": []
  },
  {
   "cell_type": "code",
   "execution_count": null,
   "id": "e681727e",
   "metadata": {},
   "outputs": [],
   "source": []
  },
  {
   "cell_type": "code",
   "execution_count": null,
   "id": "335ff721",
   "metadata": {},
   "outputs": [],
   "source": []
  },
  {
   "cell_type": "code",
   "execution_count": null,
   "id": "40c352b0",
   "metadata": {},
   "outputs": [],
   "source": []
  }
 ],
 "metadata": {
  "kernelspec": {
   "display_name": "mydesc",
   "language": "python",
   "name": "mydesc"
  },
  "language_info": {
   "codemirror_mode": {
    "name": "ipython",
    "version": 3
   },
   "file_extension": ".py",
   "mimetype": "text/x-python",
   "name": "python",
   "nbconvert_exporter": "python",
   "pygments_lexer": "ipython3",
   "version": "3.7.6"
  }
 },
 "nbformat": 4,
 "nbformat_minor": 5
}
