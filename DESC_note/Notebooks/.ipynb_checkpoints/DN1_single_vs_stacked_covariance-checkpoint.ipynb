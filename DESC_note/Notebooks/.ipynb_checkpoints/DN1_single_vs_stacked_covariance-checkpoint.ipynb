{
 "cells": [
  {
   "cell_type": "code",
   "execution_count": 42,
   "id": "34687d41",
   "metadata": {},
   "outputs": [
    {
     "name": "stdout",
     "output_type": "stream",
     "text": [
      "The autoreload extension is already loaded. To reload it, use:\n",
      "  %reload_ext autoreload\n"
     ]
    }
   ],
   "source": [
    "%load_ext autoreload\n",
    "\n",
    "import clmm\n",
    "import clmm.dataops\n",
    "from clmm.dataops import compute_tangential_and_cross_components, make_radial_profile, make_bins\n",
    "from clmm.galaxycluster import GalaxyCluster\n",
    "import clmm.utils as u\n",
    "from clmm import Cosmology\n",
    "from clmm.support import mock_data as mock\n",
    "import pyccl as ccl\n",
    "cosmo = Cosmology(H0 = 71.0, Omega_dm0 = 0.265 - 0.0448, Omega_b0 = 0.0448, Omega_k0 = 0.0)\n",
    "cosmo_ccl  = ccl.Cosmology(Omega_c=0.265-0.0448, Omega_b=0.0448, h=0.71, A_s=2.1e-9, n_s=0.96, Neff=0, Omega_g=0)\n",
    "import clmm.dataops as dat\n",
    "import matplotlib.pyplot as plt\n",
    "import pickle\n",
    "import sys\n",
    "from astropy.table import QTable, Table, vstack, join \n",
    "import numpy as np\n",
    "import astropy.units as u\n",
    "from astropy.table import Table, QTable\n",
    "from astropy import units as u\n",
    "sys.path.append('/pbs/throng/lsst/users/cpayerne/GitForThesis/DC2Analysis/modeling/')\n",
    "\n",
    "import CL_WL_DATAOPS_make_profile as prf\n",
    "import CL_WL_DATAOPS_make_binned_profile as binned_prf"
   ]
  },
  {
   "cell_type": "code",
   "execution_count": 5,
   "id": "03253622",
   "metadata": {},
   "outputs": [],
   "source": [
    "def load(filename, **kwargs):\n",
    "    with open(filename, 'rb') as fin:\n",
    "        return pickle.load(fin, **kwargs)"
   ]
  },
  {
   "cell_type": "code",
   "execution_count": 58,
   "id": "6b6adc10",
   "metadata": {},
   "outputs": [],
   "source": [
    "profile_ns = load('/pbs/throng/lsst/users/cpayerne/ThesisAtCCin2p3/p_DC2_validation/cosmoDC2/cosmodc2_epsilon_shape_all_bins_ns.pkl')\n",
    "#profile_ns = load('/pbs/throng/lsst/users/cpayerne/ThesisAtCCin2p3/p_DC2_validation/cosmoDC2/cosmodc2_true_shape_all_bins_ns.pkl')"
   ]
  },
  {
   "cell_type": "code",
   "execution_count": 59,
   "id": "06b4858c",
   "metadata": {},
   "outputs": [],
   "source": [
    "profile_ns['halo_id'] = profile_ns['cluster_id']"
   ]
  },
  {
   "cell_type": "code",
   "execution_count": 60,
   "id": "8d836f02",
   "metadata": {},
   "outputs": [],
   "source": [
    "dat_SkySim = load('/pbs/throng/lsst/users/cpayerne/ThesisAtCCin2p3/Galaxy_Cluster_Catalogs_details/cosmoDC2/SkySim5000_DM_halos.pkl')"
   ]
  },
  {
   "cell_type": "code",
   "execution_count": 61,
   "id": "b5b6feb5",
   "metadata": {},
   "outputs": [],
   "source": [
    "profile_tot = join(profile_ns,dat_SkySim,keys='halo_id')"
   ]
  },
  {
   "cell_type": "code",
   "execution_count": 62,
   "id": "89c0e370",
   "metadata": {},
   "outputs": [],
   "source": [
    "profile_tot['halo_mass'] = np.array([np.array([p]) for p in profile_tot['halo_mass']])"
   ]
  },
  {
   "cell_type": "code",
   "execution_count": 63,
   "id": "e8c9d9eb",
   "metadata": {},
   "outputs": [],
   "source": [
    "def binning(corner): return [[corner[i],corner[i+1]] for i in range(len(corner)-1)]\n",
    "def binning(corner): return [[corner[i],corner[i+1]] for i in range(len(corner)-1)]\n",
    "z_corner = np.linspace(0.2, 1, 9)\n",
    "Z_bin = binning(z_corner)\n",
    "\n",
    "m_corner = np.logspace(14,14.5,6)\n",
    "Mass_bin = binning(m_corner)"
   ]
  },
  {
   "cell_type": "code",
   "execution_count": 64,
   "id": "1457d374",
   "metadata": {},
   "outputs": [
    {
     "data": {
      "text/plain": [
       "array([0.2, 0.3, 0.4, 0.5, 0.6, 0.7, 0.8, 0.9, 1. ])"
      ]
     },
     "execution_count": 64,
     "metadata": {},
     "output_type": "execute_result"
    }
   ],
   "source": [
    "z_corner"
   ]
  },
  {
   "cell_type": "markdown",
   "id": "95b45fcf-b2ad-430d-813e-446e50e35466",
   "metadata": {},
   "source": [
    "# Stacked covariance matrix estimation"
   ]
  },
  {
   "cell_type": "code",
   "execution_count": 65,
   "id": "b2d4412f",
   "metadata": {},
   "outputs": [],
   "source": [
    "n_boot = 300\n",
    "n_jack = 100"
   ]
  },
  {
   "cell_type": "code",
   "execution_count": 66,
   "id": "f9665d18",
   "metadata": {},
   "outputs": [
    {
     "name": "stderr",
     "output_type": "stream",
     "text": [
      "/pbs/home/c/cpayerne/.conda/envs/mydesc/lib/python3.7/site-packages/numpy/ma/core.py:2832: VisibleDeprecationWarning: Creating an ndarray from ragged nested sequences (which is a list-or-tuple of lists-or-tuples-or ndarrays with different lengths or shapes) is deprecated. If you meant to do this, you must specify 'dtype=object' when creating the ndarray\n",
      "  order=order, subok=True, ndmin=ndmin)\n"
     ]
    }
   ],
   "source": [
    "profile_RedMapper_stack_ns = prf.stacked_profile(profile = profile_tot,\n",
    "                    r_in = 'radius_av',\n",
    "                    gt_in = 'gt_av', gx_in = 'gx_av',\n",
    "                    r_out = 'radius',\n",
    "                    gt_out = 'gt', gx_out = 'gx',\n",
    "                    weight = 'norm_sum',\n",
    "                    z_name = 'cluster_z', obs_name = 'M200c',\n",
    "                    Z_bin = Z_bin, Obs_bin = Mass_bin)\n",
    "profile_RedMapper_stack_true = prf.stacked_profile(profile = profile_tot,\n",
    "                    r_in = 'radius_av',\n",
    "                    gt_in = 'gt_av', gx_in = 'gx_av',\n",
    "                    r_out = 'radius',\n",
    "                    gt_out = 'gt', gx_out = 'gx',\n",
    "                    weight = 'norm_sum',\n",
    "                    z_name = 'cluster_z', obs_name = 'M200c',\n",
    "                    Z_bin = Z_bin, Obs_bin = Mass_bin)"
   ]
  },
  {
   "cell_type": "code",
   "execution_count": 86,
   "id": "895153d1",
   "metadata": {},
   "outputs": [],
   "source": [
    "covariance_RedMapper_stack_bootstrap = prf.bootstrap_covariance(profile = profile_tot,\n",
    "                    r_in = 'radius_av',\n",
    "                    gt_in = 'gt_av', gx_in = 'gx_av',\n",
    "                    r_out = 'radius',\n",
    "                    gt_out = 'gt', gx_out = 'gx',\n",
    "                    weight = 'norm_sum',\n",
    "                    n_boot = n_boot,\n",
    "                    z_name = 'cluster_z', obs_name = 'M200c',\n",
    "                    Z_bin = Z_bin, Obs_bin = Mass_bin)"
   ]
  },
  {
   "cell_type": "code",
   "execution_count": 101,
   "id": "c7678699",
   "metadata": {},
   "outputs": [
    {
     "name": "stdout",
     "output_type": "stream",
     "text": [
      "10410324401\n",
      "0.25818144818142286\n"
     ]
    }
   ],
   "source": [
    "index_dm = 1\n",
    "ide = profile_RedMapper_stack_ns['cluster_id'][index_dm][0]\n",
    "print(ide)\n",
    "print(profile_RedMapper_stack_ns['z_mean'][index_dm])\n",
    "radius = profile_RedMapper_stack_ns['radius'][index_dm][profile_RedMapper_stack_ns['radius'][index_dm] > 0]\n",
    "mask = profile_RedMapper_stack_ns['radius'][index_dm] > 0"
   ]
  },
  {
   "cell_type": "code",
   "execution_count": 102,
   "id": "ab268020",
   "metadata": {},
   "outputs": [],
   "source": [
    "down, up, n_bins = 0.1 , 15,40\n",
    "bin_edges = make_bins(down, up, nbins=n_bins, method='evenlog10width')\n",
    "radial_bin = binning(bin_edges)\n",
    "radius_mid = np.mean(radial_bin, axis = 1)"
   ]
  },
  {
   "cell_type": "markdown",
   "id": "503c8243-c050-4594-9a34-ab4658202d56",
   "metadata": {},
   "source": [
    "# Individual covariance"
   ]
  },
  {
   "cell_type": "code",
   "execution_count": 103,
   "id": "a75a42c0",
   "metadata": {},
   "outputs": [],
   "source": [
    "cl = load('/sps/lsst/users/cpayerne/DC2_validation/cosmoDC2/halo_id_SkySim_'+str(ide)+'.pkl')"
   ]
  },
  {
   "cell_type": "code",
   "execution_count": 104,
   "id": "8b493b97-f99f-46b6-b31f-5635a53e6dfd",
   "metadata": {},
   "outputs": [
    {
     "name": "stderr",
     "output_type": "stream",
     "text": [
      "/pbs/throng/lsst/users/cpayerne/CLMM/clmm/dataops/__init__.py:410: UserWarning: Using the flat-sky approximation with separations >1 deg may be inaccurate\n",
      "  \"Using the flat-sky approximation with separations >1 deg may be inaccurate\")\n"
     ]
    }
   ],
   "source": [
    "theta, e_t, e_x  = compute_tangential_and_cross_components(\n",
    "                ra_lens=cl.ra, dec_lens=cl.dec,\n",
    "                ra_source=cl.galcat['ra'], dec_source=cl.galcat['dec'],\n",
    "                shear1=cl.galcat['e1_cosmodc2'], shear2=cl.galcat['e1_cosmodc2'],is_deltasigma = False,\n",
    "                geometry=\"flat\")"
   ]
  },
  {
   "cell_type": "code",
   "execution_count": 105,
   "id": "6e314494",
   "metadata": {},
   "outputs": [],
   "source": [
    "cl.galcat['ra'], cl.galcat['dec'] \n",
    "cl.galcat['theta'], cl.galcat['phi'] = dat._compute_lensing_angles_flatsky(cl.ra, cl.dec, cl.galcat['ra'], cl.galcat['dec'])"
   ]
  },
  {
   "cell_type": "code",
   "execution_count": 106,
   "id": "f843bd50",
   "metadata": {},
   "outputs": [],
   "source": [
    "cl.galcat['sigma_c_1_TRUE'] = 1./cosmo.eval_sigma_crit(cl.z, cl.galcat['z_cosmodc2'])\n",
    "cl.galcat['sigma_c_1_TRUE'] = 1./cosmo.eval_sigma_crit(cl.z, cl.galcat['z_cosmodc2'])"
   ]
  },
  {
   "cell_type": "code",
   "execution_count": 107,
   "id": "24d180a4",
   "metadata": {},
   "outputs": [],
   "source": [
    "cl.galcat['st'] = e_t/cl.galcat['sigma_c_1_TRUE']\n",
    "cl.galcat['sx'] = e_x/cl.galcat['sigma_c_1_TRUE']\n",
    "cl.galcat['r'] = cosmo.eval_da(cl.z)*cl.galcat['theta']\n",
    "cl.galcat['w_ls'] = cl.galcat['sigma_c_1_TRUE']**2"
   ]
  },
  {
   "cell_type": "code",
   "execution_count": 108,
   "id": "bd39126c",
   "metadata": {},
   "outputs": [],
   "source": [
    "shear_single = binned_prf.Shear(cosmo = 0, is_deltasigma = True) "
   ]
  },
  {
   "cell_type": "code",
   "execution_count": 109,
   "id": "2b5e322b",
   "metadata": {},
   "outputs": [
    {
     "name": "stdout",
     "output_type": "stream",
     "text": [
      "\n"
     ]
    }
   ],
   "source": [
    "shear_single.make_binned_profile(metacatalog = cl, tan_in = 'st', \n",
    "                          cross_in = 'sx', weights = 'w_ls', \n",
    "                          tan_out = 'gt', cross_out = 'gx',  \n",
    "                          add_columns_to_bin = [], \n",
    "                          bin_edges = bin_edges)\n",
    "print( )"
   ]
  },
  {
   "cell_type": "code",
   "execution_count": 110,
   "id": "9c6f802c",
   "metadata": {},
   "outputs": [],
   "source": [
    "def jackknife(catalog = 1, n_jk = 1):\n",
    "    phi = np.linspace(-np.pi, np.pi, n_jk + 1)\n",
    "    phi_bin = binning(phi)\n",
    "    gt = []\n",
    "    for phi_ in phi_bin:\n",
    "        \n",
    "        mask = (phi_[0]<cl.galcat['phi'])*(phi_[1]>cl.galcat['phi'])\n",
    "        data_cut = clmm.GCData(cl.galcat[np.invert(mask)])\n",
    "        cl_cut = clmm.GalaxyCluster('Stack', cl.ra, cl.dec, cl.z, data_cut)\n",
    "        shear_single.make_binned_profile(metacatalog = cl_cut, tan_in = 'st', \n",
    "                          cross_in = 'sx', weights = 'w_ls', \n",
    "                          tan_out = 'gt', cross_out = 'gx',  \n",
    "                          add_columns_to_bin = [], \n",
    "                          bin_edges = bin_edges)\n",
    "        gt.append(shear_single.profile['gt'])\n",
    "\n",
    "    gt = np.array(gt)\n",
    "    Xt = np.stack((gt.astype(float)), axis = 1)\n",
    "    cov_t = np.cov(Xt)\n",
    "        \n",
    "    return cov_t"
   ]
  },
  {
   "cell_type": "code",
   "execution_count": 111,
   "id": "57715135-147f-4ffc-bd79-821f84ad3ad1",
   "metadata": {},
   "outputs": [],
   "source": [
    "cov_t_single = jackknife(catalog = cl, n_jk = 30)"
   ]
  },
  {
   "cell_type": "code",
   "execution_count": 112,
   "id": "b25ec472",
   "metadata": {},
   "outputs": [],
   "source": [
    "def corr(cov, mask):\n",
    "    index = np.arange(len(cov[0]))[mask]\n",
    "    size = len(index)\n",
    "    a = np.zeros([size, size])\n",
    "    cov_resized = np.zeros([size, size])\n",
    "    for i, index_i in enumerate(index):\n",
    "        for j, index_j in enumerate(index):\n",
    "            a[i,j] = cov[index_i,index_j]/np.sqrt(cov[index_i,index_i]*cov[index_j,index_j])\n",
    "            cov_resized[i,j] = cov[index_i,index_j]\n",
    "    return a, cov_resized"
   ]
  },
  {
   "cell_type": "code",
   "execution_count": 113,
   "id": "2077a363",
   "metadata": {},
   "outputs": [
    {
     "name": "stdout",
     "output_type": "stream",
     "text": [
      "[ 0  4  8 12 16 20 24 28 32 36]\n",
      "[0.10667249 0.17606035 0.29058332 0.4796007  0.79156928 1.30646584\n",
      " 2.15629007 3.5589043  5.87388494 9.69470417]\n"
     ]
    },
    {
     "data": {
      "image/png": "[encoded data removed]",
      "text/plain": [
       "<Figure size 432x288 with 2 Axes>"
      ]
     },
     "metadata": {
      "needs_background": "light"
     },
     "output_type": "display_data"
    }
   ],
   "source": [
    "plt.imshow(np.corrcoef(cov_t_single), vmin = -1, vmax = 1, cmap = 'bwr')\n",
    "radius = radius_mid\n",
    "index = np.arange(len(radius))\n",
    "index = index[index[0]: index[-1]: 4]\n",
    "print(index)\n",
    "ticks = radius[index]\n",
    "print(ticks)\n",
    "plt.xticks(ticks = index, labels = [f'{t:.1f}' for t in ticks])\n",
    "plt.yticks(ticks = index, labels = [f'{t:.1f}' for t in ticks])\n",
    "plt.xlabel(r'$R\\ [Mpc]$')\n",
    "plt.ylabel(r'$R\\ [Mpc]$')\n",
    "plt.colorbar()\n",
    "plt.show()"
   ]
  },
  {
   "cell_type": "code",
   "execution_count": 114,
   "id": "afc8b977",
   "metadata": {},
   "outputs": [
    {
     "name": "stdout",
     "output_type": "stream",
     "text": [
      "[ 0  4  8 12 16 20 24 28 32 36]\n",
      "[0.10667249 0.17606035 0.29058332 0.4796007  0.79156928 1.30646584\n",
      " 2.15629007 3.5589043  5.87388494 9.69470417]\n"
     ]
    },
    {
     "data": {
      "image/png": "[encoded data removed]",
      "text/plain": [
       "<Figure size 432x288 with 2 Axes>"
      ]
     },
     "metadata": {
      "needs_background": "light"
     },
     "output_type": "display_data"
    }
   ],
   "source": [
    "plt.imshow(np.corrcoef(covariance_RedMapper_stack_bootstrap['cov_t'][0]),vmin = -1, vmax = 1, cmap = 'bwr')\n",
    "index = np.arange(len(radius))\n",
    "index = index[index[0]: index[-1]: 4]\n",
    "print(index)\n",
    "ticks = radius[index]\n",
    "print(ticks)\n",
    "plt.xticks(ticks = index, labels = [f'{t:.1f}' for t in ticks])\n",
    "plt.yticks(ticks = index, labels = [f'{t:.1f}' for t in ticks])\n",
    "plt.xlabel(r'$R\\ [Mpc]$')\n",
    "plt.ylabel(r'$R\\ [Mpc]$')\n",
    "plt.colorbar()\n",
    "plt.show()"
   ]
  },
  {
   "cell_type": "code",
   "execution_count": 115,
   "id": "e6f8c653",
   "metadata": {},
   "outputs": [
    {
     "data": {
      "text/plain": [
       "<matplotlib.legend.Legend at 0x7fc6eccb57d0>"
      ]
     },
     "execution_count": 115,
     "metadata": {},
     "output_type": "execute_result"
    },
    {
     "data": {
      "image/png": "[encoded data removed]",
      "text/plain": [
       "<Figure size 432x288 with 1 Axes>"
      ]
     },
     "metadata": {
      "needs_background": "light"
     },
     "output_type": "display_data"
    }
   ],
   "source": [
    "plt.loglog(radius_mid, cov_t_single.diagonal()**.5, label = 'single')\n",
    "plt.loglog(radius_mid, covariance_RedMapper_stack_bootstrap['cov_t'][0].diagonal()**.5, label = 'stack')\n",
    "plt.xlim(.5, 10)\n",
    "plt.legend(fontsize = 20)"
   ]
  },
  {
   "cell_type": "code",
   "execution_count": null,
   "id": "71497086",
   "metadata": {},
   "outputs": [],
   "source": []
  }
 ],
 "metadata": {
  "kernelspec": {
   "display_name": "mydesc",
   "language": "python",
   "name": "mydesc"
  },
  "language_info": {
   "codemirror_mode": {
    "name": "ipython",
    "version": 3
   },
   "file_extension": ".py",
   "mimetype": "text/x-python",
   "name": "python",
   "nbconvert_exporter": "python",
   "pygments_lexer": "ipython3",
   "version": "3.7.6"
  }
 },
 "nbformat": 4,
 "nbformat_minor": 5
}
