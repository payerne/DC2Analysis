{
 "cells": [
  {
   "cell_type": "code",
   "execution_count": null,
   "id": "606ae55f",
   "metadata": {},
   "outputs": [],
   "source": [
    "import sys\n",
    "import os\n",
    "import numpy as np\n",
    "from astropy.table import QTable, Table, vstack\n",
    "import fnmatch\n",
    "import matplotlib.pyplot as plt\n",
    "from scipy.integrate import simps\n",
    "import pickle \n",
    "import glob\n",
    "import time,math\n",
    "import clmm\n",
    "import GCRCatalogs\n",
    "from GCR import GCRQuery\n",
    "import clmm.dataops\n",
    "from clmm.dataops import compute_tangential_and_cross_components, make_radial_profile, make_bins\n",
    "from clmm.galaxycluster import GalaxyCluster\n",
    "import clmm.utils as u\n",
    "from clmm import Cosmology\n",
    "from clmm.support import mock_data as mock\n",
    "cosmo = Cosmology(H0 = 71.0, Omega_dm0 = 0.265 - 0.0448, Omega_b0 = 0.0448, Omega_k0 = 0.0)\n",
    "import iminuit\n",
    "from iminuit import Minuit\n",
    "from astropy.cosmology import FlatLambdaCDM\n",
    "import astropy.units as u\n",
    "from astropy.table import Table, QTable, hstack\n",
    "from astropy import units as u\n",
    "from astropy.coordinates import SkyCoord, match_coordinates_sky, Angle, match_coordinates_3d\n",
    "cosmo_astropy = FlatLambdaCDM(H0=71.0, Om0=0.265, Ob0 = 0.0448)\n",
    "import mysql\n",
    "from mysql.connector import Error\n",
    "import numpy as np\n",
    "import matplotlib.pyplot as plt\n",
    "\n",
    "import pandas as pd\n",
    "def load(filename, **kwargs):\n",
    "    \"\"\"Loads GalaxyCluster object to filename using Pickle\"\"\"\n",
    "    with open(filename, 'rb') as fin:\n",
    "        return pickle.load(fin, **kwargs)"
   ]
  },
  {
   "cell_type": "markdown",
   "id": "2b7fb0f9-f39f-44b5-8223-d2980b7b6a6f",
   "metadata": {},
   "source": [
    "# Data"
   ]
  },
  {
   "cell_type": "markdown",
   "id": "6b064c30-811f-412b-a8ad-bcdf48006393",
   "metadata": {},
   "source": [
    "## Load dc2dr6 data"
   ]
  },
  {
   "cell_type": "code",
   "execution_count": 15,
   "id": "86ff6c0a",
   "metadata": {},
   "outputs": [],
   "source": [
    "object_basic_cuts = [\n",
    "    GCRQuery('extendedness > 0'),     # Extended objects\n",
    "    GCRQuery('clean'), # The source has no flagged pixels (interpolated, saturated, edge, clipped...) \n",
    "                           # and was not skipped by the deblender\n",
    "    GCRQuery('xy_flag == 0'),                                      # Flag for bad centroid measurement\n",
    "    GCRQuery('ext_shapeHSM_HsmShapeRegauss_flag == 0'),            # Error code returned by shape measurement code\n",
    "    GCRQuery((np.isfinite, 'ext_shapeHSM_HsmShapeRegauss_sigma')), # Shape measurement uncertainty should not be NaN\n",
    "    ]\n",
    "\n",
    "object_properties_cuts = [\n",
    "    GCRQuery('snr_i_cModel > 10'),                              # SNR > 10\n",
    "    GCRQuery('mag_i_cModel < 25'),                                 # cModel imag brighter than 24.5\n",
    "    GCRQuery('ext_shapeHSM_HsmShapeRegauss_resolution >= 0.4'), # Sufficiently resolved galaxies compared to PSF\n",
    "    GCRQuery('ext_shapeHSM_HsmShapeRegauss_sigma <= 0.4'),      # Shape measurement errors reasonable\n",
    "    # New cut on blendedness:\n",
    "    GCRQuery('blendedness < 10**(-0.375)'),                      # Avoid spurious detections and those contaminated by blends\n",
    "    GCRQuery('photoz_mean > 0.3'),\n",
    "    GCRQuery('photoz_mean < 1')\n",
    "    ]"
   ]
  },
  {
   "cell_type": "code",
   "execution_count": 16,
   "id": "efbe239f",
   "metadata": {},
   "outputs": [],
   "source": [
    "quantity_label = ['id', 'ra', 'dec', 'mag_i_cModel','snr_i_cModel', 'mag_i']\n",
    "quantity_wanted_HSM = ['ext_shapeHSM_HsmShapeRegauss_e2',\n",
    "                       'ext_shapeHSM_HsmShapeRegauss_e1',\n",
    "                       'ext_shapeHSM_HsmShapeRegauss_sigma', \n",
    "                       'ext_shapeHSM_HsmShapeRegauss_resolution',\n",
    "                      'mcal_g1', 'mcal_g2', 'mcal_gauss_g1','mcal_gauss_g1', 'mcal_psf_g1', 'mcal_psf_g2']\n",
    "quantity_wanted_photozs = ['photoz_mean']"
   ]
  },
  {
   "cell_type": "code",
   "execution_count": 17,
   "id": "a8abe813",
   "metadata": {},
   "outputs": [],
   "source": [
    "object_cat = GCRCatalogs.load_catalog('dc2_object_run2.2i_dr6_v2_with_addons')"
   ]
  },
  {
   "cell_type": "code",
   "execution_count": 18,
   "id": "15d265c8",
   "metadata": {},
   "outputs": [
    {
     "name": "stderr",
     "output_type": "stream",
     "text": [
      "/pbs/home/c/cpayerne/.conda/envs/mydesc/lib/python3.7/site-packages/GCRCatalogs/dc2_dm_catalog.py:43: RuntimeWarning: invalid value encountered in log10\n",
      "  return -2.5 * np.log10(flux) + AB_mag_zp_wrt_nanoJansky\n",
      "/pbs/home/c/cpayerne/.conda/envs/mydesc/lib/python3.7/site-packages/GCRCatalogs/dc2_dm_catalog.py:43: RuntimeWarning: divide by zero encountered in log10\n",
      "  return -2.5 * np.log10(flux) + AB_mag_zp_wrt_nanoJansky\n"
     ]
    }
   ],
   "source": [
    "object_data = object_cat.get_quantities(quantity_label + quantity_wanted_HSM + quantity_wanted_photozs, filters=(object_basic_cuts + object_properties_cuts),\n",
    "                                                    native_filters = ['tract == 4852'])"
   ]
  },
  {
   "cell_type": "code",
   "execution_count": 19,
   "id": "eddad2ba",
   "metadata": {},
   "outputs": [],
   "source": [
    "cl_dc2 = Table(object_data)"
   ]
  },
  {
   "cell_type": "markdown",
   "id": "3d21b341-1c1c-4228-a3df-67df22a44d0c",
   "metadata": {},
   "source": [
    "## Load cosmoDC2 data"
   ]
  },
  {
   "cell_type": "code",
   "execution_count": 20,
   "id": "4483e8ac",
   "metadata": {},
   "outputs": [],
   "source": [
    "conn = mysql.connector.connect(host='ccqserv201', user='qsmaster', port=30040) \n",
    "cursor = conn.cursor(dictionary=True, buffered=True) \n",
    "zmin = 0.3 #Msun\n",
    "zmax = 1\n",
    "ra = np.mean(cl_dc2['ra'])\n",
    "dec = np.mean(cl_dc2['dec'])\n",
    "query = \"SELECT data.coord_ra as ra_cosmodc2, data.coord_dec as dec_cosmodc2, data.redshift as z_cosmodc2, \"\n",
    "query += \"data.mag_i, data.mag_r, data.mag_y, data.galaxy_id as dc2_galaxy_id, \"\n",
    "query += \"data.shear_1 as shear1, data.shear_2 as shear2, data.convergence as kappa, \"\n",
    "query += \"data.ellipticity_1_true as e1_true, data.ellipticity_2_true as e2_true \" \n",
    "query += \"FROM cosmoDC2_v1_1_4_image.data as data \"\n",
    "query += f\"WHERE data.redshift >= {zmin} AND data.redshift < {zmax} \"\n",
    "query += f\"AND scisql_s2PtInCircle(coord_ra, coord_dec, {ra}, {dec}, {1}) = 1 \"\n",
    "query += f\"AND data.mag_i <= 25 \"\n",
    "query += \";\"\n",
    "t0 = time.time()\n",
    "cl_cosmodc2 = pd.read_sql_query(query,conn)\n",
    "tf = time.time()"
   ]
  },
  {
   "cell_type": "code",
   "execution_count": 21,
   "id": "b5f3a874",
   "metadata": {},
   "outputs": [],
   "source": [
    "cl_cosmodc2 = QTable.from_pandas(cl_cosmodc2)"
   ]
  },
  {
   "cell_type": "code",
   "execution_count": 28,
   "id": "9f8c0ec3-a216-4df0-8985-6234005e7c11",
   "metadata": {},
   "outputs": [
    {
     "data": {
      "text/plain": [
       "<matplotlib.collections.PathCollection at 0x7f8c74605850>"
      ]
     },
     "execution_count": 28,
     "metadata": {},
     "output_type": "execute_result"
    },
    {
     "data": {
      "image/png": "[encoded data removed]",
      "text/plain": [
       "<Figure size 432x288 with 1 Axes>"
      ]
     },
     "metadata": {
      "needs_background": "light"
     },
     "output_type": "display_data"
    }
   ],
   "source": [
    "plt.scatter(cl_cosmodc2['ra_cosmodc2'], cl_cosmodc2['dec_cosmodc2'])\n",
    "plt.scatter(cl_dc2['ra'], cl_dc2['dec'])"
   ]
  },
  {
   "cell_type": "code",
   "execution_count": 30,
   "id": "264c1834",
   "metadata": {},
   "outputs": [
    {
     "data": {
      "image/png": "[encoded data removed]",
      "text/plain": [
       "<Figure size 432x288 with 1 Axes>"
      ]
     },
     "metadata": {
      "needs_background": "light"
     },
     "output_type": "display_data"
    }
   ],
   "source": [
    "plt.hist(cl_dc2['photoz_mean'], histtype= 'step', align='mid', density = False, label = 'dc2')\n",
    "plt.hist(cl_cosmodc2['z_cosmodc2'], histtype= 'step', align='mid', density = False, label = 'cosmodc2')\n",
    "plt.legend()\n",
    "plt.show()"
   ]
  },
  {
   "cell_type": "code",
   "execution_count": 31,
   "id": "ec4bfa0a",
   "metadata": {},
   "outputs": [],
   "source": [
    "cosmodc2 = SkyCoord(ra=np.array(cl_cosmodc2['ra_cosmodc2'])*u.deg, dec=np.array(cl_cosmodc2['dec_cosmodc2'])*u.deg, distance = cosmo_astropy.angular_diameter_distance(cl_cosmodc2['z_cosmodc2']))\n",
    "dc2 = SkyCoord(ra=np.array(cl_dc2['ra'])*u.deg, dec=np.array(cl_dc2['dec'])*u.deg, distance =cosmo_astropy.angular_diameter_distance(cl_dc2['photoz_mean']))"
   ]
  },
  {
   "cell_type": "code",
   "execution_count": 32,
   "id": "f0cbf712",
   "metadata": {},
   "outputs": [
    {
     "name": "stdout",
     "output_type": "stream",
     "text": [
      "249671\n",
      "81844\n"
     ]
    },
    {
     "data": {
      "text/plain": [
       "(None, None)"
      ]
     },
     "execution_count": 32,
     "metadata": {},
     "output_type": "execute_result"
    }
   ],
   "source": [
    "print(len(cosmodc2)), print(len(dc2))"
   ]
  },
  {
   "cell_type": "code",
   "execution_count": 33,
   "id": "5b8fe766",
   "metadata": {},
   "outputs": [
    {
     "name": "stdout",
     "output_type": "stream",
     "text": [
      "81844\n",
      "81844\n"
     ]
    },
    {
     "data": {
      "text/plain": [
       "(None, None)"
      ]
     },
     "execution_count": 33,
     "metadata": {},
     "output_type": "execute_result"
    }
   ],
   "source": [
    "idx, sep2d, sep3d = match_coordinates_sky(dc2, cosmodc2, nthneighbor=1)\n",
    "sep2d = Angle(sep2d, unit = u.deg)\n",
    "dc2_match = cl_dc2\n",
    "cosmodc2_match = cl_cosmodc2[idx]\n",
    "print(len(cosmodc2_match)), print(len(dc2_match))"
   ]
  },
  {
   "cell_type": "code",
   "execution_count": 34,
   "id": "9d4ccc11-0a46-4a24-bf06-34303c3ee320",
   "metadata": {},
   "outputs": [],
   "source": [
    "sep2d_ = Angle(sep2d, u.arcsec)"
   ]
  },
  {
   "cell_type": "code",
   "execution_count": 35,
   "id": "fab6b3b0-99ab-44fa-8e6d-9962ae5deb82",
   "metadata": {},
   "outputs": [
    {
     "data": {
      "text/plain": [
       "array([8.43233256e+00, 3.15159277e+01, 5.05799594e+00, ...,\n",
       "       2.51060314e-03, 3.21469822e+00, 4.31699013e+00])"
      ]
     },
     "execution_count": 35,
     "metadata": {},
     "output_type": "execute_result"
    }
   ],
   "source": [
    "sep2d_.value"
   ]
  },
  {
   "cell_type": "code",
   "execution_count": 36,
   "id": "b3be793f",
   "metadata": {},
   "outputs": [
    {
     "data": {
      "image/png": "[encoded data removed]",
      "text/plain": [
       "<Figure size 432x288 with 1 Axes>"
      ]
     },
     "metadata": {
      "needs_background": "light"
     },
     "output_type": "display_data"
    }
   ],
   "source": [
    "plt.hist(sep2d.value, bins = 50)\n",
    "plt.yscale('log')"
   ]
  },
  {
   "cell_type": "code",
   "execution_count": 37,
   "id": "6ea7f78d",
   "metadata": {},
   "outputs": [
    {
     "data": {
      "image/png": "[encoded data removed]",
      "text/plain": [
       "<Figure size 432x288 with 1 Axes>"
      ]
     },
     "metadata": {
      "needs_background": "light"
     },
     "output_type": "display_data"
    }
   ],
   "source": [
    "plt.hist(dc2_match['photoz_mean'], histtype= 'step', align='mid', density = False, label = 'dc2')\n",
    "plt.hist(cosmodc2_match['z_cosmodc2'], histtype= 'step', align='mid', density = False, label = 'cosmodc2')\n",
    "plt.legend()\n",
    "plt.show()"
   ]
  },
  {
   "cell_type": "code",
   "execution_count": 38,
   "id": "d89a06a3",
   "metadata": {},
   "outputs": [
    {
     "name": "stdout",
     "output_type": "stream",
     "text": [
      "58.85776320152817\n",
      "-29.011472415319673\n"
     ]
    },
    {
     "data": {
      "text/plain": [
       "(None, None)"
      ]
     },
     "execution_count": 38,
     "metadata": {},
     "output_type": "execute_result"
    }
   ],
   "source": [
    "t = hstack([cosmodc2_match, dc2_match])\n",
    "mask = (sep2d.value < 0.001)\n",
    "t = t[mask]\n",
    "data = clmm.GCData(t)\n",
    "cl = clmm.GalaxyCluster('Stack', ra, dec, 0, data)\n",
    "cl.galcat['e1_cosmodc2'], cl.galcat['e2_cosmodc2'] = clmm.utils.compute_lensed_ellipticity(cl.galcat['e1_true'], cl.galcat['e2_true'], cl.galcat['shear1'], cl.galcat['shear2'], cl.galcat['kappa'])\n",
    "print(cl.ra), print(cl.dec)"
   ]
  },
  {
   "cell_type": "code",
   "execution_count": 39,
   "id": "7e21f4a7-25d2-4a30-a055-bac3676af834",
   "metadata": {},
   "outputs": [
    {
     "data": {
      "text/plain": [
       "<matplotlib.collections.PathCollection at 0x7f8cc8228e50>"
      ]
     },
     "execution_count": 39,
     "metadata": {},
     "output_type": "execute_result"
    },
    {
     "data": {
      "image/png": "[encoded data removed]",
      "text/plain": [
       "<Figure size 432x288 with 1 Axes>"
      ]
     },
     "metadata": {
      "needs_background": "light"
     },
     "output_type": "display_data"
    }
   ],
   "source": [
    "plt.scatter(cl.galcat['e1_cosmodc2'], cl.galcat['ext_shapeHSM_HsmShapeRegauss_e1'])\n",
    "plt.scatter(cl.galcat['e2_cosmodc2'], cl.galcat['ext_shapeHSM_HsmShapeRegauss_e2'])"
   ]
  },
  {
   "cell_type": "code",
   "execution_count": 55,
   "id": "dc1e023e-49c1-4232-95c7-9660a52ff97a",
   "metadata": {},
   "outputs": [
    {
     "data": {
      "text/plain": [
       "(-1.0, 1.0)"
      ]
     },
     "execution_count": 55,
     "metadata": {},
     "output_type": "execute_result"
    },
    {
     "data": {
      "image/png": "[encoded data removed]",
      "text/plain": [
       "<Figure size 432x288 with 1 Axes>"
      ]
     },
     "metadata": {
      "needs_background": "light"
     },
     "output_type": "display_data"
    }
   ],
   "source": [
    "plt.hist(cl.galcat['ext_shapeHSM_HsmShapeRegauss_e1']/0.8,bins = np.linspace(-1, 1, 20), density = True, alpha = .8)\n",
    "plt.hist(cl.galcat['e1_cosmodc2'], bins = np.linspace(-1, 1, 20), density = True, alpha = .8)\n",
    "#plt.yscale('log')\n",
    "plt.xlim(-1,1)"
   ]
  },
  {
   "cell_type": "code",
   "execution_count": 40,
   "id": "6cafe152",
   "metadata": {},
   "outputs": [],
   "source": [
    "cl.galcat['mcal_g2_'] = - cl.galcat['mcal_g2']\n",
    "cl.galcat['ext_shapeHSM_HsmShapeRegauss_e1_'] = - cl.galcat['ext_shapeHSM_HsmShapeRegauss_e1']"
   ]
  },
  {
   "cell_type": "code",
   "execution_count": 41,
   "id": "85395e54",
   "metadata": {},
   "outputs": [
    {
     "name": "stderr",
     "output_type": "stream",
     "text": [
      "/pbs/throng/lsst/users/cpayerne/CLMM/clmm/dataops/__init__.py:410: UserWarning: Using the flat-sky approximation with separations >1 deg may be inaccurate\n",
      "  \"Using the flat-sky approximation with separations >1 deg may be inaccurate\")\n"
     ]
    },
    {
     "data": {
      "text/plain": [
       "(array([0.01735052, 0.01619745, 0.01698845, ..., 0.01618621, 0.01725866,\n",
       "        0.01724202]),\n",
       " array([-0.40564968, -0.15469716, -0.1583313 , ..., -0.013955  ,\n",
       "         0.03286362,  0.00652226]),\n",
       " array([-0.29540499, -0.27197325,  0.00250669, ..., -0.13348536,\n",
       "         0.0024426 ,  0.00632683]))"
      ]
     },
     "execution_count": 41,
     "metadata": {},
     "output_type": "execute_result"
    }
   ],
   "source": [
    "cl.compute_tangential_and_cross_components(geometry=\"flat\", shape_component1 =  'mcal_g1', shape_component2 = 'mcal_g2_', tan_component = 'et_cal', cross_component = 'ex_cal',  is_deltasigma = False)\n",
    "cl.compute_tangential_and_cross_components(geometry=\"flat\", shape_component1 =  'ext_shapeHSM_HsmShapeRegauss_e1_', shape_component2 = 'ext_shapeHSM_HsmShapeRegauss_e2', tan_component = 'et_HSM', cross_component = 'ex_HSM',  is_deltasigma = False)\n",
    "cl.compute_tangential_and_cross_components(geometry=\"flat\", shape_component1 =  'e1_cosmodc2', shape_component2 = 'e2_cosmodc2', tan_component = 'et_cosmodc2', cross_component = 'ex_cosmodc2',  is_deltasigma = False)"
   ]
  },
  {
   "cell_type": "code",
   "execution_count": null,
   "id": "c2898453-7c7a-443a-b9ca-496dcb3be771",
   "metadata": {},
   "outputs": [],
   "source": [
    "from iminuit import Minuit"
   ]
  },
  {
   "cell_type": "markdown",
   "id": "2b52ec0e-7a8c-458d-b80d-82d5812deef0",
   "metadata": {},
   "source": [
    "## HSM calibration"
   ]
  },
  {
   "cell_type": "code",
   "execution_count": null,
   "id": "c12c6d98",
   "metadata": {},
   "outputs": [],
   "source": [
    "mask = cl.galcat['ext_shapeHSM_HsmShapeRegauss_sigma'] < .1\n",
    "edges = np.linspace(-.7,.7, 11)\n",
    "bins = [[edges[i], edges[i+1]] for i in range(len(edges)-1)]\n",
    "et_mean_cosmodc2 = []\n",
    "et_mean_HSM = []\n",
    "et_std_cosmodc2 = []\n",
    "et_std_HSM = []\n",
    "n = []\n",
    "for i, b in enumerate(bins):\n",
    "    masks = (cl.galcat['et_cosmodc2'][mask] > b[0])*(cl.galcat['et_cosmodc2'][mask] < b[1])\n",
    "    n_ = len(masks[masks== True])\n",
    "    et_mean_cosmodc2.append(np.mean(cl.galcat['et_cosmodc2'][mask][masks]))\n",
    "    et_std_cosmodc2.append(np.std(cl.galcat['et_cosmodc2'][mask][masks]))\n",
    "    et_mean_HSM.append(np.mean(cl.galcat['et_HSM'][mask][masks]/2))\n",
    "    et_std_HSM.append(np.std(cl.galcat['et_HSM'][mask][masks]/2))\n",
    "    n.append(n_)"
   ]
  },
  {
   "cell_type": "code",
   "execution_count": null,
   "id": "dec09a71-466a-4880-90cd-dabf562b77f2",
   "metadata": {},
   "outputs": [],
   "source": [
    "def chi2(a, b, c, k):\n",
    "    x = np.array(et_mean_cosmodc2)\n",
    "    model = k + a*x + b*x**2 + c*x**3\n",
    "    return np.sum(np.array(n)*(model - np.array(et_mean_HSM))**2/(np.array(et_std_HSM)**2))\n",
    "minuit_linear = Minuit(chi2, a = 1, b = 0, c = 0, k = 0, errordef = .5, fix_b = True, fix_c =True)\n",
    "minuit_linear.migrad(),minuit_linear.hesse(),minuit_linear.minos()\n",
    "minuit_cubic = Minuit(chi2, a = 1, b = 0, c = 0, k = 0, errordef = .5, fix_b = True, fix_c =False)\n",
    "minuit_cubic.migrad(),minuit_cubic.hesse(),minuit_cubic.minos()\n",
    "a = 1"
   ]
  },
  {
   "cell_type": "code",
   "execution_count": null,
   "id": "d8c7d829-fe26-4ec0-a3d1-c174f907dcc7",
   "metadata": {},
   "outputs": [],
   "source": [
    "minuit_linear.values['a']"
   ]
  },
  {
   "cell_type": "code",
   "execution_count": null,
   "id": "acc98110-5bd9-497d-a584-750e6331c4d7",
   "metadata": {},
   "outputs": [],
   "source": [
    "# Basic 2D density plot\n",
    "plt.figure(figsize = (5,5))\n",
    "l = .8\n",
    "x = np.linspace(-l,l, 100)\n",
    "model_linear = minuit_linear.values['k'] + minuit_linear.values['a']*x + minuit_linear.values['b']*x**2 + minuit_linear.values['c']*x**3\n",
    "model_cubic = minuit_cubic.values['k'] + minuit_cubic.values['a']*x + minuit_cubic.values['b']*x**2 + minuit_cubic.values['c']*x**3\n",
    "plt.plot(x, model_linear, '--b', linewidth = 3, label = r'best fit $ax + b$')\n",
    "plt.plot(x, model_cubic, '--g', linewidth = 3, label = r'best fit $ax + bx^3 + c$')\n",
    "plt.errorbar(et_mean_cosmodc2, et_mean_HSM, et_std_HSM,  et_std_cosmodc2, \n",
    "             elinewidth=3,\n",
    "             fmt = ' ', color = 'r', zorder = 100, capsize = 0)\n",
    "plt.scatter(cl.galcat['et_cosmodc2'][mask], cl.galcat['et_HSM'][mask]/2, alpha = .01, color = 'c', \n",
    "            linewidth=5)\n",
    "plt.plot(x, x, '-k', linewidth = 3, label = 'x=y')\n",
    "plt.tick_params(axis='both', which = 'major', labelsize= 15, zorder = 0)\n",
    "plt.legend(loc='upper left', frameon = False, fontsize = 14, numpoints = 1)\n",
    "plt.xlim(-l,l)\n",
    "plt.ylim(-l,l)\n",
    "plt.xlabel(r'$\\epsilon_{\\rm t, cosmoDC2}$', fontsize = 30)\n",
    "plt.ylabel(r'$\\epsilon_{\\rm t, HSM}$', fontsize = 30)\n",
    "plt.savefig('/pbs/throng/lsst/users/cpayerne/ThesisAtCCin2p3/Images/calibration_HSM.png', bbox_inches='tight', dpi=300)"
   ]
  },
  {
   "cell_type": "markdown",
   "id": "e1c4531d-90ca-41b4-8cba-7b40d27d6e52",
   "metadata": {},
   "source": [
    "## Metacal calbration"
   ]
  },
  {
   "cell_type": "code",
   "execution_count": null,
   "id": "daba9637-a72c-41b7-9592-a0281f9ce4da",
   "metadata": {},
   "outputs": [],
   "source": [
    "def chi2(a, b, c, k):\n",
    "    x = np.array(et_mean_cosmodc2)\n",
    "    model = k + a*x + b*x**2 + c*x**3\n",
    "    return np.sum(np.array(n)*(model - np.array(et_mean_cal))**2/(np.array(et_std_cal)**2))\n",
    "minuit_linear = Minuit(chi2, a = 1, b = 0, c = 0, k = 0, errordef = .5, fix_b = True, fix_c =True)\n",
    "minuit_linear.migrad(),minuit_linear.hesse(),minuit_linear.minos()\n",
    "minuit_cubic = Minuit(chi2, a = 1, b = 0, c = 0, k = 0, errordef = .5, fix_b = True, fix_c =False)\n",
    "minuit_cubic.migrad(),minuit_cubic.hesse(),minuit_cubic.minos()\n",
    "a = 1"
   ]
  },
  {
   "cell_type": "code",
   "execution_count": null,
   "id": "d277b9af-4479-417c-87ba-0d325869218f",
   "metadata": {},
   "outputs": [],
   "source": [
    "minuit_linear.values['a']"
   ]
  },
  {
   "cell_type": "code",
   "execution_count": null,
   "id": "fbbb51b1-3b32-47db-8e63-08e4ef599c43",
   "metadata": {},
   "outputs": [],
   "source": [
    "# Basic 2D density plot\n",
    "plt.figure(figsize = (5,5))\n",
    "l = .8\n",
    "x = np.linspace(-l,l, 100)\n",
    "model_linear = minuit_linear.values['k'] + minuit_linear.values['a']*x + minuit_linear.values['b']*x**2 + minuit_linear.values['c']*x**3\n",
    "model_cubic = minuit_cubic.values['k'] + minuit_cubic.values['a']*x + minuit_cubic.values['b']*x**2 + minuit_cubic.values['c']*x**3\n",
    "plt.plot(x, model_linear, '--b', linewidth = 3, label = r'best fit $ax + b$')\n",
    "plt.plot(x, model_cubic, '--g', linewidth = 3, label = r'best fit $ax + bx^3 + c$')\n",
    "plt.errorbar(et_mean_cosmodc2, et_mean_cal, et_std_cal,  et_std_cosmodc2, \n",
    "             elinewidth=3,\n",
    "             fmt = ' ', color = 'r', zorder = 100, capsize = 0)\n",
    "plt.scatter(cl.galcat['et_cosmodc2'][mask], cl.galcat['et_cal'][mask], alpha = .01, color = 'c', \n",
    "            linewidth=5)\n",
    "plt.plot(x, x, '-k', linewidth = 3, label = 'x=y')\n",
    "plt.tick_params(axis='both', which = 'major', labelsize= 15, zorder = 0)\n",
    "plt.legend(loc='upper left', frameon = False, fontsize = 14, numpoints = 1)\n",
    "plt.xlim(-l,l)\n",
    "plt.ylim(-l,l)\n",
    "plt.xlabel(r'$\\epsilon_{\\rm t, cosmoDC2}$', fontsize = 30)\n",
    "plt.ylabel(r'$\\epsilon_{\\rm t, mcal}$', fontsize = 30)\n",
    "plt.savefig('/pbs/throng/lsst/users/cpayerne/ThesisAtCCin2p3/Images/calibration_METACAL.png', bbox_inches='tight', dpi=300)"
   ]
  },
  {
   "cell_type": "code",
   "execution_count": null,
   "id": "4e8298d8-76a0-4d6d-898a-afc2501bcc8f",
   "metadata": {},
   "outputs": [],
   "source": []
  }
 ],
 "metadata": {
  "kernelspec": {
   "display_name": "mydesc",
   "language": "python",
   "name": "mydesc"
  },
  "language_info": {
   "codemirror_mode": {
    "name": "ipython",
    "version": 3
   },
   "file_extension": ".py",
   "mimetype": "text/x-python",
   "name": "python",
   "nbconvert_exporter": "python",
   "pygments_lexer": "ipython3",
   "version": "3.7.6"
  }
 },
 "nbformat": 4,
 "nbformat_minor": 5
}
