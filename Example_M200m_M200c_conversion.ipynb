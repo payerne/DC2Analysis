{
 "cells": [
  {
   "cell_type": "code",
   "execution_count": 1,
   "metadata": {},
   "outputs": [],
   "source": [
    "import numpy as np\n",
    "import matplotlib.pyplot as plt\n",
    "import Einasto_profile as ein\n",
    "import NFW_profile as nfw\n",
    "from astropy.cosmology import FlatLambdaCDM"
   ]
  },
  {
   "cell_type": "code",
   "execution_count": 2,
   "metadata": {},
   "outputs": [],
   "source": [
    "import utils"
   ]
  },
  {
   "cell_type": "markdown",
   "metadata": {},
   "source": [
    "# Conversion from $200m$ to $200c$ overdensity definition"
   ]
  },
  {
   "cell_type": "markdown",
   "metadata": {},
   "source": [
    "we define a background `astropy` cosmology :"
   ]
  },
  {
   "cell_type": "code",
   "execution_count": 3,
   "metadata": {},
   "outputs": [],
   "source": [
    "cosmo_astropy = FlatLambdaCDM(H0=71.0, Om0=0.265, Ob0 = 0.0448)"
   ]
  },
  {
   "cell_type": "code",
   "execution_count": 4,
   "metadata": {},
   "outputs": [],
   "source": [
    "cluster_z = 0.7"
   ]
  },
  {
   "cell_type": "markdown",
   "metadata": {},
   "source": [
    "## 1. Einasto profile"
   ]
  },
  {
   "cell_type": "markdown",
   "metadata": {},
   "source": [
    "We define halo parameters following the $200m$ overdensity definition:\n",
    "1. the mass $M_{200m}$ \n",
    "2. the concentration $c_{200m}$\n",
    "3. the slope parameter $\\alpha_{200m}$"
   ]
  },
  {
   "cell_type": "code",
   "execution_count": 20,
   "metadata": {},
   "outputs": [],
   "source": [
    "M200m = 7.e14\n",
    "c200m = 0.5\n",
    "alpha200m = 0.15"
   ]
  },
  {
   "cell_type": "markdown",
   "metadata": {},
   "source": [
    "we can get the equivalent halo parameters using `M200m_to_M200c_einasto`"
   ]
  },
  {
   "cell_type": "code",
   "execution_count": 21,
   "metadata": {},
   "outputs": [],
   "source": [
    "M200c, c200c, alpha200c = utils.M200m_to_M200c_einasto(M200m, c200m, alpha200m, cluster_z, cosmo_astropy)"
   ]
  },
  {
   "cell_type": "code",
   "execution_count": 22,
   "metadata": {},
   "outputs": [
    {
     "name": "stdout",
     "output_type": "stream",
     "text": [
      "---> input parameters:\n",
      "M_200m = 7.00e+14 M_sun\n",
      "c_200m = 0.50\n",
      "alpha_200m = 0.150\n",
      " \n",
      " \n",
      "---> output parameters:\n",
      "M_200c = 4.75e+14 M_sun\n",
      "c_200c = 0.38\n",
      "alpha_200c = 0.150\n"
     ]
    }
   ],
   "source": [
    "print('---> input parameters:')\n",
    "print(f'M_200m = {M200m:.2e} M_sun' )\n",
    "print(f'c_200m = {c200m:.2f}' )\n",
    "print(f'alpha_200m = {alpha200m:.3f}' )\n",
    "print(' ')\n",
    "print(' ')\n",
    "print('---> output parameters:')\n",
    "print(f'M_200c = {M200c:.2e} M_sun' )\n",
    "print(f'c_200c = {c200c:.2f}' )\n",
    "print(f'alpha_200c = {alpha200c:.3f}' )"
   ]
  },
  {
   "cell_type": "markdown",
   "metadata": {},
   "source": [
    "For validation, we plot the two radial dark matter density $\\rho_{200m}(r)$ and $\\rho_{200c}(r)$ and the relative error bteween the two radial densities"
   ]
  },
  {
   "cell_type": "code",
   "execution_count": 23,
   "metadata": {},
   "outputs": [],
   "source": [
    "cl_200m = ein.Modeling(M200m, c200m, alpha200m, cluster_z, 'mean', cosmo_astropy)\n",
    "cl_200c = ein.Modeling(M200c, c200c, alpha200c, cluster_z, 'critical', cosmo_astropy)"
   ]
  },
  {
   "cell_type": "code",
   "execution_count": 24,
   "metadata": {},
   "outputs": [
    {
     "name": "stdout",
     "output_type": "stream",
     "text": [
      "r_200m = 1.6615621777598797 Mpc\n",
      "r_200c = 1.2574214692943257 Mpc\n"
     ]
    }
   ],
   "source": [
    "print(f'r_200m = {cl_200m.r200} Mpc')\n",
    "print(f'r_200c = {cl_200c.r200} Mpc')"
   ]
  },
  {
   "cell_type": "code",
   "execution_count": 25,
   "metadata": {},
   "outputs": [],
   "source": [
    "r = np.logspace(-2,4,20)"
   ]
  },
  {
   "cell_type": "code",
   "execution_count": 26,
   "metadata": {},
   "outputs": [],
   "source": [
    "rho_200m = cl_200m.density(r)\n",
    "rho_200c = cl_200c.density(r)"
   ]
  },
  {
   "cell_type": "code",
   "execution_count": 35,
   "metadata": {},
   "outputs": [
    {
     "data": {
      "image/png": "[encoded data removed]",
      "text/plain": [
       "<Figure size 432x288 with 1 Axes>"
      ]
     },
     "metadata": {
      "needs_background": "light"
     },
     "output_type": "display_data"
    },
    {
     "data": {
      "image/png": "[encoded data removed]",
      "text/plain": [
       "<Figure size 432x288 with 1 Axes>"
      ]
     },
     "metadata": {
      "needs_background": "light"
     },
     "output_type": "display_data"
    }
   ],
   "source": [
    "plt.figure(figsize = (6,4))\n",
    "plt.loglog(r, rho_200m, 'sr', label = r'$\\rho_{\\rm 200m}$')\n",
    "plt.loglog(r, rho_200c, '--b', label = r'$\\rho_{\\rm 200c}$')\n",
    "plt.xlabel(r'r$_{3d}$ [Mpc]', fontsize = 16)\n",
    "plt.ylabel(r'$\\rho_{\\rm 200} \\ [M_\\odot Mpc^{-3}]$', fontsize = 16)\n",
    "plt.legend(fontsize = 16, frameon = False)\n",
    "plt.show()\n",
    "plt.figure(figsize = (6,4))\n",
    "plt.plot(r, (rho_200m-rho_200c)/rho_200m, '-k', label = r'$(\\rho_{\\rm 200m} - \\rho_{\\rm 200c})/\\rho_{\\rm 200m}$')\n",
    "plt.xscale('log')\n",
    "plt.xlabel(r'r$_{3d}$ [Mpc]', fontsize = 16)\n",
    "plt.ylabel('Relative error', fontsize = 16)\n",
    "plt.legend(fontsize = 13, frameon = False, loc = 'best')\n",
    "plt.show()"
   ]
  },
  {
   "cell_type": "markdown",
   "metadata": {},
   "source": [
    "## 2. NFW profile"
   ]
  },
  {
   "cell_type": "markdown",
   "metadata": {},
   "source": [
    "We define halo parameters following the $200m$ overdensity definition:\n",
    "1. the mass $M_{200m}$ \n",
    "2. the concentration $c_{200m}$"
   ]
  },
  {
   "cell_type": "code",
   "execution_count": 36,
   "metadata": {},
   "outputs": [],
   "source": [
    "M200m = 3.e14\n",
    "c200m = 0.4"
   ]
  },
  {
   "cell_type": "markdown",
   "metadata": {},
   "source": [
    "we can get the equivalent halo parameters in 200c definition using `M200m_to_M200c_einasto`"
   ]
  },
  {
   "cell_type": "code",
   "execution_count": 37,
   "metadata": {},
   "outputs": [],
   "source": [
    "M200c, c200c = utils.M200m_to_M200c_nfw(M200m, c200m, cluster_z, cosmo_astropy)"
   ]
  },
  {
   "cell_type": "code",
   "execution_count": 38,
   "metadata": {},
   "outputs": [
    {
     "name": "stdout",
     "output_type": "stream",
     "text": [
      "---> input parameters:\n",
      "M_200m = 3.00e+14 M_sun\n",
      "c_200m = 0.40\n",
      " \n",
      " \n",
      "---> output parameters:\n",
      "M_200c = 1.73e+14 M_sun\n",
      "c_200c = 0.29\n"
     ]
    }
   ],
   "source": [
    "print('---> input parameters:')\n",
    "print(f'M_200m = {M200m:.2e} M_sun' )\n",
    "print(f'c_200m = {c200m:.2f}' )\n",
    "print(' ')\n",
    "print(' ')\n",
    "print('---> output parameters:')\n",
    "print(f'M_200c = {M200c:.2e} M_sun' )\n",
    "print(f'c_200c = {c200c:.2f}' )"
   ]
  },
  {
   "cell_type": "code",
   "execution_count": 39,
   "metadata": {},
   "outputs": [],
   "source": [
    "cl_200m = nfw.Modeling(M200m, c200m, cluster_z, 'mean', cosmo_astropy)\n",
    "cl_200c = nfw.Modeling(M200c, c200c, cluster_z, 'critical', cosmo_astropy)"
   ]
  },
  {
   "cell_type": "code",
   "execution_count": 40,
   "metadata": {},
   "outputs": [
    {
     "name": "stdout",
     "output_type": "stream",
     "text": [
      "r_200m = 1.2527305521990455 Mpc\n",
      "r_200c = 0.8984041340585005 Mpc\n"
     ]
    }
   ],
   "source": [
    "print(f'r_200m = {cl_200m.r200} Mpc')\n",
    "print(f'r_200c = {cl_200c.r200} Mpc')"
   ]
  },
  {
   "cell_type": "code",
   "execution_count": 41,
   "metadata": {},
   "outputs": [],
   "source": [
    "rho_200m = cl_200m.density(r)\n",
    "rho_200c = cl_200c.density(r)"
   ]
  },
  {
   "cell_type": "code",
   "execution_count": 42,
   "metadata": {},
   "outputs": [
    {
     "data": {
      "image/png": "[encoded data removed]",
      "text/plain": [
       "<Figure size 432x288 with 1 Axes>"
      ]
     },
     "metadata": {
      "needs_background": "light"
     },
     "output_type": "display_data"
    },
    {
     "data": {
      "image/png": "[encoded data removed]",
      "text/plain": [
       "<Figure size 432x288 with 1 Axes>"
      ]
     },
     "metadata": {
      "needs_background": "light"
     },
     "output_type": "display_data"
    }
   ],
   "source": [
    "plt.figure(figsize = (6,4))\n",
    "plt.loglog(r, rho_200m, 'sr', label = r'$\\rho_{\\rm 200m}$')\n",
    "plt.loglog(r, rho_200c, '--b', label = r'$\\rho_{\\rm 200c}$')\n",
    "plt.xlabel(r'r$_{3d}$ [Mpc]', fontsize = 16)\n",
    "plt.ylabel(r'$\\rho_{\\rm 200} \\ [M_\\odot Mpc^{-3}]$', fontsize = 16)\n",
    "plt.legend(fontsize = 16, frameon = False)\n",
    "plt.show()\n",
    "plt.figure(figsize = (6,4))\n",
    "plt.plot(r, (rho_200m-rho_200c)/rho_200m, '-k', label = r'$(\\rho_{\\rm 200m} - \\rho_{\\rm 200c})/\\rho_{\\rm 200m}$')\n",
    "plt.xscale('log')\n",
    "plt.xlabel(r'r$_{3d}$ [Mpc]', fontsize = 16)\n",
    "plt.ylabel('Relative error', fontsize = 16)\n",
    "plt.legend(fontsize = 13, frameon = False, loc = 'best')\n",
    "plt.show()"
   ]
  },
  {
   "cell_type": "code",
   "execution_count": null,
   "metadata": {},
   "outputs": [],
   "source": []
  },
  {
   "cell_type": "code",
   "execution_count": null,
   "metadata": {},
   "outputs": [],
   "source": []
  }
 ],
 "metadata": {
  "kernelspec": {
   "display_name": "mydesc",
   "language": "python",
   "name": "mydesc"
  },
  "language_info": {
   "codemirror_mode": {
    "name": "ipython",
    "version": 3
   },
   "file_extension": ".py",
   "mimetype": "text/x-python",
   "name": "python",
   "nbconvert_exporter": "python",
   "pygments_lexer": "ipython3",
   "version": "3.7.6"
  }
 },
 "nbformat": 4,
 "nbformat_minor": 4
}
