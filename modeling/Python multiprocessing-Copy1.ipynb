{
 "cells": [
  {
   "cell_type": "code",
   "execution_count": null,
   "id": "d89d12ae-2824-4443-ad43-12d2116c74d1",
   "metadata": {},
   "outputs": [],
   "source": [
    "%load_ext autoreload\n",
    "%autoreload 2\n",
    "import numpy as np\n",
    "from scipy.integrate import simps\n",
    "import time\n",
    "import scipy\n",
    "import multiprocessing\n",
    "from math import gamma\n",
    "import matplotlib.pyplot as plt\n",
    "import DATAOPS_Importance_Sampling as imp_sampling"
   ]
  },
  {
   "cell_type": "markdown",
   "id": "6ecc18e6-903b-4fe2-abe4-32729bea58ee",
   "metadata": {},
   "source": [
    "# function to tabulate"
   ]
  },
  {
   "cell_type": "code",
   "execution_count": null,
   "id": "acbf2003-ab5f-49d7-b183-0674ccd474dd",
   "metadata": {},
   "outputs": [],
   "source": [
    "a_list = np.linspace(.1, 1, 100)\n",
    "b_list = np.linspace(.1, 1, 100)\n",
    "def __integrand__(x, y, a, b): return np.exp(-a*x)*np.cos(b*y)\n",
    "def f(theta): \n",
    "    a, b = theta\n",
    "    res = scipy.integrate.dblquad(__integrand__, 0, 100, 0, 100, args=(a, b))[0]\n",
    "    return res"
   ]
  },
  {
   "cell_type": "code",
   "execution_count": null,
   "id": "070bf3c4-d790-43f0-b86a-c3e0361ed830",
   "metadata": {},
   "outputs": [],
   "source": [
    "pos = np.array([a_list, b_list]).T\n",
    "n = len(pos)"
   ]
  },
  {
   "cell_type": "code",
   "execution_count": null,
   "id": "1ca91a07-ccc6-4321-8b8e-6432efa38d2a",
   "metadata": {},
   "outputs": [],
   "source": [
    "f(pos[1])"
   ]
  },
  {
   "cell_type": "code",
   "execution_count": null,
   "id": "27e33830-0d72-4687-a190-e50ef485f2c2",
   "metadata": {},
   "outputs": [],
   "source": [
    "def fct_n(n): return np.array(f(pos[n]))"
   ]
  },
  {
   "cell_type": "code",
   "execution_count": null,
   "id": "e3a020ef-89b5-4c40-b53f-04457a1979f7",
   "metadata": {},
   "outputs": [],
   "source": [
    "ti = time.time()\n",
    "res_mp = imp_sampling.map(fct_n, np.arange(n), ordered=True)\n",
    "tf = time.time()\n",
    "print(tf-ti)"
   ]
  },
  {
   "cell_type": "code",
   "execution_count": null,
   "id": "dfaebdad-bc88-4a61-aae1-53330fd72a93",
   "metadata": {},
   "outputs": [],
   "source": [
    "res = []\n",
    "ti = time.time()\n",
    "for n_ in np.arange(n): res.append(f(pos[n_]))\n",
    "tf = time.time()\n",
    "print(tf-ti)"
   ]
  },
  {
   "cell_type": "code",
   "execution_count": null,
   "id": "cd571570-f2d6-49fb-824a-4e6725f5a5ec",
   "metadata": {},
   "outputs": [],
   "source": [
    "plt.plot(res)\n",
    "plt.plot(res_mp, '--')"
   ]
  },
  {
   "cell_type": "code",
   "execution_count": null,
   "id": "5be1aca1-e1db-47a1-a439-878e9ac5a5c0",
   "metadata": {},
   "outputs": [],
   "source": []
  }
 ],
 "metadata": {
  "kernelspec": {
   "display_name": "mydesc",
   "language": "python",
   "name": "mydesc"
  },
  "language_info": {
   "codemirror_mode": {
    "name": "ipython",
    "version": 3
   },
   "file_extension": ".py",
   "mimetype": "text/x-python",
   "name": "python",
   "nbconvert_exporter": "python",
   "pygments_lexer": "ipython3",
   "version": "3.7.6"
  }
 },
 "nbformat": 4,
 "nbformat_minor": 5
}
