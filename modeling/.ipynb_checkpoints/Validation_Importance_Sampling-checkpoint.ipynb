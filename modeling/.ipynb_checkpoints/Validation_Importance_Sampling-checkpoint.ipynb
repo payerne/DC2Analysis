{
 "cells": [
  {
   "cell_type": "code",
   "execution_count": null,
   "id": "780faadd-e7a6-44a0-be43-a53f32665173",
   "metadata": {},
   "outputs": [],
   "source": [
    "%load_ext autoreload\n",
    "%autoreload 2\n",
    "from iminuit import Minuit\n",
    "import numpy as np\n",
    "import emcee\n",
    "import scipy\n",
    "import matplotlib.pyplot as plt\n",
    "from scipy.integrate import dblquad\n",
    "import DATAOPS_Importance_Sampling as imp_sampling\n",
    "from scipy.stats import multivariate_normal"
   ]
  },
  {
   "cell_type": "markdown",
   "id": "e732832f-0189-4474-a554-7c9596bc538b",
   "metadata": {},
   "source": [
    "# Toy model"
   ]
  },
  {
   "cell_type": "code",
   "execution_count": null,
   "id": "a82c728b-6dfe-45f7-9328-c73ee44db06a",
   "metadata": {},
   "outputs": [],
   "source": [
    "#define 2-parameters model\n",
    "ndim =2\n",
    "def model(a, b, x): return a*x**(-b)\n",
    "a_true = 1\n",
    "b_true = 1"
   ]
  },
  {
   "cell_type": "markdown",
   "id": "3fe547fc-ea4f-4194-b21e-c99531c838a4",
   "metadata": {},
   "source": [
    "## data"
   ]
  },
  {
   "cell_type": "code",
   "execution_count": null,
   "id": "051f2424-70a7-4fc8-bd99-025d4dbcfc9d",
   "metadata": {},
   "outputs": [],
   "source": [
    "x_data = np.linspace(.1, 2, 30)\n",
    "sigma = np.sqrt(1)\n",
    "#generate measured data\n",
    "y_data = model(a_true, b_true, x_data) + np.random.randn(len(x_data))*sigma\n",
    "cov_data = sigma**2*np.diag(np.linspace(1, 1, len(x_data)))\n",
    "inv_cov_data = np.linalg.inv(cov_data)"
   ]
  },
  {
   "cell_type": "code",
   "execution_count": null,
   "id": "683ac0f8-b683-4fd4-9fce-ce391b8be373",
   "metadata": {},
   "outputs": [],
   "source": [
    "plt.figure(figsize = (5,3))\n",
    "plt.errorbar(x_data, y_data, sigma, fmt = ' ', label = 'data')\n",
    "plt.plot(x_data, model(a_true, b_true, x_data), '--k', label = 'truth')\n",
    "plt.xlabel('x', fontsize = 20)\n",
    "plt.ylabel('y', fontsize = 20)\n",
    "plt.legend()\n",
    "plt.show()"
   ]
  },
  {
   "cell_type": "markdown",
   "id": "5bbab4c3-f3be-46d2-9f78-5c9d09e731ff",
   "metadata": {
    "tags": []
   },
   "source": [
    "## best fit and contour plot with Minuit"
   ]
  },
  {
   "cell_type": "code",
   "execution_count": null,
   "id": "7613b823-d790-4dce-b348-fb767bf5438d",
   "metadata": {},
   "outputs": [],
   "source": [
    "def m_lnlikelihood(a,b):\n",
    "    expected = model(a,b, x_data)\n",
    "    return -np.log(multivariate_normal.pdf(y_data, expected, cov_data))"
   ]
  },
  {
   "cell_type": "code",
   "execution_count": null,
   "id": "1649dbd1-ca8c-4c92-a66f-b43e572cc314",
   "metadata": {},
   "outputs": [],
   "source": [
    "m = Minuit(m_lnlikelihood, a = 1, b = 1, errordef = .5, limit_a = [-2,3], limit_b = [-2,3])\n",
    "m.migrad()\n",
    "m.minos()\n",
    "m.hesse()\n",
    "m.draw_mncontour('a','b', nsigma = 3)\n",
    "plt.show()"
   ]
  },
  {
   "cell_type": "code",
   "execution_count": null,
   "id": "30b7bfad-d459-4136-bdb5-66fd79cfb6a6",
   "metadata": {},
   "outputs": [],
   "source": [
    "S11 = m.covariance[('a', 'a')]\n",
    "S22 = m.covariance[('b', 'b')]\n",
    "S12 = m.covariance[('a', 'b')]"
   ]
  },
  {
   "cell_type": "markdown",
   "id": "1c4bb9c4-575b-497d-bb47-9743ccdf895a",
   "metadata": {},
   "source": [
    "# Importance Sampling"
   ]
  },
  {
   "cell_type": "markdown",
   "id": "ec21dab8-e4ca-4c08-8415-bcc4241bdfc7",
   "metadata": {},
   "source": [
    "## Create $N$ samples from a proposition distribution $q(x)$"
   ]
  },
  {
   "cell_type": "code",
   "execution_count": null,
   "id": "77859393-8000-4345-b9ba-7c2a8349e0ed",
   "metadata": {},
   "outputs": [],
   "source": [
    "#limits\n",
    "a_limit = m.values['a'] + np.array([-3*m.errors['a'], 3*m.errors['a']])\n",
    "b_limit = m.values['b'] + np.array([-3*m.errors['b'], 3*m.errors['b']])\n",
    "limits = [a_limit, b_limit]"
   ]
  },
  {
   "cell_type": "markdown",
   "id": "8b451fe4-59ae-449c-bd3d-f6f732cf5b6d",
   "metadata": {},
   "source": [
    "### Define $q(x)$"
   ]
  },
  {
   "cell_type": "code",
   "execution_count": null,
   "id": "88c15789-a6c1-4e77-8f59-4ff7bd0f8af5",
   "metadata": {},
   "outputs": [],
   "source": [
    "def m_a(b): return a_true + S12*(S22**(-1))*(b-b_true)"
   ]
  },
  {
   "cell_type": "markdown",
   "id": "e807211a-d89b-46bc-937e-c11cdb4e317b",
   "metadata": {},
   "source": [
    "$$ \\langle a|b \\rangle = a_0 + \\frac{\\Sigma_{12}}{\\Sigma_{22}}(b-b_0) $$"
   ]
  },
  {
   "cell_type": "code",
   "execution_count": null,
   "id": "2bfbcadc-86ea-4496-ba10-7b940df2f33d",
   "metadata": {},
   "outputs": [],
   "source": [
    "#q proposition\n",
    "def q(x):\n",
    "    a, b = x\n",
    "    #prior\n",
    "    if not a_limit[0] <= a <= a_limit[1]: return 0\n",
    "    if not b_limit[0] <= b <= b_limit[1]: return 0\n",
    "    #gaussian proposition\n",
    "    sigma = .2\n",
    "    return multivariate_normal.pdf(a, m_a(b), .1) * multivariate_normal.pdf(b, b_true, .1)"
   ]
  },
  {
   "cell_type": "code",
   "execution_count": null,
   "id": "64c0a3a7-ba2f-40e3-aefb-59e1147864a8",
   "metadata": {},
   "outputs": [],
   "source": [
    "qmax = q([a_true, b_true])"
   ]
  },
  {
   "cell_type": "markdown",
   "id": "67eb1c46-db7a-4e00-9313-66b296f707af",
   "metadata": {},
   "source": [
    "### Create samples from $q(x)$"
   ]
  },
  {
   "cell_type": "code",
   "execution_count": null,
   "id": "fb4976be-5853-4a06-bb76-a918fc4b4fde",
   "metadata": {},
   "outputs": [],
   "source": [
    "rand, q_val = imp_sampling.compute_position_from_distribution(ndim = ndim, pdf = q, pdf_max = qmax, N_points = 10000, limits = limits)"
   ]
  },
  {
   "cell_type": "code",
   "execution_count": null,
   "id": "b0201c15-998c-49c2-a5a8-260f349af10c",
   "metadata": {},
   "outputs": [],
   "source": [
    "a, b = rand[:,0], rand[:,1]"
   ]
  },
  {
   "cell_type": "code",
   "execution_count": null,
   "id": "add9dc3b-e5f4-46f0-aade-16881a17e8c8",
   "metadata": {},
   "outputs": [],
   "source": [
    "b_axis = np.linspace(b_limit[0], b_limit[1], 100)\n",
    "plt.plot(b_axis, m_a(b_axis), 'k', label='mean')\n",
    "plt.hist2d(b, a, bins = [23, 23], cmap = 'bwr')\n",
    "plt.xlabel('b', fontsize = 20)\n",
    "plt.ylabel('a', fontsize = 20)\n",
    "plt.legend(framealpha = 1)\n",
    "plt.show()\n"
   ]
  },
  {
   "cell_type": "markdown",
   "id": "cb680b99-7852-4d3d-844a-3d5066daf591",
   "metadata": {},
   "source": [
    "### Compute model for each sample "
   ]
  },
  {
   "cell_type": "code",
   "execution_count": null,
   "id": "0d2c9a90-5fe0-481d-912d-10d36199728b",
   "metadata": {},
   "outputs": [],
   "source": [
    "def model_theta(theta): \n",
    "    a, b = theta\n",
    "    return model(a, b, x_data)"
   ]
  },
  {
   "cell_type": "code",
   "execution_count": null,
   "id": "048684e6-9507-48a5-b2d8-a2429dcb4b9a",
   "metadata": {},
   "outputs": [],
   "source": [
    "tab_model = imp_sampling.compute_model([a,b], model = model_theta, multiprocessing = False)"
   ]
  },
  {
   "cell_type": "code",
   "execution_count": null,
   "id": "d3ecbbbc-7716-4db9-b07c-d03bd35fb77c",
   "metadata": {},
   "outputs": [],
   "source": [
    "tab_model = imp_sampling.compute_model([a,b], model = model_theta, multiprocessing = True)"
   ]
  },
  {
   "cell_type": "markdown",
   "id": "5bcb400d-4f02-4cd8-aac4-eac9854129b5",
   "metadata": {},
   "source": [
    "### Compute weights $w_i = P(x_i|\\mbox{data})/q(x_i)$"
   ]
  },
  {
   "cell_type": "code",
   "execution_count": null,
   "id": "33150ce1-452d-41fc-aff5-767f88b0b660",
   "metadata": {},
   "outputs": [],
   "source": [
    "# create data"
   ]
  },
  {
   "cell_type": "code",
   "execution_count": null,
   "id": "16a483ca-299a-4450-bd31-de9b8b88c7ac",
   "metadata": {},
   "outputs": [],
   "source": [
    "def posterior(expected, data):\n",
    "    return multivariate_normal.pdf(y_data, expected, cov_data)"
   ]
  },
  {
   "cell_type": "code",
   "execution_count": null,
   "id": "f84a43fc-47e6-4ee1-871b-ac369d2b844a",
   "metadata": {},
   "outputs": [],
   "source": [
    "#compute likelihood\n",
    "posterior_tab = imp_sampling.compute_posterior(posterior = posterior, model_tab = tab_model, data = y_data)"
   ]
  },
  {
   "cell_type": "code",
   "execution_count": null,
   "id": "4d838fba-4f6a-474e-aaf8-bb2971712abb",
   "metadata": {},
   "outputs": [],
   "source": [
    "#compute weights\n",
    "w = posterior_tab/q_val"
   ]
  },
  {
   "cell_type": "markdown",
   "id": "296ecf3e-180c-4c74-b768-01d71fa434b6",
   "metadata": {},
   "source": [
    "# Monte-Carlo Markov Chains approach"
   ]
  },
  {
   "cell_type": "code",
   "execution_count": null,
   "id": "47a39237-eb46-4a7a-ad1f-acad03e9ebf4",
   "metadata": {},
   "outputs": [],
   "source": [
    "def lnlikelihood_emcee(theta):\n",
    "    a, b = theta\n",
    "    return -m_lnlikelihood(a,b)"
   ]
  },
  {
   "cell_type": "code",
   "execution_count": null,
   "id": "eba2238c-6df5-4b78-a7d0-f17350faa687",
   "metadata": {},
   "outputs": [],
   "source": [
    "initial = [a_true, b_true]\n",
    "npath = 300\n",
    "nwalkers = 200\n",
    "#starting from the q-distrib\n",
    "pos = np.array([[a_,b_] for a_, b_ in zip(a,b)])[0:nwalkers]\n",
    "nwalkers, ndim = pos.shape\n",
    "\n",
    "sampler_param = emcee.EnsembleSampler(nwalkers, ndim, lnlikelihood_emcee)\n",
    "sampler_param.run_mcmc(pos, npath, progress=True);"
   ]
  },
  {
   "cell_type": "code",
   "execution_count": null,
   "id": "4c85bf54-f8c6-4493-9331-4cab320fad01",
   "metadata": {},
   "outputs": [],
   "source": [
    "fig, axes = plt.subplots(2, figsize=(7, 4), sharex=True)\n",
    "samples = sampler_param.get_chain()\n",
    "labels = [\"m\", \"b\", \"log(f)\"]\n",
    "for i in range(ndim):\n",
    "    ax = axes[i]\n",
    "    ax.plot(samples[:, :, i], \"k\", alpha=0.3, c = 'skyblue')\n",
    "    ax.set_xlim(0, len(samples))"
   ]
  },
  {
   "cell_type": "code",
   "execution_count": null,
   "id": "65e69f1e-cd66-429c-92a5-4d790c8b8db9",
   "metadata": {},
   "outputs": [],
   "source": [
    "mcmc = sampler_param.get_chain(discard = 200, thin = 2, flat = True)"
   ]
  },
  {
   "cell_type": "markdown",
   "id": "a286965a-df60-4018-a539-55a0d9846fdc",
   "metadata": {},
   "source": [
    "# Comparison between MCMC and IS"
   ]
  },
  {
   "cell_type": "code",
   "execution_count": null,
   "id": "50013286-d62f-4626-a218-966b2b36c4e2",
   "metadata": {},
   "outputs": [],
   "source": [
    "import corner\n",
    "sigma1 = 1. - np.exp(-(1./1.)**2/2.)\n",
    "sigma2 = 1. - np.exp(-(2./1.)**2/2.)\n",
    "sigma3 = 1. - np.exp(-(3./1.)**2/2.)\n",
    "fig, axs = plt.subplots(2,2, figsize = (7,7))\n",
    "pos_emcee = [[a_,b_] for a_, b_ in zip(a,b)]\n",
    "bins = 15\n",
    "c = ['m', 'r']\n",
    "#axs[1,0].scatter(a, b, s = .1, c = 'chartreuse')\n",
    "extent = [a_limit, b_limit]\n",
    "corner.corner(pos_emcee, fig = fig, bins=bins, levels=(sigma1, sigma2, sigma3), \n",
    "            fill_contours=False, plot_contours = True,\n",
    "            label_kwargs={\"fontsize\": 20}, top_ticks = True,\n",
    "            plot_density=False,\n",
    "            max_n_ticks = 6,\n",
    "              scale_hist = True,\n",
    "            weights=w/np.sum(w),\n",
    "              plot_datapoints=False,\n",
    "            color = 'm',\n",
    "            show_title= True,labels = [r'$a$', r'$b$'],\n",
    "              )\n",
    "corner.corner(pos_emcee, fig = fig, bins=bins, levels=(sigma1, sigma2, sigma3), \n",
    "            fill_contours=False, plot_contours = True,\n",
    "            label_kwargs={\"fontsize\": 20}, top_ticks = True,\n",
    "            plot_density=False,\n",
    "              plot_datapoints=False,\n",
    "            max_n_ticks = 6,\n",
    "              scale_hist = True,\n",
    "            weights=None,\n",
    "            color = 'chartreuse',\n",
    "            show_title= True,labels = [r'$a$', r'$b$'],\n",
    "              )\n",
    "corner.corner(mcmc, fig = fig, bins=bins, levels=(sigma1, sigma2, sigma3), \n",
    "            fill_contours=False, plot_contours = True,\n",
    "            plot_datapoints=False,\n",
    "            label_kwargs={\"fontsize\": 20},\n",
    "            plot_density=False,\n",
    "            quantiles = [.5], \n",
    "            weights=None,\n",
    "            color = 'k',truths = [a_true, b_true],labels = [r'$a$', r'$b$'],\n",
    "             range = extent)\n",
    "\n",
    "axs[0,1].plot([],[], 'chartreuse', linewidth = 10, label = 'proposal (IS)')\n",
    "axs[0,1].plot([],[], 'm', linewidth = 10, label = 'posterior (IS)')\n",
    "axs[0,1].plot([],[], 'k', linewidth = 10, label = 'posterior (MCMC)')\n",
    "axs[0,1].legend(frameon = False, fontsize = 14)\n",
    "plt.show()"
   ]
  },
  {
   "cell_type": "markdown",
   "id": "c4094f35-fa03-449f-ac01-3d748ee794e7",
   "metadata": {},
   "source": [
    "# *appendix: Interpolated posterior"
   ]
  },
  {
   "cell_type": "code",
   "execution_count": null,
   "id": "6f14377a-051a-4980-a201-fe05b2265b84",
   "metadata": {},
   "outputs": [],
   "source": [
    "n = 1000\n",
    "#scipy interpolation\n",
    "posterior_interpolated = scipy.interpolate.Rbf(rand[:,0][np.arange(n)], rand[:,1][np.arange(n)], \n",
    "                                               posterior_tab[np.arange(n)], \n",
    "                                               function = 'multiquadric')"
   ]
  },
  {
   "cell_type": "code",
   "execution_count": null,
   "id": "8ace48e2-2a07-44f3-80e8-7390d7bb79a9",
   "metadata": {},
   "outputs": [],
   "source": [
    "a_axis = np.linspace(a_limit[0], a_limit[1], 100)\n",
    "for b_true in np.linspace(b_limit[0]+.1, b_limit[1]-.1, 5):\n",
    "    y_interp = np.array([posterior_interpolated(a_, b_true) for a_ in a_axis])\n",
    "    y_true = np.array([np.exp(-m_lnlikelihood(a_,b_true)) for a_ in a_axis])\n",
    "    plt.plot(a_axis, abs(100*(y_interp-y_true)/y_true), label = f'b = {b_true:.2f}')\n",
    "plt.yscale('log')\n",
    "plt.xlabel('a', fontsize = 20)\n",
    "plt.ylabel('bias in $\\%$', fontsize = 20)\n",
    "plt.legend()"
   ]
  },
  {
   "cell_type": "code",
   "execution_count": null,
   "id": "9971d530-2e4a-41d9-808e-a8f65fa2f81e",
   "metadata": {},
   "outputs": [],
   "source": []
  },
  {
   "cell_type": "code",
   "execution_count": null,
   "id": "46cba1ee-7223-4e33-b363-2d0b6696b6da",
   "metadata": {},
   "outputs": [],
   "source": []
  },
  {
   "cell_type": "code",
   "execution_count": null,
   "id": "d12064d5-0942-4c02-a0df-fec403b750cb",
   "metadata": {},
   "outputs": [],
   "source": []
  }
 ],
 "metadata": {
  "kernelspec": {
   "display_name": "mydesc",
   "language": "python",
   "name": "mydesc"
  },
  "language_info": {
   "codemirror_mode": {
    "name": "ipython",
    "version": 3
   },
   "file_extension": ".py",
   "mimetype": "text/x-python",
   "name": "python",
   "nbconvert_exporter": "python",
   "pygments_lexer": "ipython3",
   "version": "3.7.6"
  }
 },
 "nbformat": 4,
 "nbformat_minor": 5
}
