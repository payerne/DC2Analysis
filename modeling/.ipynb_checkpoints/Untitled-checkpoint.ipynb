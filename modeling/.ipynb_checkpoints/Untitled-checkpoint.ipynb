{
 "cells": [
  {
   "cell_type": "code",
   "execution_count": 102,
   "id": "fdfbe6e2-ac63-43e8-80c1-9c3e01fd122b",
   "metadata": {},
   "outputs": [],
   "source": [
    "import numpy as np\n",
    "import matplotlib.pyplot as plt\n",
    "from scipy.optimize import fsolve\n",
    "from scipy.integrate import quad"
   ]
  },
  {
   "cell_type": "code",
   "execution_count": 103,
   "id": "d4d82b8c-18ca-4b95-935d-37b14bc90c89",
   "metadata": {},
   "outputs": [],
   "source": [
    " def exp(x, lambda_n): \n",
    "        N_exposant = np.arange(len(lambda_n))\n",
    "        x_to_n = x**N_exposant\n",
    "        return np.exp(-np.sum(x_to_n*lambda_n))\n",
    "    \n",
    "def mu_n(n, lambda_n):\n",
    "    #model\n",
    "    def __integrand__(x):\n",
    "        return x\n",
    "    return np.array(quad(__integrand__, 0, 1)[0])"
   ]
  },
  {
   "cell_type": "code",
   "execution_count": 104,
   "id": "1ddcf43c-fee1-4c7c-b5be-d0a5ab25644e",
   "metadata": {},
   "outputs": [],
   "source": [
    "n_moment = 2"
   ]
  },
  {
   "cell_type": "code",
   "execution_count": 105,
   "id": "d9ed2d7e-cc6c-4e70-bfa8-037beac6ed0d",
   "metadata": {},
   "outputs": [
    {
     "data": {
      "text/plain": [
       "array(0.5)"
      ]
     },
     "execution_count": 105,
     "metadata": {},
     "output_type": "execute_result"
    }
   ],
   "source": [
    "mu_n_true = np.linspace(1, 2, n_moment)-1\n",
    "mu_n(0, mu_n_true)"
   ]
  },
  {
   "cell_type": "code",
   "execution_count": 106,
   "id": "c223c2f6-eab4-4ee3-a2f0-68a9fd063dd1",
   "metadata": {},
   "outputs": [],
   "source": [
    "def f(l_n):\n",
    "    n = len(l_n)\n",
    "    res = np.zeros(n)\n",
    "    for i, n_ in enumerate(np.arange(n)):\n",
    "        res[i] = mu_n(i, l_n) \n",
    "    return res - mu_n_true"
   ]
  },
  {
   "cell_type": "code",
   "execution_count": 107,
   "id": "0dd45bda-ace8-478d-91b8-519bb0606359",
   "metadata": {},
   "outputs": [
    {
     "name": "stdout",
     "output_type": "stream",
     "text": [
      "[ 0.5 -0.5]\n",
      "[ 0.5 -0.5]\n"
     ]
    }
   ],
   "source": [
    "x0 = mu_n_true\n",
    "res = fsolve(func = f,x0 = mu_n_true, maxfev=100)\n",
    "print(f(res))\n",
    "res = fsolve(func = f, x0 = res)\n",
    "print(f(res))"
   ]
  },
  {
   "cell_type": "code",
   "execution_count": 89,
   "id": "d7afcaa6-c924-4f70-ba9a-305e3b711e60",
   "metadata": {},
   "outputs": [
    {
     "data": {
      "image/png": "[encoded data removed]",
      "text/plain": [
       "<Figure size 432x288 with 1 Axes>"
      ]
     },
     "metadata": {
      "needs_background": "light"
     },
     "output_type": "display_data"
    }
   ],
   "source": [
    "x = np.linspace(0, 10, 100)\n",
    "for x_ in x:\n",
    "    plt.scatter(x_, exp(x_, res))"
   ]
  },
  {
   "cell_type": "code",
   "execution_count": null,
   "id": "7f4aa5af-5e50-4f62-aa2f-80e842cd1b42",
   "metadata": {},
   "outputs": [],
   "source": []
  },
  {
   "cell_type": "code",
   "execution_count": null,
   "id": "2e6c2d02-d047-48ec-b594-3417d3ad110c",
   "metadata": {},
   "outputs": [],
   "source": []
  }
 ],
 "metadata": {
  "kernelspec": {
   "display_name": "mydesc",
   "language": "python",
   "name": "mydesc"
  },
  "language_info": {
   "codemirror_mode": {
    "name": "ipython",
    "version": 3
   },
   "file_extension": ".py",
   "mimetype": "text/x-python",
   "name": "python",
   "nbconvert_exporter": "python",
   "pygments_lexer": "ipython3",
   "version": "3.7.6"
  }
 },
 "nbformat": 4,
 "nbformat_minor": 5
}
