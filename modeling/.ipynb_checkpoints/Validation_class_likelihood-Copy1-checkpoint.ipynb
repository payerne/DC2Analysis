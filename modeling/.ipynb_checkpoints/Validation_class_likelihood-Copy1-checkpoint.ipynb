{
 "cells": [
  {
   "cell_type": "code",
   "execution_count": 1,
   "id": "df0f262b",
   "metadata": {},
   "outputs": [],
   "source": [
    "import glob, sys\n",
    "import numpy as np\n",
    "import matplotlib.pyplot as plt\n",
    "import time\n",
    "import pyccl as ccl\n",
    "cosmo = ccl.Cosmology(Omega_c = 0.30711 - 0.048254, Omega_b = 0.048254, h = 0.677, sigma8 = 0.8288, n_s=0.96)"
   ]
  },
  {
   "cell_type": "code",
   "execution_count": 2,
   "id": "9108e25d-0437-4cbc-9b45-cc466687b6a9",
   "metadata": {},
   "outputs": [],
   "source": [
    "%load_ext autoreload\n",
    "%autoreload 2\n",
    "sys.path.append('/pbs/throng/lsst/users/cpayerne/GitForThesis/DC2Analysis/modeling/')\n",
    "import CL_COUNT_class_cluster_abundance as cl_count\n",
    "from CL_COUNT_Sij_FLacasa import Sij_FLacasa"
   ]
  },
  {
   "cell_type": "markdown",
   "id": "d4db73bc-1373-4a09-af6b-205c8c667416",
   "metadata": {},
   "source": [
    "initialize the `ClusterAbundance` object"
   ]
  },
  {
   "cell_type": "code",
   "execution_count": 3,
   "id": "0161d728-016f-4e1e-bb0e-4679cad8a1cb",
   "metadata": {},
   "outputs": [],
   "source": [
    "clc = cl_count.ClusterAbundance()\n",
    "#choose the halo mass function and mass definition\n",
    "massdef = ccl.halos.massdef.MassDef('vir', 'critical', c_m_relation=None)\n",
    "hmd = ccl.halos.hmfunc.MassFuncDespali16(cosmo, mass_def=massdef)\n",
    "clc.set_cosmology(cosmo = cosmo, hmd = hmd, massdef = massdef)\n",
    "clc.sky_area = (0.25)*4*np.pi\n",
    "clc.f_sky = clc.sky_area/4*np.pi"
   ]
  },
  {
   "cell_type": "markdown",
   "id": "9f72e8c9-57d8-473a-a865-41978c33e051",
   "metadata": {},
   "source": [
    "# Binned approach\n",
    "Compute the 2D integral"
   ]
  },
  {
   "cell_type": "markdown",
   "id": "f3c51c0f-f092-4d07-9ccf-b7168627a87d",
   "metadata": {},
   "source": [
    "## model"
   ]
  },
  {
   "cell_type": "markdown",
   "id": "419c30ea-33da-4125-b24a-fcc4d996fb48",
   "metadata": {},
   "source": [
    "$$\n",
    "N_{\\alpha\\beta}^{\\rm predicted} = \\Omega_s\\int_{z_\\alpha}^{z_{\\alpha + 1}} dz\\int_{\\log_{10}M_\\beta}^{\\log_{10}M_{\\beta + 1}}\\frac{d^2V(z)}{dz d\\Omega}\\frac{dn(M,z)}{d\\log_{10}M}d\\log_{10}M\n",
    "$$"
   ]
  },
  {
   "cell_type": "markdown",
   "id": "10e4885c-3808-477b-b7ea-c4d927630eeb",
   "metadata": {},
   "source": [
    "define mass & redshift binning"
   ]
  },
  {
   "cell_type": "code",
   "execution_count": 124,
   "id": "226eab23-2904-4655-ad98-f1062a3320d7",
   "metadata": {},
   "outputs": [],
   "source": [
    "z_corner = np.linspace(0.25, 1.25, 51)\n",
    "logm_corner = np.linspace(14, 14.8, 41)\n",
    "def binning(corner): return [[corner[i],corner[i+1]] for i in range(len(corner)-1)]\n",
    "Z_bin = binning(z_corner)\n",
    "logMass_bin = binning(logm_corner)"
   ]
  },
  {
   "cell_type": "code",
   "execution_count": 125,
   "id": "d9fe64e5-87b2-47e1-9520-80f9c0e204c9",
   "metadata": {},
   "outputs": [],
   "source": [
    "#define redshift-mass grid\n",
    "z_grid = np.linspace(0., 3, 900)\n",
    "logm_grid = np.linspace(12,16, 900)"
   ]
  },
  {
   "cell_type": "markdown",
   "id": "0763810d-9a1d-4d37-b650-72f0b7ad066a",
   "metadata": {},
   "source": [
    "`simps`"
   ]
  },
  {
   "cell_type": "markdown",
   "id": "74a7feec-9e6e-44a4-aa15-56642b764599",
   "metadata": {},
   "source": [
    "### Abundance prediction"
   ]
  },
  {
   "cell_type": "code",
   "execution_count": 126,
   "id": "00c346f8-ce9a-4152-a1a3-7528f1c0e5f9",
   "metadata": {},
   "outputs": [
    {
     "name": "stdout",
     "output_type": "stream",
     "text": [
      "time (seconds) = 0.8451859951019287\n"
     ]
    }
   ],
   "source": [
    "t0 = time.time()\n",
    "clc.compute_multiplicity_grid_MZ(z_grid = z_grid, logm_grid = logm_grid)\n",
    "Abundance_simps = clc.Cluster_Abundance_MZ(Redshift_bin = Z_bin, Proxy_bin = logMass_bin, method = 'simps')\n",
    "t1 = time.time()\n",
    "print('time (seconds) = ' + str(t1-t0))\n",
    "time_simps = t1-t0"
   ]
  },
  {
   "cell_type": "markdown",
   "id": "afa14c5e-4d2e-4560-9127-4dc526df999d",
   "metadata": {},
   "source": [
    "### Sample covariance"
   ]
  },
  {
   "cell_type": "code",
   "execution_count": 128,
   "id": "b0f1d21e-6bf9-4c91-af0d-7dae4ff95d68",
   "metadata": {},
   "outputs": [],
   "source": [
    "halobais_model = ccl.halos.hbias.HaloBiasTinker10(cosmo, mass_def=massdef, mass_def_strict=True)\n",
    "clc.compute_halo_bias_grid_MZ(z_grid = z_grid, logm_grid = logm_grid, halobiais = halobais_model)\n",
    "Binned_halo_bias = clc.halo_bias_MZ(Redshift_bin = Z_bin, Proxy_bin = logMass_bin, N_th = Abundance_simps)\n",
    "S_ij = Sij_FLacasa(Z_bin)\n",
    "sample_covariance = clc.sample_covariance_MZ(Z_bin, logMass_bin, Abundance_simps, Binned_halo_bias, S_ij)"
   ]
  },
  {
   "cell_type": "code",
   "execution_count": 129,
   "id": "df802fff-c981-4e4f-b7cb-95e6e188644c",
   "metadata": {},
   "outputs": [
    {
     "data": {
      "text/plain": [
       "((50, 40), (50, 40))"
      ]
     },
     "execution_count": 129,
     "metadata": {},
     "output_type": "execute_result"
    }
   ],
   "source": [
    "Binned_halo_bias.shape, Abundance_simps.shape"
   ]
  },
  {
   "cell_type": "code",
   "execution_count": 130,
   "id": "78b434a1-2a4e-40a4-9fe5-b0e2a5404ad5",
   "metadata": {},
   "outputs": [
    {
     "data": {
      "text/plain": [
       "<matplotlib.image.AxesImage at 0x7f12ea5a97d0>"
      ]
     },
     "execution_count": 130,
     "metadata": {},
     "output_type": "execute_result"
    },
    {
     "data": {
      "image/png": "[encoded data removed]",
      "text/plain": [
       "<Figure size 432x288 with 1 Axes>"
      ]
     },
     "metadata": {
      "needs_background": "light"
     },
     "output_type": "display_data"
    }
   ],
   "source": [
    "plt.imshow(S_ij)"
   ]
  },
  {
   "cell_type": "markdown",
   "id": "93728cef-e6f0-49ae-8223-61a58abf80e2",
   "metadata": {},
   "source": [
    "### Shot noise"
   ]
  },
  {
   "cell_type": "code",
   "execution_count": 131,
   "id": "a53db01a-719a-483f-9e06-0d2acc939612",
   "metadata": {},
   "outputs": [],
   "source": [
    "shot_noise_variance = np.diag(Abundance_simps.flatten())"
   ]
  },
  {
   "cell_type": "code",
   "execution_count": 132,
   "id": "a1af800f-5984-4e7b-b697-723d661f8c35",
   "metadata": {},
   "outputs": [],
   "source": [
    "covariance = sample_covariance + shot_noise_variance"
   ]
  },
  {
   "cell_type": "code",
   "execution_count": 135,
   "id": "f36fd113-0f7b-4372-8ddd-62e0bbad27d4",
   "metadata": {},
   "outputs": [
    {
     "data": {
      "text/plain": [
       "array([[            nan,             nan,             nan, ...,\n",
       "                    nan,             nan,             nan],\n",
       "       [            nan,  2.80205245e+00,             nan, ...,\n",
       "        -1.19290880e-05,             nan, -8.34222830e-06],\n",
       "       [            nan,             nan,             nan, ...,\n",
       "                    nan,             nan,             nan],\n",
       "       ...,\n",
       "       [            nan, -1.19290880e-05,             nan, ...,\n",
       "         1.86999919e-04,             nan,  1.30772446e-04],\n",
       "       [            nan,             nan,             nan, ...,\n",
       "                    nan,             nan,             nan],\n",
       "       [            nan, -8.34222830e-06,             nan, ...,\n",
       "         1.30772446e-04,             nan,  9.14515512e-05]])"
      ]
     },
     "execution_count": 135,
     "metadata": {},
     "output_type": "execute_result"
    }
   ],
   "source": [
    "sample_covariance"
   ]
  },
  {
   "cell_type": "markdown",
   "id": "ee29674b-8e29-49bd-a7d7-4fea40dafec1",
   "metadata": {},
   "source": [
    "## data"
   ]
  },
  {
   "cell_type": "code",
   "execution_count": 134,
   "id": "a20add84-27da-44cf-ade0-26fec03a4b76",
   "metadata": {},
   "outputs": [
    {
     "ename": "TypeError",
     "evalue": "multivariate_normal() takes at least 2 positional arguments (1 given)",
     "output_type": "error",
     "traceback": [
      "\u001b[0;31m---------------------------------------------------------------------------\u001b[0m",
      "\u001b[0;31mTypeError\u001b[0m                                 Traceback (most recent call last)",
      "\u001b[0;32m<ipython-input-134-b9806f583c9d>\u001b[0m in \u001b[0;36m<module>\u001b[0;34m\u001b[0m\n\u001b[0;32m----> 1\u001b[0;31m \u001b[0mx_th_SV\u001b[0m \u001b[0;34m=\u001b[0m \u001b[0mnp\u001b[0m\u001b[0;34m.\u001b[0m\u001b[0mrandom\u001b[0m\u001b[0;34m.\u001b[0m\u001b[0mmultivariate_normal\u001b[0m\u001b[0;34m(\u001b[0m\u001b[0mAbundance_simps\u001b[0m\u001b[0;34m.\u001b[0m\u001b[0mflatten\u001b[0m\u001b[0;34m(\u001b[0m\u001b[0;34m)\u001b[0m\u001b[0;34m)\u001b[0m\u001b[0;34m\u001b[0m\u001b[0;34m\u001b[0m\u001b[0m\n\u001b[0m",
      "\u001b[0;32mmtrand.pyx\u001b[0m in \u001b[0;36mnumpy.random.mtrand.RandomState.multivariate_normal\u001b[0;34m()\u001b[0m\n",
      "\u001b[0;31mTypeError\u001b[0m: multivariate_normal() takes at least 2 positional arguments (1 given)"
     ]
    }
   ],
   "source": [
    "x_th_SV = np.random.multivariate_normal(mean = Abundance_simps.flatten(),\n",
    "                                       cov = )"
   ]
  },
  {
   "cell_type": "code",
   "execution_count": null,
   "id": "f1fe0074-08e9-4b2c-82cf-0aab0e619a7f",
   "metadata": {},
   "outputs": [],
   "source": [
    "N_obs = np.random.poisson(lam=x_th_SV)"
   ]
  },
  {
   "cell_type": "code",
   "execution_count": null,
   "id": "1127d7d3-1d06-4a1e-9a99-991fec40c958",
   "metadata": {},
   "outputs": [],
   "source": [
    "N_obs_matrix = N_obs.reshape([len(Z_bin),len(logMass_bin)])"
   ]
  },
  {
   "cell_type": "code",
   "execution_count": null,
   "id": "d816a262-d1aa-4a11-a422-4ab47d51f07e",
   "metadata": {},
   "outputs": [],
   "source": [
    "delta_map = x_th_SV"
   ]
  },
  {
   "cell_type": "markdown",
   "id": "cb36f0bf-130c-4d93-a0c1-31c869ebbf31",
   "metadata": {},
   "source": [
    "## Likelihood"
   ]
  },
  {
   "cell_type": "code",
   "execution_count": 17,
   "id": "98d7b656-15c0-4fb7-baa5-b590170b957d",
   "metadata": {},
   "outputs": [
    {
     "name": "stdout",
     "output_type": "stream",
     "text": [
      "The autoreload extension is already loaded. To reload it, use:\n",
      "  %reload_ext autoreload\n"
     ]
    }
   ],
   "source": [
    "%load_ext autoreload\n",
    "%autoreload 2\n",
    "import CL_COUNT_class_likelihood as lnL"
   ]
  },
  {
   "cell_type": "code",
   "execution_count": 18,
   "id": "34f2c401-499c-4a5b-bb76-c6813c6fa64f",
   "metadata": {},
   "outputs": [],
   "source": [
    "Likelihood = lnL.Likelihood()"
   ]
  },
  {
   "cell_type": "markdown",
   "id": "d49459ee-27d8-48e2-8622-6b2a66dd4f4f",
   "metadata": {},
   "source": [
    "### Binned Poisson/Gaussian Mixture (diagonal covariance matrix)"
   ]
  },
  {
   "cell_type": "markdown",
   "id": "86fb5490-a818-4c06-9b1c-d5a912c635d0",
   "metadata": {},
   "source": [
    "$L = \\prod_i^N\\int dx_i \\mathcal{P}(\\widehat{N}_i| x_i)\\times \\mathcal{G}(x_i|\\mu_i, \\sigma_{SV,i}^2)$"
   ]
  },
  {
   "cell_type": "code",
   "execution_count": 19,
   "id": "03ce0e08-805c-4fe4-9fae-ce50fe183a1c",
   "metadata": {},
   "outputs": [
    {
     "name": "stdout",
     "output_type": "stream",
     "text": [
      "-2090.921943661124\n"
     ]
    }
   ],
   "source": [
    "lnL_Binned_MPG_diagonal = Likelihood.lnLikelihood_Binned_MPG_diagonal(Abundance_simps.flatten(), N_obs, sample_covariance.diagonal())\n",
    "print(Likelihood.lnL_Binned_MPG_diagonal)"
   ]
  },
  {
   "cell_type": "markdown",
   "id": "06297fd3-2eec-4788-9b66-06632528464e",
   "metadata": {},
   "source": [
    "### Binned Poisson/Gaussian Mixture (estimator, full covariance matrix)"
   ]
  },
  {
   "cell_type": "markdown",
   "id": "c4bcfa73-20d4-4104-a148-3812b84dad10",
   "metadata": {},
   "source": [
    "$L = \\int d\\vec{x} \\prod_i^N\\mathcal{P}(\\widehat{N}_i| x_i)\\times \\mathcal{G}(\\vec{x}|\\vec{\\mu}, \\Sigma_{SV}) \\rightarrow \\widehat{L} = \\frac{1}{N_{sample}} \\sum_{j= 1}^{N_{sample}}\\prod_i^N\\mathcal{P}(\\widehat{N}_i| x_{i,j}) $\n",
    "\n",
    "where $x_{i,j}$ is the $j-$th random realisation of the $i-$th cluster abundance bin, following the Gaussian distribution $\\mathcal{G}(.|\\vec{\\mu}, \\Sigma_{SV})$ "
   ]
  },
  {
   "cell_type": "code",
   "execution_count": 20,
   "id": "eed31983-26d3-4709-aa29-c8e83c9b2c8c",
   "metadata": {},
   "outputs": [
    {
     "name": "stdout",
     "output_type": "stream",
     "text": [
      "-2092.506905713706\n"
     ]
    }
   ],
   "source": [
    "lnL_Binned_MPG_delta = Likelihood.lnLikelihood_Binned_MPG_delta(Abundance_simps.flatten(), N_obs, sample_covariance)\n",
    "print(Likelihood.lnL_Binned_MPG_delta)"
   ]
  },
  {
   "cell_type": "markdown",
   "id": "e34a5b69-a9af-40e9-a000-83ecbccd074c",
   "metadata": {},
   "source": [
    "### Binned Poisson/Gaussian Mixture (approximation)"
   ]
  },
  {
   "cell_type": "code",
   "execution_count": 21,
   "id": "febac38d-05c4-4c04-bb54-73dc160c9c3b",
   "metadata": {},
   "outputs": [
    {
     "name": "stdout",
     "output_type": "stream",
     "text": [
      "-inf\n"
     ]
    },
    {
     "name": "stderr",
     "output_type": "stream",
     "text": [
      "/pbs/throng/lsst/users/cpayerne/GitForThesis/DC2Analysis/modeling/CL_COUNT_class_likelihood.py:139: RuntimeWarning: divide by zero encountered in log\n",
      "  self.lnL_Binned_MPG_approx = np.log( (1. + .5 * np.sum(M)) * np.prod(Poisson) )\n"
     ]
    }
   ],
   "source": [
    "lnL_Binned_MPG_approx = Likelihood.lnLikelihood_Binned_MPG_approx(Abundance_simps.flatten(), N_obs, sample_covariance)\n",
    "print(Likelihood.lnL_Binned_MPG_approx)"
   ]
  },
  {
   "cell_type": "code",
   "execution_count": 22,
   "id": "39135eaa-7922-472b-b1dc-a5865da7df1d",
   "metadata": {},
   "outputs": [
    {
     "data": {
      "text/plain": [
       "[<matplotlib.lines.Line2D at 0x7f13081ff490>]"
      ]
     },
     "execution_count": 22,
     "metadata": {},
     "output_type": "execute_result"
    },
    {
     "data": {
      "image/png": "[encoded data removed]",
      "text/plain": [
       "<Figure size 432x288 with 1 Axes>"
      ]
     },
     "metadata": {
      "needs_background": "light"
     },
     "output_type": "display_data"
    }
   ],
   "source": [
    "N = np.arange(10)\n",
    "P = np.zeros(len(N))\n",
    "for i,n in enumerate(N):\n",
    "    Likelihood.lnLikelihood_Binned_MPG_approx(np.array([7]),np.array([n]), np.array([.1]))\n",
    "    P[i] = np.exp(Likelihood.lnL_Binned_MPG_approx)\n",
    "plt.plot(N, P)"
   ]
  },
  {
   "cell_type": "code",
   "execution_count": 122,
   "id": "46015520-2544-4063-a093-6e0ab9e767e2",
   "metadata": {},
   "outputs": [
    {
     "name": "stdout",
     "output_type": "stream",
     "text": [
      "The autoreload extension is already loaded. To reload it, use:\n",
      "  %reload_ext autoreload\n"
     ]
    }
   ],
   "source": [
    "%load_ext autoreload\n",
    "%autoreload 2\n",
    "import CL_COUNT_class_likelihood as lnL\n",
    "Likelihood = lnL.Likelihood()"
   ]
  },
  {
   "cell_type": "code",
   "execution_count": 123,
   "id": "8f43a932-4fb7-4ee3-9c47-5ef78a426b2c",
   "metadata": {},
   "outputs": [
    {
     "name": "stdout",
     "output_type": "stream",
     "text": [
      "-0.12431176613618337 0.12431176613618337\n",
      "-0.10827029670395133 0.10827029670395133\n",
      "-0.09591831587343981 0.09591831587343981\n",
      "-0.08613798776364695 0.08613798776364695\n",
      "-0.07818958672147636 0.07818958672147636\n",
      "-0.0716119619913031 0.0716119619913031\n",
      "-0.06606753992495083 0.06606753992495083\n",
      "-0.06135943254776069 0.06135943254776069\n",
      "-0.057279288044568014 0.057279288044568014\n",
      "-0.05374417288941366 0.05374417288941366\n",
      "-0.050620290257533083 0.050620290257533083\n",
      "-0.04786853849151441 0.04786853849151441\n",
      "-0.04538499618324294 0.04538499618324294\n",
      "-0.04317349868270358 0.04317349868270358\n",
      "-0.041175272861574796 0.041175272861574796\n",
      "-0.039366893651633206 0.039366893651633206\n",
      "-0.03770103656241698 0.03770103656241698\n",
      "-0.0361806527837326 0.0361806527837326\n",
      "-0.03483304654552482 0.03483304654552482\n",
      "-0.0335558640365682 0.0335558640365682\n",
      "-0.03232805798656547 0.03232805798656547\n",
      "-0.031192200991433112 0.031192200991433112\n",
      "-0.030465026422289914 0.030465026422289914\n",
      "-0.029244042279544812 0.029244042279544812\n",
      "-0.028386060851402793 0.028386060851402793\n",
      "-0.12431176613618337 0.12431176613618337\n",
      "-0.10827029670395133 0.10827029670395133\n",
      "-0.09591831587343981 0.09591831587343981\n",
      "-0.08613798776364695 0.08613798776364695\n",
      "-0.07818958672147636 0.07818958672147636\n",
      "-0.0716119619913031 0.0716119619913031\n",
      "-0.06606753992495083 0.06606753992495083\n",
      "-0.06135943254776069 0.06135943254776069\n",
      "-0.057279288044568014 0.057279288044568014\n",
      "-0.05374417288941366 0.05374417288941366\n",
      "-0.050620290257533083 0.050620290257533083\n",
      "-0.04786853849151441 0.04786853849151441\n",
      "-0.04538499618324294 0.04538499618324294\n",
      "-0.04317349868270358 0.04317349868270358\n",
      "-0.041175272861574796 0.041175272861574796\n",
      "-0.039366893651633206 0.039366893651633206\n",
      "-0.03770103656241698 0.03770103656241698\n",
      "-0.0361806527837326 0.0361806527837326\n",
      "-0.03483304654552482 0.03483304654552482\n",
      "-0.0335558640365682 0.0335558640365682\n",
      "-0.03232805798656547 0.03232805798656547\n",
      "-0.031192200991433112 0.031192200991433112\n",
      "-0.030465026422289914 0.030465026422289914\n",
      "-0.029244042279544812 0.029244042279544812\n",
      "-0.028386060851402793 0.028386060851402793\n",
      "-0.12431176613618337 0.12431176613618337\n",
      "-0.10827029670395133 0.10827029670395133\n",
      "-0.09591831587343981 0.09591831587343981\n",
      "-0.08613798776364695 0.08613798776364695\n",
      "-0.07818958672147636 0.07818958672147636\n",
      "-0.0716119619913031 0.0716119619913031\n",
      "-0.06606753992495083 0.06606753992495083\n",
      "-0.06135943254776069 0.06135943254776069\n",
      "-0.057279288044568014 0.057279288044568014\n",
      "-0.05374417288941366 0.05374417288941366\n",
      "-0.050620290257533083 0.050620290257533083\n",
      "-0.04786853849151441 0.04786853849151441\n",
      "-0.04538499618324294 0.04538499618324294\n",
      "-0.04317349868270358 0.04317349868270358\n",
      "-0.041175272861574796 0.041175272861574796\n",
      "-0.039366893651633206 0.039366893651633206\n",
      "-0.03770103656241698 0.03770103656241698\n",
      "-0.0361806527837326 0.0361806527837326\n",
      "-0.03483304654552482 0.03483304654552482\n",
      "-0.0335558640365682 0.0335558640365682\n",
      "-0.03232805798656547 0.03232805798656547\n",
      "-0.031192200991433112 0.031192200991433112\n",
      "-0.030465026422289914 0.030465026422289914\n",
      "-0.029244042279544812 0.029244042279544812\n",
      "-0.028386060851402793 0.028386060851402793\n",
      "-0.12431176613618337 0.12431176613618337\n",
      "-0.10827029670395133 0.10827029670395133\n",
      "-0.09591831587343981 0.09591831587343981\n",
      "-0.08613798776364695 0.08613798776364695\n",
      "-0.07818958672147636 0.07818958672147636\n",
      "-0.0716119619913031 0.0716119619913031\n",
      "-0.06606753992495083 0.06606753992495083\n",
      "-0.06135943254776069 0.06135943254776069\n",
      "-0.057279288044568014 0.057279288044568014\n",
      "-0.05374417288941366 0.05374417288941366\n",
      "-0.050620290257533083 0.050620290257533083\n",
      "-0.04786853849151441 0.04786853849151441\n",
      "-0.04538499618324294 0.04538499618324294\n",
      "-0.04317349868270358 0.04317349868270358\n",
      "-0.041175272861574796 0.041175272861574796\n",
      "-0.039366893651633206 0.039366893651633206\n",
      "-0.03770103656241698 0.03770103656241698\n",
      "-0.0361806527837326 0.0361806527837326\n",
      "-0.03483304654552482 0.03483304654552482\n",
      "-0.0335558640365682 0.0335558640365682\n",
      "-0.03232805798656547 0.03232805798656547\n",
      "-0.031192200991433112 0.031192200991433112\n",
      "-0.030465026422289914 0.030465026422289914\n",
      "-0.029244042279544812 0.029244042279544812\n",
      "-0.028386060851402793 0.028386060851402793\n"
     ]
    },
    {
     "data": {
      "image/png": "[encoded data removed]",
      "text/plain": [
       "<Figure size 432x288 with 1 Axes>"
      ]
     },
     "metadata": {
      "needs_background": "light"
     },
     "output_type": "display_data"
    }
   ],
   "source": [
    "for n in [20, 25, 30, 35]:\n",
    "    Likelihood.n = n\n",
    "    Likelihood.lnLikelihood_Binned_MPG_Block_Diagonal(Abundance_simps, N_obs_matrix, Binned_halo_bias, S_ij.diagonal(), method = 'exact')\n",
    "    plt.scatter(n, Likelihood.lnL_Binned_MPG_Block_Diagonal)"
   ]
  },
  {
   "cell_type": "code",
   "execution_count": null,
   "id": "f4173d20-8c13-4374-a231-837883697ca7",
   "metadata": {},
   "outputs": [],
   "source": []
  }
 ],
 "metadata": {
  "kernelspec": {
   "display_name": "mydesc",
   "language": "python",
   "name": "mydesc"
  },
  "language_info": {
   "codemirror_mode": {
    "name": "ipython",
    "version": 3
   },
   "file_extension": ".py",
   "mimetype": "text/x-python",
   "name": "python",
   "nbconvert_exporter": "python",
   "pygments_lexer": "ipython3",
   "version": "3.7.6"
  }
 },
 "nbformat": 4,
 "nbformat_minor": 5
}
