{
 "cells": [
  {
   "cell_type": "code",
   "execution_count": 1,
   "id": "df0f262b",
   "metadata": {},
   "outputs": [],
   "source": [
    "import glob, sys\n",
    "import numpy as np\n",
    "import matplotlib.pyplot as plt\n",
    "import time\n",
    "import pyccl as ccl\n",
    "cosmo = ccl.Cosmology(Omega_c = 0.30711 - 0.048254, Omega_b = 0.048254, h = 0.677, sigma8 = 0.8288, n_s=0.96)"
   ]
  },
  {
   "cell_type": "code",
   "execution_count": 2,
   "id": "9108e25d-0437-4cbc-9b45-cc466687b6a9",
   "metadata": {},
   "outputs": [],
   "source": [
    "%load_ext autoreload\n",
    "%autoreload 2\n",
    "sys.path.append('/pbs/throng/lsst/users/cpayerne/GitForThesis/DC2Analysis/modeling/')\n",
    "import CL_COUNT_class_cluster_abundance as cl_count"
   ]
  },
  {
   "cell_type": "markdown",
   "id": "d4db73bc-1373-4a09-af6b-205c8c667416",
   "metadata": {},
   "source": [
    "initialize the `ClusterAbundance` object"
   ]
  },
  {
   "cell_type": "code",
   "execution_count": 3,
   "id": "0161d728-016f-4e1e-bb0e-4679cad8a1cb",
   "metadata": {},
   "outputs": [],
   "source": [
    "clc = cl_count.ClusterAbundance()\n",
    "#choose the halo mass function and mass definition\n",
    "massdef = ccl.halos.massdef.MassDef('vir', 'critical', c_m_relation=None)\n",
    "hmd = ccl.halos.hmfunc.MassFuncDespali16(cosmo, mass_def=massdef)\n",
    "clc.set_cosmology(cosmo = cosmo, hmd = hmd, massdef = massdef)\n",
    "clc.sky_area = (0.25)*4*np.pi\n",
    "clc.f_sky = clc.sky_area/4*np.pi"
   ]
  },
  {
   "cell_type": "markdown",
   "id": "9f72e8c9-57d8-473a-a865-41978c33e051",
   "metadata": {},
   "source": [
    "# Binned approach\n",
    "Compute the 2D integral"
   ]
  },
  {
   "cell_type": "markdown",
   "id": "f3c51c0f-f092-4d07-9ccf-b7168627a87d",
   "metadata": {},
   "source": [
    "## model"
   ]
  },
  {
   "cell_type": "markdown",
   "id": "419c30ea-33da-4125-b24a-fcc4d996fb48",
   "metadata": {},
   "source": [
    "$$\n",
    "N_{\\alpha\\beta}^{\\rm predicted} = \\Omega_s\\int_{z_\\alpha}^{z_{\\alpha + 1}} dz\\int_{\\log_{10}M_\\beta}^{\\log_{10}M_{\\beta + 1}}\\frac{d^2V(z)}{dz d\\Omega}\\frac{dn(M,z)}{d\\log_{10}M}d\\log_{10}M\n",
    "$$"
   ]
  },
  {
   "cell_type": "markdown",
   "id": "10e4885c-3808-477b-b7ea-c4d927630eeb",
   "metadata": {},
   "source": [
    "define mass & redshift binning"
   ]
  },
  {
   "cell_type": "code",
   "execution_count": 4,
   "id": "226eab23-2904-4655-ad98-f1062a3320d7",
   "metadata": {},
   "outputs": [],
   "source": [
    "z_corner = np.linspace(0.25, 1.25, 10)\n",
    "logm_corner = np.linspace(14, 14.8, 10)\n",
    "def binning(corner): return [[corner[i],corner[i+1]] for i in range(len(corner)-1)]\n",
    "Z_bin = binning(z_corner)\n",
    "logMass_bin = binning(logm_corner)"
   ]
  },
  {
   "cell_type": "code",
   "execution_count": 5,
   "id": "d9fe64e5-87b2-47e1-9520-80f9c0e204c9",
   "metadata": {},
   "outputs": [],
   "source": [
    "#define redshift-mass grid\n",
    "z_grid = np.linspace(0., 3, 300)\n",
    "logm_grid = np.linspace(12,16, 300)"
   ]
  },
  {
   "cell_type": "markdown",
   "id": "0763810d-9a1d-4d37-b650-72f0b7ad066a",
   "metadata": {},
   "source": [
    "`simps`"
   ]
  },
  {
   "cell_type": "markdown",
   "id": "74a7feec-9e6e-44a4-aa15-56642b764599",
   "metadata": {},
   "source": [
    "### Abundance prediction"
   ]
  },
  {
   "cell_type": "code",
   "execution_count": 6,
   "id": "00c346f8-ce9a-4152-a1a3-7528f1c0e5f9",
   "metadata": {},
   "outputs": [
    {
     "name": "stdout",
     "output_type": "stream",
     "text": [
      "time (seconds) = 0.3289761543273926\n"
     ]
    }
   ],
   "source": [
    "t0 = time.time()\n",
    "clc.compute_multiplicity_grid_MZ(z_grid = z_grid, logm_grid = logm_grid)\n",
    "Abundance_simps = clc.Cluster_Abundance_MZ(Redshift_bin = Z_bin, Proxy_bin = logMass_bin, method = 'simps')\n",
    "t1 = time.time()\n",
    "print('time (seconds) = ' + str(t1-t0))\n",
    "time_simps = t1-t0"
   ]
  },
  {
   "cell_type": "markdown",
   "id": "afa14c5e-4d2e-4560-9127-4dc526df999d",
   "metadata": {},
   "source": [
    "### Sample covariance"
   ]
  },
  {
   "cell_type": "code",
   "execution_count": 7,
   "id": "b0f1d21e-6bf9-4c91-af0d-7dae4ff95d68",
   "metadata": {},
   "outputs": [],
   "source": [
    "halobais_model = ccl.halos.hbias.HaloBiasTinker10(cosmo, mass_def=massdef, mass_def_strict=True)\n",
    "clc.compute_halo_bias_grid_MZ(z_grid = z_grid, logm_grid = logm_grid, halobiais = halobais_model)\n",
    "Binned_halo_bias = clc.halo_bias_MZ(Redshift_bin = Z_bin, Proxy_bin = logMass_bin, N_th = Abundance_simps)\n",
    "sample_covariance = clc.sample_covariance_MZ(Z_bin, logMass_bin, Abundance_simps, Binned_halo_bias)"
   ]
  },
  {
   "cell_type": "markdown",
   "id": "93728cef-e6f0-49ae-8223-61a58abf80e2",
   "metadata": {},
   "source": [
    "### Shot noise"
   ]
  },
  {
   "cell_type": "code",
   "execution_count": 8,
   "id": "a53db01a-719a-483f-9e06-0d2acc939612",
   "metadata": {},
   "outputs": [],
   "source": [
    "shot_noise_variance = np.diag(Abundance_simps.flatten())"
   ]
  },
  {
   "cell_type": "code",
   "execution_count": 9,
   "id": "a1af800f-5984-4e7b-b697-723d661f8c35",
   "metadata": {},
   "outputs": [],
   "source": [
    "covariance = sample_covariance + shot_noise_variance"
   ]
  },
  {
   "cell_type": "markdown",
   "id": "ee29674b-8e29-49bd-a7d7-4fea40dafec1",
   "metadata": {},
   "source": [
    "## data"
   ]
  },
  {
   "cell_type": "code",
   "execution_count": 10,
   "id": "a20add84-27da-44cf-ade0-26fec03a4b76",
   "metadata": {},
   "outputs": [],
   "source": [
    "x_th_SV = np.random.multivariate_normal(Abundance_simps.flatten(), sample_covariance)"
   ]
  },
  {
   "cell_type": "code",
   "execution_count": 11,
   "id": "f1fe0074-08e9-4b2c-82cf-0aab0e619a7f",
   "metadata": {},
   "outputs": [],
   "source": [
    "N_obs = np.random.poisson(lam=x_th_SV)"
   ]
  },
  {
   "cell_type": "code",
   "execution_count": 12,
   "id": "d816a262-d1aa-4a11-a422-4ab47d51f07e",
   "metadata": {},
   "outputs": [],
   "source": [
    "delta_map = x_th_SV"
   ]
  },
  {
   "cell_type": "markdown",
   "id": "cb36f0bf-130c-4d93-a0c1-31c869ebbf31",
   "metadata": {},
   "source": [
    "## Likelihood"
   ]
  },
  {
   "cell_type": "code",
   "execution_count": 13,
   "id": "98d7b656-15c0-4fb7-baa5-b590170b957d",
   "metadata": {},
   "outputs": [
    {
     "name": "stdout",
     "output_type": "stream",
     "text": [
      "The autoreload extension is already loaded. To reload it, use:\n",
      "  %reload_ext autoreload\n"
     ]
    }
   ],
   "source": [
    "%load_ext autoreload\n",
    "%autoreload 2\n",
    "sys.path.append('/pbs/throng/lsst/users/cpayerne/GitForThesis/DC2Analysis/modeling/')\n",
    "import CL_COUNT_class_likelihood as lnL"
   ]
  },
  {
   "cell_type": "code",
   "execution_count": 14,
   "id": "34f2c401-499c-4a5b-bb76-c6813c6fa64f",
   "metadata": {},
   "outputs": [],
   "source": [
    "Likelihood = lnL.Likelihood()"
   ]
  },
  {
   "cell_type": "markdown",
   "id": "d49459ee-27d8-48e2-8622-6b2a66dd4f4f",
   "metadata": {},
   "source": [
    "### Binned Poisson/Gaussian Mixture (diagonal covariance matrix)"
   ]
  },
  {
   "cell_type": "markdown",
   "id": "86fb5490-a818-4c06-9b1c-d5a912c635d0",
   "metadata": {},
   "source": [
    "$L = \\prod_i^N\\int dx_i \\mathcal{P}(\\widehat{N}_i| x_i)\\times \\mathcal{G}(x_i|\\mu_i, \\sigma_{SV,i}^2)$"
   ]
  },
  {
   "cell_type": "code",
   "execution_count": 15,
   "id": "03ce0e08-805c-4fe4-9fae-ce50fe183a1c",
   "metadata": {},
   "outputs": [
    {
     "name": "stdout",
     "output_type": "stream",
     "text": [
      "-412.24036518574445\n"
     ]
    }
   ],
   "source": [
    "lnL_Binned_MPG_diagonal = Likelihood.lnLikelihood_Binned_MPG_diagonal(Abundance_simps.flatten(), N_obs, sample_covariance.diagonal())\n",
    "print(Likelihood.lnL_Binned_MPG_diagonal)"
   ]
  },
  {
   "cell_type": "markdown",
   "id": "06297fd3-2eec-4788-9b66-06632528464e",
   "metadata": {},
   "source": [
    "### Binned Poisson/Gaussian Mixture (estimator, full covariance matrix)"
   ]
  },
  {
   "cell_type": "markdown",
   "id": "c4bcfa73-20d4-4104-a148-3812b84dad10",
   "metadata": {},
   "source": [
    "$L = \\int d\\vec{x} \\prod_i^N\\mathcal{P}(\\widehat{N}_i| x_i)\\times \\mathcal{G}(\\vec{x}|\\vec{\\mu}, \\Sigma_{SV}) \\rightarrow \\widehat{L} = \\frac{1}{N_{sample}} \\sum_{j= 1}^{N_{sample}}\\prod_i^N\\mathcal{P}(\\widehat{N}_i| x_{i,j}) $\n",
    "\n",
    "where $x_{i,j}$ is the $j-$th random realisation of the $i-$th cluster abundance bin, following the Gaussian distribution $\\mathcal{G}(.|\\vec{\\mu}, \\Sigma_{SV})$ "
   ]
  },
  {
   "cell_type": "code",
   "execution_count": 16,
   "id": "eed31983-26d3-4709-aa29-c8e83c9b2c8c",
   "metadata": {},
   "outputs": [
    {
     "name": "stdout",
     "output_type": "stream",
     "text": [
      "-413.0132969271447\n"
     ]
    }
   ],
   "source": [
    "lnL_Binned_MPG_delta = Likelihood.lnLikelihood_Binned_MPG_delta(Abundance_simps.flatten(), N_obs, sample_covariance)\n",
    "print(Likelihood.lnL_Binned_MPG_delta)"
   ]
  },
  {
   "cell_type": "markdown",
   "id": "e34a5b69-a9af-40e9-a000-83ecbccd074c",
   "metadata": {},
   "source": [
    "### Binned Poisson/Gaussian Mixture (approximation)"
   ]
  },
  {
   "cell_type": "code",
   "execution_count": 17,
   "id": "febac38d-05c4-4c04-bb54-73dc160c9c3b",
   "metadata": {},
   "outputs": [
    {
     "name": "stdout",
     "output_type": "stream",
     "text": [
      "-411.9733771856497\n"
     ]
    }
   ],
   "source": [
    "lnL_Binned_MPG_approx = Likelihood.lnLikelihood_Binned_MPG_approx(Abundance_simps.flatten(), N_obs, sample_covariance)\n",
    "print(Likelihood.lnL_Binned_MPG_approx)"
   ]
  },
  {
   "cell_type": "code",
   "execution_count": 18,
   "id": "39135eaa-7922-472b-b1dc-a5865da7df1d",
   "metadata": {},
   "outputs": [
    {
     "data": {
      "text/plain": [
       "[<matplotlib.lines.Line2D at 0x7fbcf0fbfed0>]"
      ]
     },
     "execution_count": 18,
     "metadata": {},
     "output_type": "execute_result"
    },
    {
     "data": {
      "image/png": "[encoded data removed]",
      "text/plain": [
       "<Figure size 432x288 with 1 Axes>"
      ]
     },
     "metadata": {
      "needs_background": "light"
     },
     "output_type": "display_data"
    }
   ],
   "source": [
    "N = np.arange(10)\n",
    "P = np.zeros(len(N))\n",
    "for i,n in enumerate(N):\n",
    "    Likelihood.lnLikelihood_Binned_MPG_approx(np.array([7]),np.array([n]), np.array([.1]))\n",
    "    P[i] = np.exp(Likelihood.lnL_Binned_MPG_approx)\n",
    "plt.plot(N, P)"
   ]
  },
  {
   "cell_type": "markdown",
   "id": "ac710cb5-e355-459e-a757-096c1222911d",
   "metadata": {},
   "source": [
    "### Binned Gaussian"
   ]
  },
  {
   "cell_type": "markdown",
   "id": "2d989a38-d7ce-4ca2-a3b1-d267af6cd65a",
   "metadata": {},
   "source": [
    "$L = \\mathcal{G}(\\vec{\\widehat{N}}|\\vec{\\mu}, \\Sigma_{SV})$"
   ]
  },
  {
   "cell_type": "code",
   "execution_count": 19,
   "id": "584d6a3a-b300-4e54-b073-39e344f59783",
   "metadata": {},
   "outputs": [
    {
     "name": "stdout",
     "output_type": "stream",
     "text": [
      "-39.51701489855843\n"
     ]
    }
   ],
   "source": [
    "lnL_Binned_Gaussian = Likelihood.lnLikelihood_Binned_Gaussian(Abundance_simps, N_obs.reshape(len(Z_bin), len(logMass_bin)), covariance)\n",
    "print(Likelihood.lnL_Binned_Gaussian)"
   ]
  },
  {
   "cell_type": "markdown",
   "id": "56a8e3f9-f60d-486d-b435-cfd7f7749ddc",
   "metadata": {},
   "source": [
    "### Binned Poisson"
   ]
  },
  {
   "cell_type": "markdown",
   "id": "3c9e8551-8f79-497d-b63a-95cc1aad0e58",
   "metadata": {},
   "source": [
    "$L = \\prod_i^N\\mathcal{P}(\\widehat{N}_i| \\mu_i)$"
   ]
  },
  {
   "cell_type": "code",
   "execution_count": 20,
   "id": "0c23079a-53d5-4941-9fd0-94f104cd4962",
   "metadata": {},
   "outputs": [
    {
     "name": "stdout",
     "output_type": "stream",
     "text": [
      "1774360.1881460054\n"
     ]
    }
   ],
   "source": [
    "lnL_Binned_Poissonian = Likelihood.lnLikelihood_Binned_Poissonian(Abundance_simps, N_obs.reshape(len(Z_bin), len(logMass_bin)))\n",
    "print(Likelihood.lnL_Binned_Poissonian)"
   ]
  },
  {
   "cell_type": "markdown",
   "id": "d4d5fe08-b62d-445c-b54b-ca4758cb3567",
   "metadata": {},
   "source": [
    "# Unbinned Approach"
   ]
  },
  {
   "cell_type": "markdown",
   "id": "c298b6b8-01ca-4ba9-882b-9d0f7fe3788c",
   "metadata": {},
   "source": [
    "## data"
   ]
  },
  {
   "cell_type": "code",
   "execution_count": 21,
   "id": "da447c1b-5f5a-4ee3-9adb-5a224cd2cd81",
   "metadata": {},
   "outputs": [],
   "source": [
    "#Generate mass, redshift catalog\n",
    "n_cluster = 100000\n",
    "redshift, M200c = np.random.random(n_cluster)*(1 - 0.2) + 0.2, 10**(np.random.random(n_cluster)*(15 - 13) + 13)"
   ]
  },
  {
   "cell_type": "markdown",
   "id": "43c05b56-4a19-4f67-8288-f05b5ee4c595",
   "metadata": {},
   "source": [
    "## model"
   ]
  },
  {
   "cell_type": "markdown",
   "id": "73548dd0-0e6d-4278-80f6-7f141ff6ce5a",
   "metadata": {},
   "source": [
    "$$\n",
    "\\lambda(m_i, z_i) = \\Omega_s\\frac{d^2V(z_i)}{dz d\\Omega}\\frac{dn(M_i,z_i)}{d\\log_{10}M}\n",
    "$$"
   ]
  },
  {
   "cell_type": "code",
   "execution_count": 22,
   "id": "067e46f8-082f-4aec-b5f3-aef8a9073a21",
   "metadata": {},
   "outputs": [
    {
     "name": "stdout",
     "output_type": "stream",
     "text": [
      "time (seconds) = 0.2156980037689209\n"
     ]
    }
   ],
   "source": [
    "t0 = time.time()\n",
    "clc.compute_multiplicity_grid_MZ(z_grid = z_grid, logm_grid = logm_grid)\n",
    "multiplicity_interp = clc.multiplicity_function_individual_MZ(z = redshift, logm = np.log10(M200c), method = 'interp')\n",
    "t1 = time.time()\n",
    "print('time (seconds) = ' + str(t1-t0))"
   ]
  },
  {
   "cell_type": "code",
   "execution_count": 23,
   "id": "799cd226-b5a2-4a41-9999-7d3ea1a881b3",
   "metadata": {},
   "outputs": [],
   "source": [
    "N_tot = clc.Cluster_Abundance_MZ(Redshift_bin = [[.2, 1]], Proxy_bin = [[13,15]], method = 'simps')[0][0]"
   ]
  },
  {
   "cell_type": "markdown",
   "id": "d95830fc-1c4f-4097-b215-09363002ee9a",
   "metadata": {},
   "source": [
    "## Likelihood"
   ]
  },
  {
   "cell_type": "markdown",
   "id": "ddf16979-cf5c-4ccf-9fa4-78fdb3e1251c",
   "metadata": {},
   "source": [
    "$\\log L = \\sum_i^N \\log\\lambda(m_i, z_i) - N_{tot}$"
   ]
  },
  {
   "cell_type": "code",
   "execution_count": 24,
   "id": "4120da10-9cd2-4053-8119-4ecf2cc6f8ef",
   "metadata": {},
   "outputs": [
    {
     "name": "stdout",
     "output_type": "stream",
     "text": [
      "-4698975.213671311\n"
     ]
    }
   ],
   "source": [
    "Likelihood.lnLikelihood_UnBinned_Poissonian(multiplicity_interp, N_tot)\n",
    "print(Likelihood.lnL_UnBinned_Poissonian)"
   ]
  },
  {
   "cell_type": "code",
   "execution_count": null,
   "id": "6d7efdc8-5622-47ff-9ac9-89a4cfdab429",
   "metadata": {},
   "outputs": [],
   "source": []
  },
  {
   "cell_type": "code",
   "execution_count": null,
   "id": "f880bc28-c66a-4ac2-b96c-032f052c24dd",
   "metadata": {},
   "outputs": [],
   "source": []
  }
 ],
 "metadata": {
  "kernelspec": {
   "display_name": "mydesc",
   "language": "python",
   "name": "mydesc"
  },
  "language_info": {
   "codemirror_mode": {
    "name": "ipython",
    "version": 3
   },
   "file_extension": ".py",
   "mimetype": "text/x-python",
   "name": "python",
   "nbconvert_exporter": "python",
   "pygments_lexer": "ipython3",
   "version": "3.7.6"
  }
 },
 "nbformat": 4,
 "nbformat_minor": 5
}
