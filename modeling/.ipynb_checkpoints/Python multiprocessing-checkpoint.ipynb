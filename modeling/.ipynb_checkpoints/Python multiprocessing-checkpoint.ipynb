{
 "cells": [
  {
   "cell_type": "code",
   "execution_count": 42,
   "id": "d89d12ae-2824-4443-ad43-12d2116c74d1",
   "metadata": {},
   "outputs": [],
   "source": [
    "import numpy as np\n",
    "import multiprocessing as mp\n",
    "from multiprocessing import Pool\n",
    "import time"
   ]
  },
  {
   "cell_type": "code",
   "execution_count": 43,
   "id": "acbf2003-ab5f-49d7-b183-0674ccd474dd",
   "metadata": {},
   "outputs": [],
   "source": [
    "a_list = np.linspace(0, 1, 100)\n",
    "b_list = np.linspace(0, 1, 100)\n",
    "def f(n): return b_list[n]*a_list[n]**2"
   ]
  },
  {
   "cell_type": "code",
   "execution_count": 44,
   "id": "4f352a6f-23ca-49d5-9bff-9c5e1d8dbf12",
   "metadata": {},
   "outputs": [
    {
     "name": "stdout",
     "output_type": "stream",
     "text": [
      "You have 8 CPUs\n",
      "0.0019297599792480469\n"
     ]
    }
   ],
   "source": [
    "import random\n",
    "import multiprocessing\n",
    "ncpu = multiprocessing.cpu_count()\n",
    "print('You have {0:1d} CPUs'.format(ncpu))\n",
    "pool = multiprocessing.pool.ThreadPool(processes=ncpu)   \n",
    "n = 100\n",
    "# parallel map\n",
    "ti = time.time()\n",
    "evaluation = np.array(pool.map(f, np.arange(n)))\n",
    "tf = time.time()\n",
    "print(tf-ti)"
   ]
  },
  {
   "cell_type": "code",
   "execution_count": 45,
   "id": "dfaebdad-bc88-4a61-aae1-53330fd72a93",
   "metadata": {},
   "outputs": [
    {
     "name": "stdout",
     "output_type": "stream",
     "text": [
      "0.0006091594696044922\n"
     ]
    }
   ],
   "source": [
    "res = []\n",
    "ti = time.time()\n",
    "for n_ in np.arange(n): res.append(f(n_))\n",
    "tf = time.time()\n",
    "print(tf-ti)"
   ]
  },
  {
   "cell_type": "code",
   "execution_count": 46,
   "id": "617b0cc8-61ea-4b2f-a69f-197d556f69bc",
   "metadata": {},
   "outputs": [
    {
     "data": {
      "text/plain": [
       "(100,)"
      ]
     },
     "execution_count": 46,
     "metadata": {},
     "output_type": "execute_result"
    }
   ],
   "source": [
    "evaluation.shape"
   ]
  },
  {
   "cell_type": "code",
   "execution_count": null,
   "id": "f282ef05-2b16-4d59-a5d4-2ce6bb70931b",
   "metadata": {},
   "outputs": [],
   "source": []
  }
 ],
 "metadata": {
  "kernelspec": {
   "display_name": "mydesc",
   "language": "python",
   "name": "mydesc"
  },
  "language_info": {
   "codemirror_mode": {
    "name": "ipython",
    "version": 3
   },
   "file_extension": ".py",
   "mimetype": "text/x-python",
   "name": "python",
   "nbconvert_exporter": "python",
   "pygments_lexer": "ipython3",
   "version": "3.7.6"
  }
 },
 "nbformat": 4,
 "nbformat_minor": 5
}
