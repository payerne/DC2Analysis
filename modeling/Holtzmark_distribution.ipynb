{
 "cells": [
  {
   "cell_type": "code",
   "execution_count": 1,
   "id": "14b4ec05-e583-4781-ad7b-c3005e5853ad",
   "metadata": {},
   "outputs": [],
   "source": [
    "import numpy as np\n",
    "import matplotlib.pyplot as plt"
   ]
  },
  {
   "cell_type": "code",
   "execution_count": 2,
   "id": "ba00bf8e-0121-4ddf-82e2-1b253fa3f937",
   "metadata": {},
   "outputs": [],
   "source": [
    "n = np.arange(10)+1"
   ]
  },
  {
   "cell_type": "code",
   "execution_count": 8,
   "id": "ca66c8f4-bc8b-4cb4-a1d9-956dbdc259dd",
   "metadata": {},
   "outputs": [
    {
     "data": {
      "text/plain": [
       "<matplotlib.legend.Legend at 0x7fad4a7ef210>"
      ]
     },
     "execution_count": 8,
     "metadata": {},
     "output_type": "execute_result"
    },
    {
     "data": {
      "image/png": "[encoded data removed]",
      "text/plain": [
       "<Figure size 720x360 with 2 Axes>"
      ]
     },
     "metadata": {
      "needs_background": "light"
     },
     "output_type": "display_data"
    }
   ],
   "source": [
    "fig, ax = plt.subplots(1, 2, figsize = (10,5), sharey = True, sharex = True)\n",
    "import matplotlib.pylab as pl\n",
    "plt.subplots_adjust(wspace=0, hspace=0)\n",
    "dimension = np.arange(5) + 2\n",
    "colors = ['r', 'orange', 'cyan', 'b', 'k']\n",
    "linestyle = ['--', '-']\n",
    "ax[0].title\n",
    "for j, d in enumerate(dimension):\n",
    "    for i, k in enumerate([1,2]):\n",
    "        y = n-(d-1)*k/d\n",
    "        mask_positive = y > 0\n",
    "        ax[i].scatter(n[mask_positive], y[mask_positive], label = f'{d}', color = colors[j])\n",
    "        ax[i].scatter(n[np.invert(mask_positive)], -y[np.invert(mask_positive)], marker = 'x', color = colors[j], s = 80)\n",
    "ax[0].plot(n, 0*n, 'k')\n",
    "ax[1].plot(n, 0*n, 'k')\n",
    "ax[1].loglog()\n",
    "ax[1].legend(loc = 'lower right')"
   ]
  },
  {
   "cell_type": "code",
   "execution_count": null,
   "id": "271533c2-49fb-4188-8961-c60e264d91e1",
   "metadata": {},
   "outputs": [],
   "source": []
  },
  {
   "cell_type": "code",
   "execution_count": null,
   "id": "8076ebff-900f-456b-a55f-c3b053bc0c81",
   "metadata": {},
   "outputs": [],
   "source": []
  }
 ],
 "metadata": {
  "kernelspec": {
   "display_name": "mydesc",
   "language": "python",
   "name": "mydesc"
  },
  "language_info": {
   "codemirror_mode": {
    "name": "ipython",
    "version": 3
   },
   "file_extension": ".py",
   "mimetype": "text/x-python",
   "name": "python",
   "nbconvert_exporter": "python",
   "pygments_lexer": "ipython3",
   "version": "3.7.6"
  }
 },
 "nbformat": 4,
 "nbformat_minor": 5
}
