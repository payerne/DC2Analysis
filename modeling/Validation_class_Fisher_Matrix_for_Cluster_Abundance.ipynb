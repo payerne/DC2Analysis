{
 "cells": [
  {
   "cell_type": "code",
   "execution_count": 1,
   "id": "3a35d03b-2e16-4d51-9cdf-cff559d5aba6",
   "metadata": {},
   "outputs": [],
   "source": [
    "%load_ext autoreload\n",
    "%autoreload 2\n",
    "import pyccl as ccl\n",
    "import CL_COUNT_Fisher_Matrix as fm\n",
    "import CL_COUNT_class_cluster_abundance as cl_count\n",
    "import matplotlib.pyplot as plt\n",
    "import numpy as np\n",
    "def binning(corner): return [[corner[i],corner[i+1]] for i in range(len(corner)-1)]"
   ]
  },
  {
   "cell_type": "markdown",
   "id": "ce682b0d-43ec-4444-a544-08717879541c",
   "metadata": {},
   "source": [
    "# True cosmology"
   ]
  },
  {
   "cell_type": "code",
   "execution_count": 2,
   "id": "94006fd6-7815-4697-be9b-6cf287667ea7",
   "metadata": {},
   "outputs": [],
   "source": [
    "Omega_c_true = 0.30711 - 0.048254\n",
    "Omega_b_true = 0.048254\n",
    "sigma8_true = .8288\n",
    "Omegam_true = 0.30711\n",
    "True_value = [Omega_c_true + Omega_b_true, sigma8_true]\n",
    "cosmo_true = ccl.Cosmology(Omega_c = Omega_c_true, Omega_b = Omega_b_true, h = 0.6777, sigma8 = sigma8_true, n_s=0.96)"
   ]
  },
  {
   "cell_type": "markdown",
   "id": "bfa6fec4-7f05-4c12-b978-426f7456fc75",
   "metadata": {},
   "source": [
    "# Define Mass-redshift binning"
   ]
  },
  {
   "cell_type": "code",
   "execution_count": 3,
   "id": "a19ac754-1ce6-483d-95f8-7a64661fda47",
   "metadata": {},
   "outputs": [],
   "source": [
    "n_logm_bin = 5\n",
    "n_z_bin = 5\n",
    "logm_corner = np.linspace(14, 15, n_logm_bin + 1)\n",
    "logMass_bin = binning(logm_corner)\n",
    "z_corner = np.linspace(0.1,2, n_z_bin + 1)\n",
    "Z_bin = binning(z_corner)"
   ]
  },
  {
   "cell_type": "markdown",
   "id": "db74549c-919f-485f-baac-c78766f83eb7",
   "metadata": {},
   "source": [
    "# Define Fisher Matrix Object"
   ]
  },
  {
   "cell_type": "code",
   "execution_count": 4,
   "id": "950d91f8-a3da-4106-9349-8ae099bd0d0e",
   "metadata": {},
   "outputs": [],
   "source": [
    "FM = fm.Fisher_Matrix(cosmo_true)"
   ]
  },
  {
   "cell_type": "markdown",
   "id": "0f98677b-2056-428c-80fe-3626525b38d5",
   "metadata": {},
   "source": [
    "## Initialize CLusterAbundance object"
   ]
  },
  {
   "cell_type": "code",
   "execution_count": 5,
   "id": "5d9bec20-5fe2-46bd-a9ae-da59a910b4ce",
   "metadata": {},
   "outputs": [],
   "source": [
    "FM.set_ClusterAbundance_Object(f_sky = .25)"
   ]
  },
  {
   "cell_type": "markdown",
   "id": "bb5d84f8-2e1e-4152-90d6-dd0fec398b08",
   "metadata": {},
   "source": [
    "## Compute true quantities (N, covariances, halo baises, etc.)"
   ]
  },
  {
   "cell_type": "code",
   "execution_count": 6,
   "id": "4648e967-524e-4a0d-bec4-819e73e65967",
   "metadata": {},
   "outputs": [],
   "source": [
    "FM.set_cosmo_definitions(cosmo_true)\n",
    "FM.compute_grid(bais = True)\n",
    "Abundance_true = FM.model_Binned_Nth(Z_bin, logMass_bin, cosmo_true)\n",
    "Halo_bias_true = FM.CA.halo_bias_MZ(Redshift_bin = Z_bin, Proxy_bin = logMass_bin, N_th = Abundance_true)\n",
    "cov_SSC_true = FM.CA.sample_covariance_MZ(Z_bin, logMass_bin, Abundance_true, Halo_bias_true)\n",
    "cov_Shot_Noise_true = np.diag(Abundance_true.flatten())"
   ]
  },
  {
   "cell_type": "markdown",
   "id": "1c4f9e05-de59-4ba4-b5a5-875af8e209cf",
   "metadata": {},
   "source": [
    "# Binned Gaussian, Binned Gaussian (diagonal covariance), Binned Poissonian"
   ]
  },
  {
   "cell_type": "code",
   "execution_count": 7,
   "id": "88e5e803-12c5-4c56-bee2-342ecd296b75",
   "metadata": {},
   "outputs": [],
   "source": [
    "cPoiss, cGauss_diag, cGauss = FM.Fisher_matrix_binned(Z_bin, logMass_bin, cosmo_true, Abundance_true.flatten(), cov_SSC_true, cov_Shot_Noise_true)"
   ]
  },
  {
   "cell_type": "markdown",
   "id": "45d8890c-1614-4816-b2fe-b201e02467a9",
   "metadata": {},
   "source": [
    "# Unbinned Poissonian"
   ]
  },
  {
   "cell_type": "code",
   "execution_count": null,
   "id": "b14b46d4-a27e-403e-8dae-de19dd62c8b4",
   "metadata": {},
   "outputs": [],
   "source": [
    "cUnbinned = FM.Fisher_matrix_unbinned_Poissonian([0.1, 2], [14, 15], cosmo_true)"
   ]
  },
  {
   "cell_type": "markdown",
   "id": "9e8ae2a9-4b35-456c-9d60-ffc68c37613a",
   "metadata": {},
   "source": [
    "# Binned MVP"
   ]
  },
  {
   "cell_type": "code",
   "execution_count": null,
   "id": "150aefc9-f9f5-4a45-b079-ae15f41327bb",
   "metadata": {},
   "outputs": [],
   "source": [
    "cMVP = FM.Fisher_matrix_Binned_MVP(Z_bin, logMass_bin, cosmo_true, cov_SSC_true)"
   ]
  },
  {
   "cell_type": "markdown",
   "id": "abe224f7-748f-495b-8e72-07f03b8e05cc",
   "metadata": {},
   "source": [
    "# Plot 2-$\\sigma$ contours"
   ]
  },
  {
   "cell_type": "code",
   "execution_count": null,
   "id": "bc69346a-c75a-4cad-a779-28d48f0126d0",
   "metadata": {},
   "outputs": [],
   "source": [
    "fig, ax = plt.subplots(figsize = (7,7))\n",
    "mean = FM.True_value_0m_s8\n",
    "print(mean)\n",
    "from scipy import stats\n",
    "from matplotlib.patches import Ellipse\n",
    "def _make_ellipse(mean, cov, ax, level=0.95, color=None, label = None, ls = '-'):\n",
    "    n_sigma = 2\n",
    "    v, w = np.linalg.eigh(cov)\n",
    "    u = w[0] / np.linalg.norm(w[0])\n",
    "    angle = np.arctan(u[1] / u[0])\n",
    "    angle = 180 * angle / np.pi \n",
    "    ell = Ellipse(mean, 2 * n_sigma * v[0] ** 0.5, 2 * n_sigma * v[1] ** 0.5,\n",
    "                              180 + angle,\n",
    "                              linewidth=2, facecolor = 'none',edgecolor=color, ls = ls)\n",
    "    ax.plot([],[],ls,color = color, label = label)\n",
    "    ax.add_artist(ell)\n",
    "_make_ellipse(mean, cUnbinned, ax, color='b', label = r'Poisson Unbinned', ls = '--')\n",
    "_make_ellipse(mean, cPoiss, ax, color='b', label = r'Poisson Binned', ls = '-')\n",
    "_make_ellipse(mean, cGauss, ax, color='r', label = r'Gaussian Binned', ls = '-')\n",
    "_make_ellipse(mean, cGauss_diag, ax, color='cyan', label = r'Gaussian Binned (diagonal)', ls = '-')\n",
    "_make_ellipse(mean, cMVP, ax, color='g', label = r'MVP Binned', ls = '--')\n",
    "std_Om = 0.0028\n",
    "std_s8 = 0.0018\n",
    "ax.set_xlim(mean[0] - std_Om, mean[0] + std_Om)\n",
    "ax.set_ylim(mean[1] - std_s8, mean[1] + std_s8)\n",
    "ax.vlines(mean[0], 0, 1, color = 'k', linestyle = '--')\n",
    "ax.hlines(mean[1], 0, 1, color = 'k', linestyle = '--')\n",
    "ax.legend(fontsize = 15, frameon = False)\n",
    "ax.tick_params(axis='both', which = 'major', labelsize= 15)\n",
    "parameters = [r'$\\Omega_m$',r'$\\sigma_8$']\n",
    "ax.set_xlabel(parameters[0], fontsize = 30)\n",
    "ax.set_ylabel(parameters[1], fontsize = 30)\n",
    "#plt.savefig('/pbs/throng/lsst/users/cpayerne/ThesisAtCCin2p3/Images/forecast_5times5.pdf', bbox_inches='tight', dpi=300)"
   ]
  },
  {
   "cell_type": "code",
   "execution_count": null,
   "id": "c32d1d95-3d60-452b-855b-044b2852a6cd",
   "metadata": {},
   "outputs": [],
   "source": []
  },
  {
   "cell_type": "code",
   "execution_count": null,
   "id": "6fb2184c-1d35-41e4-983f-02acf3034209",
   "metadata": {},
   "outputs": [],
   "source": []
  }
 ],
 "metadata": {
  "kernelspec": {
   "display_name": "mydesc",
   "language": "python",
   "name": "mydesc"
  },
  "language_info": {
   "codemirror_mode": {
    "name": "ipython",
    "version": 3
   },
   "file_extension": ".py",
   "mimetype": "text/x-python",
   "name": "python",
   "nbconvert_exporter": "python",
   "pygments_lexer": "ipython3",
   "version": "3.7.6"
  }
 },
 "nbformat": 4,
 "nbformat_minor": 5
}
