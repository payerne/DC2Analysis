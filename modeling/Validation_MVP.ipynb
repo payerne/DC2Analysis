{
 "cells": [
  {
   "cell_type": "code",
   "execution_count": 321,
   "metadata": {},
   "outputs": [
    {
     "name": "stdout",
     "output_type": "stream",
     "text": [
      "The autoreload extension is already loaded. To reload it, use:\n",
      "  %reload_ext autoreload\n"
     ]
    }
   ],
   "source": [
    "import numpy as np\n",
    "import matplotlib.pyplot as plt\n",
    "from scipy.optimize import curve_fit\n",
    "import sys\n",
    "from scipy.integrate import quad,simps, dblquad, cumtrapz\n",
    "from chainconsumer import ChainConsumer\n",
    "import pyccl as ccl\n",
    "import time\n",
    "%load_ext autoreload\n",
    "%autoreload 2\n",
    "sys.path.append('/pbs/throng/lsst/users/cpayerne/GitForThesis/DC2Analysis/modeling/')\n",
    "import CL_COUNT_class_cluster_abundance as cl_count\n",
    "import DATAOPS_Fisher_matrix as fisher\n",
    "forecast = fisher.Forecast()"
   ]
  },
  {
   "cell_type": "code",
   "execution_count": 326,
   "metadata": {},
   "outputs": [
    {
     "name": "stdout",
     "output_type": "stream",
     "text": [
      "0.6321205588857143\n",
      "0.0009167194366455078\n",
      "0.6321206116107809\n",
      "0.0005815029144287109\n"
     ]
    }
   ],
   "source": [
    "x = np.linspace(0,1,1000)\n",
    "y = np.exp(-x)\n",
    "t0 = time.time()\n",
    "integer = simps(y, x)\n",
    "print(integer)\n",
    "t1 = time.time()\n",
    "print(t1-t0)\n",
    "t0 = time.time()\n",
    "integer = cumtrapz(y, x)[-1]\n",
    "print(integer)\n",
    "t1 = time.time()\n",
    "print(t1-t0)"
   ]
  },
  {
   "cell_type": "markdown",
   "metadata": {},
   "source": [
    "# Define model"
   ]
  },
  {
   "cell_type": "code",
   "execution_count": 297,
   "metadata": {},
   "outputs": [],
   "source": [
    "#define binning for Binned likelihood\n",
    "z_corner = np.linspace(0.01, 2, 21)\n",
    "logm_corner = np.linspace(14, 15, 6)\n",
    "def binning(corner): return [[corner[i],corner[i+1]] for i in range(len(corner)-1)]\n",
    "Z_bin = binning(z_corner)\n",
    "logMass_bin = binning(logm_corner)"
   ]
  },
  {
   "cell_type": "code",
   "execution_count": 298,
   "metadata": {},
   "outputs": [],
   "source": [
    "#define redshift-mass grid\n",
    "z_grid = np.linspace(0., 3, 1003)\n",
    "logm_grid = np.linspace(12,16, 1000)"
   ]
  },
  {
   "cell_type": "code",
   "execution_count": 299,
   "metadata": {},
   "outputs": [],
   "source": [
    "#Define modeling for cluster abundance\n",
    "CA = cl_count.ClusterAbundance()\n",
    "CA.f_sky = .25\n",
    "CA.sky_area = CA.f_sky*4*np.pi\n",
    "#Omega_c_true = 0.1109/(0.71**2)\n",
    "#Omega_b_true = 0.02258/(0.71**2)\n",
    "Omega_c_true = 0.30711 - 0.048254\n",
    "Omega_b_true = 0.048254\n",
    "sigma8_true = .8288\n",
    "Omegam_true = 0.30711\n",
    "True_value = [Omega_c_true + Omega_b_true, sigma8_true]\n",
    "cosmo_true = ccl.Cosmology(Omega_c = Omega_c_true, Omega_b = Omega_b_true, h = 0.71, sigma8 = sigma8_true, n_s=0.96)\n",
    "True_value = [Omega_c_true + Omega_b_true, sigma8_true]\n",
    "#define mass definition/halo mass function/halo bias\n",
    "massdef = ccl.halos.massdef.MassDef('vir', 'critical', c_m_relation=None)\n",
    "hmd = ccl.halos.MassFuncDespali16(cosmo_true, mass_def=massdef)\n",
    "halobais = ccl.halos.hbias.HaloBiasTinker10(cosmo_true, mass_def=massdef, mass_def_strict=True)\n",
    "CA.set_cosmology(cosmo = cosmo_true, hmd = hmd, massdef = massdef)\n",
    "#calculate interpolated multiplicity function\n",
    "CA.compute_multiplicity_grid_MZ(z_grid = z_grid, logm_grid = logm_grid)\n",
    "#compute predicted cluster abundance in Z_bin and logMass_bin\n",
    "N_th_true_cosmo = CA.Cluster_Abundance_MZ(Redshift_bin = Z_bin, Proxy_bin = logMass_bin, method = 'simps')"
   ]
  },
  {
   "cell_type": "code",
   "execution_count": 300,
   "metadata": {},
   "outputs": [],
   "source": [
    "def model(theta):\n",
    "    Omegab = Omega_b_true\n",
    "    Omegam, sigma8 = theta\n",
    "    cosmo_new = ccl.Cosmology(Omega_c = Omegam - Omegab, Omega_b = Omegab, h = 0.71, sigma8 = sigma8, n_s=0.96)\n",
    "    hmd_new = ccl.halos.MassFuncDespali16(cosmo_new, mass_def=massdef)\n",
    "    CA.set_cosmology(cosmo = cosmo_new, hmd = hmd_new, massdef = massdef)\n",
    "    CA.compute_multiplicity_grid_MZ(z_grid = z_grid, logm_grid = logm_grid)\n",
    "    N_th = CA.Cluster_Abundance_MZ(Redshift_bin = Z_bin, Proxy_bin = logMass_bin, method = 'simps')\n",
    "    return N_th.flatten()"
   ]
  },
  {
   "cell_type": "markdown",
   "metadata": {},
   "source": [
    "# Binned"
   ]
  },
  {
   "cell_type": "markdown",
   "metadata": {},
   "source": [
    "## Poissonian"
   ]
  },
  {
   "cell_type": "code",
   "execution_count": 301,
   "metadata": {},
   "outputs": [],
   "source": [
    "cov_SN_true_cosmo = np.diag(N_th_true_cosmo.flatten())"
   ]
  },
  {
   "cell_type": "markdown",
   "metadata": {},
   "source": [
    "## Poissonian + SSC covariance matrix"
   ]
  },
  {
   "cell_type": "code",
   "execution_count": 302,
   "metadata": {},
   "outputs": [],
   "source": [
    "sys.path.append('/pbs/throng/lsst/users/cpayerne/PySSC/')\n",
    "import PySSC"
   ]
  },
  {
   "cell_type": "code",
   "execution_count": 303,
   "metadata": {},
   "outputs": [],
   "source": [
    "z_arr = np.linspace(.10,2.3,1000)\n",
    "nbins_T   = len(z_corner)-1\n",
    "windows_T = np.zeros((nbins_T,len(z_arr)))\n",
    "for i, z_bin in enumerate(Z_bin):\n",
    "    Dz = z_bin[1]-z_bin[0]\n",
    "    z_arr_cut = z_arr[(z_arr > z_bin[0])*(z_arr < z_bin[1])]\n",
    "    for k, z in enumerate(z_arr):\n",
    "        if ((z>z_bin[0]) and (z<=z_bin[1])):\n",
    "            windows_T[i,k] = 1/Dz"
   ]
  },
  {
   "cell_type": "code",
   "execution_count": 304,
   "metadata": {},
   "outputs": [],
   "source": [
    "Sij = PySSC.Sij(z_arr,windows_T)"
   ]
  },
  {
   "cell_type": "code",
   "execution_count": 305,
   "metadata": {},
   "outputs": [],
   "source": [
    "LogM, Z = np.meshgrid(np.mean(logMass_bin, axis = 1), np.mean(Z_bin, axis = 1))\n",
    "index_LogM, index_Z =  np.meshgrid(np.arange(len(logMass_bin)), np.arange(len(Z_bin)))"
   ]
  },
  {
   "cell_type": "code",
   "execution_count": 306,
   "metadata": {},
   "outputs": [],
   "source": [
    "def SSC(logMass_bin, Z_bin):\n",
    "    len_mat = len(Z_bin)*len(logMass_bin)\n",
    "    cov_SSC = np.zeros([len_mat, len_mat])\n",
    "    for i, Ni in enumerate(N_th_true_cosmo.flatten()):\n",
    "        z_mean_i = Z.flatten()[i]\n",
    "        index_z_i = index_Z.flatten()[i]\n",
    "        logm_mean_i = LogM.flatten()[i]\n",
    "        for j, Nj in enumerate(N_th_true_cosmo.flatten()):\n",
    "            z_mean_j = Z.flatten()[j]\n",
    "            index_z_j = index_Z.flatten()[j]\n",
    "            logm_mean_j = LogM.flatten()[j]\n",
    "            hbi = halobais.get_halo_bias(cosmo_true, 10**logm_mean_i, 1/(1 + z_mean_i), mdef_other = massdef)\n",
    "            hbj = halobais.get_halo_bias(cosmo_true, 10**logm_mean_j, 1/(1 + z_mean_j), mdef_other = massdef)\n",
    "            cov_SSC[i,j] = hbi * hbj * Ni * Nj * Sij[index_z_i,index_z_j]\n",
    "    return cov_SSC/CA.f_sky"
   ]
  },
  {
   "cell_type": "code",
   "execution_count": 307,
   "metadata": {},
   "outputs": [],
   "source": [
    "cov_SSC = SSC(logMass_bin, Z_bin)"
   ]
  },
  {
   "cell_type": "code",
   "execution_count": 308,
   "metadata": {},
   "outputs": [],
   "source": [
    "cov_SN = np.diag(N_th_true_cosmo.flatten())\n",
    "cov_SN_SV = np.diag(N_th_true_cosmo.flatten()) + cov_SSC"
   ]
  },
  {
   "cell_type": "markdown",
   "metadata": {},
   "source": [
    "## MVP"
   ]
  },
  {
   "cell_type": "code",
   "execution_count": 309,
   "metadata": {},
   "outputs": [
    {
     "name": "stdout",
     "output_type": "stream",
     "text": [
      "The autoreload extension is already loaded. To reload it, use:\n",
      "  %reload_ext autoreload\n"
     ]
    }
   ],
   "source": [
    "%load_ext autoreload\n",
    "import pickle\n",
    "%autoreload 2\n",
    "from scipy.stats import poisson\n",
    "import CL_COUNT_MVP_cluster_abundance_prediction as mvp\n",
    "import DATAOPS_Fisher_matrix as fisher"
   ]
  },
  {
   "cell_type": "code",
   "execution_count": 310,
   "metadata": {},
   "outputs": [],
   "source": [
    "N_th_true_cosmo = CA.Cluster_Abundance_MZ(Redshift_bin = Z_bin, Proxy_bin = logMass_bin, method = 'simps').flatten()"
   ]
  },
  {
   "cell_type": "code",
   "execution_count": 177,
   "metadata": {},
   "outputs": [],
   "source": [
    "cov_tot_diag = cov_SN_SV.diagonal()\n",
    "cov_SSC_diag = cov_SSC.diagonal()"
   ]
  },
  {
   "cell_type": "code",
   "execution_count": 178,
   "metadata": {},
   "outputs": [],
   "source": [
    "from scipy.stats import poisson"
   ]
  },
  {
   "cell_type": "code",
   "execution_count": 215,
   "metadata": {},
   "outputs": [
    {
     "name": "stdout",
     "output_type": "stream",
     "text": [
      "The autoreload extension is already loaded. To reload it, use:\n",
      "  %reload_ext autoreload\n"
     ]
    }
   ],
   "source": [
    "%load_ext autoreload\n",
    "import pickle\n",
    "%autoreload 2\n",
    "import CL_COUNT_MVP_cluster_abundance_prediction as mvp\n",
    "import DATAOPS_Fisher_matrix as fisher"
   ]
  },
  {
   "cell_type": "code",
   "execution_count": 180,
   "metadata": {},
   "outputs": [],
   "source": [
    "def ln_P_mvp_grid(theta):\n",
    "    Omegab = Omega_b_true\n",
    "    Omegam, sigma8 = theta\n",
    "    cosmo_new = ccl.Cosmology(Omega_c = Omegam - Omegab, Omega_b = Omegab, h = 0.71, sigma8 = sigma8, n_s=0.96)\n",
    "    hmd_new = ccl.halos.MassFuncDespali16(cosmo_new, mass_def=massdef)\n",
    "    CA.set_cosmology(cosmo = cosmo_new, hmd = hmd_new, massdef = massdef)\n",
    "    CA.compute_multiplicity_grid_MZ(z_grid = z_grid, logm_grid = logm_grid)\n",
    "    N_th = CA.Cluster_Abundance_MZ(Redshift_bin = Z_bin, Proxy_bin = logMass_bin, method = 'simps').flatten()\n",
    "    n_sigma=4\n",
    "    n_max= round(max(N_th_true_cosmo  + n_sigma*np.sqrt(N_th_true_cosmo + cov_SSC_diag)))\n",
    "    P_mvp_grid_array = np.zeros([len(N_th_true_cosmo), n_max])\n",
    "    for i, nth in enumerate(N_th):\n",
    "        min_ = max(0, round(nth - n_sigma*np.sqrt(nth + cov_SSC_diag[i])))\n",
    "        max_ = min(n_max - 1, round(nth + n_sigma*np.sqrt(nth + cov_SSC_diag[i])))\n",
    "        N_array = np.arange(min_, max_)\n",
    "        P_mvp_grid_array[i,:][N_array] = mvp.P_MVP(N_array = N_array, mu = nth, var = cov_SSC_diag[i], method = 'simps')\n",
    "    return np.log(P_mvp_grid_array)"
   ]
  },
  {
   "cell_type": "code",
   "execution_count": 250,
   "metadata": {},
   "outputs": [],
   "source": [
    "mu = [1]\n",
    "SSC_variance = [.1]"
   ]
  },
  {
   "cell_type": "code",
   "execution_count": 251,
   "metadata": {},
   "outputs": [],
   "source": [
    "mat_res = np.zeros([len(mu), len(SSC_variance)])"
   ]
  },
  {
   "cell_type": "code",
   "execution_count": 280,
   "metadata": {},
   "outputs": [
    {
     "name": "stdout",
     "output_type": "stream",
     "text": [
      "The autoreload extension is already loaded. To reload it, use:\n",
      "  %reload_ext autoreload\n"
     ]
    }
   ],
   "source": [
    "%load_ext autoreload\n",
    "import pickle\n",
    "%autoreload 2\n",
    "import CL_COUNT_MVP_cluster_abundance_prediction as mvp\n",
    "import DATAOPS_Fisher_matrix as fisher"
   ]
  },
  {
   "cell_type": "code",
   "execution_count": 281,
   "metadata": {},
   "outputs": [
    {
     "name": "stdout",
     "output_type": "stream",
     "text": [
      "[9.71319112e-01 2.43497397e-02 4.74360410e-04 7.73608730e-06\n",
      " 1.09470528e-07]\n",
      "[7.55557484e-01 1.91491926e-01 3.76575855e-02 6.23913523e-03\n",
      " 9.03628229e-04 1.16852220e-04 1.36743759e-05]\n"
     ]
    },
    {
     "name": "stderr",
     "output_type": "stream",
     "text": [
      "/pbs/throng/lsst/users/cpayerne/GitForThesis/DC2Analysis/modeling/CL_COUNT_MVP_cluster_abundance_prediction.py:70: IntegrationWarning: The occurrence of roundoff error is detected, which prevents \n",
      "  the requested tolerance from being achieved.  The error may be \n",
      "  underestimated.\n",
      "  return np.array(P_MVP)/K\n",
      "/pbs/throng/lsst/users/cpayerne/GitForThesis/DC2Analysis/modeling/CL_COUNT_MVP_cluster_abundance_prediction.py:70: IntegrationWarning: The occurrence of roundoff error is detected, which prevents \n",
      "  the requested tolerance from being achieved.  The error may be \n",
      "  underestimated.\n",
      "  return np.array(P_MVP)/K\n",
      "/pbs/throng/lsst/users/cpayerne/GitForThesis/DC2Analysis/modeling/CL_COUNT_MVP_cluster_abundance_prediction.py:70: IntegrationWarning: The occurrence of roundoff error is detected, which prevents \n",
      "  the requested tolerance from being achieved.  The error may be \n",
      "  underestimated.\n",
      "  return np.array(P_MVP)/K\n",
      "/pbs/throng/lsst/users/cpayerne/GitForThesis/DC2Analysis/modeling/CL_COUNT_MVP_cluster_abundance_prediction.py:70: IntegrationWarning: The maximum number of subdivisions (50) has been achieved.\n",
      "  If increasing the limit yields no improvement it is advised to analyze \n",
      "  the integrand in order to determine the difficulties.  If the position of a \n",
      "  local difficulty can be determined (singularity, discontinuity) one will \n",
      "  probably gain from splitting up the interval and calling the integrator \n",
      "  on the subranges.  Perhaps a special-purpose integrator should be used.\n",
      "  return np.array(P_MVP)/K\n"
     ]
    },
    {
     "name": "stdout",
     "output_type": "stream",
     "text": [
      "[2.93696698e-03 8.39574464e-03 1.68390665e-02 2.83543182e-02\n",
      " 4.21448919e-02 5.67134149e-02 7.02417095e-02 8.10186694e-02\n",
      " 8.78008608e-02 9.00179767e-02 8.77954683e-02 8.18249713e-02\n",
      " 7.31473771e-02 6.29190315e-02 5.22157585e-02 4.19039708e-02\n",
      " 3.25836348e-02 2.45906882e-02 1.80384635e-02 1.28772830e-02\n",
      " 8.95571966e-03 6.07310370e-03 4.01857825e-03 2.59625027e-03\n",
      " 1.63849527e-03 1.01050736e-03 6.09210084e-04 3.59119692e-04\n",
      " 2.07036618e-04 1.16752985e-04 6.44124087e-05 3.47707858e-05\n",
      " 1.83680795e-05]\n"
     ]
    },
    {
     "data": {
      "image/png": "[encoded data removed]",
      "text/plain": [
       "<Figure size 432x288 with 1 Axes>"
      ]
     },
     "metadata": {
      "needs_background": "light"
     },
     "output_type": "display_data"
    }
   ],
   "source": [
    "mu = np.logspace(-3,1,3)\n",
    "SSC_variance = np.logspace(-3,1,3)\n",
    "n_max = round(1e6)\n",
    "for mu_, SSC_variance_ in zip(mu, SSC_variance):\n",
    "    nth = mu_\n",
    "    n_sigma = 4\n",
    "    min_ = max(0, round(nth - n_sigma*np.sqrt(nth + SSC_variance_)))\n",
    "    max_ = min(n_max - 1, round(nth + n_sigma*np.sqrt(nth + SSC_variance_)) + 5)\n",
    "    N_array = np.arange(min_, max_)\n",
    "    p_simps = mvp.P_MVP(N_array = N_array, mu = nth, var = SSC_variance_, method = 'simps')\n",
    "    p_simps = p_simps\n",
    "    p_true = mvp.P_MVP(N_array = N_array, mu = nth, var = SSC_variance_, method = 'quad_interp')\n",
    "    p_true = p_true\n",
    "    print(p_simps)\n",
    "    #plt.plot(N_array, 100*(p_true - p_simps)/p_true)\n",
    "    plt.plot(N_array, 100*(p_simps-p_true)/p_true)\n",
    "#plt.plot(N_array, p_true)\n",
    "    #print(p_true)\n",
    "#plt.plot(N_array, 100*(p_true-p_simps)/p_true)\n",
    "  #  plt.loglog()\n",
    "    #plt.yscale('log')"
   ]
  },
  {
   "cell_type": "code",
   "execution_count": null,
   "metadata": {},
   "outputs": [],
   "source": []
  },
  {
   "cell_type": "markdown",
   "metadata": {},
   "source": [
    "# fisher matrix"
   ]
  },
  {
   "cell_type": "markdown",
   "metadata": {},
   "source": [
    "## using second derivative"
   ]
  },
  {
   "cell_type": "code",
   "execution_count": null,
   "metadata": {},
   "outputs": [],
   "source": [
    "ln_P = ln_P_mvp_grid(True_value)"
   ]
  },
  {
   "cell_type": "code",
   "execution_count": 125,
   "metadata": {},
   "outputs": [
    {
     "name": "stdout",
     "output_type": "stream",
     "text": [
      "(2, 2, 100, 17877)\n"
     ]
    },
    {
     "name": "stderr",
     "output_type": "stream",
     "text": [
      "/pbs/home/c/cpayerne/.conda/envs/mydesc/lib/python3.7/site-packages/ipykernel_launcher.py:17: RuntimeWarning: divide by zero encountered in log\n",
      "/pbs/throng/lsst/users/cpayerne/GitForThesis/DC2Analysis/modeling/DATAOPS_Fisher_matrix.py:55: RuntimeWarning: invalid value encountered in subtract\n",
      "  2*model(theta) + \\\n",
      "/pbs/throng/lsst/users/cpayerne/GitForThesis/DC2Analysis/modeling/DATAOPS_Fisher_matrix.py:56: RuntimeWarning: invalid value encountered in add\n",
      "  model(theta-delta_i))/delta**2\n",
      "/pbs/throng/lsst/users/cpayerne/GitForThesis/DC2Analysis/modeling/DATAOPS_Fisher_matrix.py:60: RuntimeWarning: invalid value encountered in subtract\n",
      "  model(theta-delta_i+delta_j) + \\\n",
      "/pbs/throng/lsst/users/cpayerne/GitForThesis/DC2Analysis/modeling/DATAOPS_Fisher_matrix.py:61: RuntimeWarning: invalid value encountered in add\n",
      "  model(theta-delta_i-delta_j))/(4*delta**2)\n"
     ]
    }
   ],
   "source": [
    "forecast = fisher.Forecast()\n",
    "second_derivative_ln_P = forecast.second_derivative(True_value, ln_P_mvp_grid, ln_P.shape, delta = 1e-5)"
   ]
  },
  {
   "cell_type": "code",
   "execution_count": 126,
   "metadata": {},
   "outputs": [],
   "source": [
    "second_derivative_ln_P = np.where(np.invert(np.isnan(second_derivative_ln_P)), second_derivative_ln_P, 0)"
   ]
  },
  {
   "cell_type": "code",
   "execution_count": 152,
   "metadata": {},
   "outputs": [],
   "source": [
    "Fisher_matrix_second_derivative = np.zeros([2,2])\n",
    "for i in range(2):\n",
    "    for j in range(2):\n",
    "        res = 0\n",
    "        for k in range(100):\n",
    "            #plt.plot(np.exp(ln_P[k]) * second_derivative_ln_P[i,j][k])\n",
    "            mask_finite = np.isfinite(second_derivative_ln_P[i,j][k])\n",
    "            p = np.exp(ln_P[k][mask_finite])/np.sum(np.exp(ln_P[k][mask_finite]))\n",
    "            res = res + np.sum(p * second_derivative_ln_P[i,j][k][mask_finite])\n",
    "        Fisher_matrix_second_derivative[i,j] = -res"
   ]
  },
  {
   "cell_type": "code",
   "execution_count": 153,
   "metadata": {},
   "outputs": [
    {
     "data": {
      "text/plain": [
       "array([[2558088.305377  , 4163336.40514782],\n",
       "       [4163336.40514782, 9076957.20039105]])"
      ]
     },
     "execution_count": 153,
     "metadata": {},
     "output_type": "execute_result"
    }
   ],
   "source": [
    "Fisher_matrix_second_derivative"
   ]
  },
  {
   "cell_type": "code",
   "execution_count": 154,
   "metadata": {},
   "outputs": [],
   "source": [
    "cov_second_derivative = np.linalg.inv(Fisher_matrix_second_derivative)"
   ]
  },
  {
   "cell_type": "code",
   "execution_count": 155,
   "metadata": {},
   "outputs": [
    {
     "data": {
      "text/plain": [
       "array([[ 1.54205114e-06, -7.07294033e-07],\n",
       "       [-7.07294033e-07,  4.34584289e-07]])"
      ]
     },
     "execution_count": 155,
     "metadata": {},
     "output_type": "execute_result"
    }
   ],
   "source": [
    "cov_second_derivative "
   ]
  },
  {
   "cell_type": "markdown",
   "metadata": {},
   "source": [
    "# using first derivative"
   ]
  },
  {
   "cell_type": "code",
   "execution_count": 144,
   "metadata": {},
   "outputs": [
    {
     "name": "stderr",
     "output_type": "stream",
     "text": [
      "/pbs/home/c/cpayerne/.conda/envs/mydesc/lib/python3.7/site-packages/ipykernel_launcher.py:17: RuntimeWarning: divide by zero encountered in log\n",
      "/pbs/throng/lsst/users/cpayerne/GitForThesis/DC2Analysis/modeling/DATAOPS_Fisher_matrix.py:28: RuntimeWarning: invalid value encountered in subtract\n",
      "  first[i] = (model(theta + delta_i/2) - model(theta - delta_i/2))/delta\n"
     ]
    }
   ],
   "source": [
    "forecast = fisher.Forecast()\n",
    "first_derivative_ln_P = forecast.first_derivative(True_value, ln_P_mvp_grid, ln_P.shape, delta = 1e-5)"
   ]
  },
  {
   "cell_type": "code",
   "execution_count": 145,
   "metadata": {},
   "outputs": [],
   "source": [
    "first_derivative_ln_P = np.where(np.invert(np.isnan(first_derivative_ln_P)), first_derivative_ln_P, 0)"
   ]
  },
  {
   "cell_type": "code",
   "execution_count": 146,
   "metadata": {},
   "outputs": [
    {
     "data": {
      "text/plain": [
       "(2, 100, 17877)"
      ]
     },
     "execution_count": 146,
     "metadata": {},
     "output_type": "execute_result"
    }
   ],
   "source": [
    "first_derivative_ln_P.shape"
   ]
  },
  {
   "cell_type": "code",
   "execution_count": 156,
   "metadata": {},
   "outputs": [],
   "source": [
    "Fisher_matrix_first_derivative = np.zeros([2,2])\n",
    "for i in range(2):\n",
    "    for j in range(2):\n",
    "        res = 0\n",
    "        for k in range(100):\n",
    "            mask_finite = np.isfinite(first_derivative_ln_P[i][k])*np.isfinite(first_derivative_ln_P[j][k])\n",
    "            p = p = np.exp(ln_P[k][mask_finite])/np.sum(np.exp(ln_P[k][mask_finite]))\n",
    "            res = res + np.sum(p * first_derivative_ln_P[i][k][mask_finite]*first_derivative_ln_P[j][k][mask_finite])\n",
    "            if np.sum(np.exp(ln_P[k])) == 0:\n",
    "                plt.plot(np.exp(ln_P[k]))\n",
    "        Fisher_matrix_first_derivative[i,j] = res"
   ]
  },
  {
   "cell_type": "code",
   "execution_count": 157,
   "metadata": {},
   "outputs": [],
   "source": [
    "cov_first_derivative = np.linalg.inv(Fisher_matrix_first_derivative)"
   ]
  },
  {
   "cell_type": "code",
   "execution_count": 158,
   "metadata": {},
   "outputs": [
    {
     "data": {
      "text/plain": [
       "array([[ 1.55841056e-06, -7.14535180e-07],\n",
       "       [-7.14535180e-07,  4.37903328e-07]])"
      ]
     },
     "execution_count": 158,
     "metadata": {},
     "output_type": "execute_result"
    }
   ],
   "source": [
    "cov_first_derivative"
   ]
  },
  {
   "cell_type": "code",
   "execution_count": 159,
   "metadata": {},
   "outputs": [],
   "source": [
    "data_sec = np.random.multivariate_normal(True_value, cov_second_derivative, size=10000)\n",
    "data_first = np.random.multivariate_normal(True_value, cov_first_derivative, size=10000)"
   ]
  },
  {
   "cell_type": "code",
   "execution_count": 160,
   "metadata": {},
   "outputs": [
    {
     "data": {
      "image/png": "[encoded data removed]",
      "text/plain": [
       "<Figure size 576x576 with 4 Axes>"
      ]
     },
     "metadata": {
      "needs_background": "light"
     },
     "output_type": "display_data"
    }
   ],
   "source": [
    "c = ChainConsumer()\n",
    "c.add_chain(data_sec, name=\"Second\", parameters = [r'$\\Omega_m$',r'$\\sigma_8$'])\n",
    "c.add_chain(data_first, name=\"First\", parameters = [r'$\\Omega_m$',r'$\\sigma_8$'])\n",
    "c.configure(kde = [1.5,1.5,1.5,1.5], smooth=[1,1,1,1],linestyles=[\"--\", \"-\", \"-\",\"-\"],\n",
    "            linewidths=[2, 1.3, 1.3, 1.3],\n",
    "             colors=['b','g','r','k'], shade=[True, True, True,False], \n",
    "            shade_alpha = [0.3,.3, .1,1],\n",
    "            bar_shade=True,\n",
    "            flip=True,label_font_size=20, \n",
    "            tick_font_size=20)\n",
    "fig = c.plotter.plot(truth = True_value)\n",
    "fig.set_size_inches(5 + fig.get_size_inches()) \n",
    "#plt.savefig('/pbs/throng/lsst/users/cpayerne/ThesisAtCCin2p3/Images/forecast.png', bbox_inches='tight', dpi=300)"
   ]
  },
  {
   "cell_type": "code",
   "execution_count": 139,
   "metadata": {},
   "outputs": [
    {
     "data": {
      "text/plain": [
       "array([0.00125009, 0.00066266])"
      ]
     },
     "execution_count": 139,
     "metadata": {},
     "output_type": "execute_result"
    }
   ],
   "source": [
    "cov_first_derivative.diagonal()**.5"
   ]
  },
  {
   "cell_type": "code",
   "execution_count": null,
   "metadata": {},
   "outputs": [],
   "source": []
  }
 ],
 "metadata": {
  "kernelspec": {
   "display_name": "mydesc",
   "language": "python",
   "name": "mydesc"
  },
  "language_info": {
   "codemirror_mode": {
    "name": "ipython",
    "version": 3
   },
   "file_extension": ".py",
   "mimetype": "text/x-python",
   "name": "python",
   "nbconvert_exporter": "python",
   "pygments_lexer": "ipython3",
   "version": "3.7.6"
  }
 },
 "nbformat": 4,
 "nbformat_minor": 4
}
