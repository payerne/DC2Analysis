{
 "cells": [
  {
   "cell_type": "code",
   "execution_count": 203,
   "id": "df0f262b",
   "metadata": {},
   "outputs": [],
   "source": [
    "import glob, sys\n",
    "import numpy as np\n",
    "import matplotlib.pyplot as plt\n",
    "import time\n",
    "import pyccl as ccl\n",
    "cosmo = ccl.Cosmology(Omega_c = 0.30711 - 0.048254, Omega_b = 0.048254, h = 0.677, sigma8 = 0.8288, n_s=0.96)"
   ]
  },
  {
   "cell_type": "code",
   "execution_count": 204,
   "id": "9108e25d-0437-4cbc-9b45-cc466687b6a9",
   "metadata": {},
   "outputs": [
    {
     "name": "stdout",
     "output_type": "stream",
     "text": [
      "The autoreload extension is already loaded. To reload it, use:\n",
      "  %reload_ext autoreload\n"
     ]
    }
   ],
   "source": [
    "%load_ext autoreload\n",
    "%autoreload 2\n",
    "sys.path.append('/pbs/throng/lsst/users/cpayerne/GitForThesis/DC2Analysis/modeling/')\n",
    "import CL_COUNT_class_cluster_abundance as cl_count\n",
    "from CL_COUNT_Sij_FLacasa import Sij_FLacasa"
   ]
  },
  {
   "cell_type": "markdown",
   "id": "d4db73bc-1373-4a09-af6b-205c8c667416",
   "metadata": {},
   "source": [
    "initialize the `ClusterAbundance` object"
   ]
  },
  {
   "cell_type": "code",
   "execution_count": 205,
   "id": "0161d728-016f-4e1e-bb0e-4679cad8a1cb",
   "metadata": {},
   "outputs": [],
   "source": [
    "clc = cl_count.ClusterAbundance()\n",
    "#choose the halo mass function and mass definition\n",
    "massdef = ccl.halos.massdef.MassDef('vir', 'critical', c_m_relation=None)\n",
    "hmd = ccl.halos.hmfunc.MassFuncDespali16(cosmo, mass_def=massdef)\n",
    "clc.set_cosmology(cosmo = cosmo, hmd = hmd, massdef = massdef)\n",
    "clc.sky_area = (0.25)*4*np.pi\n",
    "clc.f_sky = clc.sky_area/4*np.pi"
   ]
  },
  {
   "cell_type": "markdown",
   "id": "9f72e8c9-57d8-473a-a865-41978c33e051",
   "metadata": {},
   "source": [
    "# Binned approach\n",
    "Compute the 2D integral"
   ]
  },
  {
   "cell_type": "markdown",
   "id": "f3c51c0f-f092-4d07-9ccf-b7168627a87d",
   "metadata": {},
   "source": [
    "## model"
   ]
  },
  {
   "cell_type": "markdown",
   "id": "419c30ea-33da-4125-b24a-fcc4d996fb48",
   "metadata": {},
   "source": [
    "$$\n",
    "N_{\\alpha\\beta}^{\\rm predicted} = \\Omega_s\\int_{z_\\alpha}^{z_{\\alpha + 1}} dz\\int_{\\log_{10}M_\\beta}^{\\log_{10}M_{\\beta + 1}}\\frac{d^2V(z)}{dz d\\Omega}\\frac{dn(M,z)}{d\\log_{10}M}d\\log_{10}M\n",
    "$$"
   ]
  },
  {
   "cell_type": "markdown",
   "id": "10e4885c-3808-477b-b7ea-c4d927630eeb",
   "metadata": {},
   "source": [
    "define mass & redshift binning"
   ]
  },
  {
   "cell_type": "code",
   "execution_count": 206,
   "id": "226eab23-2904-4655-ad98-f1062a3320d7",
   "metadata": {},
   "outputs": [],
   "source": [
    "z_corner = np.linspace(0.25, 1.25, 51)\n",
    "logm_corner = np.linspace(14, 14.8, 41)\n",
    "def binning(corner): return [[corner[i],corner[i+1]] for i in range(len(corner)-1)]\n",
    "Z_bin = binning(z_corner)\n",
    "logMass_bin = binning(logm_corner)"
   ]
  },
  {
   "cell_type": "code",
   "execution_count": 207,
   "id": "d9fe64e5-87b2-47e1-9520-80f9c0e204c9",
   "metadata": {},
   "outputs": [],
   "source": [
    "#define redshift-mass grid\n",
    "z_grid = np.linspace(0., 3, 900)\n",
    "logm_grid = np.linspace(12,16, 900)"
   ]
  },
  {
   "cell_type": "markdown",
   "id": "0763810d-9a1d-4d37-b650-72f0b7ad066a",
   "metadata": {},
   "source": [
    "`simps`"
   ]
  },
  {
   "cell_type": "markdown",
   "id": "74a7feec-9e6e-44a4-aa15-56642b764599",
   "metadata": {},
   "source": [
    "### Abundance prediction"
   ]
  },
  {
   "cell_type": "code",
   "execution_count": 208,
   "id": "00c346f8-ce9a-4152-a1a3-7528f1c0e5f9",
   "metadata": {},
   "outputs": [
    {
     "name": "stdout",
     "output_type": "stream",
     "text": [
      "time (seconds) = 1.6642770767211914\n"
     ]
    }
   ],
   "source": [
    "t0 = time.time()\n",
    "clc.compute_multiplicity_grid_MZ(z_grid = z_grid, logm_grid = logm_grid)\n",
    "Abundance_simps = clc.Cluster_Abundance_MZ(Redshift_bin = Z_bin, Proxy_bin = logMass_bin, method = 'simps')\n",
    "t1 = time.time()\n",
    "print('time (seconds) = ' + str(t1-t0))\n",
    "time_simps = t1-t0"
   ]
  },
  {
   "cell_type": "code",
   "execution_count": 209,
   "id": "a966b911-cc34-40ac-bf93-d1cc5657e7ce",
   "metadata": {},
   "outputs": [
    {
     "data": {
      "text/plain": [
       "array([[207.12351672, 194.78678605, 183.34982298, ...,  12.43629136,\n",
       "         11.26114736,  10.17485378],\n",
       "       [230.31413344, 216.47402895, 203.64879892, ...,  13.37459141,\n",
       "         12.09358251,  10.91102061],\n",
       "       [253.30654672, 237.94801029, 223.72189808, ...,  14.21768312,\n",
       "         12.83731609,  11.56478281],\n",
       "       ...,\n",
       "       [311.16792703, 281.68103228, 255.20608502, ...,   1.95587131,\n",
       "          1.60877759,   1.31708278],\n",
       "       [300.05362334, 271.33006574, 245.5650689 , ...,   1.77060327,\n",
       "          1.45247387,   1.18584902],\n",
       "       [289.03890534, 261.08808317, 236.04041262, ...,   1.60024203,\n",
       "          1.30915934,   1.06587414]])"
      ]
     },
     "execution_count": 209,
     "metadata": {},
     "output_type": "execute_result"
    }
   ],
   "source": [
    "Abundance_simps"
   ]
  },
  {
   "cell_type": "markdown",
   "id": "afa14c5e-4d2e-4560-9127-4dc526df999d",
   "metadata": {},
   "source": [
    "### Sample covariance"
   ]
  },
  {
   "cell_type": "code",
   "execution_count": 210,
   "id": "b0f1d21e-6bf9-4c91-af0d-7dae4ff95d68",
   "metadata": {},
   "outputs": [],
   "source": [
    "halobais_model = ccl.halos.hbias.HaloBiasTinker10(cosmo, mass_def=massdef, mass_def_strict=True)\n",
    "clc.compute_halo_bias_grid_MZ(z_grid = z_grid, logm_grid = logm_grid, halobiais = halobais_model)\n",
    "Binned_halo_bias = clc.halo_bias_MZ(Redshift_bin = Z_bin, Proxy_bin = logMass_bin, N_th = Abundance_simps)\n",
    "S_ij = np.diag(np.diag(Sij_FLacasa(Z_bin)))\n",
    "sample_covariance = clc.sample_covariance_MZ(Z_bin, logMass_bin, Abundance_simps, Binned_halo_bias, S_ij)"
   ]
  },
  {
   "cell_type": "code",
   "execution_count": 211,
   "id": "df802fff-c981-4e4f-b7cb-95e6e188644c",
   "metadata": {},
   "outputs": [
    {
     "data": {
      "text/plain": [
       "((50, 40), (50, 40))"
      ]
     },
     "execution_count": 211,
     "metadata": {},
     "output_type": "execute_result"
    }
   ],
   "source": [
    "Binned_halo_bias.shape, Abundance_simps.shape"
   ]
  },
  {
   "cell_type": "code",
   "execution_count": 212,
   "id": "78b434a1-2a4e-40a4-9fe5-b0e2a5404ad5",
   "metadata": {},
   "outputs": [
    {
     "data": {
      "text/plain": [
       "<matplotlib.image.AxesImage at 0x7f12ea9df150>"
      ]
     },
     "execution_count": 212,
     "metadata": {},
     "output_type": "execute_result"
    },
    {
     "data": {
      "image/png": "[encoded data removed]",
      "text/plain": [
       "<Figure size 432x288 with 1 Axes>"
      ]
     },
     "metadata": {
      "needs_background": "light"
     },
     "output_type": "display_data"
    }
   ],
   "source": [
    "plt.imshow(S_ij)"
   ]
  },
  {
   "cell_type": "markdown",
   "id": "93728cef-e6f0-49ae-8223-61a58abf80e2",
   "metadata": {},
   "source": [
    "### Shot noise"
   ]
  },
  {
   "cell_type": "code",
   "execution_count": 213,
   "id": "a53db01a-719a-483f-9e06-0d2acc939612",
   "metadata": {},
   "outputs": [],
   "source": [
    "shot_noise_variance = np.diag(Abundance_simps.flatten())"
   ]
  },
  {
   "cell_type": "code",
   "execution_count": 214,
   "id": "a1af800f-5984-4e7b-b697-723d661f8c35",
   "metadata": {},
   "outputs": [],
   "source": [
    "covariance = sample_covariance + shot_noise_variance"
   ]
  },
  {
   "cell_type": "code",
   "execution_count": 215,
   "id": "f36fd113-0f7b-4372-8ddd-62e0bbad27d4",
   "metadata": {},
   "outputs": [
    {
     "data": {
      "text/plain": [
       "array([[3.17144350e+00, 3.03264452e+00, 2.90187414e+00, ...,\n",
       "        0.00000000e+00, 0.00000000e+00, 0.00000000e+00],\n",
       "       [3.03264452e+00, 2.89992010e+00, 2.77487293e+00, ...,\n",
       "        0.00000000e+00, 0.00000000e+00, 0.00000000e+00],\n",
       "       [2.90187414e+00, 2.77487293e+00, 2.65521789e+00, ...,\n",
       "        0.00000000e+00, 0.00000000e+00, 0.00000000e+00],\n",
       "       ...,\n",
       "       [0.00000000e+00, 0.00000000e+00, 0.00000000e+00, ...,\n",
       "        1.83110839e-04, 1.53532344e-04, 1.28118689e-04],\n",
       "       [0.00000000e+00, 0.00000000e+00, 0.00000000e+00, ...,\n",
       "        1.53532344e-04, 1.28731760e-04, 1.07423256e-04],\n",
       "       [0.00000000e+00, 0.00000000e+00, 0.00000000e+00, ...,\n",
       "        1.28118689e-04, 1.07423256e-04, 8.96418723e-05]])"
      ]
     },
     "execution_count": 215,
     "metadata": {},
     "output_type": "execute_result"
    }
   ],
   "source": [
    "sample_covariance"
   ]
  },
  {
   "cell_type": "markdown",
   "id": "ee29674b-8e29-49bd-a7d7-4fea40dafec1",
   "metadata": {},
   "source": [
    "## data"
   ]
  },
  {
   "cell_type": "code",
   "execution_count": 216,
   "id": "a20add84-27da-44cf-ade0-26fec03a4b76",
   "metadata": {},
   "outputs": [],
   "source": [
    "x_th_SV = np.random.multivariate_normal(mean = Abundance_simps.flatten(),\n",
    "                                       cov = sample_covariance)"
   ]
  },
  {
   "cell_type": "code",
   "execution_count": 217,
   "id": "f1fe0074-08e9-4b2c-82cf-0aab0e619a7f",
   "metadata": {},
   "outputs": [],
   "source": [
    "N_obs = np.random.poisson(lam=x_th_SV)"
   ]
  },
  {
   "cell_type": "code",
   "execution_count": 218,
   "id": "1127d7d3-1d06-4a1e-9a99-991fec40c958",
   "metadata": {},
   "outputs": [],
   "source": [
    "N_obs_matrix = N_obs.reshape([len(Z_bin),len(logMass_bin)])"
   ]
  },
  {
   "cell_type": "code",
   "execution_count": 219,
   "id": "d816a262-d1aa-4a11-a422-4ab47d51f07e",
   "metadata": {},
   "outputs": [],
   "source": [
    "delta_map = x_th_SV"
   ]
  },
  {
   "cell_type": "markdown",
   "id": "cb36f0bf-130c-4d93-a0c1-31c869ebbf31",
   "metadata": {},
   "source": [
    "## Likelihood"
   ]
  },
  {
   "cell_type": "code",
   "execution_count": 220,
   "id": "98d7b656-15c0-4fb7-baa5-b590170b957d",
   "metadata": {},
   "outputs": [
    {
     "name": "stdout",
     "output_type": "stream",
     "text": [
      "The autoreload extension is already loaded. To reload it, use:\n",
      "  %reload_ext autoreload\n"
     ]
    }
   ],
   "source": [
    "%load_ext autoreload\n",
    "%autoreload 2\n",
    "import CL_COUNT_class_likelihood as lnL"
   ]
  },
  {
   "cell_type": "code",
   "execution_count": 221,
   "id": "34f2c401-499c-4a5b-bb76-c6813c6fa64f",
   "metadata": {},
   "outputs": [],
   "source": [
    "Likelihood = lnL.Likelihood()"
   ]
  },
  {
   "cell_type": "markdown",
   "id": "d49459ee-27d8-48e2-8622-6b2a66dd4f4f",
   "metadata": {},
   "source": [
    "### Binned Poisson/Gaussian Mixture (diagonal covariance matrix)"
   ]
  },
  {
   "cell_type": "markdown",
   "id": "86fb5490-a818-4c06-9b1c-d5a912c635d0",
   "metadata": {},
   "source": [
    "$L = \\prod_i^N\\int dx_i \\mathcal{P}(\\widehat{N}_i| x_i)\\times \\mathcal{G}(x_i|\\mu_i, \\sigma_{SV,i}^2)$"
   ]
  },
  {
   "cell_type": "code",
   "execution_count": 222,
   "id": "03ce0e08-805c-4fe4-9fae-ce50fe183a1c",
   "metadata": {},
   "outputs": [
    {
     "name": "stdout",
     "output_type": "stream",
     "text": [
      "-6997.645008864715\n"
     ]
    }
   ],
   "source": [
    "lnL_Binned_MPG_diagonal = Likelihood.lnLikelihood_Binned_MPG_diagonal(Abundance_simps.flatten(), N_obs, sample_covariance.diagonal())\n",
    "print(Likelihood.lnL_Binned_MPG_diagonal)"
   ]
  },
  {
   "cell_type": "markdown",
   "id": "06297fd3-2eec-4788-9b66-06632528464e",
   "metadata": {},
   "source": [
    "### Binned Poisson/Gaussian Mixture (estimator, full covariance matrix)"
   ]
  },
  {
   "cell_type": "markdown",
   "id": "c4bcfa73-20d4-4104-a148-3812b84dad10",
   "metadata": {},
   "source": [
    "$L = \\int d\\vec{x} \\prod_i^N\\mathcal{P}(\\widehat{N}_i| x_i)\\times \\mathcal{G}(\\vec{x}|\\vec{\\mu}, \\Sigma_{SV}) \\rightarrow \\widehat{L} = \\frac{1}{N_{sample}} \\sum_{j= 1}^{N_{sample}}\\prod_i^N\\mathcal{P}(\\widehat{N}_i| x_{i,j}) $\n",
    "\n",
    "where $x_{i,j}$ is the $j-$th random realisation of the $i-$th cluster abundance bin, following the Gaussian distribution $\\mathcal{G}(.|\\vec{\\mu}, \\Sigma_{SV})$ "
   ]
  },
  {
   "cell_type": "code",
   "execution_count": 223,
   "id": "eed31983-26d3-4709-aa29-c8e83c9b2c8c",
   "metadata": {},
   "outputs": [
    {
     "name": "stdout",
     "output_type": "stream",
     "text": [
      "-6996.8444366861095\n"
     ]
    }
   ],
   "source": [
    "lnL_Binned_MPG_delta = Likelihood.lnLikelihood_Binned_MPG_delta(Abundance_simps.flatten(), N_obs, sample_covariance)\n",
    "print(Likelihood.lnL_Binned_MPG_delta)"
   ]
  },
  {
   "cell_type": "markdown",
   "id": "e34a5b69-a9af-40e9-a000-83ecbccd074c",
   "metadata": {},
   "source": [
    "### Binned Poisson/Gaussian Mixture (approximation)"
   ]
  },
  {
   "cell_type": "code",
   "execution_count": 224,
   "id": "febac38d-05c4-4c04-bb54-73dc160c9c3b",
   "metadata": {},
   "outputs": [
    {
     "name": "stdout",
     "output_type": "stream",
     "text": [
      "-inf\n"
     ]
    },
    {
     "name": "stderr",
     "output_type": "stream",
     "text": [
      "/pbs/throng/lsst/users/cpayerne/GitForThesis/DC2Analysis/modeling/CL_COUNT_class_likelihood.py:181: RuntimeWarning: divide by zero encountered in log\n",
      "  Poisson[i] = self.poissonian(N_obs[i], mu_)\n"
     ]
    }
   ],
   "source": [
    "lnL_Binned_MPG_approx = Likelihood.lnLikelihood_Binned_MPG_approx(Abundance_simps.flatten(), N_obs, sample_covariance)\n",
    "print(Likelihood.lnL_Binned_MPG_approx)"
   ]
  },
  {
   "cell_type": "code",
   "execution_count": 225,
   "id": "39135eaa-7922-472b-b1dc-a5865da7df1d",
   "metadata": {},
   "outputs": [
    {
     "data": {
      "text/plain": [
       "[<matplotlib.lines.Line2D at 0x7f12ea8d7a10>]"
      ]
     },
     "execution_count": 225,
     "metadata": {},
     "output_type": "execute_result"
    },
    {
     "data": {
      "image/png": "[encoded data removed]",
      "text/plain": [
       "<Figure size 432x288 with 1 Axes>"
      ]
     },
     "metadata": {
      "needs_background": "light"
     },
     "output_type": "display_data"
    }
   ],
   "source": [
    "N = np.arange(10)\n",
    "P = np.zeros(len(N))\n",
    "for i,n in enumerate(N):\n",
    "    Likelihood.lnLikelihood_Binned_MPG_approx(np.array([7]),np.array([n]), np.array([.1]))\n",
    "    P[i] = np.exp(Likelihood.lnL_Binned_MPG_approx)\n",
    "plt.plot(N, P)"
   ]
  },
  {
   "cell_type": "code",
   "execution_count": 226,
   "id": "46015520-2544-4063-a093-6e0ab9e767e2",
   "metadata": {},
   "outputs": [
    {
     "name": "stdout",
     "output_type": "stream",
     "text": [
      "The autoreload extension is already loaded. To reload it, use:\n",
      "  %reload_ext autoreload\n"
     ]
    }
   ],
   "source": [
    "%load_ext autoreload\n",
    "%autoreload 2\n",
    "import CL_COUNT_class_likelihood as lnL\n",
    "Likelihood = lnL.Likelihood()"
   ]
  },
  {
   "cell_type": "code",
   "execution_count": 227,
   "id": "8f43a932-4fb7-4ee3-9c47-5ef78a426b2c",
   "metadata": {},
   "outputs": [
    {
     "name": "stdout",
     "output_type": "stream",
     "text": [
      "-6992.306521680472\n"
     ]
    }
   ],
   "source": [
    "Likelihood.lnLikelihood_Binned_MPG_Block_Diagonal(Abundance_simps, N_obs_matrix, Binned_halo_bias, S_ij.diagonal(), method = 'exact')\n",
    "print(Likelihood.lnL_Binned_MPG_Block_Diagonal)"
   ]
  },
  {
   "cell_type": "code",
   "execution_count": 228,
   "id": "f8ef2a34-34cf-4988-9e8b-a418bb1d1efe",
   "metadata": {},
   "outputs": [],
   "source": [
    "from scipy.stats import poisson\n",
    "from scipy.stats import multivariate_normal\n",
    "from scipy.integrate import quad,simps, dblquad"
   ]
  },
  {
   "cell_type": "code",
   "execution_count": 241,
   "id": "3c746f0c-1b8a-4743-b11d-965b9ce72dc7",
   "metadata": {},
   "outputs": [],
   "source": [
    "def lnLikelihood_Binned_MPG_Block_Diagonal(N_th_matrix, N_obs_matrix, Halo_bias, S_ii):\n",
    "        \n",
    "        n_z_bin, n_m_bin = N_th_matrix.shape\n",
    "        n = 20\n",
    "        def _integrand_(dx, n_th, n_obs, hbias, S_ii): \n",
    "            rv = poisson(n_th*(1 + hbias*dx))\n",
    "            return np.prod(rv.pmf(n_obs)) * multivariate_normal.pdf(dx, mean=0, cov=S_ii)\n",
    "        mvp = np.zeros(n_z_bin)\n",
    "        for i in range(n_z_bin):\n",
    "            n_obs, n_th = N_obs_matrix[i,:], N_th_matrix[i,:]\n",
    "            hbias = Halo_bias[i,:]\n",
    "            \n",
    "            min_border = max(-n*np.sqrt(S_ii[i]), max(-1/hbias))\n",
    "            max_border = (n+1)*np.sqrt(S_ii[i])\n",
    "            x_test = np.linspace(min_border, max_border, 100)\n",
    "            tab_integrand = np.zeros(len(x_test))\n",
    "            for j, x_ in enumerate(x_test):\n",
    "                tab_integrand[j] = _integrand_(x_, n_th, n_obs, hbias, S_ii[i])\n",
    "            plt.plot(x_test, tab_integrand)\n",
    "            plt.yscale('log')\n",
    "            res, err = quad(_integrand_, min_border, max_border,\n",
    "                           epsabs=1.49e-08, epsrel=1.49e-08,\n",
    "                           args = (n_th, n_obs, hbias, S_ii[i])) \n",
    "            mvp[i] = res\n",
    "          \n",
    "        return  np.sum(np.log(mvp))"
   ]
  },
  {
   "cell_type": "code",
   "execution_count": 242,
   "id": "f4173d20-8c13-4374-a231-837883697ca7",
   "metadata": {},
   "outputs": [
    {
     "data": {
      "text/plain": [
       "-6992.30641874465"
      ]
     },
     "execution_count": 242,
     "metadata": {},
     "output_type": "execute_result"
    },
    {
     "data": {
      "image/png": "[encoded data removed]",
      "text/plain": [
       "<Figure size 432x288 with 1 Axes>"
      ]
     },
     "metadata": {
      "needs_background": "light"
     },
     "output_type": "display_data"
    }
   ],
   "source": [
    "lnLikelihood_Binned_MPG_Block_Diagonal(Abundance_simps, N_obs_matrix, Binned_halo_bias, S_ij.diagonal())"
   ]
  },
  {
   "cell_type": "code",
   "execution_count": null,
   "id": "c1f3a8c9-0203-4415-852e-9cfedadbf938",
   "metadata": {},
   "outputs": [],
   "source": []
  },
  {
   "cell_type": "code",
   "execution_count": null,
   "id": "39e15419-7377-4556-ab05-d78ba2388444",
   "metadata": {},
   "outputs": [],
   "source": []
  }
 ],
 "metadata": {
  "kernelspec": {
   "display_name": "mydesc",
   "language": "python",
   "name": "mydesc"
  },
  "language_info": {
   "codemirror_mode": {
    "name": "ipython",
    "version": 3
   },
   "file_extension": ".py",
   "mimetype": "text/x-python",
   "name": "python",
   "nbconvert_exporter": "python",
   "pygments_lexer": "ipython3",
   "version": "3.7.6"
  }
 },
 "nbformat": 4,
 "nbformat_minor": 5
}
