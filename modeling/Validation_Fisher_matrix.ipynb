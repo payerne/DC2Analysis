{
 "cells": [
  {
   "cell_type": "code",
   "execution_count": 11,
   "metadata": {},
   "outputs": [],
   "source": [
    "import numpy as np\n",
    "import matplotlib.pyplot as plt\n",
    "from scipy.optimize import curve_fit"
   ]
  },
  {
   "cell_type": "code",
   "execution_count": 30,
   "metadata": {},
   "outputs": [],
   "source": [
    "a_true, b_true = 1, 1\n",
    "True_value =[a_true, b_true]\n",
    "x = np.linspace(0.1,1,10)\n",
    "def mean(theta):\n",
    "    a,b = theta\n",
    "    return np.cos(a*x**2 + b*x)\n",
    "y_mean = mean([a_true, b_true])\n",
    "std = .01*abs(max(y_mean))"
   ]
  },
  {
   "cell_type": "code",
   "execution_count": 31,
   "metadata": {},
   "outputs": [],
   "source": [
    "y_random = np.random.randn(200, len(x)) "
   ]
  },
  {
   "cell_type": "code",
   "execution_count": 32,
   "metadata": {},
   "outputs": [],
   "source": [
    "y_sample = y_random * std + y_mean\n",
    "cov = np.cov(y_sample.T)"
   ]
  },
  {
   "cell_type": "code",
   "execution_count": 33,
   "metadata": {},
   "outputs": [],
   "source": [
    "import iminuit\n",
    "from iminuit import Minuit\n",
    "def lnL(a, b):\n",
    "    theta = a, b\n",
    "    y_th = mean(theta)\n",
    "    inv_cov = np.linalg.inv(cov)\n",
    "    d = y_sample[0] - y_th\n",
    "    res = -0.5*np.sum(d*inv_cov.dot(d))\n",
    "    return res\n",
    "def lnL_emcee(theta):\n",
    "    a, b = theta\n",
    "    return lnL(a, b)\n",
    "def neg_lnL_minuit(a, b):\n",
    "    return -lnL(a, b)"
   ]
  },
  {
   "cell_type": "code",
   "execution_count": 34,
   "metadata": {},
   "outputs": [],
   "source": [
    "minuit = Minuit(neg_lnL_minuit, a = a_true, b= b_true,\n",
    "                   errordef = 0.5)  \n",
    "minuit.migrad(),minuit.hesse(),minuit.minos()\n",
    "cov_minuit = np.array(minuit.matrix())\n",
    "MLE = [minuit.values['a'], minuit.values['b']]"
   ]
  },
  {
   "cell_type": "code",
   "execution_count": 35,
   "metadata": {},
   "outputs": [
    {
     "name": "stdout",
     "output_type": "stream",
     "text": [
      "The autoreload extension is already loaded. To reload it, use:\n",
      "  %reload_ext autoreload\n"
     ]
    }
   ],
   "source": [
    "%load_ext autoreload\n",
    "%autoreload 2\n",
    "import sys\n",
    "sys.path.append('/pbs/throng/lsst/users/cpayerne/GitForThesis/DC2Analysis/modeling/')\n",
    "import DATAOPS_Fisher_matrix as fisher\n",
    "Fisher_matrix = fisher.Fisher_Matrix(True_value, mean, cov, delta = 1e-5)"
   ]
  },
  {
   "cell_type": "code",
   "execution_count": 36,
   "metadata": {},
   "outputs": [],
   "source": [
    "cov_Fisher = np.linalg.inv(Fisher_matrix)"
   ]
  },
  {
   "cell_type": "code",
   "execution_count": 37,
   "metadata": {},
   "outputs": [
    {
     "data": {
      "text/plain": [
       "array([[ 0.00102526, -0.00086985],\n",
       "       [-0.00086985,  0.00077066]])"
      ]
     },
     "execution_count": 37,
     "metadata": {},
     "output_type": "execute_result"
    }
   ],
   "source": [
    "cov_Fisher"
   ]
  },
  {
   "cell_type": "code",
   "execution_count": 38,
   "metadata": {},
   "outputs": [
    {
     "data": {
      "text/plain": [
       "array([[ 0.0010318 , -0.00087524],\n",
       "       [-0.00087524,  0.00077516]])"
      ]
     },
     "execution_count": 38,
     "metadata": {},
     "output_type": "execute_result"
    }
   ],
   "source": [
    "cov_minuit"
   ]
  },
  {
   "cell_type": "code",
   "execution_count": null,
   "metadata": {},
   "outputs": [],
   "source": []
  },
  {
   "cell_type": "code",
   "execution_count": null,
   "metadata": {},
   "outputs": [],
   "source": []
  }
 ],
 "metadata": {
  "kernelspec": {
   "display_name": "mydesc",
   "language": "python",
   "name": "mydesc"
  },
  "language_info": {
   "codemirror_mode": {
    "name": "ipython",
    "version": 3
   },
   "file_extension": ".py",
   "mimetype": "text/x-python",
   "name": "python",
   "nbconvert_exporter": "python",
   "pygments_lexer": "ipython3",
   "version": "3.7.6"
  }
 },
 "nbformat": 4,
 "nbformat_minor": 4
}
