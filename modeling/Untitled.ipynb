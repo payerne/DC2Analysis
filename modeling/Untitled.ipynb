{
 "cells": [
  {
   "cell_type": "code",
   "execution_count": 1,
   "id": "f7265a5d-5c16-428b-a526-90feee284a5d",
   "metadata": {},
   "outputs": [
    {
     "data": {
      "text/plain": [
       "'/pbs/throng/lsst/users/cpayerne/GitForThesis/DC2Analysis/modeling'"
      ]
     },
     "execution_count": 1,
     "metadata": {},
     "output_type": "execute_result"
    }
   ],
   "source": [
    "pwd"
   ]
  },
  {
   "cell_type": "code",
   "execution_count": null,
   "id": "b473f4f0-a110-4731-a801-7e9b719f3faa",
   "metadata": {},
   "outputs": [],
   "source": []
  }
 ],
 "metadata": {
  "kernelspec": {
   "display_name": "mydesc",
   "language": "python",
   "name": "mydesc"
  },
  "language_info": {
   "codemirror_mode": {
    "name": "ipython",
    "version": 3
   },
   "file_extension": ".py",
   "mimetype": "text/x-python",
   "name": "python",
   "nbconvert_exporter": "python",
   "pygments_lexer": "ipython3",
   "version": "3.7.6"
  }
 },
 "nbformat": 4,
 "nbformat_minor": 5
}
