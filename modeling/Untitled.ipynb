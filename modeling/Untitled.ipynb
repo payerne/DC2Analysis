{
 "cells": [
  {
   "cell_type": "code",
   "execution_count": null,
   "id": "fa1136dc-21e5-4d5b-9b8c-7c94140bda07",
   "metadata": {},
   "outputs": [],
   "source": [
    "# -*- coding: utf-8 -*-\n",
    "\n",
    "from chainconsumer import ChainConsumer\n",
    "\n",
    "mean = [1, 5]\n",
    "cov = [[1, -1], [-1, 3]]\n",
    "parameters = [\"a\", \"b\"]\n",
    "\n",
    "c = ChainConsumer()\n",
    "c.add_covariance(mean, cov, parameters=parameters)\n",
    "c.add_marker(mean, parameters=parameters, name=\"Marker!\", marker_style=\"*\")\n",
    "c.configure()\n",
    "fig = c.plotter.plot()\n",
    "\n",
    "fig.set_size_inches(3 + fig.get_size_inches())  # Resize fig for doco. You don't need this."
   ]
  },
  {
   "cell_type": "code",
   "execution_count": null,
   "id": "14e1bc2d-cae7-46a6-b90d-6cb81f4c6237",
   "metadata": {},
   "outputs": [],
   "source": []
  },
  {
   "cell_type": "code",
   "execution_count": null,
   "id": "713af3e6-e920-4a86-b0eb-7c84c0c0503b",
   "metadata": {},
   "outputs": [],
   "source": []
  }
 ],
 "metadata": {
  "kernelspec": {
   "display_name": "mydesc",
   "language": "python",
   "name": "mydesc"
  },
  "language_info": {
   "codemirror_mode": {
    "name": "ipython",
    "version": 3
   },
   "file_extension": ".py",
   "mimetype": "text/x-python",
   "name": "python",
   "nbconvert_exporter": "python",
   "pygments_lexer": "ipython3",
   "version": "3.7.6"
  }
 },
 "nbformat": 4,
 "nbformat_minor": 5
}
