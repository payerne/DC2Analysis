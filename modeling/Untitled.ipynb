{
 "cells": [
  {
   "cell_type": "code",
   "execution_count": 616,
   "id": "fdfbe6e2-ac63-43e8-80c1-9c3e01fd122b",
   "metadata": {},
   "outputs": [],
   "source": [
    "import numpy as np\n",
    "import matplotlib.pyplot as plt\n",
    "from scipy.optimize import fsolve\n",
    "from scipy.integrate import quad\n",
    "import corner\n",
    "import emcee\n",
    "import scipy"
   ]
  },
  {
   "cell_type": "code",
   "execution_count": 630,
   "id": "d4d82b8c-18ca-4b95-935d-37b14bc90c89",
   "metadata": {},
   "outputs": [],
   "source": [
    " def pdf(x, lambda_n): \n",
    "        N_exposant = np.arange(len(lambda_n))\n",
    "        x_to_n = x**N_exposant\n",
    "        return np.exp(-np.mean(x_to_n*lambda_n))\n",
    "    \n",
    "def __integrand__(x, lambda_n, n):\n",
    "        return x ** n * pdf(x, lambda_n)\n",
    "    \n",
    "def mu_n(n, lambda_n):\n",
    "    #model\n",
    "    down,  up = 0, 1\n",
    "    return np.array(quad(__integrand__, down,  up, args = (lambda_n, n))[0])"
   ]
  },
  {
   "cell_type": "code",
   "execution_count": 650,
   "id": "1ddcf43c-fee1-4c7c-b5be-d0a5ab25644e",
   "metadata": {},
   "outputs": [],
   "source": [
    "n_moment = 10"
   ]
  },
  {
   "cell_type": "code",
   "execution_count": 655,
   "id": "d9ed2d7e-cc6c-4e70-bfa8-037beac6ed0d",
   "metadata": {},
   "outputs": [],
   "source": [
    "mu_n_true = np.linspace(1, .01, n_moment)"
   ]
  },
  {
   "cell_type": "code",
   "execution_count": 656,
   "id": "c223c2f6-eab4-4ee3-a2f0-68a9fd063dd1",
   "metadata": {},
   "outputs": [],
   "source": [
    "def f(l_n):\n",
    "    n = n_moment\n",
    "    res = np.zeros(n)\n",
    "    for i, n_ in enumerate(np.arange(n)):\n",
    "        res[i] = mu_n(i, l_n)\n",
    "    return res - mu_n_true"
   ]
  },
  {
   "cell_type": "code",
   "execution_count": 657,
   "id": "f74ebd24-5b98-4c11-b99a-c9d936147cf3",
   "metadata": {},
   "outputs": [
    {
     "name": "stderr",
     "output_type": "stream",
     "text": [
      "/pbs/home/c/cpayerne/.conda/envs/mydesc/lib/python3.7/site-packages/ipykernel_launcher.py:4: RuntimeWarning: overflow encountered in exp\n",
      "  after removing the cwd from sys.path.\n",
      "/pbs/home/c/cpayerne/.conda/envs/mydesc/lib/python3.7/site-packages/ipykernel_launcher.py:12: IntegrationWarning: The occurrence of roundoff error is detected, which prevents \n",
      "  the requested tolerance from being achieved.  The error may be \n",
      "  underestimated.\n",
      "  if sys.path[0] == '':\n"
     ]
    },
    {
     "name": "stdout",
     "output_type": "stream",
     "text": [
      "[ 0.15617888 -0.10458052 -0.15311594 -0.1420003  -0.10288697 -0.04741314\n",
      "  0.01883602  0.09270974  0.17224231  0.25612272]\n"
     ]
    }
   ],
   "source": [
    "res = fsolve(f, x0 = mu_n_true)\n",
    "res = fsolve(f, x0 = res)\n",
    "res = fsolve(f, x0 = res)\n",
    "#res = fsolve(f, x0 = res)\n",
    "print(f(res))"
   ]
  },
  {
   "cell_type": "code",
   "execution_count": 654,
   "id": "4930032b-701b-43e1-84a3-5548348f3ff4",
   "metadata": {},
   "outputs": [
    {
     "data": {
      "text/plain": [
       "array([ 7.18339473e+01, -7.94281270e+02, -6.98254725e+03,  3.07352673e+05,\n",
       "       -2.82857168e+06,  1.23025599e+07, -2.93877213e+07,  3.96008659e+07,\n",
       "       -2.82755917e+07,  8.32891675e+06])"
      ]
     },
     "execution_count": 654,
     "metadata": {},
     "output_type": "execute_result"
    }
   ],
   "source": [
    "res"
   ]
  },
  {
   "cell_type": "code",
   "execution_count": 649,
   "id": "0ee59aee-04aa-4782-bbb7-270e1fd350ce",
   "metadata": {},
   "outputs": [
    {
     "name": "stdout",
     "output_type": "stream",
     "text": [
      "6.065306597126333\n",
      "3.487176165011568\n",
      "1.775118919659959\n",
      "1.337232258279016\n",
      "1.1730414733098449\n",
      "1.0920348136095968\n",
      "1.0459571691291443\n",
      "1.0173747595146916\n"
     ]
    },
    {
     "data": {
      "text/plain": [
       "<matplotlib.legend.Legend at 0x7fa788a6ba50>"
      ]
     },
     "execution_count": 649,
     "metadata": {},
     "output_type": "execute_result"
    },
    {
     "data": {
      "image/png": "[encoded data removed]",
      "text/plain": [
       "<Figure size 432x288 with 1 Axes>"
      ]
     },
     "metadata": {
      "needs_background": "light"
     },
     "output_type": "display_data"
    }
   ],
   "source": [
    "from scipy.stats import poisson\n",
    "\n",
    "x = np.linspace(0, 10, 1000)\n",
    "for n in range(2,10):\n",
    "    res = np.linspace(1,0, n)\n",
    "    y = [pdf(x_, res) for x_ in x]\n",
    "    print(scipy.integrate.simps(y,x))\n",
    "    plt.plot(x, y, label = f'{n}')\n",
    "plt.legend()\n",
    "#plt.yscale('log')"
   ]
  },
  {
   "cell_type": "code",
   "execution_count": null,
   "id": "188cc835-9a59-4029-93a2-f1462bb76a22",
   "metadata": {},
   "outputs": [],
   "source": []
  },
  {
   "cell_type": "code",
   "execution_count": null,
   "id": "f5da7ca2-dcce-4f8f-b1ba-28691a3623ad",
   "metadata": {},
   "outputs": [],
   "source": []
  }
 ],
 "metadata": {
  "kernelspec": {
   "display_name": "mydesc",
   "language": "python",
   "name": "mydesc"
  },
  "language_info": {
   "codemirror_mode": {
    "name": "ipython",
    "version": 3
   },
   "file_extension": ".py",
   "mimetype": "text/x-python",
   "name": "python",
   "nbconvert_exporter": "python",
   "pygments_lexer": "ipython3",
   "version": "3.7.6"
  }
 },
 "nbformat": 4,
 "nbformat_minor": 5
}
