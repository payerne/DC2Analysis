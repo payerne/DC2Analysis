{
 "cells": [
  {
   "cell_type": "code",
   "execution_count": 27,
   "id": "d89d12ae-2824-4443-ad43-12d2116c74d1",
   "metadata": {},
   "outputs": [],
   "source": [
    "import numpy as np\n",
    "from scipy.integrate import simps\n",
    "import time\n",
    "from math import gamma"
   ]
  },
  {
   "cell_type": "markdown",
   "id": "6ecc18e6-903b-4fe2-abe4-32729bea58ee",
   "metadata": {},
   "source": [
    "# function to tabulate"
   ]
  },
  {
   "cell_type": "code",
   "execution_count": 61,
   "id": "acbf2003-ab5f-49d7-b183-0674ccd474dd",
   "metadata": {},
   "outputs": [],
   "source": [
    "a_list = np.linspace(.1, 1, 100)\n",
    "b_list = np.linspace(.1, 1, 100)\n",
    "x = np.linspace(0, 10, 50000)\n",
    "def __integrand__(x, a, b): return np.exp(-a*x)*np.cos(b*x)\n",
    "def f(theta): \n",
    "    a, b = theta\n",
    "    y = __integrand__(x, a, b)\n",
    "    return simps(y,x)"
   ]
  },
  {
   "cell_type": "code",
   "execution_count": 62,
   "id": "070bf3c4-d790-43f0-b86a-c3e0361ed830",
   "metadata": {},
   "outputs": [],
   "source": [
    "pos = np.array([a_list, b_list]).T"
   ]
  },
  {
   "cell_type": "code",
   "execution_count": 63,
   "id": "27e33830-0d72-4687-a190-e50ef485f2c2",
   "metadata": {},
   "outputs": [],
   "source": [
    "def fct_n(n): return np.array(f(pos[n]))"
   ]
  },
  {
   "cell_type": "code",
   "execution_count": 64,
   "id": "3d1e5215-8313-4aa4-a285-3e41759cd761",
   "metadata": {},
   "outputs": [],
   "source": [
    "def multiprocessing_Python(pos, fct_n):\n",
    "    ncpu = multiprocessing.cpu_count()\n",
    "    print('You have {0:1d} CPUs'.format(ncpu))\n",
    "    pool = multiprocessing.Pool(processes=ncpu) \n",
    "    n = len(pos)\n",
    "    return np.array(pool.map(fct_n, np.arange(n)))"
   ]
  },
  {
   "cell_type": "code",
   "execution_count": 65,
   "id": "b37b2243-15f7-4417-8623-415c554b697a",
   "metadata": {},
   "outputs": [
    {
     "name": "stdout",
     "output_type": "stream",
     "text": [
      "You have 8 CPUs\n"
     ]
    },
    {
     "data": {
      "text/plain": [
       "array([5.55396883, 5.23822625, 4.93936377, 4.65719854, 4.39142982,\n",
       "       4.14165878, 3.90740643, 3.68812984, 3.48323656, 3.29209745,\n",
       "       3.11405804, 2.94844844, 2.79459194, 2.65181242, 2.51944066,\n",
       "       2.3968196 , 2.28330875, 2.17828771, 2.081159  , 1.9913502 ,\n",
       "       1.90831553, 1.83153692, 1.76052463, 1.69481748, 1.63398277,\n",
       "       1.57761593, 1.52533989, 1.47680434, 1.43168479, 1.38968149,\n",
       "       1.35051837, 1.31394176, 1.27971921, 1.24763822, 1.217505  ,\n",
       "       1.18914317, 1.16239259, 1.13710818, 1.11315869, 1.09042567,\n",
       "       1.0688024 , 1.04819283, 1.02851074, 1.00967874, 0.99162752,\n",
       "       0.97429503, 0.9576258 , 0.94157022, 0.926084  , 0.91112754,\n",
       "       0.89666548, 0.88266619, 0.86910137, 0.85594566, 0.8431763 ,\n",
       "       0.83077281, 0.81871674, 0.80699139, 0.79558161, 0.78447361,\n",
       "       0.77365477, 0.76311352, 0.75283917, 0.74282182, 0.73305227,\n",
       "       0.72352189, 0.71422259, 0.70514674, 0.69628711, 0.68763684,\n",
       "       0.67918935, 0.67093839, 0.66287794, 0.65500221, 0.64730563,\n",
       "       0.63978283, 0.63242861, 0.62523794, 0.61820596, 0.61132797,\n",
       "       0.60459939, 0.59801579, 0.5915729 , 0.58526656, 0.57909272,\n",
       "       0.5730475 , 0.56712711, 0.56132788, 0.55564628, 0.55007886,\n",
       "       0.54462232, 0.53927344, 0.5340291 , 0.52888633, 0.52384221,\n",
       "       0.51889394, 0.51403882, 0.50927424, 0.50459768, 0.5000067 ])"
      ]
     },
     "execution_count": 65,
     "metadata": {},
     "output_type": "execute_result"
    }
   ],
   "source": [
    "multiprocessing_Python(pos, fct_n)"
   ]
  },
  {
   "cell_type": "code",
   "execution_count": null,
   "id": "4f352a6f-23ca-49d5-9bff-9c5e1d8dbf12",
   "metadata": {},
   "outputs": [],
   "source": [
    "import random\n",
    "import multiprocessing\n",
    "from multiprocessing import Pool\n",
    "ncpu = multiprocessing.cpu_count()\n",
    "print('You have {0:1d} CPUs'.format(ncpu))\n",
    "pool = Pool(processes=ncpu)   \n",
    "n = 100\n",
    "# parallel map\n",
    "ti = time.time()\n",
    "evaluation = np.array(pool.map(f, np.arange(n)))\n",
    "tf = time.time()\n",
    "print(tf-ti)"
   ]
  },
  {
   "cell_type": "code",
   "execution_count": 30,
   "id": "dfaebdad-bc88-4a61-aae1-53330fd72a93",
   "metadata": {},
   "outputs": [
    {
     "name": "stdout",
     "output_type": "stream",
     "text": [
      "5.697333574295044\n"
     ]
    }
   ],
   "source": [
    "res = []\n",
    "ti = time.time()\n",
    "for n_ in np.arange(n): res.append(f(n_))\n",
    "tf = time.time()\n",
    "print(tf-ti)"
   ]
  },
  {
   "cell_type": "code",
   "execution_count": null,
   "id": "cd571570-f2d6-49fb-824a-4e6725f5a5ec",
   "metadata": {},
   "outputs": [],
   "source": []
  }
 ],
 "metadata": {
  "kernelspec": {
   "display_name": "mydesc",
   "language": "python",
   "name": "mydesc"
  },
  "language_info": {
   "codemirror_mode": {
    "name": "ipython",
    "version": 3
   },
   "file_extension": ".py",
   "mimetype": "text/x-python",
   "name": "python",
   "nbconvert_exporter": "python",
   "pygments_lexer": "ipython3",
   "version": "3.7.6"
  }
 },
 "nbformat": 4,
 "nbformat_minor": 5
}
