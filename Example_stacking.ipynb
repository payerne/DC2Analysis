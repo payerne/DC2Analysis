{
 "cells": [
  {
   "cell_type": "markdown",
   "metadata": {},
   "source": [
    "# Example - Estimate Excess Surface Density with stacking strategy"
   ]
  },
  {
   "cell_type": "markdown",
   "metadata": {},
   "source": [
    "we import some clmm modules"
   ]
  },
  {
   "cell_type": "code",
   "execution_count": 1,
   "metadata": {},
   "outputs": [
    {
     "data": {
      "text/plain": [
       "'0.3.0'"
      ]
     },
     "execution_count": 1,
     "metadata": {},
     "output_type": "execute_result"
    }
   ],
   "source": [
    "import sys\n",
    "import os\n",
    "os.environ['CLMM_MODELING_BACKEND'] = 'nc' # here you may choose ccl or nc (NumCosmo)\n",
    "sys.path.append('/pbs/throng/lsst/users/cpayerne/CLMM/examples/support')\n",
    "try: import clmm\n",
    "except:\n",
    "    import notebook_install\n",
    "    notebook_install.install_clmm_pipeline(upgrade=False)\n",
    "    import clmm\n",
    "import matplotlib.pyplot as plt\n",
    "import numpy as np\n",
    "from numpy import random\n",
    "\n",
    "clmm.__version__"
   ]
  },
  {
   "cell_type": "markdown",
   "metadata": {},
   "source": [
    "we import `clmm` module's core."
   ]
  },
  {
   "cell_type": "code",
   "execution_count": 2,
   "metadata": {},
   "outputs": [],
   "source": [
    "import clmm.polaraveraging as pa\n",
    "import clmm.galaxycluster as gc\n",
    "import clmm.modeling as modeling\n",
    "from clmm import Cosmology "
   ]
  },
  {
   "cell_type": "markdown",
   "metadata": {},
   "source": [
    "we import module for mock data"
   ]
  },
  {
   "cell_type": "code",
   "execution_count": 3,
   "metadata": {},
   "outputs": [],
   "source": [
    "import mock_data as mock"
   ]
  },
  {
   "cell_type": "markdown",
   "metadata": {},
   "source": [
    "basic modules"
   ]
  },
  {
   "cell_type": "code",
   "execution_count": 4,
   "metadata": {},
   "outputs": [],
   "source": [
    "import matplotlib.pyplot as plt\n",
    "import astropy.units as u\n",
    "import numpy as np\n",
    "from scipy.optimize import curve_fit"
   ]
  },
  {
   "cell_type": "markdown",
   "metadata": {},
   "source": [
    "we import `DC2Analysis` modules"
   ]
  },
  {
   "cell_type": "code",
   "execution_count": 5,
   "metadata": {},
   "outputs": [],
   "source": [
    "import sys\n",
    "sys.path.append('/pbs/throng/lsst/users/cpayerne/GitForThesis/DC2Analysis')\n",
    "import stacking as st\n",
    "import modeling as model\n",
    "import utils as ut"
   ]
  },
  {
   "cell_type": "markdown",
   "metadata": {},
   "source": [
    "for reproductibility"
   ]
  },
  {
   "cell_type": "code",
   "execution_count": 6,
   "metadata": {},
   "outputs": [],
   "source": [
    "np.random.seed(11)"
   ]
  },
  {
   "cell_type": "markdown",
   "metadata": {},
   "source": [
    "we define cosmology into `Cosmology` object"
   ]
  },
  {
   "cell_type": "code",
   "execution_count": 7,
   "metadata": {},
   "outputs": [],
   "source": [
    "mock_cosmo = Cosmology(H0 = 71.0, Omega_dm0 = 0.27 - 0.045, Omega_b0 = 0.045, Omega_k0 = 0.0)"
   ]
  },
  {
   "cell_type": "markdown",
   "metadata": {},
   "source": [
    "we define the `Modeling` object `moo` to for the galaxy cluster."
   ]
  },
  {
   "cell_type": "code",
   "execution_count": 8,
   "metadata": {},
   "outputs": [],
   "source": [
    "moo = clmm.Modeling(massdef = 'mean', delta_mdef = 200, halo_profile_model = 'nfw')\n",
    "moo.set_cosmo(mock_cosmo)"
   ]
  },
  {
   "cell_type": "markdown",
   "metadata": {},
   "source": [
    "we define the `Stacking` object `stack` by definning a given range of radial axis, the number of bins for the binned stacked shear profile."
   ]
  },
  {
   "cell_type": "code",
   "execution_count": 9,
   "metadata": {},
   "outputs": [],
   "source": [
    "stack = st.Stacking(r_low = 0.5,  r_up = 6, n_bins = 10, cosmo = mock_cosmo)"
   ]
  },
  {
   "cell_type": "markdown",
   "metadata": {},
   "source": [
    "we now define the type of desired profile : tangential reduced shear of Excess surface density for the stacking procedure by modifying the atribute. We use the method `Type` from the class to select DeltaSigma of reduced tangential shear."
   ]
  },
  {
   "cell_type": "code",
   "execution_count": 10,
   "metadata": {},
   "outputs": [],
   "source": [
    "deltasigma = False"
   ]
  },
  {
   "cell_type": "code",
   "execution_count": 11,
   "metadata": {},
   "outputs": [],
   "source": [
    "stack._select_type(is_deltasigma = deltasigma)"
   ]
  },
  {
   "cell_type": "markdown",
   "metadata": {},
   "source": [
    "We now define some redshift interval and input mass interval to select GalaxyCluster object in preselected galaxy catalogs from `cosmoDC2`"
   ]
  },
  {
   "cell_type": "code",
   "execution_count": 12,
   "metadata": {},
   "outputs": [],
   "source": [
    "z_bin = [0.4,0.41]\n",
    "m_bin = [2*10**14, 2.01*10**14]\n",
    "m_bin = np.array(m_bin)\n",
    "n_catalogs = 5\n",
    "ngals = 20000"
   ]
  },
  {
   "cell_type": "markdown",
   "metadata": {},
   "source": [
    "we define a set of selected cluster with given true masses ans true redshifts"
   ]
  },
  {
   "cell_type": "code",
   "execution_count": 13,
   "metadata": {},
   "outputs": [],
   "source": [
    "cluster_m = (m_bin[1] - m_bin[0])*np.random.random(n_catalogs) + m_bin[0] #in M_sun\n",
    "cluster_z = (z_bin[1] - z_bin[0])*np.random.random(n_catalogs) + z_bin[0]"
   ]
  },
  {
   "cell_type": "markdown",
   "metadata": {},
   "source": [
    "We add each galaxy catalogs that correponds to binning to the `stack` object"
   ]
  },
  {
   "cell_type": "code",
   "execution_count": 14,
   "metadata": {},
   "outputs": [
    {
     "name": "stderr",
     "output_type": "stream",
     "text": [
      "/pbs/home/c/cpayerne/.conda/envs/mydesc/lib/python3.7/site-packages/numpy/ma/core.py:2832: VisibleDeprecationWarning: Creating an ndarray from ragged nested sequences (which is a list-or-tuple of lists-or-tuples-or ndarrays with different lengths or shapes) is deprecated. If you meant to do this, you must specify 'dtype=object' when creating the ndarray\n",
      "  order=order, subok=True, ndmin=ndmin)\n"
     ]
    }
   ],
   "source": [
    "x_list = []\n",
    "\n",
    "for i in range(n_catalogs):\n",
    "    \n",
    "    c = model.Duffy_concentration(cluster_m[i], cluster_z[i], moo)\n",
    "    \n",
    "    \"\"\"Generate mock data\"\"\"\n",
    "    \n",
    "    data = mock.generate_galaxy_catalog(cluster_m[i], cluster_z[i], c, mock_cosmo,  200,'chang13', zsrc_min = cluster_z[i] + 0.1 ,shapenoise = 0.0,ngals=ngals)\n",
    "\n",
    "    mock._compute_photoz_pdfs(data, 0.0)\n",
    "    \n",
    "    \"\"\"Create GalaxyCluster object\"\"\"\n",
    "    \n",
    "    cl = clmm.GalaxyCluster('cluster', 0, 0, cluster_z[i], data)\n",
    "    \n",
    "    \"\"\"Add tangential and cross components\"\"\"\n",
    "    \n",
    "    # the critical surface density is recquired then set is_deltasigma = True whatever you estimate reduced shear or deltasigma\n",
    "    \n",
    "    cl.compute_tangential_and_cross_components(geometry=\"flat\", is_deltasigma = True, cosmo = mock_cosmo)\n",
    "    \n",
    "    \"\"\"Create profile\"\"\"\n",
    "    \n",
    "    profile = ut.make_gt_profile(cl, stack.r_low, stack.r_up, stack.n_bins, stack.cosmo)\n",
    "    \n",
    "    \"\"\"Estimate individual shear profile\"\"\"\n",
    "    \n",
    "    stack._estimate_individual_lensing_signal(cl, profile)\n",
    "    \n",
    "    x_list.append(profile['radius'])\n",
    "    \n",
    "    \"\"\"Add catalog of background galaxies to stack\"\"\"\n",
    "    \n",
    "    stack._add_cluster_redshift(cl)\n",
    "    \n",
    "    stack._add_background_galaxies(cl, profile)"
   ]
  },
  {
   "cell_type": "markdown",
   "metadata": {},
   "source": [
    "we can see how much catalogs have been selected"
   ]
  },
  {
   "cell_type": "code",
   "execution_count": 15,
   "metadata": {},
   "outputs": [
    {
     "name": "stdout",
     "output_type": "stream",
     "text": [
      "we selected 5 clusters\n"
     ]
    }
   ],
   "source": [
    "print(f'we selected {stack.n_stacked_cluster} clusters')"
   ]
  },
  {
   "cell_type": "markdown",
   "metadata": {},
   "source": [
    "The attribute `profile` of `shear` object is filled using the method `MakeShearProfile`. We can comput the standard deviation of every lensing signal derived from individial cluster from the stacked lensing signal via `._add_standard_deviation()`"
   ]
  },
  {
   "cell_type": "code",
   "execution_count": 16,
   "metadata": {},
   "outputs": [],
   "source": [
    "stack.MakeStackedProfile() \n",
    "stack._add_standard_deviation()"
   ]
  },
  {
   "cell_type": "markdown",
   "metadata": {},
   "source": [
    "The `profile` attribute of `stack`is an astropy table containing the binned profile `gt` along the radial axis `radius` and the error `gt_err`."
   ]
  },
  {
   "cell_type": "code",
   "execution_count": 17,
   "metadata": {},
   "outputs": [],
   "source": [
    "profile = stack.profile"
   ]
  },
  {
   "cell_type": "markdown",
   "metadata": {},
   "source": [
    "### Visualization of the results"
   ]
  },
  {
   "cell_type": "markdown",
   "metadata": {},
   "source": [
    "we visualize the reduced tangential stacked shear and we calculate the predicted reduced shear when using the average innput mass of selected clusters. The sum above is aver all lense-source pairs. We also visualize individual shear profiles estimated only by summation over the background galaxies itself."
   ]
  },
  {
   "cell_type": "markdown",
   "metadata": {},
   "source": [
    "$$\\Delta \\Sigma(R) = \\left(\\frac{1}{\\sum\\limits_{l,s} w_{l,s}}\\right)\\sum\\limits_{l,s} w_{l,s}\\Sigma_c(z_s,z_l)e^t_{l,s}  \\ at\\ R$$"
   ]
  },
  {
   "cell_type": "markdown",
   "metadata": {},
   "source": [
    "with : \n",
    "    $$\n",
    "    w_{l,s} = 1/\\Sigma_c(z_s,z_l)^2\n",
    "    $$"
   ]
  },
  {
   "cell_type": "markdown",
   "metadata": {},
   "source": [
    "we get the estimated shear signal by:"
   ]
  },
  {
   "cell_type": "markdown",
   "metadata": {},
   "source": [
    "we plot the results for the estimated stacked shear signal (in red) relatively to individual estimated shear signal from all the selected cluster"
   ]
  },
  {
   "cell_type": "code",
   "execution_count": 18,
   "metadata": {},
   "outputs": [
    {
     "data": {
      "image/png": "[encoded data removed]",
      "text/plain": [
       "<Figure size 1152x432 with 2 Axes>"
      ]
     },
     "metadata": {
      "needs_background": "light"
     },
     "output_type": "display_data"
    }
   ],
   "source": [
    "fig, axes = plt.subplots(nrows=1, ncols=2, figsize=(16, 6))\n",
    "plt.style.use('classic')\n",
    "axes[0].tick_params(axis='both', which='major', labelsize=16)\n",
    "axes[1].tick_params(axis='both', which='major', labelsize=16)\n",
    "\n",
    "for i in range(stack.n_stacked_cluster):\n",
    "    \n",
    "    axes[0].plot(x_list[i],stack.LS_list[i],c='grey',alpha=0.1)\n",
    "    \n",
    "axes[0].plot([],[],c='grey', label='individual profile')    \n",
    "axes[0].errorbar(profile['radius'], profile['gt'], profile['gt_err'], c='r', fmt = 's', label='stacked profile')\n",
    "axes[0].set_xlabel('R [Mpc]', fontsize=16)\n",
    "axes[0].set_ylabel('profile', fontsize=16)\n",
    "axes[0].legend(fontsize=20, frameon=False)\n",
    "axes[0].semilogx()\n",
    "axes[0].semilogy()\n",
    "#axes[0].set_ylim(10**12,10**14)\n",
    "axes[0].set_xlim(stack.r_low, stack.r_up)\n",
    "axes[1].hist(stack.z_galaxy_list, bins = 50,label='histogram', density = True)\n",
    "axes[1].set_xlabel('redshift', fontsize=16)\n",
    "axes[1].set_ylabel('galaxy redshift distribution', fontsize=16)\n",
    "axes[1].legend(fontsize=20, frameon=False)\n",
    "plt.show()"
   ]
  },
  {
   "cell_type": "code",
   "execution_count": 19,
   "metadata": {},
   "outputs": [],
   "source": [
    "def model_data(r, logm):\n",
    "\n",
    "    if stack.is_deltasigma == False:\n",
    "        \n",
    "        z_gal = stack.z_galaxy\n",
    "        \n",
    "        cluster_z = stack.z_average\n",
    "\n",
    "        return model.predict_reduced_tangential_shear_z_distrib(r, logm, cluster_z , z_gal, moo)\n",
    "\n",
    "    else:\n",
    "\n",
    "        return model.predict_excess_surface_density(r, logm, stack.z_average, stack.z_galaxy_list,  0,  moo)"
   ]
  },
  {
   "cell_type": "markdown",
   "metadata": {},
   "source": [
    "## Fitting Halo Mass from Stacked Profile"
   ]
  },
  {
   "cell_type": "markdown",
   "metadata": {},
   "source": [
    "we can fit the halo mass"
   ]
  },
  {
   "cell_type": "code",
   "execution_count": 20,
   "metadata": {},
   "outputs": [],
   "source": [
    "r, gt, gt_err = profile['radius'], profile['gt'], profile['gt_err']"
   ]
  },
  {
   "cell_type": "code",
   "execution_count": 21,
   "metadata": {},
   "outputs": [],
   "source": [
    "param_p0 = [14.]\n",
    "            \n",
    "param_bounds = ([13. ], [16.])\n",
    "\n",
    "popt_fit, cov_fit = curve_fit(model_data, r, gt, sigma = gt_err, bounds = param_bounds, p0 = param_p0)"
   ]
  },
  {
   "cell_type": "code",
   "execution_count": 22,
   "metadata": {},
   "outputs": [],
   "source": [
    "m = 10**popt_fit[0]\n",
    "err_m = m*np.log(10)*np.sqrt(cov_fit[0][0])"
   ]
  },
  {
   "cell_type": "code",
   "execution_count": 23,
   "metadata": {},
   "outputs": [
    {
     "name": "stdout",
     "output_type": "stream",
     "text": [
      "$---> Average input mass M_{200m}^{NFW}$ : 2.003616e+14$M_{SUN}$\n",
      "$---> Average fit mass : 2.021649e+14 \\pm 1.240550e+11$\n"
     ]
    }
   ],
   "source": [
    "print(r'$---> Average input mass M_{200m}^{NFW}$' + f' : {np.mean(cluster_m):2e}' + r'$M_{SUN}$')\n",
    "print(f'$---> Average fit mass : {m:2e} \\pm {err_m:2e}$')"
   ]
  },
  {
   "cell_type": "code",
   "execution_count": 24,
   "metadata": {},
   "outputs": [],
   "source": [
    "y_fit = model_data(r, popt_fit[0])\n",
    "y_model = model_data(r, np.log10(np.mean(cluster_m)))"
   ]
  },
  {
   "cell_type": "code",
   "execution_count": 25,
   "metadata": {},
   "outputs": [
    {
     "data": {
      "image/png": "[encoded data removed]",
      "text/plain": [
       "<Figure size 1280x480 with 2 Axes>"
      ]
     },
     "metadata": {},
     "output_type": "display_data"
    }
   ],
   "source": [
    "fig, axes = plt.subplots(nrows=1, ncols=2, figsize=(16, 6))\n",
    "plt.style.use('classic')\n",
    "axes[0].tick_params(axis='both', which='major', labelsize=16)\n",
    "axes[1].tick_params(axis='both', which='major', labelsize=16)\n",
    "\n",
    "for i in range(stack.n_stacked_cluster):\n",
    "    \n",
    "    axes[0].plot(x_list[i],stack.LS_list[i],c='grey',alpha=0.1)\n",
    "    \n",
    "axes[0].plot([],[],c='grey', label='individual profile')    \n",
    "axes[0].errorbar(profile['radius'], profile['gt'], profile['gt_err'], c='r', fmt = 's', ms = 4, label='stacked profile')\n",
    "axes[0].plot(r, y_fit, label = 'best fit')\n",
    "axes[0].plot(r, y_model, label = 'model')\n",
    "axes[0].set_xlabel('R [Mpc]', fontsize=16)\n",
    "axes[0].set_ylabel('profile', fontsize=16)\n",
    "axes[0].legend(fontsize=20, frameon=False, loc = 'best', numpoints = 1)\n",
    "axes[0].semilogx()\n",
    "axes[0].semilogy()\n",
    "#axes[0].set_ylim(10**12,10**14)\n",
    "axes[0].set_xlim(stack.r_low, stack.r_up)\n",
    "axes[1].hist(stack.z_galaxy_list, bins = 50,label='histogram', density = True)\n",
    "axes[1].set_xlabel('redshift', fontsize=16)\n",
    "axes[1].set_ylabel('galaxy redshift distribution', fontsize=16)\n",
    "axes[1].legend(fontsize=20, frameon=False, loc = 'best')\n",
    "plt.show()"
   ]
  },
  {
   "cell_type": "code",
   "execution_count": null,
   "metadata": {},
   "outputs": [],
   "source": []
  }
 ],
 "metadata": {
  "kernelspec": {
   "display_name": "mydesc",
   "language": "python",
   "name": "mydesc"
  },
  "language_info": {
   "codemirror_mode": {
    "name": "ipython",
    "version": 3
   },
   "file_extension": ".py",
   "mimetype": "text/x-python",
   "name": "python",
   "nbconvert_exporter": "python",
   "pygments_lexer": "ipython3",
   "version": "3.7.6"
  }
 },
 "nbformat": 4,
 "nbformat_minor": 4
}
